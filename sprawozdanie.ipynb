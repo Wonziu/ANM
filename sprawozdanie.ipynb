{
 "cells": [
  {
   "cell_type": "markdown",
   "metadata": {},
   "source": [
    "# Obliczanie pierwiastków wielomianów w postaci\n",
    "\n",
    "$f(x) = ax^3 + bx^2 + cx + d,\\quad a,b,c,d \\in R$\n",
    "\n",
    "\n",
    "Zaczniemy od dodania potrzebnych biblotek pozwalających nam zdefiniować wielomiany w języku Julia oraz\n",
    "rysować potrzebne wykresy"
   ]
  },
  {
   "cell_type": "code",
   "execution_count": 179,
   "metadata": {},
   "outputs": [],
   "source": [
    "using Polynomials\n",
    "using Plots"
   ]
  },
  {
   "cell_type": "markdown",
   "metadata": {},
   "source": [
    "Zdefinijumy sobie przykładowy wielomian: $x^3 + x^2 + x + 1$ i narysujmy jego wykres."
   ]
  },
  {
   "cell_type": "code",
   "execution_count": 180,
   "metadata": {},
   "outputs": [
    {
     "data": {
      "text/html": [
       "1 &#43; x &#43; x<sup>2</sup> &#43; x<sup>3</sup>"
      ],
      "text/latex": [
       "$1 + x + x^{2} + x^{3}$"
      ],
      "text/plain": [
       "Polynomial(1 + x + x^2 + x^3)"
      ]
     },
     "execution_count": 180,
     "metadata": {},
     "output_type": "execute_result"
    }
   ],
   "source": [
    "f = Polynomial([1,1,1,1])"
   ]
  },
  {
   "cell_type": "code",
   "execution_count": 181,
   "metadata": {},
   "outputs": [
    {
     "data": {
      "image/svg+xml": [
       "<?xml version=\"1.0\" encoding=\"utf-8\"?>\n",
       "<svg xmlns=\"http://www.w3.org/2000/svg\" xmlns:xlink=\"http://www.w3.org/1999/xlink\" width=\"600\" height=\"400\" viewBox=\"0 0 2400 1600\">\n",
       "<defs>\n",
       "  <clipPath id=\"clip600\">\n",
       "    <rect x=\"0\" y=\"0\" width=\"2400\" height=\"1600\"/>\n",
       "  </clipPath>\n",
       "</defs>\n",
       "<path clip-path=\"url(#clip600)\" d=\"\n",
       "M0 1600 L2400 1600 L2400 0 L0 0  Z\n",
       "  \" fill=\"#ffffff\" fill-rule=\"evenodd\" fill-opacity=\"1\"/>\n",
       "<defs>\n",
       "  <clipPath id=\"clip601\">\n",
       "    <rect x=\"480\" y=\"0\" width=\"1681\" height=\"1600\"/>\n",
       "  </clipPath>\n",
       "</defs>\n",
       "<path clip-path=\"url(#clip600)\" d=\"\n",
       "M142.686 1486.45 L2352.76 1486.45 L2352.76 47.2441 L142.686 47.2441  Z\n",
       "  \" fill=\"#ffffff\" fill-rule=\"evenodd\" fill-opacity=\"1\"/>\n",
       "<defs>\n",
       "  <clipPath id=\"clip602\">\n",
       "    <rect x=\"142\" y=\"47\" width=\"2211\" height=\"1440\"/>\n",
       "  </clipPath>\n",
       "</defs>\n",
       "<polyline clip-path=\"url(#clip602)\" style=\"stroke:#000000; stroke-width:2; stroke-opacity:0.1; fill:none\" points=\"\n",
       "  205.235,1486.45 205.235,47.2441 \n",
       "  \"/>\n",
       "<polyline clip-path=\"url(#clip602)\" style=\"stroke:#000000; stroke-width:2; stroke-opacity:0.1; fill:none\" points=\"\n",
       "  726.478,1486.45 726.478,47.2441 \n",
       "  \"/>\n",
       "<polyline clip-path=\"url(#clip602)\" style=\"stroke:#000000; stroke-width:2; stroke-opacity:0.1; fill:none\" points=\"\n",
       "  1247.72,1486.45 1247.72,47.2441 \n",
       "  \"/>\n",
       "<polyline clip-path=\"url(#clip602)\" style=\"stroke:#000000; stroke-width:2; stroke-opacity:0.1; fill:none\" points=\"\n",
       "  1768.96,1486.45 1768.96,47.2441 \n",
       "  \"/>\n",
       "<polyline clip-path=\"url(#clip602)\" style=\"stroke:#000000; stroke-width:2; stroke-opacity:0.1; fill:none\" points=\"\n",
       "  2290.21,1486.45 2290.21,47.2441 \n",
       "  \"/>\n",
       "<polyline clip-path=\"url(#clip600)\" style=\"stroke:#000000; stroke-width:4; stroke-opacity:1; fill:none\" points=\"\n",
       "  142.686,1106.28 2352.76,1106.28 \n",
       "  \"/>\n",
       "<polyline clip-path=\"url(#clip600)\" style=\"stroke:#000000; stroke-width:4; stroke-opacity:0; fill:none\" points=\"\n",
       "  205.235,1106.28 205.235,1106.28 \n",
       "  \"/>\n",
       "<polyline clip-path=\"url(#clip600)\" style=\"stroke:#000000; stroke-width:4; stroke-opacity:0; fill:none\" points=\"\n",
       "  726.478,1106.28 726.478,1106.28 \n",
       "  \"/>\n",
       "<polyline clip-path=\"url(#clip600)\" style=\"stroke:#000000; stroke-width:4; stroke-opacity:0; fill:none\" points=\"\n",
       "  1247.72,1106.28 1247.72,1106.28 \n",
       "  \"/>\n",
       "<polyline clip-path=\"url(#clip600)\" style=\"stroke:#000000; stroke-width:4; stroke-opacity:0; fill:none\" points=\"\n",
       "  1768.96,1106.28 1768.96,1106.28 \n",
       "  \"/>\n",
       "<polyline clip-path=\"url(#clip600)\" style=\"stroke:#000000; stroke-width:4; stroke-opacity:0; fill:none\" points=\"\n",
       "  2290.21,1106.28 2290.21,1106.28 \n",
       "  \"/>\n",
       "<path clip-path=\"url(#clip600)\" d=\"M 0 0 M177.689 1530.29 L207.365 1530.29 L207.365 1534.23 L177.689 1534.23 L177.689 1530.29 Z\" fill=\"#000000\" fill-rule=\"evenodd\" fill-opacity=\"1\" /><path clip-path=\"url(#clip600)\" d=\"M 0 0 M216.462 1543.18 L232.782 1543.18 L232.782 1547.12 L210.837 1547.12 L210.837 1543.18 Q213.499 1540.43 218.083 1535.8 Q222.689 1531.15 223.87 1529.81 Q226.115 1527.28 226.995 1525.55 Q227.897 1523.79 227.897 1522.1 Q227.897 1519.34 225.953 1517.61 Q224.032 1515.87 220.93 1515.87 Q218.731 1515.87 216.277 1516.63 Q213.846 1517.4 211.069 1518.95 L211.069 1514.23 Q213.893 1513.09 216.346 1512.51 Q218.8 1511.93 220.837 1511.93 Q226.208 1511.93 229.402 1514.62 Q232.596 1517.31 232.596 1521.8 Q232.596 1523.93 231.786 1525.85 Q230.999 1527.74 228.893 1530.34 Q228.314 1531.01 225.212 1534.23 Q222.11 1537.42 216.462 1543.18 Z\" fill=\"#000000\" fill-rule=\"evenodd\" fill-opacity=\"1\" /><path clip-path=\"url(#clip600)\" d=\"M 0 0 M698.747 1530.29 L728.423 1530.29 L728.423 1534.23 L698.747 1534.23 L698.747 1530.29 Z\" fill=\"#000000\" fill-rule=\"evenodd\" fill-opacity=\"1\" /><path clip-path=\"url(#clip600)\" d=\"M 0 0 M734.302 1543.18 L741.941 1543.18 L741.941 1516.82 L733.631 1518.49 L733.631 1514.23 L741.895 1512.56 L746.571 1512.56 L746.571 1543.18 L754.21 1543.18 L754.21 1547.12 L734.302 1547.12 L734.302 1543.18 Z\" fill=\"#000000\" fill-rule=\"evenodd\" fill-opacity=\"1\" /><path clip-path=\"url(#clip600)\" d=\"M 0 0 M1247.72 1515.64 Q1244.11 1515.64 1242.28 1519.2 Q1240.48 1522.75 1240.48 1529.87 Q1240.48 1536.98 1242.28 1540.55 Q1244.11 1544.09 1247.72 1544.09 Q1251.36 1544.09 1253.16 1540.55 Q1254.99 1536.98 1254.99 1529.87 Q1254.99 1522.75 1253.16 1519.2 Q1251.36 1515.64 1247.72 1515.64 M1247.72 1511.93 Q1253.53 1511.93 1256.59 1516.54 Q1259.67 1521.12 1259.67 1529.87 Q1259.67 1538.6 1256.59 1543.21 Q1253.53 1547.79 1247.72 1547.79 Q1241.91 1547.79 1238.83 1543.21 Q1235.78 1538.6 1235.78 1529.87 Q1235.78 1521.12 1238.83 1516.54 Q1241.91 1511.93 1247.72 1511.93 Z\" fill=\"#000000\" fill-rule=\"evenodd\" fill-opacity=\"1\" /><path clip-path=\"url(#clip600)\" d=\"M 0 0 M1759.35 1543.18 L1766.98 1543.18 L1766.98 1516.82 L1758.67 1518.49 L1758.67 1514.23 L1766.94 1512.56 L1771.61 1512.56 L1771.61 1543.18 L1779.25 1543.18 L1779.25 1547.12 L1759.35 1547.12 L1759.35 1543.18 Z\" fill=\"#000000\" fill-rule=\"evenodd\" fill-opacity=\"1\" /><path clip-path=\"url(#clip600)\" d=\"M 0 0 M2284.86 1543.18 L2301.18 1543.18 L2301.18 1547.12 L2279.23 1547.12 L2279.23 1543.18 Q2281.9 1540.43 2286.48 1535.8 Q2291.09 1531.15 2292.27 1529.81 Q2294.51 1527.28 2295.39 1525.55 Q2296.29 1523.79 2296.29 1522.1 Q2296.29 1519.34 2294.35 1517.61 Q2292.43 1515.87 2289.33 1515.87 Q2287.13 1515.87 2284.67 1516.63 Q2282.24 1517.4 2279.47 1518.95 L2279.47 1514.23 Q2282.29 1513.09 2284.74 1512.51 Q2287.2 1511.93 2289.23 1511.93 Q2294.6 1511.93 2297.8 1514.62 Q2300.99 1517.31 2300.99 1521.8 Q2300.99 1523.93 2300.18 1525.85 Q2299.4 1527.74 2297.29 1530.34 Q2296.71 1531.01 2293.61 1534.23 Q2290.51 1537.42 2284.86 1543.18 Z\" fill=\"#000000\" fill-rule=\"evenodd\" fill-opacity=\"1\" /><polyline clip-path=\"url(#clip602)\" style=\"stroke:#000000; stroke-width:2; stroke-opacity:0.1; fill:none\" points=\"\n",
       "  142.686,1445.72 2352.76,1445.72 \n",
       "  \"/>\n",
       "<polyline clip-path=\"url(#clip602)\" style=\"stroke:#000000; stroke-width:2; stroke-opacity:0.1; fill:none\" points=\"\n",
       "  142.686,1106.28 2352.76,1106.28 \n",
       "  \"/>\n",
       "<polyline clip-path=\"url(#clip602)\" style=\"stroke:#000000; stroke-width:2; stroke-opacity:0.1; fill:none\" points=\"\n",
       "  142.686,766.846 2352.76,766.846 \n",
       "  \"/>\n",
       "<polyline clip-path=\"url(#clip602)\" style=\"stroke:#000000; stroke-width:2; stroke-opacity:0.1; fill:none\" points=\"\n",
       "  142.686,427.411 2352.76,427.411 \n",
       "  \"/>\n",
       "<polyline clip-path=\"url(#clip602)\" style=\"stroke:#000000; stroke-width:2; stroke-opacity:0.1; fill:none\" points=\"\n",
       "  142.686,87.9763 2352.76,87.9763 \n",
       "  \"/>\n",
       "<polyline clip-path=\"url(#clip600)\" style=\"stroke:#000000; stroke-width:4; stroke-opacity:1; fill:none\" points=\"\n",
       "  1247.72,1486.45 1247.72,47.2441 \n",
       "  \"/>\n",
       "<polyline clip-path=\"url(#clip600)\" style=\"stroke:#000000; stroke-width:4; stroke-opacity:0; fill:none\" points=\"\n",
       "  1247.72,1445.72 1247.72,1445.72 \n",
       "  \"/>\n",
       "<polyline clip-path=\"url(#clip600)\" style=\"stroke:#000000; stroke-width:4; stroke-opacity:0; fill:none\" points=\"\n",
       "  1247.72,1106.28 1247.72,1106.28 \n",
       "  \"/>\n",
       "<polyline clip-path=\"url(#clip600)\" style=\"stroke:#000000; stroke-width:4; stroke-opacity:0; fill:none\" points=\"\n",
       "  1247.72,766.846 1247.72,766.846 \n",
       "  \"/>\n",
       "<polyline clip-path=\"url(#clip600)\" style=\"stroke:#000000; stroke-width:4; stroke-opacity:0; fill:none\" points=\"\n",
       "  1247.72,427.411 1247.72,427.411 \n",
       "  \"/>\n",
       "<polyline clip-path=\"url(#clip600)\" style=\"stroke:#000000; stroke-width:4; stroke-opacity:0; fill:none\" points=\"\n",
       "  1247.72,87.9763 1247.72,87.9763 \n",
       "  \"/>\n",
       "<path clip-path=\"url(#clip600)\" d=\"M 0 0 M50.9921 1446.17 L80.6679 1446.17 L80.6679 1450.1 L50.9921 1450.1 L50.9921 1446.17 Z\" fill=\"#000000\" fill-rule=\"evenodd\" fill-opacity=\"1\" /><path clip-path=\"url(#clip600)\" d=\"M 0 0 M85.7836 1428.44 L104.14 1428.44 L104.14 1432.37 L90.066 1432.37 L90.066 1440.84 Q91.0845 1440.5 92.103 1440.33 Q93.1215 1440.15 94.14 1440.15 Q99.927 1440.15 103.307 1443.32 Q106.686 1446.49 106.686 1451.91 Q106.686 1457.49 103.214 1460.59 Q99.7419 1463.67 93.4225 1463.67 Q91.2465 1463.67 88.978 1463.3 Q86.7327 1462.93 84.3253 1462.19 L84.3253 1457.49 Q86.4086 1458.62 88.6308 1459.18 Q90.853 1459.73 93.3299 1459.73 Q97.3345 1459.73 99.6724 1457.63 Q102.01 1455.52 102.01 1451.91 Q102.01 1448.3 99.6724 1446.19 Q97.3345 1444.08 93.3299 1444.08 Q91.4549 1444.08 89.5799 1444.5 Q87.728 1444.92 85.7836 1445.8 L85.7836 1428.44 Z\" fill=\"#000000\" fill-rule=\"evenodd\" fill-opacity=\"1\" /><path clip-path=\"url(#clip600)\" d=\"M 0 0 M94.7419 1092.08 Q91.1308 1092.08 89.3021 1095.64 Q87.4966 1099.19 87.4966 1106.32 Q87.4966 1113.42 89.3021 1116.99 Q91.1308 1120.53 94.7419 1120.53 Q98.3761 1120.53 100.182 1116.99 Q102.01 1113.42 102.01 1106.32 Q102.01 1099.19 100.182 1095.64 Q98.3761 1092.08 94.7419 1092.08 M94.7419 1088.38 Q100.552 1088.38 103.608 1092.98 Q106.686 1097.57 106.686 1106.32 Q106.686 1115.04 103.608 1119.65 Q100.552 1124.23 94.7419 1124.23 Q88.9317 1124.23 85.8531 1119.65 Q82.7975 1115.04 82.7975 1106.32 Q82.7975 1097.57 85.8531 1092.98 Q88.9317 1088.38 94.7419 1088.38 Z\" fill=\"#000000\" fill-rule=\"evenodd\" fill-opacity=\"1\" /><path clip-path=\"url(#clip600)\" d=\"M 0 0 M85.7836 749.566 L104.14 749.566 L104.14 753.501 L90.066 753.501 L90.066 761.973 Q91.0845 761.626 92.103 761.464 Q93.1215 761.279 94.14 761.279 Q99.927 761.279 103.307 764.45 Q106.686 767.621 106.686 773.038 Q106.686 778.617 103.214 781.719 Q99.7419 784.797 93.4225 784.797 Q91.2465 784.797 88.978 784.427 Q86.7327 784.057 84.3253 783.316 L84.3253 778.617 Q86.4086 779.751 88.6308 780.307 Q90.853 780.862 93.3299 780.862 Q97.3345 780.862 99.6724 778.756 Q102.01 776.649 102.01 773.038 Q102.01 769.427 99.6724 767.321 Q97.3345 765.214 93.3299 765.214 Q91.4549 765.214 89.5799 765.631 Q87.728 766.047 85.7836 766.927 L85.7836 749.566 Z\" fill=\"#000000\" fill-rule=\"evenodd\" fill-opacity=\"1\" /><path clip-path=\"url(#clip600)\" d=\"M 0 0 M59.7652 440.756 L67.4041 440.756 L67.4041 414.39 L59.0939 416.057 L59.0939 411.798 L67.3578 410.131 L72.0337 410.131 L72.0337 440.756 L79.6725 440.756 L79.6725 444.691 L59.7652 444.691 L59.7652 440.756 Z\" fill=\"#000000\" fill-rule=\"evenodd\" fill-opacity=\"1\" /><path clip-path=\"url(#clip600)\" d=\"M 0 0 M94.7419 413.21 Q91.1308 413.21 89.3021 416.775 Q87.4966 420.316 87.4966 427.446 Q87.4966 434.552 89.3021 438.117 Q91.1308 441.659 94.7419 441.659 Q98.3761 441.659 100.182 438.117 Q102.01 434.552 102.01 427.446 Q102.01 420.316 100.182 416.775 Q98.3761 413.21 94.7419 413.21 M94.7419 409.506 Q100.552 409.506 103.608 414.113 Q106.686 418.696 106.686 427.446 Q106.686 436.173 103.608 440.779 Q100.552 445.362 94.7419 445.362 Q88.9317 445.362 85.8531 440.779 Q82.7975 436.173 82.7975 427.446 Q82.7975 418.696 85.8531 414.113 Q88.9317 409.506 94.7419 409.506 Z\" fill=\"#000000\" fill-rule=\"evenodd\" fill-opacity=\"1\" /><path clip-path=\"url(#clip600)\" d=\"M 0 0 M60.7606 101.321 L68.3994 101.321 L68.3994 74.9555 L60.0893 76.6222 L60.0893 72.3629 L68.3531 70.6963 L73.029 70.6963 L73.029 101.321 L80.6679 101.321 L80.6679 105.256 L60.7606 105.256 L60.7606 101.321 Z\" fill=\"#000000\" fill-rule=\"evenodd\" fill-opacity=\"1\" /><path clip-path=\"url(#clip600)\" d=\"M 0 0 M85.7836 70.6963 L104.14 70.6963 L104.14 74.6314 L90.066 74.6314 L90.066 83.1036 Q91.0845 82.7564 92.103 82.5944 Q93.1215 82.4092 94.14 82.4092 Q99.927 82.4092 103.307 85.5805 Q106.686 88.7517 106.686 94.1684 Q106.686 99.747 103.214 102.849 Q99.7419 105.928 93.4225 105.928 Q91.2465 105.928 88.978 105.557 Q86.7327 105.187 84.3253 104.446 L84.3253 99.747 Q86.4086 100.881 88.6308 101.437 Q90.853 101.992 93.3299 101.992 Q97.3345 101.992 99.6724 99.8859 Q102.01 97.7795 102.01 94.1684 Q102.01 90.5573 99.6724 88.4508 Q97.3345 86.3443 93.3299 86.3443 Q91.4549 86.3443 89.5799 86.761 Q87.728 87.1777 85.7836 88.0573 L85.7836 70.6963 Z\" fill=\"#000000\" fill-rule=\"evenodd\" fill-opacity=\"1\" /><polyline clip-path=\"url(#clip602)\" style=\"stroke:#009af9; stroke-width:12; stroke-opacity:1; fill:none\" points=\"\n",
       "  205.235,1445.72 226.085,1421.82 246.935,1398.97 267.785,1377.17 288.634,1356.37 309.484,1336.55 330.334,1317.69 351.183,1299.76 372.033,1282.73 392.883,1266.59 \n",
       "  413.733,1251.29 434.582,1236.81 455.432,1223.14 476.282,1210.24 497.131,1198.09 517.981,1186.66 538.831,1175.92 559.681,1165.86 580.53,1156.43 601.38,1147.63 \n",
       "  622.23,1139.41 643.079,1131.76 663.929,1124.65 684.779,1118.05 705.629,1111.93 726.478,1106.28 747.328,1101.06 768.178,1096.25 789.027,1091.83 809.877,1087.75 \n",
       "  830.727,1084.01 851.577,1080.58 872.426,1077.42 893.276,1074.51 914.126,1071.83 934.975,1069.35 955.825,1067.04 976.675,1064.88 997.525,1062.85 1018.37,1060.9 \n",
       "  1039.22,1059.03 1060.07,1057.2 1080.92,1055.39 1101.77,1053.57 1122.62,1051.71 1143.47,1049.8 1164.32,1047.8 1185.17,1045.68 1206.02,1043.43 1226.87,1041.01 \n",
       "  1247.72,1038.39 1268.57,1035.57 1289.42,1032.49 1310.27,1029.15 1331.12,1025.52 1351.97,1021.56 1372.82,1017.25 1393.67,1012.57 1414.52,1007.49 1435.37,1001.99 \n",
       "  1456.22,996.032 1477.07,989.598 1497.92,982.659 1518.77,975.191 1539.62,967.166 1560.47,958.559 1581.32,949.344 1602.17,939.494 1623.02,928.984 1643.87,917.788 \n",
       "  1664.72,905.879 1685.57,893.231 1706.41,879.819 1727.26,865.616 1748.11,850.596 1768.96,834.733 1789.81,818.001 1810.66,800.375 1831.51,781.827 1852.36,762.332 \n",
       "  1873.21,741.864 1894.06,720.396 1914.91,697.903 1935.76,674.359 1956.61,649.737 1977.46,624.012 1998.31,597.157 2019.16,569.146 2040.01,539.954 2060.86,509.553 \n",
       "  2081.71,477.919 2102.56,445.025 2123.41,410.845 2144.26,375.352 2165.11,338.522 2185.96,300.327 2206.81,260.742 2227.66,219.74 2248.51,177.296 2269.36,133.383 \n",
       "  2290.21,87.9763 \n",
       "  \"/>\n",
       "<path clip-path=\"url(#clip600)\" d=\"\n",
       "M216.355 216.178 L1019.88 216.178 L1019.88 95.2176 L216.355 95.2176  Z\n",
       "  \" fill=\"#ffffff\" fill-rule=\"evenodd\" fill-opacity=\"1\"/>\n",
       "<polyline clip-path=\"url(#clip600)\" style=\"stroke:#000000; stroke-width:4; stroke-opacity:1; fill:none\" points=\"\n",
       "  216.355,216.178 1019.88,216.178 1019.88,95.2176 216.355,95.2176 216.355,216.178 \n",
       "  \"/>\n",
       "<polyline clip-path=\"url(#clip600)\" style=\"stroke:#009af9; stroke-width:4; stroke-opacity:1; fill:none\" points=\"\n",
       "  240.912,155.698 388.25,155.698 \n",
       "  \"/>\n",
       "<path clip-path=\"url(#clip600)\" d=\"M 0 0 M429.31 136.959 L429.31 140.501 L425.236 140.501 Q422.945 140.501 422.042 141.427 Q421.162 142.353 421.162 144.76 L421.162 147.052 L428.176 147.052 L428.176 150.362 L421.162 150.362 L421.162 172.978 L416.88 172.978 L416.88 150.362 L412.806 150.362 L412.806 147.052 L416.88 147.052 L416.88 145.246 Q416.88 140.918 418.894 138.95 Q420.908 136.959 425.283 136.959 L429.31 136.959 Z\" fill=\"#000000\" fill-rule=\"evenodd\" fill-opacity=\"1\" /><path clip-path=\"url(#clip600)\" d=\"M 0 0 M444.009 137.006 Q440.908 142.33 439.403 147.538 Q437.898 152.746 437.898 158.093 Q437.898 163.441 439.403 168.695 Q440.931 173.927 444.009 179.228 L440.306 179.228 Q436.834 173.788 435.097 168.533 Q433.384 163.279 433.384 158.093 Q433.384 152.931 435.097 147.7 Q436.81 142.468 440.306 137.006 L444.009 137.006 Z\" fill=\"#000000\" fill-rule=\"evenodd\" fill-opacity=\"1\" /><path clip-path=\"url(#clip600)\" d=\"M 0 0 M470.028 147.052 L460.653 159.667 L470.514 172.978 L465.491 172.978 L457.945 162.792 L450.398 172.978 L445.375 172.978 L455.445 159.413 L446.232 147.052 L451.255 147.052 L458.13 156.288 L465.005 147.052 L470.028 147.052 Z\" fill=\"#000000\" fill-rule=\"evenodd\" fill-opacity=\"1\" /><path clip-path=\"url(#clip600)\" d=\"M 0 0 M474.31 137.006 L478.014 137.006 Q481.486 142.468 483.199 147.7 Q484.935 152.931 484.935 158.093 Q484.935 163.279 483.199 168.533 Q481.486 173.788 478.014 179.228 L474.31 179.228 Q477.389 173.927 478.894 168.695 Q480.421 163.441 480.421 158.093 Q480.421 152.746 478.894 147.538 Q477.389 142.33 474.31 137.006 Z\" fill=\"#000000\" fill-rule=\"evenodd\" fill-opacity=\"1\" /><path clip-path=\"url(#clip600)\" d=\"M 0 0 M505.028 151.45 L534.703 151.45 L534.703 155.339 L505.028 155.339 L505.028 151.45 M505.028 160.894 L534.703 160.894 L534.703 164.829 L505.028 164.829 L505.028 160.894 Z\" fill=\"#000000\" fill-rule=\"evenodd\" fill-opacity=\"1\" /><path clip-path=\"url(#clip600)\" d=\"M 0 0 M575.791 147.052 L566.416 159.667 L576.277 172.978 L571.254 172.978 L563.708 162.792 L556.162 172.978 L551.138 172.978 L561.208 159.413 L551.995 147.052 L557.018 147.052 L563.893 156.288 L570.768 147.052 L575.791 147.052 Z\" fill=\"#000000\" fill-rule=\"evenodd\" fill-opacity=\"1\" /><path clip-path=\"url(#clip600)\" d=\"M 0 0 M598.407 138.418 L610.976 151.311 L606.323 151.311 L596.138 142.168 L585.953 151.311 L581.3 151.311 L593.87 138.418 L598.407 138.418 Z\" fill=\"#000000\" fill-rule=\"evenodd\" fill-opacity=\"1\" /><path clip-path=\"url(#clip600)\" d=\"M 0 0 M630.212 154.343 Q633.569 155.061 635.444 157.329 Q637.342 159.598 637.342 162.931 Q637.342 168.047 633.823 170.848 Q630.305 173.649 623.823 173.649 Q621.647 173.649 619.333 173.209 Q617.041 172.792 614.587 171.936 L614.587 167.422 Q616.532 168.556 618.846 169.135 Q621.161 169.714 623.684 169.714 Q628.083 169.714 630.374 167.978 Q632.689 166.241 632.689 162.931 Q632.689 159.876 630.536 158.163 Q628.407 156.427 624.587 156.427 L620.559 156.427 L620.559 152.584 L624.772 152.584 Q628.221 152.584 630.05 151.218 Q631.879 149.83 631.879 147.237 Q631.879 144.575 629.981 143.163 Q628.106 141.728 624.587 141.728 Q622.666 141.728 620.467 142.144 Q618.268 142.561 615.629 143.441 L615.629 139.274 Q618.291 138.533 620.606 138.163 Q622.944 137.793 625.004 137.793 Q630.328 137.793 633.43 140.223 Q636.532 142.63 636.532 146.751 Q636.532 149.621 634.888 151.612 Q633.245 153.58 630.212 154.343 Z\" fill=\"#000000\" fill-rule=\"evenodd\" fill-opacity=\"1\" /><path clip-path=\"url(#clip600)\" d=\"M 0 0 M674.217 143.255 L674.217 156.149 L687.11 156.149 L687.11 160.084 L674.217 160.084 L674.217 172.978 L670.328 172.978 L670.328 160.084 L657.434 160.084 L657.434 156.149 L670.328 156.149 L670.328 143.255 L674.217 143.255 Z\" fill=\"#000000\" fill-rule=\"evenodd\" fill-opacity=\"1\" /><path clip-path=\"url(#clip600)\" d=\"M 0 0 M728.198 147.052 L718.823 159.667 L728.684 172.978 L723.661 172.978 L716.114 162.792 L708.568 172.978 L703.545 172.978 L713.614 159.413 L704.402 147.052 L709.425 147.052 L716.3 156.288 L723.175 147.052 L728.198 147.052 Z\" fill=\"#000000\" fill-rule=\"evenodd\" fill-opacity=\"1\" /><path clip-path=\"url(#clip600)\" d=\"M 0 0 M750.813 138.418 L763.383 151.311 L758.73 151.311 L748.545 142.168 L738.36 151.311 L733.707 151.311 L746.276 138.418 L750.813 138.418 Z\" fill=\"#000000\" fill-rule=\"evenodd\" fill-opacity=\"1\" /><path clip-path=\"url(#clip600)\" d=\"M 0 0 M772.48 169.042 L788.799 169.042 L788.799 172.978 L766.855 172.978 L766.855 169.042 Q769.517 166.288 774.1 161.658 Q778.707 157.005 779.887 155.663 Q782.133 153.14 783.012 151.404 Q783.915 149.644 783.915 147.955 Q783.915 145.2 781.971 143.464 Q780.049 141.728 776.947 141.728 Q774.748 141.728 772.295 142.492 Q769.864 143.255 767.086 144.806 L767.086 140.084 Q769.91 138.95 772.364 138.371 Q774.818 137.793 776.855 137.793 Q782.225 137.793 785.42 140.478 Q788.614 143.163 788.614 147.654 Q788.614 149.783 787.804 151.705 Q787.017 153.603 784.91 156.195 Q784.332 156.867 781.23 160.084 Q778.128 163.279 772.48 169.042 Z\" fill=\"#000000\" fill-rule=\"evenodd\" fill-opacity=\"1\" /><path clip-path=\"url(#clip600)\" d=\"M 0 0 M825.674 143.255 L825.674 156.149 L838.568 156.149 L838.568 160.084 L825.674 160.084 L825.674 172.978 L821.785 172.978 L821.785 160.084 L808.892 160.084 L808.892 156.149 L821.785 156.149 L821.785 143.255 L825.674 143.255 Z\" fill=\"#000000\" fill-rule=\"evenodd\" fill-opacity=\"1\" /><path clip-path=\"url(#clip600)\" d=\"M 0 0 M879.655 147.052 L870.28 159.667 L880.141 172.978 L875.118 172.978 L867.572 162.792 L860.026 172.978 L855.003 172.978 L865.072 159.413 L855.859 147.052 L860.882 147.052 L867.757 156.288 L874.632 147.052 L879.655 147.052 Z\" fill=\"#000000\" fill-rule=\"evenodd\" fill-opacity=\"1\" /><path clip-path=\"url(#clip600)\" d=\"M 0 0 M917.016 143.255 L917.016 156.149 L929.91 156.149 L929.91 160.084 L917.016 160.084 L917.016 172.978 L913.127 172.978 L913.127 160.084 L900.234 160.084 L900.234 156.149 L913.127 156.149 L913.127 143.255 L917.016 143.255 Z\" fill=\"#000000\" fill-rule=\"evenodd\" fill-opacity=\"1\" /><path clip-path=\"url(#clip600)\" d=\"M 0 0 M950.859 169.042 L958.497 169.042 L958.497 142.677 L950.187 144.343 L950.187 140.084 L958.451 138.418 L963.127 138.418 L963.127 169.042 L970.766 169.042 L970.766 172.978 L950.859 172.978 L950.859 169.042 Z\" fill=\"#000000\" fill-rule=\"evenodd\" fill-opacity=\"1\" /></svg>\n"
      ]
     },
     "execution_count": 181,
     "metadata": {},
     "output_type": "execute_result"
    }
   ],
   "source": [
    "default(framestyle = :zerolines)\n",
    "plot(f, -2, 2, label = \"f(x) = x^3 + x^2 + x + 1\", linewidth = 3, legend = :topleft)"
   ]
  },
  {
   "cell_type": "markdown",
   "metadata": {},
   "source": [
    "### Obliczanie wartości funkcji i pochodnych\n",
    "\n",
    "Potrzebujemy sprawnego i szybkiego algorytmu do obliczania wartości naszych wielomianów oraz ich pochodnych pierwszego stopnia. Do tego użyjemy rozszerzonego schematu Hornera danego algorytmem:"
   ]
  },
  {
   "cell_type": "code",
   "execution_count": 182,
   "metadata": {},
   "outputs": [
    {
     "data": {
      "text/plain": [
       "Horner (generic function with 1 method)"
      ]
     },
     "execution_count": 182,
     "metadata": {},
     "output_type": "execute_result"
    }
   ],
   "source": [
    "# Funkcja dla danej funkcji f i argumentu x zwróci parę (f(x0), f'(x0)).\n",
    "\n",
    "function Horner(polynomial, x)\n",
    "    n = length(polynomial) - 1\n",
    "    \n",
    "    f  = polynomial[n]\n",
    "    ∂f = 0\n",
    "    \n",
    "    for i = n - 1:-1:0\n",
    "        ∂f = f + x * ∂f\n",
    "        f  = polynomial[i] + x * f\n",
    "    end\n",
    "    \n",
    "    return f, ∂f\n",
    "end"
   ]
  },
  {
   "cell_type": "markdown",
   "metadata": {},
   "source": [
    "Sprawdźdmy poprawność działania algorytmu dla kilku przykładowych punktów"
   ]
  },
  {
   "cell_type": "code",
   "execution_count": 183,
   "metadata": {},
   "outputs": [
    {
     "name": "stdout",
     "output_type": "stream",
     "text": [
      "Dla x = 0: (1, 1)\n",
      "Dla x = 2: (15, 17)\n",
      "Dla x = 4: (85, 57)\n"
     ]
    }
   ],
   "source": [
    "using Printf\n",
    "\n",
    "println(\"Dla x = 0: \", Horner(f, 0))\n",
    "println(\"Dla x = 2: \", Horner(f, 2))\n",
    "println(\"Dla x = 4: \", Horner(f, 4))"
   ]
  },
  {
   "cell_type": "markdown",
   "metadata": {},
   "source": [
    "# Metoda Newtona\n",
    "\n",
    "Poniżej znajduje się zaimplementowany algorytm metody Newtona"
   ]
  },
  {
   "cell_type": "code",
   "execution_count": 184,
   "metadata": {},
   "outputs": [
    {
     "data": {
      "text/plain": [
       "Newton (generic function with 2 methods)"
      ]
     },
     "execution_count": 184,
     "metadata": {},
     "output_type": "execute_result"
    }
   ],
   "source": [
    "# Funkcja dla danej funkcji f, danego punktu startowego x0 zwróci pierwiastek z dokładnością do ε.\n",
    "# Oczywiście tylko jeśli x0 będzie dostatecznie tego pierwiastka.\n",
    "# Ponieważ metoda może być rozbieżna ograniczę liczbę iteracji do M.\n",
    "\n",
    "function Newton(f, x0, ε, M, print = false)\n",
    "    v = Horner(f, x0)\n",
    "    \n",
    "    if (abs(v[1]) < ε)\n",
    "        return x0\n",
    "    end\n",
    "    \n",
    "    for i = 1:M\n",
    "        x1 = x0 - v[1]/v[2]\n",
    "        v = Horner(f, x1)\n",
    "        \n",
    "        rε = abs((x1 - x0)/x1)\n",
    "        \n",
    "        if print\n",
    "            @printf(\"Iteracja: %d, x_i = %f, błąd bezwględny = %f\\n\", i, x1, rε)\n",
    "        end\n",
    "            \n",
    "        if (abs(v[1]) < ε)\n",
    "            return x1\n",
    "        end\n",
    "        \n",
    "        x0 = x1\n",
    "    end\n",
    "    \n",
    "    return x0\n",
    "end"
   ]
  },
  {
   "cell_type": "markdown",
   "metadata": {},
   "source": [
    "Przetestujmy działanie algorytmu dla kilku punktów startowych dla naszej funkcji f."
   ]
  },
  {
   "cell_type": "code",
   "execution_count": 185,
   "metadata": {},
   "outputs": [
    {
     "data": {
      "text/plain": [
       "-1.0000000000000018"
      ]
     },
     "execution_count": 185,
     "metadata": {},
     "output_type": "execute_result"
    }
   ],
   "source": [
    "Newton(f, 5, 1.0e-10, 20)"
   ]
  },
  {
   "cell_type": "code",
   "execution_count": 186,
   "metadata": {},
   "outputs": [
    {
     "data": {
      "text/plain": [
       "-1.0000000000000009"
      ]
     },
     "execution_count": 186,
     "metadata": {},
     "output_type": "execute_result"
    }
   ],
   "source": [
    "Newton(f, -6, 1.0e-10, 20)"
   ]
  },
  {
   "cell_type": "code",
   "execution_count": 187,
   "metadata": {},
   "outputs": [
    {
     "name": "stdout",
     "output_type": "stream",
     "text": [
      "Iteracja: 1, x_i = 66.554055, błąd bezwględny = 0.502538\n",
      "Iteracja: 2, x_i = 44.255989, błąd bezwględny = 0.503843\n",
      "Iteracja: 3, x_i = 29.389435, błąd bezwględny = 0.505847\n",
      "Iteracja: 4, x_i = 19.476583, błąd bezwględny = 0.508963\n",
      "Iteracja: 5, x_i = 12.865175, błąd bezwględny = 0.513900\n",
      "Iteracja: 6, x_i = 8.453046, błąd bezwględny = 0.521957\n",
      "Iteracja: 7, x_i = 5.504251, błąd bezwględny = 0.535730\n",
      "Iteracja: 8, x_i = 3.525977, błąd bezwględny = 0.561057\n",
      "Iteracja: 9, x_i = 2.185383, błąd bezwględny = 0.613436\n",
      "Iteracja: 10, x_i = 1.251379, błąd bezwględny = 0.746380\n",
      "Iteracja: 11, x_i = 0.546928, błąd bezwględny = 1.288014\n",
      "Iteracja: 12, x_i = -0.124919, błąd bezwględny = 5.378247\n",
      "Iteracja: 13, x_i = -1.240055, błąd bezwględny = 0.899263\n",
      "Iteracja: 14, x_i = -1.045616, błąd bezwględny = 0.185956\n",
      "Iteracja: 15, x_i = -1.001988, błąd bezwględny = 0.043541\n",
      "Iteracja: 16, x_i = -1.000004, błąd bezwględny = 0.001984\n",
      "Iteracja: 17, x_i = -1.000000, błąd bezwględny = 0.000004\n"
     ]
    },
    {
     "data": {
      "text/plain": [
       "-1.0000000000155624"
      ]
     },
     "execution_count": 187,
     "metadata": {},
     "output_type": "execute_result"
    }
   ],
   "source": [
    "Newton(f, 100, 1.0e-10, 20, true)"
   ]
  },
  {
   "cell_type": "markdown",
   "metadata": {},
   "source": [
    "# Metoda bisekcji\n",
    "\n",
    "Poniżej znajduje się zaimplementowany algorytm metody Newtona"
   ]
  },
  {
   "cell_type": "code",
   "execution_count": 188,
   "metadata": {},
   "outputs": [
    {
     "data": {
      "text/plain": [
       "Bisection (generic function with 2 methods)"
      ]
     },
     "execution_count": 188,
     "metadata": {},
     "output_type": "execute_result"
    }
   ],
   "source": [
    "# Funkcja, dla danej funkcji f, dwóch punktów startowych x0 <= x1 zwróci pierwiastek z dokładnością do ε.\n",
    "# Ponieważ metoda może być rozbieżna ograniczę liczbę iteracji do M.\n",
    "\n",
    "function Bisection(f, x0, x1, ε, M, print = false)\n",
    "    a = Horner(f, x0)[1]\n",
    "    b = Horner(f, x1)[1]\n",
    "    \n",
    "    if (sign(a) == sign(b))\n",
    "        return x0\n",
    "    end\n",
    "    \n",
    "    for i = 1:M\n",
    "        x2 = ((x0 + x1) / 2)\n",
    "        \n",
    "        v = Horner(f, x2)[1]\n",
    "        \n",
    "        if print\n",
    "            @printf(\"Iteracja: %d, a = %f, b = %f, c = %f, f(c) = %f\\n\", i, x0, x1, x2, v)\n",
    "        end\n",
    "        \n",
    "        if (abs(v) < ε)\n",
    "            return x2\n",
    "        end\n",
    "        \n",
    "        if (sign(a) != sign(v))\n",
    "            x1 = x2\n",
    "        else\n",
    "            x0 = x2\n",
    "        end\n",
    "    end\n",
    "    \n",
    "    return x0\n",
    "end"
   ]
  },
  {
   "cell_type": "code",
   "execution_count": 189,
   "metadata": {},
   "outputs": [
    {
     "data": {
      "text/plain": [
       "-1.0000038146972656"
      ]
     },
     "execution_count": 189,
     "metadata": {},
     "output_type": "execute_result"
    }
   ],
   "source": [
    "Bisection(f, -5, 5, 1.0e-10, 20)"
   ]
  },
  {
   "cell_type": "code",
   "execution_count": 190,
   "metadata": {},
   "outputs": [
    {
     "data": {
      "text/plain": [
       "-1.0000228881835938"
      ]
     },
     "execution_count": 190,
     "metadata": {},
     "output_type": "execute_result"
    }
   ],
   "source": [
    "Bisection(f, -50, 50, 1.0e-10, 20)"
   ]
  },
  {
   "cell_type": "code",
   "execution_count": 191,
   "metadata": {},
   "outputs": [
    {
     "name": "stdout",
     "output_type": "stream",
     "text": [
      "Iteracja: 1, a = -3.000000, b = 16.000000, c = 6.500000, f(c) = 324.375000\n",
      "Iteracja: 2, a = -3.000000, b = 6.500000, c = 1.750000, f(c) = 11.171875\n",
      "Iteracja: 3, a = -3.000000, b = 1.750000, c = -0.625000, f(c) = 0.521484\n",
      "Iteracja: 4, a = -3.000000, b = -0.625000, c = -1.812500, f(c) = -3.481689\n",
      "Iteracja: 5, a = -1.812500, b = -0.625000, c = -1.218750, f(c) = -0.543671\n",
      "Iteracja: 6, a = -1.218750, b = -0.625000, c = -0.921875, f(c) = 0.144520\n",
      "Iteracja: 7, a = -1.218750, b = -0.921875, c = -1.070313, f(c) = -0.150860\n",
      "Iteracja: 8, a = -1.070313, b = -0.921875, c = -0.996094, f(c) = 0.007782\n",
      "Iteracja: 9, a = -1.070313, b = -0.996094, c = -1.033203, f(c) = -0.068648\n",
      "Iteracja: 10, a = -1.033203, b = -0.996094, c = -1.014648, f(c) = -0.029729\n",
      "Iteracja: 11, a = -1.014648, b = -0.996094, c = -1.005371, f(c) = -0.010800\n",
      "Iteracja: 12, a = -1.005371, b = -0.996094, c = -1.000732, f(c) = -0.001466\n",
      "Iteracja: 13, a = -1.000732, b = -0.996094, c = -0.998413, f(c) = 0.003169\n",
      "Iteracja: 14, a = -1.000732, b = -0.998413, c = -0.999573, f(c) = 0.000854\n",
      "Iteracja: 15, a = -1.000732, b = -0.999573, c = -1.000153, f(c) = -0.000305\n",
      "Iteracja: 16, a = -1.000153, b = -0.999573, c = -0.999863, f(c) = 0.000275\n",
      "Iteracja: 17, a = -1.000153, b = -0.999863, c = -1.000008, f(c) = -0.000015\n",
      "Iteracja: 18, a = -1.000008, b = -0.999863, c = -0.999935, f(c) = 0.000130\n",
      "Iteracja: 19, a = -1.000008, b = -0.999935, c = -0.999971, f(c) = 0.000057\n",
      "Iteracja: 20, a = -1.000008, b = -0.999971, c = -0.999990, f(c) = 0.000021\n"
     ]
    },
    {
     "data": {
      "text/plain": [
       "-1.0000076293945312"
      ]
     },
     "execution_count": 191,
     "metadata": {},
     "output_type": "execute_result"
    }
   ],
   "source": [
    "Bisection(f, -3, 16, 1.0e-10, 20, true)"
   ]
  },
  {
   "cell_type": "markdown",
   "metadata": {},
   "source": [
    "# Metoda wyznczania pierwiastków wielomianów kwadratowych\n",
    "\n",
    "Przed implementacją metody Bairstowa, potrzebuję mieć algorytm numerycznie poprawny, który znajdzie pierwiastki funkcji kwadratowej. Mogę to zrobić wyznaczając wyróżnik funkcji i używając istniejących wzorów Viete'a uważając, aby nie utracić cyfr znaczących."
   ]
  },
  {
   "cell_type": "code",
   "execution_count": 192,
   "metadata": {},
   "outputs": [
    {
     "data": {
      "text/plain": [
       "solveQuadratic (generic function with 1 method)"
      ]
     },
     "execution_count": 192,
     "metadata": {},
     "output_type": "execute_result"
    }
   ],
   "source": [
    "# Funkcja, dla danej funkcji f zwróci jej pierwiastki zespolone\n",
    "\n",
    "function solveQuadratic(f)\n",
    "    a = f[2]\n",
    "    b = f[1]\n",
    "    c = f[0]\n",
    "    \n",
    "    x1 = 0\n",
    "    x2 = 0\n",
    "    \n",
    "    Δ = b * b - 4 * a * c\n",
    "    \n",
    "    if (Δ > 0)\n",
    "        \n",
    "        if (b > 0)\n",
    "            x1 = (-b - sqrt(Δ)) / (2 * a)\n",
    "        else\n",
    "            x1 = (-b + sqrt(Δ)) / (2 * a)\n",
    "        end\n",
    "        x2 = c / (a * x1)\n",
    "            \n",
    "    elseif (Δ == 0)        \n",
    "        x1 = -b / (2 * a)        \n",
    "        x2 = -b / (2 * a)\n",
    "    else\n",
    "        \n",
    "        if (b > 0)\n",
    "            x1 = (-b - sqrt(-Δ)*im) / (2 * a)\n",
    "        else\n",
    "            x1 = (-b + sqrt(-Δ)*im) / (2 * a)\n",
    "        end\n",
    "        x2 = c / (a * x1)\n",
    "    end\n",
    "    \n",
    "    return x1, x2\n",
    "end"
   ]
  },
  {
   "cell_type": "code",
   "execution_count": 193,
   "metadata": {},
   "outputs": [
    {
     "data": {
      "text/plain": [
       "(1.0, -1.0)"
      ]
     },
     "execution_count": 193,
     "metadata": {},
     "output_type": "execute_result"
    }
   ],
   "source": [
    "solveQuadratic(Polynomial([-1,0,1]))"
   ]
  },
  {
   "cell_type": "code",
   "execution_count": 194,
   "metadata": {},
   "outputs": [
    {
     "data": {
      "text/plain": [
       "(0.0 + 1.0im, 0.0 - 1.0im)"
      ]
     },
     "execution_count": 194,
     "metadata": {},
     "output_type": "execute_result"
    }
   ],
   "source": [
    "solveQuadratic(Polynomial([1,0,1]))"
   ]
  },
  {
   "cell_type": "code",
   "execution_count": 195,
   "metadata": {},
   "outputs": [
    {
     "data": {
      "text/plain": [
       "(-0.3333333333333333 - 1.247219128924647im, -0.3333333333333333 + 1.2472191289246473im)"
      ]
     },
     "execution_count": 195,
     "metadata": {},
     "output_type": "execute_result"
    }
   ],
   "source": [
    "solveQuadratic(Polynomial([5,2,3]))"
   ]
  },
  {
   "cell_type": "code",
   "execution_count": 196,
   "metadata": {},
   "outputs": [
    {
     "data": {
      "text/plain": [
       "2-element Array{Complex{Float64},1}:\n",
       " -0.33333333333333337 - 1.2472191289246473im\n",
       " -0.33333333333333337 + 1.2472191289246473im"
      ]
     },
     "execution_count": 196,
     "metadata": {},
     "output_type": "execute_result"
    }
   ],
   "source": [
    "roots(Polynomial([5,2,3]))"
   ]
  },
  {
   "cell_type": "markdown",
   "metadata": {},
   "source": [
    "# Metoda Bairstowa\n",
    "\n",
    "Poniżej znajduje się zaimplementowany algorytm metody Bairstowa."
   ]
  },
  {
   "cell_type": "code",
   "execution_count": 197,
   "metadata": {},
   "outputs": [
    {
     "data": {
      "text/plain": [
       "Bairstow (generic function with 1 method)"
      ]
     },
     "execution_count": 197,
     "metadata": {},
     "output_type": "execute_result"
    }
   ],
   "source": [
    "# Funkcja, dla danej funkcji f, startowych przybliżeń v, u zwraca wszystkie pierwiastki \n",
    "# wielomianu trzeciego stopnia. Maksymalna liczba iteracji to M. \n",
    "\n",
    "function Bairstow(f, u, v, M)\n",
    "    n = length(f)\n",
    "    \n",
    "    b = zeros(n)\n",
    "    c = zeros(n)\n",
    "    \n",
    "    b[n] = f[n - 1]\n",
    "    c[n - 1] = f[n - 1]\n",
    "    \n",
    "    for j = 1:M\n",
    "        b[n-1] = f[n - 2] + u * b[n]\n",
    "        for k = n - 2:-1:1\n",
    "            b[k] = f[k - 1] + u * b[k + 1] + v * b[k + 2]\n",
    "            c[k] = b[k + 1] + u * c[k + 1] + v * c[k + 2]\n",
    "        end\n",
    "        \n",
    "        J = c[1] * c[3] - c[2] * c[2]\n",
    "        u = u + (c[2] * b[2] - c[3] * b[1]) / J\n",
    "        v = v + (c[2] * b[1] - c[1] * b[2]) / J\n",
    "    end\n",
    "    \n",
    "    quadratic = Polynomial([-v, -u, 1])\n",
    "    x1, x2 = solveQuadratic(quadratic)\n",
    "    \n",
    "    if (x1 != 0 && x2 != 0)\n",
    "        x3 = -f[0] / (f[3] * x1 * x2)\n",
    "    else\n",
    "        x3 = -f[2] / v[3] - x1 - x2\n",
    "    end\n",
    "    \n",
    "    return [x1, x2, x3]\n",
    "end"
   ]
  },
  {
   "cell_type": "code",
   "execution_count": 198,
   "metadata": {},
   "outputs": [
    {
     "data": {
      "text/plain": [
       "3-element Array{Complex{Float64},1}:\n",
       " 3.5578623851139984e-17 + 1.0im\n",
       " 3.5578623851139984e-17 - 1.0im\n",
       "                   -1.0 + 0.0im"
      ]
     },
     "execution_count": 198,
     "metadata": {},
     "output_type": "execute_result"
    }
   ],
   "source": [
    "Bairstow(f, 1, 1, 40)"
   ]
  },
  {
   "cell_type": "code",
   "execution_count": 199,
   "metadata": {},
   "outputs": [
    {
     "data": {
      "text/plain": [
       "3-element Array{Complex{Float64},1}:\n",
       "    -1.0000000000000009 + 0.0im\n",
       " -7.771561172376096e-16 - 0.9999999999999998im\n",
       " -7.771561172376096e-16 + 0.9999999999999998im"
      ]
     },
     "execution_count": 199,
     "metadata": {},
     "output_type": "execute_result"
    }
   ],
   "source": [
    "roots(f)"
   ]
  },
  {
   "cell_type": "code",
   "execution_count": 200,
   "metadata": {},
   "outputs": [
    {
     "data": {
      "text/plain": [
       "3-element Array{Complex{Float64},1}:\n",
       " 5.442873907761786e-17 + 1.0im\n",
       " 5.442873907761786e-17 - 1.0im\n",
       "                  -1.0 + 0.0im"
      ]
     },
     "execution_count": 200,
     "metadata": {},
     "output_type": "execute_result"
    }
   ],
   "source": [
    "Bairstow(f, -0.5, -0.5, 40)"
   ]
  },
  {
   "cell_type": "markdown",
   "metadata": {},
   "source": [
    "# Testy numeryczne\n",
    "\n",
    "Zaimplementowałem trzy różne metody szukania pierwiastków wielomianów trzeciego stopnia. Ponieważ metoda Newtona i bisekcji potrzebują mieć sensowne dane wejściowe, aby znaleźć chociaż jeden pierwiastek, to pokażę jak szybko i z jakim błędem są w stanie go znaleźć. Na początek kilka testów przygotowanych, a później kilka wielomianów wylosowanych za pomocą Julii.\n",
    "\n",
    "Zdefiniowałem dwie funkcje testujące. Pierwsza porównuje zbieżność metody Newtona i bisekcji do jednego pierwiastka. Druga pokazuje zbieżność metody Bairnstowa do wszystkich pierwiastków."
   ]
  },
  {
   "cell_type": "code",
   "execution_count": 201,
   "metadata": {},
   "outputs": [
    {
     "data": {
      "text/plain": [
       "Test1 (generic function with 1 method)"
      ]
     },
     "execution_count": 201,
     "metadata": {},
     "output_type": "execute_result"
    }
   ],
   "source": [
    "# Wyświetla ilość cyfr znaczących\n",
    "\n",
    "function Test1(f, x0, x1, ε, MaxM, zero)\n",
    "    \n",
    "    function significantDigits(x)\n",
    "        return max(0, round(-log10(abs(zero - x))))\n",
    "    end\n",
    "    \n",
    "    newton = zeros(MaxM)\n",
    "    bisection = zeros(MaxM)\n",
    "    \n",
    "    for i = 1:MaxM\n",
    "        newton[i] = significantDigits(Newton(f, x0, ε, i))\n",
    "        bisection[i] = significantDigits(Bisection(f, x0, x1, ε, i))\n",
    "    end\n",
    "    \n",
    "    default(framestyle = :zerolines)\n",
    "    plot([newton, bisection], label = [\"Newton\" \"Bisection\"], \n",
    "        linewidth = 3, xlabel = \"Iteracja\", ylabel=\"Liczba cyfr znaczących\", legend = :topleft)\n",
    "end"
   ]
  },
  {
   "cell_type": "code",
   "execution_count": 202,
   "metadata": {},
   "outputs": [
    {
     "data": {
      "text/plain": [
       "Test2 (generic function with 1 method)"
      ]
     },
     "execution_count": 202,
     "metadata": {},
     "output_type": "execute_result"
    }
   ],
   "source": [
    "# Wyświetla ilość cyfr znaczących dla każdego pierwiastka\n",
    "\n",
    "function Test2(f, u, v, MaxM, r1, r2, r3)\n",
    "   \n",
    "    function significantDigits(x)\n",
    "        return max(0, round(-log10(abs(x))))\n",
    "    end\n",
    "    \n",
    "    zero = roots(f)\n",
    "    x0 = zeros(MaxM)\n",
    "    x1 = zeros(MaxM)\n",
    "    x2 = zeros(MaxM)\n",
    "    \n",
    "    for i = 1:MaxM\n",
    "        b = Bairstow(f, u, v, i)\n",
    "    \n",
    "        x0[i] = significantDigits(abs(zero[r1] - b[1]))\n",
    "        x1[i] = significantDigits(abs(zero[r2] - b[2]))\n",
    "        x2[i] = significantDigits(abs(zero[r3] - b[3]))\n",
    "    end    \n",
    "    \n",
    "    default(framestyle = :zerolines)\n",
    "    plot([x0, x1, x2], label = [\"x0\" \"x1\" \"x2\"], \n",
    "        linewidth = 3, xlabel = \"Iteracja\", ylabel=\"Liczba cyfr znaczących\", legend = :topleft)\n",
    "end"
   ]
  },
  {
   "cell_type": "markdown",
   "metadata": {},
   "source": [
    "### Test 1\n",
    "##### $f(x) = -\\frac{8}{5}x^3 + 2x^2 + 17x - 2$  "
   ]
  },
  {
   "cell_type": "code",
   "execution_count": 203,
   "metadata": {},
   "outputs": [
    {
     "data": {
      "image/svg+xml": [
       "<?xml version=\"1.0\" encoding=\"utf-8\"?>\n",
       "<svg xmlns=\"http://www.w3.org/2000/svg\" xmlns:xlink=\"http://www.w3.org/1999/xlink\" width=\"600\" height=\"400\" viewBox=\"0 0 2400 1600\">\n",
       "<defs>\n",
       "  <clipPath id=\"clip640\">\n",
       "    <rect x=\"0\" y=\"0\" width=\"2400\" height=\"1600\"/>\n",
       "  </clipPath>\n",
       "</defs>\n",
       "<path clip-path=\"url(#clip640)\" d=\"\n",
       "M0 1600 L2400 1600 L2400 0 L0 0  Z\n",
       "  \" fill=\"#ffffff\" fill-rule=\"evenodd\" fill-opacity=\"1\"/>\n",
       "<defs>\n",
       "  <clipPath id=\"clip641\">\n",
       "    <rect x=\"480\" y=\"0\" width=\"1681\" height=\"1600\"/>\n",
       "  </clipPath>\n",
       "</defs>\n",
       "<path clip-path=\"url(#clip640)\" d=\"\n",
       "M169.7 1486.45 L2352.76 1486.45 L2352.76 47.2441 L169.7 47.2441  Z\n",
       "  \" fill=\"#ffffff\" fill-rule=\"evenodd\" fill-opacity=\"1\"/>\n",
       "<defs>\n",
       "  <clipPath id=\"clip642\">\n",
       "    <rect x=\"169\" y=\"47\" width=\"2184\" height=\"1440\"/>\n",
       "  </clipPath>\n",
       "</defs>\n",
       "<polyline clip-path=\"url(#clip642)\" style=\"stroke:#000000; stroke-width:2; stroke-opacity:0.1; fill:none\" points=\"\n",
       "  437.433,1486.45 437.433,47.2441 \n",
       "  \"/>\n",
       "<polyline clip-path=\"url(#clip642)\" style=\"stroke:#000000; stroke-width:2; stroke-opacity:0.1; fill:none\" points=\"\n",
       "  849.331,1486.45 849.331,47.2441 \n",
       "  \"/>\n",
       "<polyline clip-path=\"url(#clip642)\" style=\"stroke:#000000; stroke-width:2; stroke-opacity:0.1; fill:none\" points=\"\n",
       "  1261.23,1486.45 1261.23,47.2441 \n",
       "  \"/>\n",
       "<polyline clip-path=\"url(#clip642)\" style=\"stroke:#000000; stroke-width:2; stroke-opacity:0.1; fill:none\" points=\"\n",
       "  1673.13,1486.45 1673.13,47.2441 \n",
       "  \"/>\n",
       "<polyline clip-path=\"url(#clip642)\" style=\"stroke:#000000; stroke-width:2; stroke-opacity:0.1; fill:none\" points=\"\n",
       "  2085.02,1486.45 2085.02,47.2441 \n",
       "  \"/>\n",
       "<polyline clip-path=\"url(#clip640)\" style=\"stroke:#000000; stroke-width:4; stroke-opacity:1; fill:none\" points=\"\n",
       "  169.7,1050.2 2352.76,1050.2 \n",
       "  \"/>\n",
       "<polyline clip-path=\"url(#clip640)\" style=\"stroke:#000000; stroke-width:4; stroke-opacity:0; fill:none\" points=\"\n",
       "  437.433,1050.2 437.433,1050.2 \n",
       "  \"/>\n",
       "<polyline clip-path=\"url(#clip640)\" style=\"stroke:#000000; stroke-width:4; stroke-opacity:0; fill:none\" points=\"\n",
       "  849.331,1050.2 849.331,1050.2 \n",
       "  \"/>\n",
       "<polyline clip-path=\"url(#clip640)\" style=\"stroke:#000000; stroke-width:4; stroke-opacity:0; fill:none\" points=\"\n",
       "  1261.23,1050.2 1261.23,1050.2 \n",
       "  \"/>\n",
       "<polyline clip-path=\"url(#clip640)\" style=\"stroke:#000000; stroke-width:4; stroke-opacity:0; fill:none\" points=\"\n",
       "  1673.13,1050.2 1673.13,1050.2 \n",
       "  \"/>\n",
       "<polyline clip-path=\"url(#clip640)\" style=\"stroke:#000000; stroke-width:4; stroke-opacity:0; fill:none\" points=\"\n",
       "  2085.02,1050.2 2085.02,1050.2 \n",
       "  \"/>\n",
       "<path clip-path=\"url(#clip640)\" d=\"M 0 0 M408.845 1530.29 L438.521 1530.29 L438.521 1534.23 L408.845 1534.23 L408.845 1530.29 Z\" fill=\"#000000\" fill-rule=\"evenodd\" fill-opacity=\"1\" /><path clip-path=\"url(#clip640)\" d=\"M 0 0 M456.438 1516.63 L444.632 1535.08 L456.438 1535.08 L456.438 1516.63 M455.211 1512.56 L461.091 1512.56 L461.091 1535.08 L466.021 1535.08 L466.021 1538.97 L461.091 1538.97 L461.091 1547.12 L456.438 1547.12 L456.438 1538.97 L440.836 1538.97 L440.836 1534.46 L455.211 1512.56 Z\" fill=\"#000000\" fill-rule=\"evenodd\" fill-opacity=\"1\" /><path clip-path=\"url(#clip640)\" d=\"M 0 0 M821.784 1530.29 L851.46 1530.29 L851.46 1534.23 L821.784 1534.23 L821.784 1530.29 Z\" fill=\"#000000\" fill-rule=\"evenodd\" fill-opacity=\"1\" /><path clip-path=\"url(#clip640)\" d=\"M 0 0 M860.557 1543.18 L876.877 1543.18 L876.877 1547.12 L854.932 1547.12 L854.932 1543.18 Q857.594 1540.43 862.178 1535.8 Q866.784 1531.15 867.965 1529.81 Q870.21 1527.28 871.09 1525.55 Q871.993 1523.79 871.993 1522.1 Q871.993 1519.34 870.048 1517.61 Q868.127 1515.87 865.025 1515.87 Q862.826 1515.87 860.372 1516.63 Q857.942 1517.4 855.164 1518.95 L855.164 1514.23 Q857.988 1513.09 860.442 1512.51 Q862.895 1511.93 864.932 1511.93 Q870.303 1511.93 873.497 1514.62 Q876.692 1517.31 876.692 1521.8 Q876.692 1523.93 875.881 1525.85 Q875.094 1527.74 872.988 1530.34 Q872.409 1531.01 869.307 1534.23 Q866.206 1537.42 860.557 1543.18 Z\" fill=\"#000000\" fill-rule=\"evenodd\" fill-opacity=\"1\" /><path clip-path=\"url(#clip640)\" d=\"M 0 0 M1261.23 1515.64 Q1257.62 1515.64 1255.79 1519.2 Q1253.98 1522.75 1253.98 1529.87 Q1253.98 1536.98 1255.79 1540.55 Q1257.62 1544.09 1261.23 1544.09 Q1264.86 1544.09 1266.67 1540.55 Q1268.5 1536.98 1268.5 1529.87 Q1268.5 1522.75 1266.67 1519.2 Q1264.86 1515.64 1261.23 1515.64 M1261.23 1511.93 Q1267.04 1511.93 1270.09 1516.54 Q1273.17 1521.12 1273.17 1529.87 Q1273.17 1538.6 1270.09 1543.21 Q1267.04 1547.79 1261.23 1547.79 Q1255.42 1547.79 1252.34 1543.21 Q1249.28 1538.6 1249.28 1529.87 Q1249.28 1521.12 1252.34 1516.54 Q1255.42 1511.93 1261.23 1511.93 Z\" fill=\"#000000\" fill-rule=\"evenodd\" fill-opacity=\"1\" /><path clip-path=\"url(#clip640)\" d=\"M 0 0 M1667.78 1543.18 L1684.1 1543.18 L1684.1 1547.12 L1662.15 1547.12 L1662.15 1543.18 Q1664.82 1540.43 1669.4 1535.8 Q1674 1531.15 1675.19 1529.81 Q1677.43 1527.28 1678.31 1525.55 Q1679.21 1523.79 1679.21 1522.1 Q1679.21 1519.34 1677.27 1517.61 Q1675.35 1515.87 1672.25 1515.87 Q1670.05 1515.87 1667.59 1516.63 Q1665.16 1517.4 1662.38 1518.95 L1662.38 1514.23 Q1665.21 1513.09 1667.66 1512.51 Q1670.12 1511.93 1672.15 1511.93 Q1677.52 1511.93 1680.72 1514.62 Q1683.91 1517.31 1683.91 1521.8 Q1683.91 1523.93 1683.1 1525.85 Q1682.32 1527.74 1680.21 1530.34 Q1679.63 1531.01 1676.53 1534.23 Q1673.43 1537.42 1667.78 1543.18 Z\" fill=\"#000000\" fill-rule=\"evenodd\" fill-opacity=\"1\" /><path clip-path=\"url(#clip640)\" d=\"M 0 0 M2088.03 1516.63 L2076.23 1535.08 L2088.03 1535.08 L2088.03 1516.63 M2086.81 1512.56 L2092.68 1512.56 L2092.68 1535.08 L2097.62 1535.08 L2097.62 1538.97 L2092.68 1538.97 L2092.68 1547.12 L2088.03 1547.12 L2088.03 1538.97 L2072.43 1538.97 L2072.43 1534.46 L2086.81 1512.56 Z\" fill=\"#000000\" fill-rule=\"evenodd\" fill-opacity=\"1\" /><polyline clip-path=\"url(#clip642)\" style=\"stroke:#000000; stroke-width:2; stroke-opacity:0.1; fill:none\" points=\"\n",
       "  169.7,1345.36 2352.76,1345.36 \n",
       "  \"/>\n",
       "<polyline clip-path=\"url(#clip642)\" style=\"stroke:#000000; stroke-width:2; stroke-opacity:0.1; fill:none\" points=\"\n",
       "  169.7,1050.2 2352.76,1050.2 \n",
       "  \"/>\n",
       "<polyline clip-path=\"url(#clip642)\" style=\"stroke:#000000; stroke-width:2; stroke-opacity:0.1; fill:none\" points=\"\n",
       "  169.7,755.04 2352.76,755.04 \n",
       "  \"/>\n",
       "<polyline clip-path=\"url(#clip642)\" style=\"stroke:#000000; stroke-width:2; stroke-opacity:0.1; fill:none\" points=\"\n",
       "  169.7,459.879 2352.76,459.879 \n",
       "  \"/>\n",
       "<polyline clip-path=\"url(#clip642)\" style=\"stroke:#000000; stroke-width:2; stroke-opacity:0.1; fill:none\" points=\"\n",
       "  169.7,164.718 2352.76,164.718 \n",
       "  \"/>\n",
       "<polyline clip-path=\"url(#clip640)\" style=\"stroke:#000000; stroke-width:4; stroke-opacity:1; fill:none\" points=\"\n",
       "  1261.23,1486.45 1261.23,47.2441 \n",
       "  \"/>\n",
       "<polyline clip-path=\"url(#clip640)\" style=\"stroke:#000000; stroke-width:4; stroke-opacity:0; fill:none\" points=\"\n",
       "  1261.23,1345.36 1261.23,1345.36 \n",
       "  \"/>\n",
       "<polyline clip-path=\"url(#clip640)\" style=\"stroke:#000000; stroke-width:4; stroke-opacity:0; fill:none\" points=\"\n",
       "  1261.23,1050.2 1261.23,1050.2 \n",
       "  \"/>\n",
       "<polyline clip-path=\"url(#clip640)\" style=\"stroke:#000000; stroke-width:4; stroke-opacity:0; fill:none\" points=\"\n",
       "  1261.23,755.04 1261.23,755.04 \n",
       "  \"/>\n",
       "<polyline clip-path=\"url(#clip640)\" style=\"stroke:#000000; stroke-width:4; stroke-opacity:0; fill:none\" points=\"\n",
       "  1261.23,459.879 1261.23,459.879 \n",
       "  \"/>\n",
       "<polyline clip-path=\"url(#clip640)\" style=\"stroke:#000000; stroke-width:4; stroke-opacity:0; fill:none\" points=\"\n",
       "  1261.23,164.718 1261.23,164.718 \n",
       "  \"/>\n",
       "<path clip-path=\"url(#clip640)\" d=\"M 0 0 M50.9921 1345.81 L80.6679 1345.81 L80.6679 1349.75 L50.9921 1349.75 L50.9921 1345.81 Z\" fill=\"#000000\" fill-rule=\"evenodd\" fill-opacity=\"1\" /><path clip-path=\"url(#clip640)\" d=\"M 0 0 M85.7836 1328.08 L104.14 1328.08 L104.14 1332.02 L90.066 1332.02 L90.066 1340.49 Q91.0845 1340.14 92.103 1339.98 Q93.1215 1339.79 94.14 1339.79 Q99.927 1339.79 103.307 1342.97 Q106.686 1346.14 106.686 1351.55 Q106.686 1357.13 103.214 1360.23 Q99.7419 1363.31 93.4225 1363.31 Q91.2465 1363.31 88.978 1362.94 Q86.7327 1362.57 84.3253 1361.83 L84.3253 1357.13 Q86.4086 1358.27 88.6308 1358.82 Q90.853 1359.38 93.3299 1359.38 Q97.3345 1359.38 99.6724 1357.27 Q102.01 1355.16 102.01 1351.55 Q102.01 1347.94 99.6724 1345.84 Q97.3345 1343.73 93.3299 1343.73 Q91.4549 1343.73 89.5799 1344.15 Q87.728 1344.56 85.7836 1345.44 L85.7836 1328.08 Z\" fill=\"#000000\" fill-rule=\"evenodd\" fill-opacity=\"1\" /><path clip-path=\"url(#clip640)\" d=\"M 0 0 M121.756 1331.16 Q118.145 1331.16 116.316 1334.72 Q114.51 1338.27 114.51 1345.4 Q114.51 1352.5 116.316 1356.07 Q118.145 1359.61 121.756 1359.61 Q125.39 1359.61 127.195 1356.07 Q129.024 1352.5 129.024 1345.4 Q129.024 1338.27 127.195 1334.72 Q125.39 1331.16 121.756 1331.16 M121.756 1327.46 Q127.566 1327.46 130.621 1332.06 Q133.7 1336.65 133.7 1345.4 Q133.7 1354.12 130.621 1358.73 Q127.566 1363.31 121.756 1363.31 Q115.945 1363.31 112.867 1358.73 Q109.811 1354.12 109.811 1345.4 Q109.811 1336.65 112.867 1332.06 Q115.945 1327.46 121.756 1327.46 Z\" fill=\"#000000\" fill-rule=\"evenodd\" fill-opacity=\"1\" /><path clip-path=\"url(#clip640)\" d=\"M 0 0 M121.756 1036 Q118.145 1036 116.316 1039.56 Q114.51 1043.11 114.51 1050.24 Q114.51 1057.34 116.316 1060.91 Q118.145 1064.45 121.756 1064.45 Q125.39 1064.45 127.195 1060.91 Q129.024 1057.34 129.024 1050.24 Q129.024 1043.11 127.195 1039.56 Q125.39 1036 121.756 1036 M121.756 1032.3 Q127.566 1032.3 130.621 1036.9 Q133.7 1041.49 133.7 1050.24 Q133.7 1058.96 130.621 1063.57 Q127.566 1068.15 121.756 1068.15 Q115.945 1068.15 112.867 1063.57 Q109.811 1058.96 109.811 1050.24 Q109.811 1041.49 112.867 1036.9 Q115.945 1032.3 121.756 1032.3 Z\" fill=\"#000000\" fill-rule=\"evenodd\" fill-opacity=\"1\" /><path clip-path=\"url(#clip640)\" d=\"M 0 0 M85.7836 737.76 L104.14 737.76 L104.14 741.695 L90.066 741.695 L90.066 750.167 Q91.0845 749.82 92.103 749.658 Q93.1215 749.472 94.14 749.472 Q99.927 749.472 103.307 752.644 Q106.686 755.815 106.686 761.232 Q106.686 766.81 103.214 769.912 Q99.7419 772.991 93.4225 772.991 Q91.2465 772.991 88.978 772.62 Q86.7327 772.25 84.3253 771.509 L84.3253 766.81 Q86.4086 767.945 88.6308 768.5 Q90.853 769.056 93.3299 769.056 Q97.3345 769.056 99.6724 766.949 Q102.01 764.843 102.01 761.232 Q102.01 757.621 99.6724 755.514 Q97.3345 753.408 93.3299 753.408 Q91.4549 753.408 89.5799 753.824 Q87.728 754.241 85.7836 755.121 L85.7836 737.76 Z\" fill=\"#000000\" fill-rule=\"evenodd\" fill-opacity=\"1\" /><path clip-path=\"url(#clip640)\" d=\"M 0 0 M121.756 740.838 Q118.145 740.838 116.316 744.403 Q114.51 747.945 114.51 755.074 Q114.51 762.181 116.316 765.746 Q118.145 769.287 121.756 769.287 Q125.39 769.287 127.195 765.746 Q129.024 762.181 129.024 755.074 Q129.024 747.945 127.195 744.403 Q125.39 740.838 121.756 740.838 M121.756 737.135 Q127.566 737.135 130.621 741.741 Q133.7 746.324 133.7 755.074 Q133.7 763.801 130.621 768.408 Q127.566 772.991 121.756 772.991 Q115.945 772.991 112.867 768.408 Q109.811 763.801 109.811 755.074 Q109.811 746.324 112.867 741.741 Q115.945 737.135 121.756 737.135 Z\" fill=\"#000000\" fill-rule=\"evenodd\" fill-opacity=\"1\" /><path clip-path=\"url(#clip640)\" d=\"M 0 0 M59.7652 473.224 L67.4041 473.224 L67.4041 446.858 L59.0939 448.525 L59.0939 444.265 L67.3578 442.599 L72.0337 442.599 L72.0337 473.224 L79.6725 473.224 L79.6725 477.159 L59.7652 477.159 L59.7652 473.224 Z\" fill=\"#000000\" fill-rule=\"evenodd\" fill-opacity=\"1\" /><path clip-path=\"url(#clip640)\" d=\"M 0 0 M94.7419 445.677 Q91.1308 445.677 89.3021 449.242 Q87.4966 452.784 87.4966 459.914 Q87.4966 467.02 89.3021 470.585 Q91.1308 474.126 94.7419 474.126 Q98.3761 474.126 100.182 470.585 Q102.01 467.02 102.01 459.914 Q102.01 452.784 100.182 449.242 Q98.3761 445.677 94.7419 445.677 M94.7419 441.974 Q100.552 441.974 103.608 446.58 Q106.686 451.164 106.686 459.914 Q106.686 468.64 103.608 473.247 Q100.552 477.83 94.7419 477.83 Q88.9317 477.83 85.8531 473.247 Q82.7975 468.64 82.7975 459.914 Q82.7975 451.164 85.8531 446.58 Q88.9317 441.974 94.7419 441.974 Z\" fill=\"#000000\" fill-rule=\"evenodd\" fill-opacity=\"1\" /><path clip-path=\"url(#clip640)\" d=\"M 0 0 M121.756 445.677 Q118.145 445.677 116.316 449.242 Q114.51 452.784 114.51 459.914 Q114.51 467.02 116.316 470.585 Q118.145 474.126 121.756 474.126 Q125.39 474.126 127.195 470.585 Q129.024 467.02 129.024 459.914 Q129.024 452.784 127.195 449.242 Q125.39 445.677 121.756 445.677 M121.756 441.974 Q127.566 441.974 130.621 446.58 Q133.7 451.164 133.7 459.914 Q133.7 468.64 130.621 473.247 Q127.566 477.83 121.756 477.83 Q115.945 477.83 112.867 473.247 Q109.811 468.64 109.811 459.914 Q109.811 451.164 112.867 446.58 Q115.945 441.974 121.756 441.974 Z\" fill=\"#000000\" fill-rule=\"evenodd\" fill-opacity=\"1\" /><path clip-path=\"url(#clip640)\" d=\"M 0 0 M60.7606 178.063 L68.3994 178.063 L68.3994 151.697 L60.0893 153.364 L60.0893 149.105 L68.3531 147.438 L73.029 147.438 L73.029 178.063 L80.6679 178.063 L80.6679 181.998 L60.7606 181.998 L60.7606 178.063 Z\" fill=\"#000000\" fill-rule=\"evenodd\" fill-opacity=\"1\" /><path clip-path=\"url(#clip640)\" d=\"M 0 0 M85.7836 147.438 L104.14 147.438 L104.14 151.373 L90.066 151.373 L90.066 159.845 Q91.0845 159.498 92.103 159.336 Q93.1215 159.151 94.14 159.151 Q99.927 159.151 103.307 162.322 Q106.686 165.494 106.686 170.91 Q106.686 176.489 103.214 179.591 Q99.7419 182.669 93.4225 182.669 Q91.2465 182.669 88.978 182.299 Q86.7327 181.929 84.3253 181.188 L84.3253 176.489 Q86.4086 177.623 88.6308 178.179 Q90.853 178.734 93.3299 178.734 Q97.3345 178.734 99.6724 176.628 Q102.01 174.521 102.01 170.91 Q102.01 167.299 99.6724 165.193 Q97.3345 163.086 93.3299 163.086 Q91.4549 163.086 89.5799 163.503 Q87.728 163.919 85.7836 164.799 L85.7836 147.438 Z\" fill=\"#000000\" fill-rule=\"evenodd\" fill-opacity=\"1\" /><path clip-path=\"url(#clip640)\" d=\"M 0 0 M121.756 150.517 Q118.145 150.517 116.316 154.082 Q114.51 157.623 114.51 164.753 Q114.51 171.859 116.316 175.424 Q118.145 178.966 121.756 178.966 Q125.39 178.966 127.195 175.424 Q129.024 171.859 129.024 164.753 Q129.024 157.623 127.195 154.082 Q125.39 150.517 121.756 150.517 M121.756 146.813 Q127.566 146.813 130.621 151.42 Q133.7 156.003 133.7 164.753 Q133.7 173.48 130.621 178.086 Q127.566 182.669 121.756 182.669 Q115.945 182.669 112.867 178.086 Q109.811 173.48 109.811 164.753 Q109.811 156.003 112.867 151.42 Q115.945 146.813 121.756 146.813 Z\" fill=\"#000000\" fill-rule=\"evenodd\" fill-opacity=\"1\" /><polyline clip-path=\"url(#clip642)\" style=\"stroke:#009af9; stroke-width:12; stroke-opacity:1; fill:none\" points=\"\n",
       "  231.485,87.9763 252.079,159.06 272.674,227.132 293.269,292.246 313.864,354.462 334.459,413.834 355.054,470.42 375.649,524.276 396.244,575.459 416.838,624.026 \n",
       "  437.433,670.033 458.028,713.538 478.623,754.596 499.218,793.264 519.813,829.6 540.408,863.659 561.002,895.498 581.597,925.175 602.192,952.745 622.787,978.266 \n",
       "  643.382,1001.79 663.977,1023.39 684.572,1043.1 705.167,1060.99 725.761,1077.11 746.356,1091.52 766.951,1104.28 787.546,1115.45 808.141,1125.07 828.736,1133.21 \n",
       "  849.331,1139.93 869.925,1145.28 890.52,1149.31 911.115,1152.09 931.71,1153.66 952.305,1154.1 972.9,1153.45 993.495,1151.76 1014.09,1149.11 1034.68,1145.54 \n",
       "  1055.28,1141.11 1075.87,1135.88 1096.47,1129.9 1117.06,1123.23 1137.66,1115.93 1158.25,1108.05 1178.85,1099.66 1199.44,1090.8 1220.04,1081.53 1240.63,1071.91 \n",
       "  1261.23,1062.01 1281.82,1051.86 1302.42,1041.54 1323.01,1031.09 1343.61,1020.58 1364.2,1010.06 1384.8,999.584 1405.39,989.213 1425.99,979.003 1446.58,969.01 \n",
       "  1467.18,959.291 1487.77,949.902 1508.37,940.901 1528.96,932.344 1549.56,924.287 1570.15,916.788 1590.75,909.902 1611.34,903.687 1631.94,898.2 1652.53,893.496 \n",
       "  1673.13,889.633 1693.72,886.667 1714.32,884.655 1734.91,883.654 1755.5,883.72 1776.1,884.91 1796.69,887.281 1817.29,890.889 1837.88,895.791 1858.48,902.044 \n",
       "  1879.07,909.704 1899.67,918.828 1920.26,929.472 1940.86,941.694 1961.45,955.551 1982.05,971.097 2002.64,988.391 2023.24,1007.49 2043.83,1028.45 2064.43,1051.32 \n",
       "  2085.02,1076.17 2105.62,1103.06 2126.21,1132.02 2146.81,1163.14 2167.4,1196.45 2188,1232.02 2208.59,1269.9 2229.19,1310.16 2249.78,1352.84 2270.38,1398.01 \n",
       "  2290.97,1445.72 \n",
       "  \"/>\n",
       "</svg>\n"
      ]
     },
     "execution_count": 203,
     "metadata": {},
     "output_type": "execute_result"
    }
   ],
   "source": [
    "f = Polynomial([-2, 17, 2, -1.6])\n",
    "\n",
    "default(framestyle = :zerolines)\n",
    "\n",
    "M = 15\n",
    "ε = 1.0e-10\n",
    "\n",
    "plot(f, -5, 5, linewidth = 3, label = false)"
   ]
  },
  {
   "cell_type": "code",
   "execution_count": 204,
   "metadata": {},
   "outputs": [
    {
     "data": {
      "text/plain": [
       "3-element Array{Float64,1}:\n",
       " -2.7614849059271953\n",
       "  0.11620606285418353\n",
       "  3.89527884307301"
      ]
     },
     "execution_count": 204,
     "metadata": {},
     "output_type": "execute_result"
    }
   ],
   "source": [
    "roots(f)"
   ]
  },
  {
   "cell_type": "code",
   "execution_count": 205,
   "metadata": {},
   "outputs": [
    {
     "data": {
      "text/plain": [
       "3-element Array{Float64,1}:\n",
       "  3.89527884307301\n",
       " -2.7614849059271935\n",
       "  0.1162060628541836"
      ]
     },
     "execution_count": 205,
     "metadata": {},
     "output_type": "execute_result"
    }
   ],
   "source": [
    "Bairstow(f, 0.3, 0.3, M)"
   ]
  },
  {
   "cell_type": "code",
   "execution_count": 206,
   "metadata": {},
   "outputs": [
    {
     "name": "stdout",
     "output_type": "stream",
     "text": [
      "Iteracja: 1, x_i = -0.799919, błąd bezwględny = 3.125214\n",
      "Iteracja: 2, x_i = 0.458353, błąd bezwględny = 2.745202\n",
      "Iteracja: 3, x_i = 0.118487, błąd bezwględny = 2.868379\n",
      "Iteracja: 4, x_i = 0.116206, błąd bezwględny = 0.019626\n",
      "Iteracja: 5, x_i = 0.116206, błąd bezwględny = 0.000004\n"
     ]
    },
    {
     "data": {
      "text/plain": [
       "0.11620606285419885"
      ]
     },
     "execution_count": 206,
     "metadata": {},
     "output_type": "execute_result"
    }
   ],
   "source": [
    "Newton(f, 1.7, ε, M, true)"
   ]
  },
  {
   "cell_type": "code",
   "execution_count": 207,
   "metadata": {},
   "outputs": [
    {
     "name": "stdout",
     "output_type": "stream",
     "text": [
      "Iteracja: 1, a = -1.000000, b = 3.000000, c = 1.000000, f(c) = 15.400000\n",
      "Iteracja: 2, a = -1.000000, b = 1.000000, c = 0.000000, f(c) = -2.000000\n",
      "Iteracja: 3, a = 0.000000, b = 1.000000, c = 0.500000, f(c) = 6.800000\n",
      "Iteracja: 4, a = 0.000000, b = 0.500000, c = 0.250000, f(c) = 2.350000\n",
      "Iteracja: 5, a = 0.000000, b = 0.250000, c = 0.125000, f(c) = 0.153125\n",
      "Iteracja: 6, a = 0.000000, b = 0.125000, c = 0.062500, f(c) = -0.930078\n",
      "Iteracja: 7, a = 0.062500, b = 0.125000, c = 0.093750, f(c) = -0.389990\n",
      "Iteracja: 8, a = 0.093750, b = 0.125000, c = 0.109375, f(c) = -0.118793\n",
      "Iteracja: 9, a = 0.109375, b = 0.125000, c = 0.117188, f(c) = 0.017078\n",
      "Iteracja: 10, a = 0.109375, b = 0.117188, c = 0.113281, f(c) = -0.050879\n",
      "Iteracja: 11, a = 0.113281, b = 0.117188, c = 0.115234, f(c) = -0.016906\n",
      "Iteracja: 12, a = 0.115234, b = 0.117188, c = 0.116211, f(c) = 0.000085\n",
      "Iteracja: 13, a = 0.115234, b = 0.116211, c = 0.115723, f(c) = -0.008411\n",
      "Iteracja: 14, a = 0.115723, b = 0.116211, c = 0.115967, f(c) = -0.004163\n",
      "Iteracja: 15, a = 0.115967, b = 0.116211, c = 0.116089, f(c) = -0.002039\n"
     ]
    },
    {
     "data": {
      "text/plain": [
       "0.1160888671875"
      ]
     },
     "execution_count": 207,
     "metadata": {},
     "output_type": "execute_result"
    }
   ],
   "source": [
    "Bisection(f, -1, 3, ε, M, true)"
   ]
  },
  {
   "cell_type": "markdown",
   "metadata": {},
   "source": [
    "#### Metoda bisekcji i Newtona"
   ]
  },
  {
   "cell_type": "code",
   "execution_count": 208,
   "metadata": {},
   "outputs": [
    {
     "data": {
      "image/svg+xml": [
       "<?xml version=\"1.0\" encoding=\"utf-8\"?>\n",
       "<svg xmlns=\"http://www.w3.org/2000/svg\" xmlns:xlink=\"http://www.w3.org/1999/xlink\" width=\"600\" height=\"400\" viewBox=\"0 0 2400 1600\">\n",
       "<defs>\n",
       "  <clipPath id=\"clip680\">\n",
       "    <rect x=\"0\" y=\"0\" width=\"2400\" height=\"1600\"/>\n",
       "  </clipPath>\n",
       "</defs>\n",
       "<path clip-path=\"url(#clip680)\" d=\"\n",
       "M0 1600 L2400 1600 L2400 0 L0 0  Z\n",
       "  \" fill=\"#ffffff\" fill-rule=\"evenodd\" fill-opacity=\"1\"/>\n",
       "<defs>\n",
       "  <clipPath id=\"clip681\">\n",
       "    <rect x=\"480\" y=\"0\" width=\"1681\" height=\"1600\"/>\n",
       "  </clipPath>\n",
       "</defs>\n",
       "<path clip-path=\"url(#clip680)\" d=\"\n",
       "M197.852 1423.18 L2352.76 1423.18 L2352.76 47.2441 L197.852 47.2441  Z\n",
       "  \" fill=\"#ffffff\" fill-rule=\"evenodd\" fill-opacity=\"1\"/>\n",
       "<defs>\n",
       "  <clipPath id=\"clip682\">\n",
       "    <rect x=\"197\" y=\"47\" width=\"2156\" height=\"1377\"/>\n",
       "  </clipPath>\n",
       "</defs>\n",
       "<polyline clip-path=\"url(#clip682)\" style=\"stroke:#000000; stroke-width:2; stroke-opacity:0.1; fill:none\" points=\"\n",
       "  258.84,1423.18 258.84,47.2441 \n",
       "  \"/>\n",
       "<polyline clip-path=\"url(#clip682)\" style=\"stroke:#000000; stroke-width:2; stroke-opacity:0.1; fill:none\" points=\"\n",
       "  767.072,1423.18 767.072,47.2441 \n",
       "  \"/>\n",
       "<polyline clip-path=\"url(#clip682)\" style=\"stroke:#000000; stroke-width:2; stroke-opacity:0.1; fill:none\" points=\"\n",
       "  1275.3,1423.18 1275.3,47.2441 \n",
       "  \"/>\n",
       "<polyline clip-path=\"url(#clip682)\" style=\"stroke:#000000; stroke-width:2; stroke-opacity:0.1; fill:none\" points=\"\n",
       "  1783.54,1423.18 1783.54,47.2441 \n",
       "  \"/>\n",
       "<polyline clip-path=\"url(#clip682)\" style=\"stroke:#000000; stroke-width:2; stroke-opacity:0.1; fill:none\" points=\"\n",
       "  2291.77,1423.18 2291.77,47.2441 \n",
       "  \"/>\n",
       "<polyline clip-path=\"url(#clip680)\" style=\"stroke:#000000; stroke-width:4; stroke-opacity:1; fill:none\" points=\"\n",
       "  197.852,1384.24 2352.76,1384.24 \n",
       "  \"/>\n",
       "<polyline clip-path=\"url(#clip680)\" style=\"stroke:#000000; stroke-width:4; stroke-opacity:0; fill:none\" points=\"\n",
       "  258.84,1384.24 258.84,1384.24 \n",
       "  \"/>\n",
       "<polyline clip-path=\"url(#clip680)\" style=\"stroke:#000000; stroke-width:4; stroke-opacity:0; fill:none\" points=\"\n",
       "  767.072,1384.24 767.072,1384.24 \n",
       "  \"/>\n",
       "<polyline clip-path=\"url(#clip680)\" style=\"stroke:#000000; stroke-width:4; stroke-opacity:0; fill:none\" points=\"\n",
       "  1275.3,1384.24 1275.3,1384.24 \n",
       "  \"/>\n",
       "<polyline clip-path=\"url(#clip680)\" style=\"stroke:#000000; stroke-width:4; stroke-opacity:0; fill:none\" points=\"\n",
       "  1783.54,1384.24 1783.54,1384.24 \n",
       "  \"/>\n",
       "<polyline clip-path=\"url(#clip680)\" style=\"stroke:#000000; stroke-width:4; stroke-opacity:0; fill:none\" points=\"\n",
       "  2291.77,1384.24 2291.77,1384.24 \n",
       "  \"/>\n",
       "<path clip-path=\"url(#clip680)\" d=\"M 0 0 M240.357 1452.37 Q236.746 1452.37 234.917 1455.94 Q233.111 1459.48 233.111 1466.61 Q233.111 1473.71 234.917 1477.28 Q236.746 1480.82 240.357 1480.82 Q243.991 1480.82 245.796 1477.28 Q247.625 1473.71 247.625 1466.61 Q247.625 1459.48 245.796 1455.94 Q243.991 1452.37 240.357 1452.37 M240.357 1448.67 Q246.167 1448.67 249.222 1453.27 Q252.301 1457.86 252.301 1466.61 Q252.301 1475.33 249.222 1479.94 Q246.167 1484.52 240.357 1484.52 Q234.546 1484.52 231.468 1479.94 Q228.412 1475.33 228.412 1466.61 Q228.412 1457.86 231.468 1453.27 Q234.546 1448.67 240.357 1448.67 Z\" fill=\"#000000\" fill-rule=\"evenodd\" fill-opacity=\"1\" /><path clip-path=\"url(#clip680)\" d=\"M 0 0 M257.37 1477.97 L262.255 1477.97 L262.255 1483.85 L257.37 1483.85 L257.37 1477.97 Z\" fill=\"#000000\" fill-rule=\"evenodd\" fill-opacity=\"1\" /><path clip-path=\"url(#clip680)\" d=\"M 0 0 M277.324 1452.37 Q273.713 1452.37 271.884 1455.94 Q270.079 1459.48 270.079 1466.61 Q270.079 1473.71 271.884 1477.28 Q273.713 1480.82 277.324 1480.82 Q280.958 1480.82 282.764 1477.28 Q284.593 1473.71 284.593 1466.61 Q284.593 1459.48 282.764 1455.94 Q280.958 1452.37 277.324 1452.37 M277.324 1448.67 Q283.134 1448.67 286.19 1453.27 Q289.268 1457.86 289.268 1466.61 Q289.268 1475.33 286.19 1479.94 Q283.134 1484.52 277.324 1484.52 Q271.514 1484.52 268.435 1479.94 Q265.38 1475.33 265.38 1466.61 Q265.38 1457.86 268.435 1453.27 Q271.514 1448.67 277.324 1448.67 Z\" fill=\"#000000\" fill-rule=\"evenodd\" fill-opacity=\"1\" /><path clip-path=\"url(#clip680)\" d=\"M 0 0 M743.739 1479.92 L760.058 1479.92 L760.058 1483.85 L738.114 1483.85 L738.114 1479.92 Q740.776 1477.16 745.359 1472.53 Q749.966 1467.88 751.146 1466.54 Q753.392 1464.01 754.271 1462.28 Q755.174 1460.52 755.174 1458.83 Q755.174 1456.07 753.23 1454.34 Q751.308 1452.6 748.207 1452.6 Q746.008 1452.6 743.554 1453.37 Q741.123 1454.13 738.346 1455.68 L738.346 1450.96 Q741.17 1449.82 743.623 1449.25 Q746.077 1448.67 748.114 1448.67 Q753.484 1448.67 756.679 1451.35 Q759.873 1454.04 759.873 1458.53 Q759.873 1460.66 759.063 1462.58 Q758.276 1464.48 756.17 1467.07 Q755.591 1467.74 752.489 1470.96 Q749.387 1474.15 743.739 1479.92 Z\" fill=\"#000000\" fill-rule=\"evenodd\" fill-opacity=\"1\" /><path clip-path=\"url(#clip680)\" d=\"M 0 0 M765.128 1477.97 L770.012 1477.97 L770.012 1483.85 L765.128 1483.85 L765.128 1477.97 Z\" fill=\"#000000\" fill-rule=\"evenodd\" fill-opacity=\"1\" /><path clip-path=\"url(#clip680)\" d=\"M 0 0 M775.128 1449.29 L793.484 1449.29 L793.484 1453.23 L779.41 1453.23 L779.41 1461.7 Q780.429 1461.35 781.447 1461.19 Q782.466 1461 783.484 1461 Q789.271 1461 792.651 1464.18 Q796.03 1467.35 796.03 1472.76 Q796.03 1478.34 792.558 1481.44 Q789.086 1484.52 782.767 1484.52 Q780.591 1484.52 778.322 1484.15 Q776.077 1483.78 773.669 1483.04 L773.669 1478.34 Q775.753 1479.48 777.975 1480.03 Q780.197 1480.59 782.674 1480.59 Q786.679 1480.59 789.017 1478.48 Q791.355 1476.38 791.355 1472.76 Q791.355 1469.15 789.017 1467.05 Q786.679 1464.94 782.674 1464.94 Q780.799 1464.94 778.924 1465.36 Q777.072 1465.77 775.128 1466.65 L775.128 1449.29 Z\" fill=\"#000000\" fill-rule=\"evenodd\" fill-opacity=\"1\" /><path clip-path=\"url(#clip680)\" d=\"M 0 0 M1247.1 1449.29 L1265.45 1449.29 L1265.45 1453.23 L1251.38 1453.23 L1251.38 1461.7 Q1252.4 1461.35 1253.42 1461.19 Q1254.44 1461 1255.45 1461 Q1261.24 1461 1264.62 1464.18 Q1268 1467.35 1268 1472.76 Q1268 1478.34 1264.53 1481.44 Q1261.06 1484.52 1254.74 1484.52 Q1252.56 1484.52 1250.29 1484.15 Q1248.05 1483.78 1245.64 1483.04 L1245.64 1478.34 Q1247.72 1479.48 1249.95 1480.03 Q1252.17 1480.59 1254.64 1480.59 Q1258.65 1480.59 1260.99 1478.48 Q1263.33 1476.38 1263.33 1472.76 Q1263.33 1469.15 1260.99 1467.05 Q1258.65 1464.94 1254.64 1464.94 Q1252.77 1464.94 1250.89 1465.36 Q1249.04 1465.77 1247.1 1466.65 L1247.1 1449.29 Z\" fill=\"#000000\" fill-rule=\"evenodd\" fill-opacity=\"1\" /><path clip-path=\"url(#clip680)\" d=\"M 0 0 M1273.07 1477.97 L1277.95 1477.97 L1277.95 1483.85 L1273.07 1483.85 L1273.07 1477.97 Z\" fill=\"#000000\" fill-rule=\"evenodd\" fill-opacity=\"1\" /><path clip-path=\"url(#clip680)\" d=\"M 0 0 M1293.02 1452.37 Q1289.41 1452.37 1287.58 1455.94 Q1285.78 1459.48 1285.78 1466.61 Q1285.78 1473.71 1287.58 1477.28 Q1289.41 1480.82 1293.02 1480.82 Q1296.66 1480.82 1298.46 1477.28 Q1300.29 1473.71 1300.29 1466.61 Q1300.29 1459.48 1298.46 1455.94 Q1296.66 1452.37 1293.02 1452.37 M1293.02 1448.67 Q1298.83 1448.67 1301.89 1453.27 Q1304.97 1457.86 1304.97 1466.61 Q1304.97 1475.33 1301.89 1479.94 Q1298.83 1484.52 1293.02 1484.52 Q1287.21 1484.52 1284.14 1479.94 Q1281.08 1475.33 1281.08 1466.61 Q1281.08 1457.86 1284.14 1453.27 Q1287.21 1448.67 1293.02 1448.67 Z\" fill=\"#000000\" fill-rule=\"evenodd\" fill-opacity=\"1\" /><path clip-path=\"url(#clip680)\" d=\"M 0 0 M1754.44 1449.29 L1776.66 1449.29 L1776.66 1451.28 L1764.11 1483.85 L1759.23 1483.85 L1771.04 1453.23 L1754.44 1453.23 L1754.44 1449.29 Z\" fill=\"#000000\" fill-rule=\"evenodd\" fill-opacity=\"1\" /><path clip-path=\"url(#clip680)\" d=\"M 0 0 M1781.73 1477.97 L1786.61 1477.97 L1786.61 1483.85 L1781.73 1483.85 L1781.73 1477.97 Z\" fill=\"#000000\" fill-rule=\"evenodd\" fill-opacity=\"1\" /><path clip-path=\"url(#clip680)\" d=\"M 0 0 M1791.73 1449.29 L1810.09 1449.29 L1810.09 1453.23 L1796.01 1453.23 L1796.01 1461.7 Q1797.03 1461.35 1798.05 1461.19 Q1799.07 1461 1800.09 1461 Q1805.87 1461 1809.25 1464.18 Q1812.63 1467.35 1812.63 1472.76 Q1812.63 1478.34 1809.16 1481.44 Q1805.69 1484.52 1799.37 1484.52 Q1797.19 1484.52 1794.92 1484.15 Q1792.68 1483.78 1790.27 1483.04 L1790.27 1478.34 Q1792.36 1479.48 1794.58 1480.03 Q1796.8 1480.59 1799.28 1480.59 Q1803.28 1480.59 1805.62 1478.48 Q1807.96 1476.38 1807.96 1472.76 Q1807.96 1469.15 1805.62 1467.05 Q1803.28 1464.94 1799.28 1464.94 Q1797.4 1464.94 1795.53 1465.36 Q1793.67 1465.77 1791.73 1466.65 L1791.73 1449.29 Z\" fill=\"#000000\" fill-rule=\"evenodd\" fill-opacity=\"1\" /><path clip-path=\"url(#clip680)\" d=\"M 0 0 M2250.16 1479.92 L2257.8 1479.92 L2257.8 1453.55 L2249.49 1455.22 L2249.49 1450.96 L2257.75 1449.29 L2262.43 1449.29 L2262.43 1479.92 L2270.07 1479.92 L2270.07 1483.85 L2250.16 1483.85 L2250.16 1479.92 Z\" fill=\"#000000\" fill-rule=\"evenodd\" fill-opacity=\"1\" /><path clip-path=\"url(#clip680)\" d=\"M 0 0 M2285.14 1452.37 Q2281.53 1452.37 2279.7 1455.94 Q2277.89 1459.48 2277.89 1466.61 Q2277.89 1473.71 2279.7 1477.28 Q2281.53 1480.82 2285.14 1480.82 Q2288.77 1480.82 2290.58 1477.28 Q2292.4 1473.71 2292.4 1466.61 Q2292.4 1459.48 2290.58 1455.94 Q2288.77 1452.37 2285.14 1452.37 M2285.14 1448.67 Q2290.95 1448.67 2294 1453.27 Q2297.08 1457.86 2297.08 1466.61 Q2297.08 1475.33 2294 1479.94 Q2290.95 1484.52 2285.14 1484.52 Q2279.33 1484.52 2276.25 1479.94 Q2273.19 1475.33 2273.19 1466.61 Q2273.19 1457.86 2276.25 1453.27 Q2279.33 1448.67 2285.14 1448.67 Z\" fill=\"#000000\" fill-rule=\"evenodd\" fill-opacity=\"1\" /><path clip-path=\"url(#clip680)\" d=\"M 0 0 M2302.15 1477.97 L2307.03 1477.97 L2307.03 1483.85 L2302.15 1483.85 L2302.15 1477.97 Z\" fill=\"#000000\" fill-rule=\"evenodd\" fill-opacity=\"1\" /><path clip-path=\"url(#clip680)\" d=\"M 0 0 M2322.1 1452.37 Q2318.49 1452.37 2316.66 1455.94 Q2314.86 1459.48 2314.86 1466.61 Q2314.86 1473.71 2316.66 1477.28 Q2318.49 1480.82 2322.1 1480.82 Q2325.74 1480.82 2327.54 1477.28 Q2329.37 1473.71 2329.37 1466.61 Q2329.37 1459.48 2327.54 1455.94 Q2325.74 1452.37 2322.1 1452.37 M2322.1 1448.67 Q2327.91 1448.67 2330.97 1453.27 Q2334.05 1457.86 2334.05 1466.61 Q2334.05 1475.33 2330.97 1479.94 Q2327.91 1484.52 2322.1 1484.52 Q2316.29 1484.52 2313.21 1479.94 Q2310.16 1475.33 2310.16 1466.61 Q2310.16 1457.86 2313.21 1453.27 Q2316.29 1448.67 2322.1 1448.67 Z\" fill=\"#000000\" fill-rule=\"evenodd\" fill-opacity=\"1\" /><path clip-path=\"url(#clip680)\" d=\"M 0 0 M1172.45 1508.52 L1178.88 1508.52 L1178.88 1556.04 L1172.45 1556.04 L1172.45 1508.52 Z\" fill=\"#000000\" fill-rule=\"evenodd\" fill-opacity=\"1\" /><path clip-path=\"url(#clip680)\" d=\"M 0 0 M1190.82 1510.27 L1190.82 1520.4 L1202.88 1520.4 L1202.88 1524.95 L1190.82 1524.95 L1190.82 1544.3 Q1190.82 1548.66 1191.99 1549.9 Q1193.2 1551.14 1196.86 1551.14 L1202.88 1551.14 L1202.88 1556.04 L1196.86 1556.04 Q1190.08 1556.04 1187.51 1553.53 Q1184.93 1550.98 1184.93 1544.3 L1184.93 1524.95 L1180.63 1524.95 L1180.63 1520.4 L1184.93 1520.4 L1184.93 1510.27 L1190.82 1510.27 Z\" fill=\"#000000\" fill-rule=\"evenodd\" fill-opacity=\"1\" /><path clip-path=\"url(#clip680)\" d=\"M 0 0 M1239.51 1536.76 L1239.51 1539.62 L1212.59 1539.62 Q1212.97 1545.67 1216.21 1548.85 Q1219.49 1552 1225.32 1552 Q1228.69 1552 1231.84 1551.17 Q1235.03 1550.35 1238.14 1548.69 L1238.14 1554.23 Q1234.99 1555.57 1231.68 1556.27 Q1228.37 1556.97 1224.97 1556.97 Q1216.44 1556.97 1211.44 1552 Q1206.47 1547.04 1206.47 1538.57 Q1206.47 1529.82 1211.19 1524.69 Q1215.93 1519.54 1223.95 1519.54 Q1231.14 1519.54 1235.31 1524.18 Q1239.51 1528.8 1239.51 1536.76 M1233.66 1535.04 Q1233.59 1530.23 1230.95 1527.37 Q1228.34 1524.5 1224.01 1524.5 Q1219.11 1524.5 1216.15 1527.27 Q1213.22 1530.04 1212.78 1535.07 L1233.66 1535.04 Z\" fill=\"#000000\" fill-rule=\"evenodd\" fill-opacity=\"1\" /><path clip-path=\"url(#clip680)\" d=\"M 0 0 M1266.31 1525.87 Q1265.33 1525.3 1264.15 1525.04 Q1263 1524.76 1261.6 1524.76 Q1256.64 1524.76 1253.96 1528 Q1251.32 1531.22 1251.32 1537.27 L1251.32 1556.04 L1245.43 1556.04 L1245.43 1520.4 L1251.32 1520.4 L1251.32 1525.93 Q1253.17 1522.69 1256.13 1521.13 Q1259.09 1519.54 1263.32 1519.54 Q1263.93 1519.54 1264.66 1519.63 Q1265.39 1519.7 1266.28 1519.85 L1266.31 1525.87 Z\" fill=\"#000000\" fill-rule=\"evenodd\" fill-opacity=\"1\" /><path clip-path=\"url(#clip680)\" d=\"M 0 0 M1288.66 1538.12 Q1281.56 1538.12 1278.82 1539.75 Q1276.08 1541.37 1276.08 1545.29 Q1276.08 1548.4 1278.12 1550.25 Q1280.19 1552.07 1283.72 1552.07 Q1288.59 1552.07 1291.52 1548.63 Q1294.48 1545.16 1294.48 1539.43 L1294.48 1538.12 L1288.66 1538.12 M1300.34 1535.71 L1300.34 1556.04 L1294.48 1556.04 L1294.48 1550.63 Q1292.48 1553.88 1289.48 1555.44 Q1286.49 1556.97 1282.16 1556.97 Q1276.69 1556.97 1273.44 1553.91 Q1270.23 1550.82 1270.23 1545.67 Q1270.23 1539.65 1274.24 1536.6 Q1278.28 1533.54 1286.27 1533.54 L1294.48 1533.54 L1294.48 1532.97 Q1294.48 1528.93 1291.81 1526.73 Q1289.17 1524.5 1284.36 1524.5 Q1281.3 1524.5 1278.41 1525.23 Q1275.51 1525.97 1272.84 1527.43 L1272.84 1522.02 Q1276.05 1520.78 1279.08 1520.17 Q1282.1 1519.54 1284.96 1519.54 Q1292.7 1519.54 1296.52 1523.55 Q1300.34 1527.56 1300.34 1535.71 Z\" fill=\"#000000\" fill-rule=\"evenodd\" fill-opacity=\"1\" /><path clip-path=\"url(#clip680)\" d=\"M 0 0 M1332.13 1521.76 L1332.13 1527.24 Q1329.65 1525.87 1327.14 1525.2 Q1324.65 1524.5 1322.11 1524.5 Q1316.41 1524.5 1313.26 1528.13 Q1310.11 1531.73 1310.11 1538.25 Q1310.11 1544.78 1313.26 1548.4 Q1316.41 1552 1322.11 1552 Q1324.65 1552 1327.14 1551.33 Q1329.65 1550.63 1332.13 1549.26 L1332.13 1554.68 Q1329.68 1555.82 1327.04 1556.39 Q1324.43 1556.97 1321.47 1556.97 Q1313.42 1556.97 1308.68 1551.91 Q1303.93 1546.85 1303.93 1538.25 Q1303.93 1529.53 1308.71 1524.53 Q1313.51 1519.54 1321.85 1519.54 Q1324.56 1519.54 1327.14 1520.11 Q1329.72 1520.65 1332.13 1521.76 Z\" fill=\"#000000\" fill-rule=\"evenodd\" fill-opacity=\"1\" /><path clip-path=\"url(#clip680)\" d=\"M 0 0 M1338.28 1520.4 L1344.13 1520.4 L1344.13 1556.68 Q1344.13 1563.49 1341.52 1566.55 Q1338.95 1569.6 1333.18 1569.6 L1330.96 1569.6 L1330.96 1564.64 L1332.52 1564.64 Q1335.86 1564.64 1337.07 1563.08 Q1338.28 1561.55 1338.28 1556.68 L1338.28 1520.4 M1338.28 1506.52 L1344.13 1506.52 L1344.13 1513.93 L1338.28 1513.93 L1338.28 1506.52 Z\" fill=\"#000000\" fill-rule=\"evenodd\" fill-opacity=\"1\" /><path clip-path=\"url(#clip680)\" d=\"M 0 0 M1366.48 1538.12 Q1359.38 1538.12 1356.64 1539.75 Q1353.9 1541.37 1353.9 1545.29 Q1353.9 1548.4 1355.94 1550.25 Q1358.01 1552.07 1361.54 1552.07 Q1366.41 1552.07 1369.34 1548.63 Q1372.3 1545.16 1372.3 1539.43 L1372.3 1538.12 L1366.48 1538.12 M1378.16 1535.71 L1378.16 1556.04 L1372.3 1556.04 L1372.3 1550.63 Q1370.3 1553.88 1367.3 1555.44 Q1364.31 1556.97 1359.98 1556.97 Q1354.51 1556.97 1351.26 1553.91 Q1348.05 1550.82 1348.05 1545.67 Q1348.05 1539.65 1352.06 1536.6 Q1356.1 1533.54 1364.09 1533.54 L1372.3 1533.54 L1372.3 1532.97 Q1372.3 1528.93 1369.63 1526.73 Q1366.99 1524.5 1362.18 1524.5 Q1359.12 1524.5 1356.23 1525.23 Q1353.33 1525.97 1350.66 1527.43 L1350.66 1522.02 Q1353.87 1520.78 1356.9 1520.17 Q1359.92 1519.54 1362.78 1519.54 Q1370.52 1519.54 1374.34 1523.55 Q1378.16 1527.56 1378.16 1535.71 Z\" fill=\"#000000\" fill-rule=\"evenodd\" fill-opacity=\"1\" /><polyline clip-path=\"url(#clip682)\" style=\"stroke:#000000; stroke-width:2; stroke-opacity:0.1; fill:none\" points=\"\n",
       "  197.852,1384.24 2352.76,1384.24 \n",
       "  \"/>\n",
       "<polyline clip-path=\"url(#clip682)\" style=\"stroke:#000000; stroke-width:2; stroke-opacity:0.1; fill:none\" points=\"\n",
       "  197.852,978.597 2352.76,978.597 \n",
       "  \"/>\n",
       "<polyline clip-path=\"url(#clip682)\" style=\"stroke:#000000; stroke-width:2; stroke-opacity:0.1; fill:none\" points=\"\n",
       "  197.852,572.955 2352.76,572.955 \n",
       "  \"/>\n",
       "<polyline clip-path=\"url(#clip682)\" style=\"stroke:#000000; stroke-width:2; stroke-opacity:0.1; fill:none\" points=\"\n",
       "  197.852,167.314 2352.76,167.314 \n",
       "  \"/>\n",
       "<polyline clip-path=\"url(#clip680)\" style=\"stroke:#000000; stroke-width:4; stroke-opacity:1; fill:none\" points=\"\n",
       "  258.84,1423.18 258.84,47.2441 \n",
       "  \"/>\n",
       "<polyline clip-path=\"url(#clip680)\" style=\"stroke:#000000; stroke-width:4; stroke-opacity:0; fill:none\" points=\"\n",
       "  258.84,1384.24 258.84,1384.24 \n",
       "  \"/>\n",
       "<polyline clip-path=\"url(#clip680)\" style=\"stroke:#000000; stroke-width:4; stroke-opacity:0; fill:none\" points=\"\n",
       "  258.84,978.597 258.84,978.597 \n",
       "  \"/>\n",
       "<polyline clip-path=\"url(#clip680)\" style=\"stroke:#000000; stroke-width:4; stroke-opacity:0; fill:none\" points=\"\n",
       "  258.84,572.955 258.84,572.955 \n",
       "  \"/>\n",
       "<polyline clip-path=\"url(#clip680)\" style=\"stroke:#000000; stroke-width:4; stroke-opacity:0; fill:none\" points=\"\n",
       "  258.84,167.314 258.84,167.314 \n",
       "  \"/>\n",
       "<path clip-path=\"url(#clip680)\" d=\"M 0 0 M149.908 1370.04 Q146.297 1370.04 144.468 1373.6 Q142.663 1377.14 142.663 1384.27 Q142.663 1391.38 144.468 1394.94 Q146.297 1398.49 149.908 1398.49 Q153.542 1398.49 155.348 1394.94 Q157.177 1391.38 157.177 1384.27 Q157.177 1377.14 155.348 1373.6 Q153.542 1370.04 149.908 1370.04 M149.908 1366.33 Q155.718 1366.33 158.774 1370.94 Q161.852 1375.52 161.852 1384.27 Q161.852 1393 158.774 1397.61 Q155.718 1402.19 149.908 1402.19 Q144.098 1402.19 141.019 1397.61 Q137.964 1393 137.964 1384.27 Q137.964 1375.52 141.019 1370.94 Q144.098 1366.33 149.908 1366.33 Z\" fill=\"#000000\" fill-rule=\"evenodd\" fill-opacity=\"1\" /><path clip-path=\"url(#clip680)\" d=\"M 0 0 M140.95 961.317 L159.306 961.317 L159.306 965.252 L145.232 965.252 L145.232 973.724 Q146.251 973.377 147.269 973.215 Q148.288 973.03 149.306 973.03 Q155.093 973.03 158.473 976.201 Q161.852 979.372 161.852 984.789 Q161.852 990.368 158.38 993.469 Q154.908 996.548 148.589 996.548 Q146.413 996.548 144.144 996.178 Q141.899 995.807 139.492 995.067 L139.492 990.368 Q141.575 991.502 143.797 992.057 Q146.019 992.613 148.496 992.613 Q152.501 992.613 154.839 990.506 Q157.177 988.4 157.177 984.789 Q157.177 981.178 154.839 979.071 Q152.501 976.965 148.496 976.965 Q146.621 976.965 144.746 977.382 Q142.894 977.798 140.95 978.678 L140.95 961.317 Z\" fill=\"#000000\" fill-rule=\"evenodd\" fill-opacity=\"1\" /><path clip-path=\"url(#clip680)\" d=\"M 0 0 M114.931 586.3 L122.57 586.3 L122.57 559.935 L114.26 561.601 L114.26 557.342 L122.524 555.675 L127.2 555.675 L127.2 586.3 L134.839 586.3 L134.839 590.235 L114.931 590.235 L114.931 586.3 Z\" fill=\"#000000\" fill-rule=\"evenodd\" fill-opacity=\"1\" /><path clip-path=\"url(#clip680)\" d=\"M 0 0 M149.908 558.754 Q146.297 558.754 144.468 562.319 Q142.663 565.861 142.663 572.99 Q142.663 580.097 144.468 583.661 Q146.297 587.203 149.908 587.203 Q153.542 587.203 155.348 583.661 Q157.177 580.097 157.177 572.99 Q157.177 565.861 155.348 562.319 Q153.542 558.754 149.908 558.754 M149.908 555.05 Q155.718 555.05 158.774 559.657 Q161.852 564.24 161.852 572.99 Q161.852 581.717 158.774 586.323 Q155.718 590.907 149.908 590.907 Q144.098 590.907 141.019 586.323 Q137.964 581.717 137.964 572.99 Q137.964 564.24 141.019 559.657 Q144.098 555.05 149.908 555.05 Z\" fill=\"#000000\" fill-rule=\"evenodd\" fill-opacity=\"1\" /><path clip-path=\"url(#clip680)\" d=\"M 0 0 M115.927 180.659 L123.566 180.659 L123.566 154.293 L115.256 155.96 L115.256 151.701 L123.519 150.034 L128.195 150.034 L128.195 180.659 L135.834 180.659 L135.834 184.594 L115.927 184.594 L115.927 180.659 Z\" fill=\"#000000\" fill-rule=\"evenodd\" fill-opacity=\"1\" /><path clip-path=\"url(#clip680)\" d=\"M 0 0 M140.95 150.034 L159.306 150.034 L159.306 153.969 L145.232 153.969 L145.232 162.441 Q146.251 162.094 147.269 161.932 Q148.288 161.747 149.306 161.747 Q155.093 161.747 158.473 164.918 Q161.852 168.089 161.852 173.506 Q161.852 179.085 158.38 182.187 Q154.908 185.265 148.589 185.265 Q146.413 185.265 144.144 184.895 Q141.899 184.525 139.492 183.784 L139.492 179.085 Q141.575 180.219 143.797 180.775 Q146.019 181.33 148.496 181.33 Q152.501 181.33 154.839 179.224 Q157.177 177.117 157.177 173.506 Q157.177 169.895 154.839 167.788 Q152.501 165.682 148.496 165.682 Q146.621 165.682 144.746 166.099 Q142.894 166.515 140.95 167.395 L140.95 150.034 Z\" fill=\"#000000\" fill-rule=\"evenodd\" fill-opacity=\"1\" /><path clip-path=\"url(#clip680)\" d=\"M 0 0 M40.4842 1072.5 L40.4842 1066.07 L82.5933 1066.07 L82.5933 1042.93 L88.0042 1042.93 L88.0042 1072.5 L40.4842 1072.5 Z\" fill=\"#000000\" fill-rule=\"evenodd\" fill-opacity=\"1\" /><path clip-path=\"url(#clip680)\" d=\"M 0 0 M52.3562 1036.79 L52.3562 1030.93 L88.0042 1030.93 L88.0042 1036.79 L52.3562 1036.79 M38.479 1036.79 L38.479 1030.93 L45.895 1030.93 L45.895 1036.79 L38.479 1036.79 Z\" fill=\"#000000\" fill-rule=\"evenodd\" fill-opacity=\"1\" /><path clip-path=\"url(#clip680)\" d=\"M 0 0 M53.7248 999.134 L59.1993 999.134 Q57.8307 1001.62 57.1623 1004.13 Q56.4621 1006.61 56.4621 1009.16 Q56.4621 1014.86 60.0905 1018.01 Q63.6872 1021.16 70.212 1021.16 Q76.7369 1021.16 80.3653 1018.01 Q83.9619 1014.86 83.9619 1009.16 Q83.9619 1006.61 83.2935 1004.13 Q82.5933 1001.62 81.2247 999.134 L86.6355 999.134 Q87.7814 1001.58 88.3543 1004.23 Q88.9272 1006.84 88.9272 1009.8 Q88.9272 1017.85 83.8664 1022.59 Q78.8057 1027.33 70.212 1027.33 Q61.491 1027.33 56.4939 1022.56 Q51.4968 1017.75 51.4968 1009.41 Q51.4968 1006.71 52.0697 1004.13 Q52.6108 1001.55 53.7248 999.134 Z\" fill=\"#000000\" fill-rule=\"evenodd\" fill-opacity=\"1\" /><path clip-path=\"url(#clip680)\" d=\"M 0 0 M52.3562 995.538 L52.3562 967.719 L57.7034 967.719 L83.3254 989.745 L83.3254 967.719 L88.0042 967.719 L88.0042 996.333 L82.657 996.333 L57.035 974.308 L57.035 995.538 L52.3562 995.538 Z\" fill=\"#000000\" fill-rule=\"evenodd\" fill-opacity=\"1\" /><path clip-path=\"url(#clip680)\" d=\"M 0 0 M70.212 935.986 Q63.7508 935.986 60.0905 938.66 Q56.3984 941.302 56.3984 945.949 Q56.3984 950.596 60.0905 953.269 Q63.7508 955.911 70.212 955.911 Q76.6732 955.911 80.3653 953.269 Q84.0256 950.596 84.0256 945.949 Q84.0256 941.302 80.3653 938.66 Q76.6732 935.986 70.212 935.986 M57.7671 955.911 Q54.5842 954.065 53.0564 951.264 Q51.4968 948.431 51.4968 944.516 Q51.4968 938.023 56.6531 933.981 Q61.8093 929.907 70.212 929.907 Q78.6147 929.907 83.771 933.981 Q88.9272 938.023 88.9272 944.516 Q88.9272 948.431 87.3994 951.264 Q85.8398 954.065 82.657 955.911 L88.0042 955.911 L88.0042 961.799 L38.479 961.799 L38.479 955.911 L57.7671 955.911 Z\" fill=\"#000000\" fill-rule=\"evenodd\" fill-opacity=\"1\" /><path clip-path=\"url(#clip680)\" d=\"M 0 0 M70.0847 907.563 Q70.0847 914.661 71.7079 917.398 Q73.3312 920.136 77.2461 920.136 Q80.3653 920.136 82.2114 918.099 Q84.0256 916.03 84.0256 912.497 Q84.0256 907.627 80.5881 904.699 Q77.1188 901.739 71.3897 901.739 L70.0847 901.739 L70.0847 907.563 M67.6657 895.882 L88.0042 895.882 L88.0042 901.739 L82.5933 901.739 Q85.8398 903.744 87.3994 906.736 Q88.9272 909.728 88.9272 914.056 Q88.9272 919.531 85.8716 922.778 Q82.7843 925.992 77.6281 925.992 Q71.6125 925.992 68.5569 921.982 Q65.5014 917.94 65.5014 909.951 L65.5014 901.739 L64.9285 901.739 Q60.8862 901.739 58.6901 904.412 Q56.4621 907.054 56.4621 911.86 Q56.4621 914.916 57.1941 917.812 Q57.9262 920.709 59.3903 923.382 L53.9795 923.382 Q52.7381 920.168 52.1334 917.144 Q51.4968 914.12 51.4968 911.256 Q51.4968 903.521 55.5072 899.702 Q59.5176 895.882 67.6657 895.882 Z\" fill=\"#000000\" fill-rule=\"evenodd\" fill-opacity=\"1\" /><path clip-path=\"url(#clip680)\" d=\"M 0 0 M53.7248 843.365 L59.1993 843.365 Q57.8307 845.848 57.1623 848.362 Q56.4621 850.845 56.4621 853.391 Q56.4621 859.089 60.0905 862.24 Q63.6872 865.391 70.212 865.391 Q76.7369 865.391 80.3653 862.24 Q83.9619 859.089 83.9619 853.391 Q83.9619 850.845 83.2935 848.362 Q82.5933 845.848 81.2247 843.365 L86.6355 843.365 Q87.7814 845.816 88.3543 848.458 Q88.9272 851.068 88.9272 854.028 Q88.9272 862.081 83.8664 866.823 Q78.8057 871.565 70.212 871.565 Q61.491 871.565 56.4939 866.791 Q51.4968 861.985 51.4968 853.646 Q51.4968 850.941 52.0697 848.362 Q52.6108 845.784 53.7248 843.365 Z\" fill=\"#000000\" fill-rule=\"evenodd\" fill-opacity=\"1\" /><path clip-path=\"url(#clip680)\" d=\"M 0 0 M91.3143 822.39 Q97.68 824.873 99.6216 827.228 Q101.563 829.584 101.563 833.53 L101.563 838.209 L96.6615 838.209 L96.6615 834.772 Q96.6615 832.353 95.5157 831.016 Q94.3699 829.679 90.1048 828.056 L87.4312 827.005 L52.3562 841.424 L52.3562 835.217 L80.238 824.077 L52.3562 812.937 L52.3562 806.731 L91.3143 822.39 Z\" fill=\"#000000\" fill-rule=\"evenodd\" fill-opacity=\"1\" /><path clip-path=\"url(#clip680)\" d=\"M 0 0 M38.479 782.541 L43.3487 782.541 L43.3487 788.143 Q43.3487 791.294 44.6219 792.535 Q45.895 793.745 49.2052 793.745 L52.3562 793.745 L52.3562 784.101 L56.9077 784.101 L56.9077 793.745 L88.0042 793.745 L88.0042 799.633 L56.9077 799.633 L56.9077 805.235 L52.3562 805.235 L52.3562 799.633 L49.8736 799.633 Q43.9216 799.633 41.2162 796.864 Q38.479 794.095 38.479 788.079 L38.479 782.541 Z\" fill=\"#000000\" fill-rule=\"evenodd\" fill-opacity=\"1\" /><path clip-path=\"url(#clip680)\" d=\"M 0 0 M57.8307 755.741 Q57.2578 756.728 57.0032 757.906 Q56.7167 759.052 56.7167 760.452 Q56.7167 765.417 59.9632 768.091 Q63.1779 770.733 69.2253 770.733 L88.0042 770.733 L88.0042 776.621 L52.3562 776.621 L52.3562 770.733 L57.8944 770.733 Q54.6479 768.887 53.0883 765.927 Q51.4968 762.966 51.4968 758.733 Q51.4968 758.129 51.5923 757.396 Q51.656 756.664 51.8151 755.773 L57.8307 755.741 Z\" fill=\"#000000\" fill-rule=\"evenodd\" fill-opacity=\"1\" /><path clip-path=\"url(#clip680)\" d=\"M 0 0 M52.3562 731.424 L52.3562 703.606 L57.7034 703.606 L83.3254 725.632 L83.3254 703.606 L88.0042 703.606 L88.0042 732.22 L82.657 732.22 L57.035 710.195 L57.035 731.424 L52.3562 731.424 Z\" fill=\"#000000\" fill-rule=\"evenodd\" fill-opacity=\"1\" /><path clip-path=\"url(#clip680)\" d=\"M 0 0 M66.4881 667.831 L88.0042 667.831 L88.0042 673.687 L66.679 673.687 Q61.6183 673.687 59.1038 675.661 Q56.5894 677.634 56.5894 681.581 Q56.5894 686.323 59.6131 689.061 Q62.6368 691.798 67.8567 691.798 L88.0042 691.798 L88.0042 697.686 L52.3562 697.686 L52.3562 691.798 L57.8944 691.798 Q54.6797 689.697 53.0883 686.864 Q51.4968 684 51.4968 680.276 Q51.4968 674.133 55.3163 670.982 Q59.1038 667.831 66.4881 667.831 Z\" fill=\"#000000\" fill-rule=\"evenodd\" fill-opacity=\"1\" /><path clip-path=\"url(#clip680)\" d=\"M 0 0 M70.0847 645.487 Q70.0847 652.585 71.7079 655.322 Q73.3312 658.06 77.2461 658.06 Q80.3653 658.06 82.2114 656.023 Q84.0256 653.954 84.0256 650.421 Q84.0256 645.551 80.5881 642.623 Q77.1188 639.663 71.3897 639.663 L70.0847 639.663 L70.0847 645.487 M67.6657 633.806 L88.0042 633.806 L88.0042 639.663 L82.5933 639.663 Q85.8398 641.668 87.3994 644.66 Q88.9272 647.652 88.9272 651.98 Q88.9272 657.455 85.8716 660.701 Q82.7843 663.916 77.6281 663.916 Q71.6125 663.916 68.5569 659.906 Q65.5014 655.863 65.5014 647.874 L65.5014 639.663 L64.9285 639.663 Q60.8862 639.663 58.6901 642.336 Q56.4621 644.978 56.4621 649.784 Q56.4621 652.84 57.1941 655.736 Q57.9262 658.633 59.3903 661.306 L53.9795 661.306 Q52.7381 658.091 52.1334 655.068 Q51.4968 652.044 51.4968 649.179 Q51.4968 641.445 55.5072 637.626 Q59.5176 633.806 67.6657 633.806 Z\" fill=\"#000000\" fill-rule=\"evenodd\" fill-opacity=\"1\" /><path clip-path=\"url(#clip680)\" d=\"M 0 0 M53.7248 602.01 L59.1993 602.01 Q57.8307 604.492 57.1623 607.007 Q56.4621 609.489 56.4621 612.036 Q56.4621 617.733 60.0905 620.884 Q63.6872 624.035 70.212 624.035 Q76.7369 624.035 80.3653 620.884 Q83.9619 617.733 83.9619 612.036 Q83.9619 609.489 83.2935 607.007 Q82.5933 604.492 81.2247 602.01 L86.6355 602.01 Q87.7814 604.46 88.3543 607.102 Q88.9272 609.712 88.9272 612.672 Q88.9272 620.725 83.8664 625.467 Q78.8057 630.21 70.212 630.21 Q61.491 630.21 56.4939 625.435 Q51.4968 620.629 51.4968 612.29 Q51.4968 609.585 52.0697 607.007 Q52.6108 604.429 53.7248 602.01 Z\" fill=\"#000000\" fill-rule=\"evenodd\" fill-opacity=\"1\" /><path clip-path=\"url(#clip680)\" d=\"M 0 0 M52.3562 598.413 L52.3562 570.595 L57.7034 570.595 L83.3254 592.62 L83.3254 570.595 L88.0042 570.595 L88.0042 599.209 L82.657 599.209 L57.035 577.183 L57.035 598.413 L52.3562 598.413 Z\" fill=\"#000000\" fill-rule=\"evenodd\" fill-opacity=\"1\" /><path clip-path=\"url(#clip680)\" d=\"M 0 0 M70.0847 548.251 Q70.0847 555.349 71.7079 558.086 Q73.3312 560.823 77.2461 560.823 Q80.3653 560.823 82.2114 558.786 Q84.0256 556.718 84.0256 553.185 Q84.0256 548.315 80.5881 545.387 Q77.1188 542.427 71.3897 542.427 L70.0847 542.427 L70.0847 548.251 M67.6657 536.57 L88.0042 536.57 L88.0042 542.427 L82.5933 542.427 Q85.8398 544.432 87.3994 547.424 Q88.9272 550.416 88.9272 554.744 Q88.9272 560.219 85.8716 563.465 Q82.7843 566.68 77.6281 566.68 Q71.6125 566.68 68.5569 562.669 Q65.5014 558.627 65.5014 550.638 L65.5014 542.427 L64.9285 542.427 Q60.8862 542.427 58.6901 545.1 Q56.4621 547.742 56.4621 552.548 Q56.4621 555.604 57.1941 558.5 Q57.9262 561.396 59.3903 564.07 L53.9795 564.07 Q52.7381 560.855 52.1334 557.832 Q51.4968 554.808 51.4968 551.943 Q51.4968 544.209 55.5072 540.39 Q59.5176 536.57 67.6657 536.57 M88.0042 542.363 L88.0042 538.575 Q89.9457 540.008 91.3462 540.708 Q92.7466 541.376 93.7333 541.376 Q95.1974 541.376 95.9295 540.517 Q96.6615 539.626 96.6615 537.907 Q96.6615 536.888 96.4069 535.902 Q96.1841 534.915 95.7067 533.928 L99.9399 533.928 Q100.258 535.138 100.417 536.22 Q100.576 537.302 100.576 538.257 Q100.576 542.14 99.176 543.986 Q97.8073 545.8 94.8473 545.8 Q93.3195 545.8 91.6326 544.973 Q89.9775 544.113 88.0042 542.363 Z\" fill=\"#000000\" fill-rule=\"evenodd\" fill-opacity=\"1\" /><path clip-path=\"url(#clip680)\" d=\"M 0 0 M53.7248 502.132 L59.1993 502.132 Q57.8307 504.614 57.1623 507.129 Q56.4621 509.611 56.4621 512.158 Q56.4621 517.855 60.0905 521.006 Q63.6872 524.157 70.212 524.157 Q76.7369 524.157 80.3653 521.006 Q83.9619 517.855 83.9619 512.158 Q83.9619 509.611 83.2935 507.129 Q82.5933 504.614 81.2247 502.132 L86.6355 502.132 Q87.7814 504.582 88.3543 507.224 Q88.9272 509.834 88.9272 512.794 Q88.9272 520.847 83.8664 525.589 Q78.8057 530.332 70.212 530.332 Q61.491 530.332 56.4939 525.557 Q51.4968 520.751 51.4968 512.412 Q51.4968 509.707 52.0697 507.129 Q52.6108 504.551 53.7248 502.132 Z\" fill=\"#000000\" fill-rule=\"evenodd\" fill-opacity=\"1\" /><path clip-path=\"url(#clip680)\" d=\"M 0 0 M91.3143 481.157 Q97.68 483.639 99.6216 485.995 Q101.563 488.35 101.563 492.297 L101.563 496.975 L96.6615 496.975 L96.6615 493.538 Q96.6615 491.119 95.5157 489.782 Q94.3699 488.445 90.1048 486.822 L87.4312 485.772 L52.3562 500.19 L52.3562 493.984 L80.238 482.844 L52.3562 471.704 L52.3562 465.497 L91.3143 481.157 Z\" fill=\"#000000\" fill-rule=\"evenodd\" fill-opacity=\"1\" /><path clip-path=\"url(#clip680)\" d=\"M 0 0 M53.7248 433.7 L59.1993 433.7 Q57.8307 436.183 57.1623 438.697 Q56.4621 441.18 56.4621 443.726 Q56.4621 449.424 60.0905 452.575 Q63.6872 455.726 70.212 455.726 Q76.7369 455.726 80.3653 452.575 Q83.9619 449.424 83.9619 443.726 Q83.9619 441.18 83.2935 438.697 Q82.5933 436.183 81.2247 433.7 L86.6355 433.7 Q87.7814 436.151 88.3543 438.793 Q88.9272 441.403 88.9272 444.363 Q88.9272 452.415 83.8664 457.158 Q78.8057 461.9 70.212 461.9 Q61.491 461.9 56.4939 457.126 Q51.4968 452.32 51.4968 443.981 Q51.4968 441.275 52.0697 438.697 Q52.6108 436.119 53.7248 433.7 Z\" fill=\"#000000\" fill-rule=\"evenodd\" fill-opacity=\"1\" /><path clip-path=\"url(#clip680)\" d=\"M 0 0 M66.4881 397.925 L88.0042 397.925 L88.0042 403.781 L66.679 403.781 Q61.6183 403.781 59.1038 405.755 Q56.5894 407.728 56.5894 411.675 Q56.5894 416.417 59.6131 419.155 Q62.6368 421.892 67.8567 421.892 L88.0042 421.892 L88.0042 427.78 L38.479 427.78 L38.479 421.892 L57.8944 421.892 Q54.6797 419.791 53.0883 416.958 Q51.4968 414.094 51.4968 410.37 Q51.4968 404.227 55.3163 401.076 Q59.1038 397.925 66.4881 397.925 Z\" fill=\"#000000\" fill-rule=\"evenodd\" fill-opacity=\"1\" /><polyline clip-path=\"url(#clip682)\" style=\"stroke:#009af9; stroke-width:12; stroke-opacity:1; fill:none\" points=\"\n",
       "  462.133,1384.24 665.426,1303.11 868.719,1059.73 1072.01,654.084 1275.3,86.1857 1478.6,86.1857 1681.89,86.1857 1885.18,86.1857 2088.48,86.1857 2291.77,86.1857 \n",
       "  \n",
       "  \"/>\n",
       "<polyline clip-path=\"url(#clip682)\" style=\"stroke:#e26f46; stroke-width:12; stroke-opacity:1; fill:none\" points=\"\n",
       "  462.133,1384.24 665.426,1303.11 868.719,1303.11 1072.01,1303.11 1275.3,1303.11 1478.6,1303.11 1681.89,1221.98 1885.18,1221.98 2088.48,1140.85 2291.77,1140.85 \n",
       "  \n",
       "  \"/>\n",
       "<path clip-path=\"url(#clip680)\" d=\"\n",
       "M269.683 274.549 L693.12 274.549 L693.12 93.1086 L269.683 93.1086  Z\n",
       "  \" fill=\"#ffffff\" fill-rule=\"evenodd\" fill-opacity=\"1\"/>\n",
       "<polyline clip-path=\"url(#clip680)\" style=\"stroke:#000000; stroke-width:4; stroke-opacity:1; fill:none\" points=\"\n",
       "  269.683,274.549 693.12,274.549 693.12,93.1086 269.683,93.1086 269.683,274.549 \n",
       "  \"/>\n",
       "<polyline clip-path=\"url(#clip680)\" style=\"stroke:#009af9; stroke-width:4; stroke-opacity:1; fill:none\" points=\"\n",
       "  293.626,153.589 437.286,153.589 \n",
       "  \"/>\n",
       "<path clip-path=\"url(#clip680)\" d=\"M 0 0 M461.23 136.309 L467.526 136.309 L482.85 165.221 L482.85 136.309 L487.387 136.309 L487.387 170.869 L481.091 170.869 L465.767 141.957 L465.767 170.869 L461.23 170.869 L461.23 136.309 Z\" fill=\"#000000\" fill-rule=\"evenodd\" fill-opacity=\"1\" /><path clip-path=\"url(#clip680)\" d=\"M 0 0 M514.03 156.841 L514.03 158.924 L494.447 158.924 Q494.725 163.322 497.086 165.637 Q499.47 167.929 503.706 167.929 Q506.16 167.929 508.452 167.327 Q510.766 166.725 513.035 165.521 L513.035 169.549 Q510.743 170.521 508.336 171.031 Q505.928 171.54 503.452 171.54 Q497.248 171.54 493.614 167.929 Q490.003 164.318 490.003 158.16 Q490.003 151.795 493.428 148.068 Q496.878 144.318 502.711 144.318 Q507.942 144.318 510.975 147.697 Q514.03 151.054 514.03 156.841 M509.771 155.591 Q509.725 152.096 507.803 150.012 Q505.905 147.929 502.757 147.929 Q499.192 147.929 497.04 149.943 Q494.91 151.957 494.586 155.614 L509.771 155.591 Z\" fill=\"#000000\" fill-rule=\"evenodd\" fill-opacity=\"1\" /><path clip-path=\"url(#clip680)\" d=\"M 0 0 M516.021 144.943 L520.28 144.943 L525.604 165.174 L530.905 144.943 L535.928 144.943 L541.252 165.174 L546.553 144.943 L550.812 144.943 L544.03 170.869 L539.007 170.869 L533.428 149.619 L527.826 170.869 L522.803 170.869 L516.021 144.943 Z\" fill=\"#000000\" fill-rule=\"evenodd\" fill-opacity=\"1\" /><path clip-path=\"url(#clip680)\" d=\"M 0 0 M559.493 137.582 L559.493 144.943 L568.266 144.943 L568.266 148.253 L559.493 148.253 L559.493 162.327 Q559.493 165.498 560.349 166.401 Q561.229 167.304 563.891 167.304 L568.266 167.304 L568.266 170.869 L563.891 170.869 Q558.961 170.869 557.086 169.04 Q555.211 167.188 555.211 162.327 L555.211 148.253 L552.086 148.253 L552.086 144.943 L555.211 144.943 L555.211 137.582 L559.493 137.582 Z\" fill=\"#000000\" fill-rule=\"evenodd\" fill-opacity=\"1\" /><path clip-path=\"url(#clip680)\" d=\"M 0 0 M582.78 147.929 Q579.354 147.929 577.363 150.614 Q575.372 153.276 575.372 157.929 Q575.372 162.582 577.34 165.267 Q579.331 167.929 582.78 167.929 Q586.183 167.929 588.173 165.244 Q590.164 162.558 590.164 157.929 Q590.164 153.322 588.173 150.637 Q586.183 147.929 582.78 147.929 M582.78 144.318 Q588.335 144.318 591.507 147.929 Q594.678 151.54 594.678 157.929 Q594.678 164.295 591.507 167.929 Q588.335 171.54 582.78 171.54 Q577.201 171.54 574.03 167.929 Q570.882 164.295 570.882 157.929 Q570.882 151.54 574.03 147.929 Q577.201 144.318 582.78 144.318 Z\" fill=\"#000000\" fill-rule=\"evenodd\" fill-opacity=\"1\" /><path clip-path=\"url(#clip680)\" d=\"M 0 0 M620.696 155.221 L620.696 170.869 L616.437 170.869 L616.437 155.359 Q616.437 151.679 615.002 149.85 Q613.567 148.022 610.696 148.022 Q607.247 148.022 605.257 150.221 Q603.266 152.42 603.266 156.216 L603.266 170.869 L598.983 170.869 L598.983 144.943 L603.266 144.943 L603.266 148.971 Q604.794 146.633 606.854 145.475 Q608.937 144.318 611.645 144.318 Q616.113 144.318 618.405 147.096 Q620.696 149.85 620.696 155.221 Z\" fill=\"#000000\" fill-rule=\"evenodd\" fill-opacity=\"1\" /><polyline clip-path=\"url(#clip680)\" style=\"stroke:#e26f46; stroke-width:4; stroke-opacity:1; fill:none\" points=\"\n",
       "  293.626,214.069 437.286,214.069 \n",
       "  \"/>\n",
       "<path clip-path=\"url(#clip680)\" d=\"M 0 0 M465.905 214.844 L465.905 227.506 L473.405 227.506 Q477.179 227.506 478.984 225.955 Q480.813 224.381 480.813 221.163 Q480.813 217.923 478.984 216.395 Q477.179 214.844 473.405 214.844 L465.905 214.844 M465.905 200.631 L465.905 211.048 L472.827 211.048 Q476.253 211.048 477.919 209.775 Q479.609 208.478 479.609 205.839 Q479.609 203.224 477.919 201.927 Q476.253 200.631 472.827 200.631 L465.905 200.631 M461.23 196.789 L473.174 196.789 Q478.521 196.789 481.415 199.011 Q484.308 201.233 484.308 205.33 Q484.308 208.502 482.827 210.377 Q481.345 212.251 478.475 212.714 Q481.924 213.455 483.822 215.816 Q485.743 218.154 485.743 221.673 Q485.743 226.302 482.595 228.825 Q479.447 231.349 473.637 231.349 L461.23 231.349 L461.23 196.789 Z\" fill=\"#000000\" fill-rule=\"evenodd\" fill-opacity=\"1\" /><path clip-path=\"url(#clip680)\" d=\"M 0 0 M490.211 205.423 L494.47 205.423 L494.47 231.349 L490.211 231.349 L490.211 205.423 M490.211 195.33 L494.47 195.33 L494.47 200.724 L490.211 200.724 L490.211 195.33 Z\" fill=\"#000000\" fill-rule=\"evenodd\" fill-opacity=\"1\" /><path clip-path=\"url(#clip680)\" d=\"M 0 0 M515.465 206.187 L515.465 210.214 Q513.66 209.289 511.715 208.826 Q509.771 208.363 507.688 208.363 Q504.516 208.363 502.919 209.335 Q501.345 210.307 501.345 212.251 Q501.345 213.733 502.479 214.589 Q503.614 215.423 507.04 216.187 L508.498 216.511 Q513.035 217.483 514.933 219.265 Q516.854 221.025 516.854 224.196 Q516.854 227.807 513.984 229.913 Q511.137 232.02 506.137 232.02 Q504.053 232.02 501.785 231.603 Q499.54 231.21 497.04 230.4 L497.04 226.001 Q499.401 227.228 501.692 227.853 Q503.984 228.455 506.229 228.455 Q509.239 228.455 510.859 227.437 Q512.479 226.395 512.479 224.52 Q512.479 222.784 511.299 221.858 Q510.141 220.932 506.183 220.076 L504.702 219.728 Q500.743 218.895 498.984 217.182 Q497.225 215.446 497.225 212.437 Q497.225 208.779 499.817 206.789 Q502.41 204.798 507.178 204.798 Q509.54 204.798 511.623 205.145 Q513.706 205.492 515.465 206.187 Z\" fill=\"#000000\" fill-rule=\"evenodd\" fill-opacity=\"1\" /><path clip-path=\"url(#clip680)\" d=\"M 0 0 M543.498 217.321 L543.498 219.404 L523.914 219.404 Q524.192 223.802 526.553 226.117 Q528.938 228.409 533.174 228.409 Q535.627 228.409 537.919 227.807 Q540.234 227.205 542.502 226.001 L542.502 230.029 Q540.211 231.001 537.803 231.511 Q535.396 232.02 532.919 232.02 Q526.715 232.02 523.081 228.409 Q519.47 224.798 519.47 218.64 Q519.47 212.275 522.896 208.548 Q526.345 204.798 532.178 204.798 Q537.41 204.798 540.442 208.177 Q543.498 211.534 543.498 217.321 M539.238 216.071 Q539.192 212.576 537.271 210.492 Q535.373 208.409 532.225 208.409 Q528.66 208.409 526.507 210.423 Q524.377 212.437 524.053 216.094 L539.238 216.071 Z\" fill=\"#000000\" fill-rule=\"evenodd\" fill-opacity=\"1\" /><path clip-path=\"url(#clip680)\" d=\"M 0 0 M566.623 206.418 L566.623 210.4 Q564.817 209.404 562.988 208.918 Q561.183 208.409 559.331 208.409 Q555.187 208.409 552.896 211.048 Q550.604 213.664 550.604 218.409 Q550.604 223.154 552.896 225.793 Q555.187 228.409 559.331 228.409 Q561.183 228.409 562.988 227.923 Q564.817 227.413 566.623 226.418 L566.623 230.353 Q564.84 231.187 562.919 231.603 Q561.021 232.02 558.868 232.02 Q553.011 232.02 549.562 228.339 Q546.113 224.659 546.113 218.409 Q546.113 212.066 549.586 208.432 Q553.081 204.798 559.146 204.798 Q561.113 204.798 562.988 205.215 Q564.863 205.608 566.623 206.418 Z\" fill=\"#000000\" fill-rule=\"evenodd\" fill-opacity=\"1\" /><path clip-path=\"url(#clip680)\" d=\"M 0 0 M575.303 198.062 L575.303 205.423 L584.076 205.423 L584.076 208.733 L575.303 208.733 L575.303 222.807 Q575.303 225.978 576.16 226.881 Q577.039 227.784 579.701 227.784 L584.076 227.784 L584.076 231.349 L579.701 231.349 Q574.771 231.349 572.896 229.52 Q571.021 227.668 571.021 222.807 L571.021 208.733 L567.896 208.733 L567.896 205.423 L571.021 205.423 L571.021 198.062 L575.303 198.062 Z\" fill=\"#000000\" fill-rule=\"evenodd\" fill-opacity=\"1\" /><path clip-path=\"url(#clip680)\" d=\"M 0 0 M588.544 205.423 L592.803 205.423 L592.803 231.349 L588.544 231.349 L588.544 205.423 M588.544 195.33 L592.803 195.33 L592.803 200.724 L588.544 200.724 L588.544 195.33 Z\" fill=\"#000000\" fill-rule=\"evenodd\" fill-opacity=\"1\" /><path clip-path=\"url(#clip680)\" d=\"M 0 0 M607.317 208.409 Q603.891 208.409 601.9 211.094 Q599.909 213.756 599.909 218.409 Q599.909 223.062 601.877 225.747 Q603.868 228.409 607.317 228.409 Q610.72 228.409 612.71 225.724 Q614.701 223.038 614.701 218.409 Q614.701 213.802 612.71 211.117 Q610.72 208.409 607.317 208.409 M607.317 204.798 Q612.872 204.798 616.044 208.409 Q619.215 212.02 619.215 218.409 Q619.215 224.775 616.044 228.409 Q612.872 232.02 607.317 232.02 Q601.738 232.02 598.567 228.409 Q595.419 224.775 595.419 218.409 Q595.419 212.02 598.567 208.409 Q601.738 204.798 607.317 204.798 Z\" fill=\"#000000\" fill-rule=\"evenodd\" fill-opacity=\"1\" /><path clip-path=\"url(#clip680)\" d=\"M 0 0 M645.233 215.701 L645.233 231.349 L640.974 231.349 L640.974 215.839 Q640.974 212.159 639.539 210.33 Q638.104 208.502 635.233 208.502 Q631.784 208.502 629.793 210.701 Q627.803 212.9 627.803 216.696 L627.803 231.349 L623.52 231.349 L623.52 205.423 L627.803 205.423 L627.803 209.451 Q629.331 207.113 631.391 205.955 Q633.474 204.798 636.182 204.798 Q640.65 204.798 642.942 207.576 Q645.233 210.33 645.233 215.701 Z\" fill=\"#000000\" fill-rule=\"evenodd\" fill-opacity=\"1\" /></svg>\n"
      ]
     },
     "execution_count": 208,
     "metadata": {},
     "output_type": "execute_result"
    }
   ],
   "source": [
    "zero = roots(f)[2]\n",
    "Test1(f, -1, 2.3, 1.0e-10, 10, zero)"
   ]
  },
  {
   "cell_type": "markdown",
   "metadata": {},
   "source": [
    "#### Metoda Bairstowa"
   ]
  },
  {
   "cell_type": "code",
   "execution_count": 210,
   "metadata": {
    "scrolled": false
   },
   "outputs": [
    {
     "data": {
      "image/svg+xml": [
       "<?xml version=\"1.0\" encoding=\"utf-8\"?>\n",
       "<svg xmlns=\"http://www.w3.org/2000/svg\" xmlns:xlink=\"http://www.w3.org/1999/xlink\" width=\"600\" height=\"400\" viewBox=\"0 0 2400 1600\">\n",
       "<defs>\n",
       "  <clipPath id=\"clip760\">\n",
       "    <rect x=\"0\" y=\"0\" width=\"2400\" height=\"1600\"/>\n",
       "  </clipPath>\n",
       "</defs>\n",
       "<path clip-path=\"url(#clip760)\" d=\"\n",
       "M0 1600 L2400 1600 L2400 0 L0 0  Z\n",
       "  \" fill=\"#ffffff\" fill-rule=\"evenodd\" fill-opacity=\"1\"/>\n",
       "<defs>\n",
       "  <clipPath id=\"clip761\">\n",
       "    <rect x=\"480\" y=\"0\" width=\"1681\" height=\"1600\"/>\n",
       "  </clipPath>\n",
       "</defs>\n",
       "<path clip-path=\"url(#clip760)\" d=\"\n",
       "M197.852 1423.18 L2352.76 1423.18 L2352.76 47.2441 L197.852 47.2441  Z\n",
       "  \" fill=\"#ffffff\" fill-rule=\"evenodd\" fill-opacity=\"1\"/>\n",
       "<defs>\n",
       "  <clipPath id=\"clip762\">\n",
       "    <rect x=\"197\" y=\"47\" width=\"2156\" height=\"1377\"/>\n",
       "  </clipPath>\n",
       "</defs>\n",
       "<polyline clip-path=\"url(#clip762)\" style=\"stroke:#000000; stroke-width:2; stroke-opacity:0.1; fill:none\" points=\"\n",
       "  258.84,1423.18 258.84,47.2441 \n",
       "  \"/>\n",
       "<polyline clip-path=\"url(#clip762)\" style=\"stroke:#000000; stroke-width:2; stroke-opacity:0.1; fill:none\" points=\"\n",
       "  767.072,1423.18 767.072,47.2441 \n",
       "  \"/>\n",
       "<polyline clip-path=\"url(#clip762)\" style=\"stroke:#000000; stroke-width:2; stroke-opacity:0.1; fill:none\" points=\"\n",
       "  1275.3,1423.18 1275.3,47.2441 \n",
       "  \"/>\n",
       "<polyline clip-path=\"url(#clip762)\" style=\"stroke:#000000; stroke-width:2; stroke-opacity:0.1; fill:none\" points=\"\n",
       "  1783.54,1423.18 1783.54,47.2441 \n",
       "  \"/>\n",
       "<polyline clip-path=\"url(#clip762)\" style=\"stroke:#000000; stroke-width:2; stroke-opacity:0.1; fill:none\" points=\"\n",
       "  2291.77,1423.18 2291.77,47.2441 \n",
       "  \"/>\n",
       "<polyline clip-path=\"url(#clip760)\" style=\"stroke:#000000; stroke-width:4; stroke-opacity:1; fill:none\" points=\"\n",
       "  197.852,1384.24 2352.76,1384.24 \n",
       "  \"/>\n",
       "<polyline clip-path=\"url(#clip760)\" style=\"stroke:#000000; stroke-width:4; stroke-opacity:0; fill:none\" points=\"\n",
       "  258.84,1384.24 258.84,1384.24 \n",
       "  \"/>\n",
       "<polyline clip-path=\"url(#clip760)\" style=\"stroke:#000000; stroke-width:4; stroke-opacity:0; fill:none\" points=\"\n",
       "  767.072,1384.24 767.072,1384.24 \n",
       "  \"/>\n",
       "<polyline clip-path=\"url(#clip760)\" style=\"stroke:#000000; stroke-width:4; stroke-opacity:0; fill:none\" points=\"\n",
       "  1275.3,1384.24 1275.3,1384.24 \n",
       "  \"/>\n",
       "<polyline clip-path=\"url(#clip760)\" style=\"stroke:#000000; stroke-width:4; stroke-opacity:0; fill:none\" points=\"\n",
       "  1783.54,1384.24 1783.54,1384.24 \n",
       "  \"/>\n",
       "<polyline clip-path=\"url(#clip760)\" style=\"stroke:#000000; stroke-width:4; stroke-opacity:0; fill:none\" points=\"\n",
       "  2291.77,1384.24 2291.77,1384.24 \n",
       "  \"/>\n",
       "<path clip-path=\"url(#clip760)\" d=\"M 0 0 M240.357 1452.37 Q236.746 1452.37 234.917 1455.94 Q233.111 1459.48 233.111 1466.61 Q233.111 1473.71 234.917 1477.28 Q236.746 1480.82 240.357 1480.82 Q243.991 1480.82 245.796 1477.28 Q247.625 1473.71 247.625 1466.61 Q247.625 1459.48 245.796 1455.94 Q243.991 1452.37 240.357 1452.37 M240.357 1448.67 Q246.167 1448.67 249.222 1453.27 Q252.301 1457.86 252.301 1466.61 Q252.301 1475.33 249.222 1479.94 Q246.167 1484.52 240.357 1484.52 Q234.546 1484.52 231.468 1479.94 Q228.412 1475.33 228.412 1466.61 Q228.412 1457.86 231.468 1453.27 Q234.546 1448.67 240.357 1448.67 Z\" fill=\"#000000\" fill-rule=\"evenodd\" fill-opacity=\"1\" /><path clip-path=\"url(#clip760)\" d=\"M 0 0 M257.37 1477.97 L262.255 1477.97 L262.255 1483.85 L257.37 1483.85 L257.37 1477.97 Z\" fill=\"#000000\" fill-rule=\"evenodd\" fill-opacity=\"1\" /><path clip-path=\"url(#clip760)\" d=\"M 0 0 M277.324 1452.37 Q273.713 1452.37 271.884 1455.94 Q270.079 1459.48 270.079 1466.61 Q270.079 1473.71 271.884 1477.28 Q273.713 1480.82 277.324 1480.82 Q280.958 1480.82 282.764 1477.28 Q284.593 1473.71 284.593 1466.61 Q284.593 1459.48 282.764 1455.94 Q280.958 1452.37 277.324 1452.37 M277.324 1448.67 Q283.134 1448.67 286.19 1453.27 Q289.268 1457.86 289.268 1466.61 Q289.268 1475.33 286.19 1479.94 Q283.134 1484.52 277.324 1484.52 Q271.514 1484.52 268.435 1479.94 Q265.38 1475.33 265.38 1466.61 Q265.38 1457.86 268.435 1453.27 Q271.514 1448.67 277.324 1448.67 Z\" fill=\"#000000\" fill-rule=\"evenodd\" fill-opacity=\"1\" /><path clip-path=\"url(#clip760)\" d=\"M 0 0 M743.739 1479.92 L760.058 1479.92 L760.058 1483.85 L738.114 1483.85 L738.114 1479.92 Q740.776 1477.16 745.359 1472.53 Q749.966 1467.88 751.146 1466.54 Q753.392 1464.01 754.271 1462.28 Q755.174 1460.52 755.174 1458.83 Q755.174 1456.07 753.23 1454.34 Q751.308 1452.6 748.207 1452.6 Q746.008 1452.6 743.554 1453.37 Q741.123 1454.13 738.346 1455.68 L738.346 1450.96 Q741.17 1449.82 743.623 1449.25 Q746.077 1448.67 748.114 1448.67 Q753.484 1448.67 756.679 1451.35 Q759.873 1454.04 759.873 1458.53 Q759.873 1460.66 759.063 1462.58 Q758.276 1464.48 756.17 1467.07 Q755.591 1467.74 752.489 1470.96 Q749.387 1474.15 743.739 1479.92 Z\" fill=\"#000000\" fill-rule=\"evenodd\" fill-opacity=\"1\" /><path clip-path=\"url(#clip760)\" d=\"M 0 0 M765.128 1477.97 L770.012 1477.97 L770.012 1483.85 L765.128 1483.85 L765.128 1477.97 Z\" fill=\"#000000\" fill-rule=\"evenodd\" fill-opacity=\"1\" /><path clip-path=\"url(#clip760)\" d=\"M 0 0 M775.128 1449.29 L793.484 1449.29 L793.484 1453.23 L779.41 1453.23 L779.41 1461.7 Q780.429 1461.35 781.447 1461.19 Q782.466 1461 783.484 1461 Q789.271 1461 792.651 1464.18 Q796.03 1467.35 796.03 1472.76 Q796.03 1478.34 792.558 1481.44 Q789.086 1484.52 782.767 1484.52 Q780.591 1484.52 778.322 1484.15 Q776.077 1483.78 773.669 1483.04 L773.669 1478.34 Q775.753 1479.48 777.975 1480.03 Q780.197 1480.59 782.674 1480.59 Q786.679 1480.59 789.017 1478.48 Q791.355 1476.38 791.355 1472.76 Q791.355 1469.15 789.017 1467.05 Q786.679 1464.94 782.674 1464.94 Q780.799 1464.94 778.924 1465.36 Q777.072 1465.77 775.128 1466.65 L775.128 1449.29 Z\" fill=\"#000000\" fill-rule=\"evenodd\" fill-opacity=\"1\" /><path clip-path=\"url(#clip760)\" d=\"M 0 0 M1247.1 1449.29 L1265.45 1449.29 L1265.45 1453.23 L1251.38 1453.23 L1251.38 1461.7 Q1252.4 1461.35 1253.42 1461.19 Q1254.44 1461 1255.45 1461 Q1261.24 1461 1264.62 1464.18 Q1268 1467.35 1268 1472.76 Q1268 1478.34 1264.53 1481.44 Q1261.06 1484.52 1254.74 1484.52 Q1252.56 1484.52 1250.29 1484.15 Q1248.05 1483.78 1245.64 1483.04 L1245.64 1478.34 Q1247.72 1479.48 1249.95 1480.03 Q1252.17 1480.59 1254.64 1480.59 Q1258.65 1480.59 1260.99 1478.48 Q1263.33 1476.38 1263.33 1472.76 Q1263.33 1469.15 1260.99 1467.05 Q1258.65 1464.94 1254.64 1464.94 Q1252.77 1464.94 1250.89 1465.36 Q1249.04 1465.77 1247.1 1466.65 L1247.1 1449.29 Z\" fill=\"#000000\" fill-rule=\"evenodd\" fill-opacity=\"1\" /><path clip-path=\"url(#clip760)\" d=\"M 0 0 M1273.07 1477.97 L1277.95 1477.97 L1277.95 1483.85 L1273.07 1483.85 L1273.07 1477.97 Z\" fill=\"#000000\" fill-rule=\"evenodd\" fill-opacity=\"1\" /><path clip-path=\"url(#clip760)\" d=\"M 0 0 M1293.02 1452.37 Q1289.41 1452.37 1287.58 1455.94 Q1285.78 1459.48 1285.78 1466.61 Q1285.78 1473.71 1287.58 1477.28 Q1289.41 1480.82 1293.02 1480.82 Q1296.66 1480.82 1298.46 1477.28 Q1300.29 1473.71 1300.29 1466.61 Q1300.29 1459.48 1298.46 1455.94 Q1296.66 1452.37 1293.02 1452.37 M1293.02 1448.67 Q1298.83 1448.67 1301.89 1453.27 Q1304.97 1457.86 1304.97 1466.61 Q1304.97 1475.33 1301.89 1479.94 Q1298.83 1484.52 1293.02 1484.52 Q1287.21 1484.52 1284.14 1479.94 Q1281.08 1475.33 1281.08 1466.61 Q1281.08 1457.86 1284.14 1453.27 Q1287.21 1448.67 1293.02 1448.67 Z\" fill=\"#000000\" fill-rule=\"evenodd\" fill-opacity=\"1\" /><path clip-path=\"url(#clip760)\" d=\"M 0 0 M1754.44 1449.29 L1776.66 1449.29 L1776.66 1451.28 L1764.11 1483.85 L1759.23 1483.85 L1771.04 1453.23 L1754.44 1453.23 L1754.44 1449.29 Z\" fill=\"#000000\" fill-rule=\"evenodd\" fill-opacity=\"1\" /><path clip-path=\"url(#clip760)\" d=\"M 0 0 M1781.73 1477.97 L1786.61 1477.97 L1786.61 1483.85 L1781.73 1483.85 L1781.73 1477.97 Z\" fill=\"#000000\" fill-rule=\"evenodd\" fill-opacity=\"1\" /><path clip-path=\"url(#clip760)\" d=\"M 0 0 M1791.73 1449.29 L1810.09 1449.29 L1810.09 1453.23 L1796.01 1453.23 L1796.01 1461.7 Q1797.03 1461.35 1798.05 1461.19 Q1799.07 1461 1800.09 1461 Q1805.87 1461 1809.25 1464.18 Q1812.63 1467.35 1812.63 1472.76 Q1812.63 1478.34 1809.16 1481.44 Q1805.69 1484.52 1799.37 1484.52 Q1797.19 1484.52 1794.92 1484.15 Q1792.68 1483.78 1790.27 1483.04 L1790.27 1478.34 Q1792.36 1479.48 1794.58 1480.03 Q1796.8 1480.59 1799.28 1480.59 Q1803.28 1480.59 1805.62 1478.48 Q1807.96 1476.38 1807.96 1472.76 Q1807.96 1469.15 1805.62 1467.05 Q1803.28 1464.94 1799.28 1464.94 Q1797.4 1464.94 1795.53 1465.36 Q1793.67 1465.77 1791.73 1466.65 L1791.73 1449.29 Z\" fill=\"#000000\" fill-rule=\"evenodd\" fill-opacity=\"1\" /><path clip-path=\"url(#clip760)\" d=\"M 0 0 M2250.16 1479.92 L2257.8 1479.92 L2257.8 1453.55 L2249.49 1455.22 L2249.49 1450.96 L2257.75 1449.29 L2262.43 1449.29 L2262.43 1479.92 L2270.07 1479.92 L2270.07 1483.85 L2250.16 1483.85 L2250.16 1479.92 Z\" fill=\"#000000\" fill-rule=\"evenodd\" fill-opacity=\"1\" /><path clip-path=\"url(#clip760)\" d=\"M 0 0 M2285.14 1452.37 Q2281.53 1452.37 2279.7 1455.94 Q2277.89 1459.48 2277.89 1466.61 Q2277.89 1473.71 2279.7 1477.28 Q2281.53 1480.82 2285.14 1480.82 Q2288.77 1480.82 2290.58 1477.28 Q2292.4 1473.71 2292.4 1466.61 Q2292.4 1459.48 2290.58 1455.94 Q2288.77 1452.37 2285.14 1452.37 M2285.14 1448.67 Q2290.95 1448.67 2294 1453.27 Q2297.08 1457.86 2297.08 1466.61 Q2297.08 1475.33 2294 1479.94 Q2290.95 1484.52 2285.14 1484.52 Q2279.33 1484.52 2276.25 1479.94 Q2273.19 1475.33 2273.19 1466.61 Q2273.19 1457.86 2276.25 1453.27 Q2279.33 1448.67 2285.14 1448.67 Z\" fill=\"#000000\" fill-rule=\"evenodd\" fill-opacity=\"1\" /><path clip-path=\"url(#clip760)\" d=\"M 0 0 M2302.15 1477.97 L2307.03 1477.97 L2307.03 1483.85 L2302.15 1483.85 L2302.15 1477.97 Z\" fill=\"#000000\" fill-rule=\"evenodd\" fill-opacity=\"1\" /><path clip-path=\"url(#clip760)\" d=\"M 0 0 M2322.1 1452.37 Q2318.49 1452.37 2316.66 1455.94 Q2314.86 1459.48 2314.86 1466.61 Q2314.86 1473.71 2316.66 1477.28 Q2318.49 1480.82 2322.1 1480.82 Q2325.74 1480.82 2327.54 1477.28 Q2329.37 1473.71 2329.37 1466.61 Q2329.37 1459.48 2327.54 1455.94 Q2325.74 1452.37 2322.1 1452.37 M2322.1 1448.67 Q2327.91 1448.67 2330.97 1453.27 Q2334.05 1457.86 2334.05 1466.61 Q2334.05 1475.33 2330.97 1479.94 Q2327.91 1484.52 2322.1 1484.52 Q2316.29 1484.52 2313.21 1479.94 Q2310.16 1475.33 2310.16 1466.61 Q2310.16 1457.86 2313.21 1453.27 Q2316.29 1448.67 2322.1 1448.67 Z\" fill=\"#000000\" fill-rule=\"evenodd\" fill-opacity=\"1\" /><path clip-path=\"url(#clip760)\" d=\"M 0 0 M1172.45 1508.52 L1178.88 1508.52 L1178.88 1556.04 L1172.45 1556.04 L1172.45 1508.52 Z\" fill=\"#000000\" fill-rule=\"evenodd\" fill-opacity=\"1\" /><path clip-path=\"url(#clip760)\" d=\"M 0 0 M1190.82 1510.27 L1190.82 1520.4 L1202.88 1520.4 L1202.88 1524.95 L1190.82 1524.95 L1190.82 1544.3 Q1190.82 1548.66 1191.99 1549.9 Q1193.2 1551.14 1196.86 1551.14 L1202.88 1551.14 L1202.88 1556.04 L1196.86 1556.04 Q1190.08 1556.04 1187.51 1553.53 Q1184.93 1550.98 1184.93 1544.3 L1184.93 1524.95 L1180.63 1524.95 L1180.63 1520.4 L1184.93 1520.4 L1184.93 1510.27 L1190.82 1510.27 Z\" fill=\"#000000\" fill-rule=\"evenodd\" fill-opacity=\"1\" /><path clip-path=\"url(#clip760)\" d=\"M 0 0 M1239.51 1536.76 L1239.51 1539.62 L1212.59 1539.62 Q1212.97 1545.67 1216.21 1548.85 Q1219.49 1552 1225.32 1552 Q1228.69 1552 1231.84 1551.17 Q1235.03 1550.35 1238.14 1548.69 L1238.14 1554.23 Q1234.99 1555.57 1231.68 1556.27 Q1228.37 1556.97 1224.97 1556.97 Q1216.44 1556.97 1211.44 1552 Q1206.47 1547.04 1206.47 1538.57 Q1206.47 1529.82 1211.19 1524.69 Q1215.93 1519.54 1223.95 1519.54 Q1231.14 1519.54 1235.31 1524.18 Q1239.51 1528.8 1239.51 1536.76 M1233.66 1535.04 Q1233.59 1530.23 1230.95 1527.37 Q1228.34 1524.5 1224.01 1524.5 Q1219.11 1524.5 1216.15 1527.27 Q1213.22 1530.04 1212.78 1535.07 L1233.66 1535.04 Z\" fill=\"#000000\" fill-rule=\"evenodd\" fill-opacity=\"1\" /><path clip-path=\"url(#clip760)\" d=\"M 0 0 M1266.31 1525.87 Q1265.33 1525.3 1264.15 1525.04 Q1263 1524.76 1261.6 1524.76 Q1256.64 1524.76 1253.96 1528 Q1251.32 1531.22 1251.32 1537.27 L1251.32 1556.04 L1245.43 1556.04 L1245.43 1520.4 L1251.32 1520.4 L1251.32 1525.93 Q1253.17 1522.69 1256.13 1521.13 Q1259.09 1519.54 1263.32 1519.54 Q1263.93 1519.54 1264.66 1519.63 Q1265.39 1519.7 1266.28 1519.85 L1266.31 1525.87 Z\" fill=\"#000000\" fill-rule=\"evenodd\" fill-opacity=\"1\" /><path clip-path=\"url(#clip760)\" d=\"M 0 0 M1288.66 1538.12 Q1281.56 1538.12 1278.82 1539.75 Q1276.08 1541.37 1276.08 1545.29 Q1276.08 1548.4 1278.12 1550.25 Q1280.19 1552.07 1283.72 1552.07 Q1288.59 1552.07 1291.52 1548.63 Q1294.48 1545.16 1294.48 1539.43 L1294.48 1538.12 L1288.66 1538.12 M1300.34 1535.71 L1300.34 1556.04 L1294.48 1556.04 L1294.48 1550.63 Q1292.48 1553.88 1289.48 1555.44 Q1286.49 1556.97 1282.16 1556.97 Q1276.69 1556.97 1273.44 1553.91 Q1270.23 1550.82 1270.23 1545.67 Q1270.23 1539.65 1274.24 1536.6 Q1278.28 1533.54 1286.27 1533.54 L1294.48 1533.54 L1294.48 1532.97 Q1294.48 1528.93 1291.81 1526.73 Q1289.17 1524.5 1284.36 1524.5 Q1281.3 1524.5 1278.41 1525.23 Q1275.51 1525.97 1272.84 1527.43 L1272.84 1522.02 Q1276.05 1520.78 1279.08 1520.17 Q1282.1 1519.54 1284.96 1519.54 Q1292.7 1519.54 1296.52 1523.55 Q1300.34 1527.56 1300.34 1535.71 Z\" fill=\"#000000\" fill-rule=\"evenodd\" fill-opacity=\"1\" /><path clip-path=\"url(#clip760)\" d=\"M 0 0 M1332.13 1521.76 L1332.13 1527.24 Q1329.65 1525.87 1327.14 1525.2 Q1324.65 1524.5 1322.11 1524.5 Q1316.41 1524.5 1313.26 1528.13 Q1310.11 1531.73 1310.11 1538.25 Q1310.11 1544.78 1313.26 1548.4 Q1316.41 1552 1322.11 1552 Q1324.65 1552 1327.14 1551.33 Q1329.65 1550.63 1332.13 1549.26 L1332.13 1554.68 Q1329.68 1555.82 1327.04 1556.39 Q1324.43 1556.97 1321.47 1556.97 Q1313.42 1556.97 1308.68 1551.91 Q1303.93 1546.85 1303.93 1538.25 Q1303.93 1529.53 1308.71 1524.53 Q1313.51 1519.54 1321.85 1519.54 Q1324.56 1519.54 1327.14 1520.11 Q1329.72 1520.65 1332.13 1521.76 Z\" fill=\"#000000\" fill-rule=\"evenodd\" fill-opacity=\"1\" /><path clip-path=\"url(#clip760)\" d=\"M 0 0 M1338.28 1520.4 L1344.13 1520.4 L1344.13 1556.68 Q1344.13 1563.49 1341.52 1566.55 Q1338.95 1569.6 1333.18 1569.6 L1330.96 1569.6 L1330.96 1564.64 L1332.52 1564.64 Q1335.86 1564.64 1337.07 1563.08 Q1338.28 1561.55 1338.28 1556.68 L1338.28 1520.4 M1338.28 1506.52 L1344.13 1506.52 L1344.13 1513.93 L1338.28 1513.93 L1338.28 1506.52 Z\" fill=\"#000000\" fill-rule=\"evenodd\" fill-opacity=\"1\" /><path clip-path=\"url(#clip760)\" d=\"M 0 0 M1366.48 1538.12 Q1359.38 1538.12 1356.64 1539.75 Q1353.9 1541.37 1353.9 1545.29 Q1353.9 1548.4 1355.94 1550.25 Q1358.01 1552.07 1361.54 1552.07 Q1366.41 1552.07 1369.34 1548.63 Q1372.3 1545.16 1372.3 1539.43 L1372.3 1538.12 L1366.48 1538.12 M1378.16 1535.71 L1378.16 1556.04 L1372.3 1556.04 L1372.3 1550.63 Q1370.3 1553.88 1367.3 1555.44 Q1364.31 1556.97 1359.98 1556.97 Q1354.51 1556.97 1351.26 1553.91 Q1348.05 1550.82 1348.05 1545.67 Q1348.05 1539.65 1352.06 1536.6 Q1356.1 1533.54 1364.09 1533.54 L1372.3 1533.54 L1372.3 1532.97 Q1372.3 1528.93 1369.63 1526.73 Q1366.99 1524.5 1362.18 1524.5 Q1359.12 1524.5 1356.23 1525.23 Q1353.33 1525.97 1350.66 1527.43 L1350.66 1522.02 Q1353.87 1520.78 1356.9 1520.17 Q1359.92 1519.54 1362.78 1519.54 Q1370.52 1519.54 1374.34 1523.55 Q1378.16 1527.56 1378.16 1535.71 Z\" fill=\"#000000\" fill-rule=\"evenodd\" fill-opacity=\"1\" /><polyline clip-path=\"url(#clip762)\" style=\"stroke:#000000; stroke-width:2; stroke-opacity:0.1; fill:none\" points=\"\n",
       "  197.852,1384.24 2352.76,1384.24 \n",
       "  \"/>\n",
       "<polyline clip-path=\"url(#clip762)\" style=\"stroke:#000000; stroke-width:2; stroke-opacity:0.1; fill:none\" points=\"\n",
       "  197.852,978.597 2352.76,978.597 \n",
       "  \"/>\n",
       "<polyline clip-path=\"url(#clip762)\" style=\"stroke:#000000; stroke-width:2; stroke-opacity:0.1; fill:none\" points=\"\n",
       "  197.852,572.955 2352.76,572.955 \n",
       "  \"/>\n",
       "<polyline clip-path=\"url(#clip762)\" style=\"stroke:#000000; stroke-width:2; stroke-opacity:0.1; fill:none\" points=\"\n",
       "  197.852,167.314 2352.76,167.314 \n",
       "  \"/>\n",
       "<polyline clip-path=\"url(#clip760)\" style=\"stroke:#000000; stroke-width:4; stroke-opacity:1; fill:none\" points=\"\n",
       "  258.84,1423.18 258.84,47.2441 \n",
       "  \"/>\n",
       "<polyline clip-path=\"url(#clip760)\" style=\"stroke:#000000; stroke-width:4; stroke-opacity:0; fill:none\" points=\"\n",
       "  258.84,1384.24 258.84,1384.24 \n",
       "  \"/>\n",
       "<polyline clip-path=\"url(#clip760)\" style=\"stroke:#000000; stroke-width:4; stroke-opacity:0; fill:none\" points=\"\n",
       "  258.84,978.597 258.84,978.597 \n",
       "  \"/>\n",
       "<polyline clip-path=\"url(#clip760)\" style=\"stroke:#000000; stroke-width:4; stroke-opacity:0; fill:none\" points=\"\n",
       "  258.84,572.955 258.84,572.955 \n",
       "  \"/>\n",
       "<polyline clip-path=\"url(#clip760)\" style=\"stroke:#000000; stroke-width:4; stroke-opacity:0; fill:none\" points=\"\n",
       "  258.84,167.314 258.84,167.314 \n",
       "  \"/>\n",
       "<path clip-path=\"url(#clip760)\" d=\"M 0 0 M149.908 1370.04 Q146.297 1370.04 144.468 1373.6 Q142.663 1377.14 142.663 1384.27 Q142.663 1391.38 144.468 1394.94 Q146.297 1398.49 149.908 1398.49 Q153.542 1398.49 155.348 1394.94 Q157.177 1391.38 157.177 1384.27 Q157.177 1377.14 155.348 1373.6 Q153.542 1370.04 149.908 1370.04 M149.908 1366.33 Q155.718 1366.33 158.774 1370.94 Q161.852 1375.52 161.852 1384.27 Q161.852 1393 158.774 1397.61 Q155.718 1402.19 149.908 1402.19 Q144.098 1402.19 141.019 1397.61 Q137.964 1393 137.964 1384.27 Q137.964 1375.52 141.019 1370.94 Q144.098 1366.33 149.908 1366.33 Z\" fill=\"#000000\" fill-rule=\"evenodd\" fill-opacity=\"1\" /><path clip-path=\"url(#clip760)\" d=\"M 0 0 M140.95 961.317 L159.306 961.317 L159.306 965.252 L145.232 965.252 L145.232 973.724 Q146.251 973.377 147.269 973.215 Q148.288 973.03 149.306 973.03 Q155.093 973.03 158.473 976.201 Q161.852 979.372 161.852 984.789 Q161.852 990.368 158.38 993.469 Q154.908 996.548 148.589 996.548 Q146.413 996.548 144.144 996.178 Q141.899 995.807 139.492 995.067 L139.492 990.368 Q141.575 991.502 143.797 992.057 Q146.019 992.613 148.496 992.613 Q152.501 992.613 154.839 990.506 Q157.177 988.4 157.177 984.789 Q157.177 981.178 154.839 979.071 Q152.501 976.965 148.496 976.965 Q146.621 976.965 144.746 977.382 Q142.894 977.798 140.95 978.678 L140.95 961.317 Z\" fill=\"#000000\" fill-rule=\"evenodd\" fill-opacity=\"1\" /><path clip-path=\"url(#clip760)\" d=\"M 0 0 M114.931 586.3 L122.57 586.3 L122.57 559.935 L114.26 561.601 L114.26 557.342 L122.524 555.675 L127.2 555.675 L127.2 586.3 L134.839 586.3 L134.839 590.235 L114.931 590.235 L114.931 586.3 Z\" fill=\"#000000\" fill-rule=\"evenodd\" fill-opacity=\"1\" /><path clip-path=\"url(#clip760)\" d=\"M 0 0 M149.908 558.754 Q146.297 558.754 144.468 562.319 Q142.663 565.861 142.663 572.99 Q142.663 580.097 144.468 583.661 Q146.297 587.203 149.908 587.203 Q153.542 587.203 155.348 583.661 Q157.177 580.097 157.177 572.99 Q157.177 565.861 155.348 562.319 Q153.542 558.754 149.908 558.754 M149.908 555.05 Q155.718 555.05 158.774 559.657 Q161.852 564.24 161.852 572.99 Q161.852 581.717 158.774 586.323 Q155.718 590.907 149.908 590.907 Q144.098 590.907 141.019 586.323 Q137.964 581.717 137.964 572.99 Q137.964 564.24 141.019 559.657 Q144.098 555.05 149.908 555.05 Z\" fill=\"#000000\" fill-rule=\"evenodd\" fill-opacity=\"1\" /><path clip-path=\"url(#clip760)\" d=\"M 0 0 M115.927 180.659 L123.566 180.659 L123.566 154.293 L115.256 155.96 L115.256 151.701 L123.519 150.034 L128.195 150.034 L128.195 180.659 L135.834 180.659 L135.834 184.594 L115.927 184.594 L115.927 180.659 Z\" fill=\"#000000\" fill-rule=\"evenodd\" fill-opacity=\"1\" /><path clip-path=\"url(#clip760)\" d=\"M 0 0 M140.95 150.034 L159.306 150.034 L159.306 153.969 L145.232 153.969 L145.232 162.441 Q146.251 162.094 147.269 161.932 Q148.288 161.747 149.306 161.747 Q155.093 161.747 158.473 164.918 Q161.852 168.089 161.852 173.506 Q161.852 179.085 158.38 182.187 Q154.908 185.265 148.589 185.265 Q146.413 185.265 144.144 184.895 Q141.899 184.525 139.492 183.784 L139.492 179.085 Q141.575 180.219 143.797 180.775 Q146.019 181.33 148.496 181.33 Q152.501 181.33 154.839 179.224 Q157.177 177.117 157.177 173.506 Q157.177 169.895 154.839 167.788 Q152.501 165.682 148.496 165.682 Q146.621 165.682 144.746 166.099 Q142.894 166.515 140.95 167.395 L140.95 150.034 Z\" fill=\"#000000\" fill-rule=\"evenodd\" fill-opacity=\"1\" /><path clip-path=\"url(#clip760)\" d=\"M 0 0 M40.4842 1072.5 L40.4842 1066.07 L82.5933 1066.07 L82.5933 1042.93 L88.0042 1042.93 L88.0042 1072.5 L40.4842 1072.5 Z\" fill=\"#000000\" fill-rule=\"evenodd\" fill-opacity=\"1\" /><path clip-path=\"url(#clip760)\" d=\"M 0 0 M52.3562 1036.79 L52.3562 1030.93 L88.0042 1030.93 L88.0042 1036.79 L52.3562 1036.79 M38.479 1036.79 L38.479 1030.93 L45.895 1030.93 L45.895 1036.79 L38.479 1036.79 Z\" fill=\"#000000\" fill-rule=\"evenodd\" fill-opacity=\"1\" /><path clip-path=\"url(#clip760)\" d=\"M 0 0 M53.7248 999.134 L59.1993 999.134 Q57.8307 1001.62 57.1623 1004.13 Q56.4621 1006.61 56.4621 1009.16 Q56.4621 1014.86 60.0905 1018.01 Q63.6872 1021.16 70.212 1021.16 Q76.7369 1021.16 80.3653 1018.01 Q83.9619 1014.86 83.9619 1009.16 Q83.9619 1006.61 83.2935 1004.13 Q82.5933 1001.62 81.2247 999.134 L86.6355 999.134 Q87.7814 1001.58 88.3543 1004.23 Q88.9272 1006.84 88.9272 1009.8 Q88.9272 1017.85 83.8664 1022.59 Q78.8057 1027.33 70.212 1027.33 Q61.491 1027.33 56.4939 1022.56 Q51.4968 1017.75 51.4968 1009.41 Q51.4968 1006.71 52.0697 1004.13 Q52.6108 1001.55 53.7248 999.134 Z\" fill=\"#000000\" fill-rule=\"evenodd\" fill-opacity=\"1\" /><path clip-path=\"url(#clip760)\" d=\"M 0 0 M52.3562 995.538 L52.3562 967.719 L57.7034 967.719 L83.3254 989.745 L83.3254 967.719 L88.0042 967.719 L88.0042 996.333 L82.657 996.333 L57.035 974.308 L57.035 995.538 L52.3562 995.538 Z\" fill=\"#000000\" fill-rule=\"evenodd\" fill-opacity=\"1\" /><path clip-path=\"url(#clip760)\" d=\"M 0 0 M70.212 935.986 Q63.7508 935.986 60.0905 938.66 Q56.3984 941.302 56.3984 945.949 Q56.3984 950.596 60.0905 953.269 Q63.7508 955.911 70.212 955.911 Q76.6732 955.911 80.3653 953.269 Q84.0256 950.596 84.0256 945.949 Q84.0256 941.302 80.3653 938.66 Q76.6732 935.986 70.212 935.986 M57.7671 955.911 Q54.5842 954.065 53.0564 951.264 Q51.4968 948.431 51.4968 944.516 Q51.4968 938.023 56.6531 933.981 Q61.8093 929.907 70.212 929.907 Q78.6147 929.907 83.771 933.981 Q88.9272 938.023 88.9272 944.516 Q88.9272 948.431 87.3994 951.264 Q85.8398 954.065 82.657 955.911 L88.0042 955.911 L88.0042 961.799 L38.479 961.799 L38.479 955.911 L57.7671 955.911 Z\" fill=\"#000000\" fill-rule=\"evenodd\" fill-opacity=\"1\" /><path clip-path=\"url(#clip760)\" d=\"M 0 0 M70.0847 907.563 Q70.0847 914.661 71.7079 917.398 Q73.3312 920.136 77.2461 920.136 Q80.3653 920.136 82.2114 918.099 Q84.0256 916.03 84.0256 912.497 Q84.0256 907.627 80.5881 904.699 Q77.1188 901.739 71.3897 901.739 L70.0847 901.739 L70.0847 907.563 M67.6657 895.882 L88.0042 895.882 L88.0042 901.739 L82.5933 901.739 Q85.8398 903.744 87.3994 906.736 Q88.9272 909.728 88.9272 914.056 Q88.9272 919.531 85.8716 922.778 Q82.7843 925.992 77.6281 925.992 Q71.6125 925.992 68.5569 921.982 Q65.5014 917.94 65.5014 909.951 L65.5014 901.739 L64.9285 901.739 Q60.8862 901.739 58.6901 904.412 Q56.4621 907.054 56.4621 911.86 Q56.4621 914.916 57.1941 917.812 Q57.9262 920.709 59.3903 923.382 L53.9795 923.382 Q52.7381 920.168 52.1334 917.144 Q51.4968 914.12 51.4968 911.256 Q51.4968 903.521 55.5072 899.702 Q59.5176 895.882 67.6657 895.882 Z\" fill=\"#000000\" fill-rule=\"evenodd\" fill-opacity=\"1\" /><path clip-path=\"url(#clip760)\" d=\"M 0 0 M53.7248 843.365 L59.1993 843.365 Q57.8307 845.848 57.1623 848.362 Q56.4621 850.845 56.4621 853.391 Q56.4621 859.089 60.0905 862.24 Q63.6872 865.391 70.212 865.391 Q76.7369 865.391 80.3653 862.24 Q83.9619 859.089 83.9619 853.391 Q83.9619 850.845 83.2935 848.362 Q82.5933 845.848 81.2247 843.365 L86.6355 843.365 Q87.7814 845.816 88.3543 848.458 Q88.9272 851.068 88.9272 854.028 Q88.9272 862.081 83.8664 866.823 Q78.8057 871.565 70.212 871.565 Q61.491 871.565 56.4939 866.791 Q51.4968 861.985 51.4968 853.646 Q51.4968 850.941 52.0697 848.362 Q52.6108 845.784 53.7248 843.365 Z\" fill=\"#000000\" fill-rule=\"evenodd\" fill-opacity=\"1\" /><path clip-path=\"url(#clip760)\" d=\"M 0 0 M91.3143 822.39 Q97.68 824.873 99.6216 827.228 Q101.563 829.584 101.563 833.53 L101.563 838.209 L96.6615 838.209 L96.6615 834.772 Q96.6615 832.353 95.5157 831.016 Q94.3699 829.679 90.1048 828.056 L87.4312 827.005 L52.3562 841.424 L52.3562 835.217 L80.238 824.077 L52.3562 812.937 L52.3562 806.731 L91.3143 822.39 Z\" fill=\"#000000\" fill-rule=\"evenodd\" fill-opacity=\"1\" /><path clip-path=\"url(#clip760)\" d=\"M 0 0 M38.479 782.541 L43.3487 782.541 L43.3487 788.143 Q43.3487 791.294 44.6219 792.535 Q45.895 793.745 49.2052 793.745 L52.3562 793.745 L52.3562 784.101 L56.9077 784.101 L56.9077 793.745 L88.0042 793.745 L88.0042 799.633 L56.9077 799.633 L56.9077 805.235 L52.3562 805.235 L52.3562 799.633 L49.8736 799.633 Q43.9216 799.633 41.2162 796.864 Q38.479 794.095 38.479 788.079 L38.479 782.541 Z\" fill=\"#000000\" fill-rule=\"evenodd\" fill-opacity=\"1\" /><path clip-path=\"url(#clip760)\" d=\"M 0 0 M57.8307 755.741 Q57.2578 756.728 57.0032 757.906 Q56.7167 759.052 56.7167 760.452 Q56.7167 765.417 59.9632 768.091 Q63.1779 770.733 69.2253 770.733 L88.0042 770.733 L88.0042 776.621 L52.3562 776.621 L52.3562 770.733 L57.8944 770.733 Q54.6479 768.887 53.0883 765.927 Q51.4968 762.966 51.4968 758.733 Q51.4968 758.129 51.5923 757.396 Q51.656 756.664 51.8151 755.773 L57.8307 755.741 Z\" fill=\"#000000\" fill-rule=\"evenodd\" fill-opacity=\"1\" /><path clip-path=\"url(#clip760)\" d=\"M 0 0 M52.3562 731.424 L52.3562 703.606 L57.7034 703.606 L83.3254 725.632 L83.3254 703.606 L88.0042 703.606 L88.0042 732.22 L82.657 732.22 L57.035 710.195 L57.035 731.424 L52.3562 731.424 Z\" fill=\"#000000\" fill-rule=\"evenodd\" fill-opacity=\"1\" /><path clip-path=\"url(#clip760)\" d=\"M 0 0 M66.4881 667.831 L88.0042 667.831 L88.0042 673.687 L66.679 673.687 Q61.6183 673.687 59.1038 675.661 Q56.5894 677.634 56.5894 681.581 Q56.5894 686.323 59.6131 689.061 Q62.6368 691.798 67.8567 691.798 L88.0042 691.798 L88.0042 697.686 L52.3562 697.686 L52.3562 691.798 L57.8944 691.798 Q54.6797 689.697 53.0883 686.864 Q51.4968 684 51.4968 680.276 Q51.4968 674.133 55.3163 670.982 Q59.1038 667.831 66.4881 667.831 Z\" fill=\"#000000\" fill-rule=\"evenodd\" fill-opacity=\"1\" /><path clip-path=\"url(#clip760)\" d=\"M 0 0 M70.0847 645.487 Q70.0847 652.585 71.7079 655.322 Q73.3312 658.06 77.2461 658.06 Q80.3653 658.06 82.2114 656.023 Q84.0256 653.954 84.0256 650.421 Q84.0256 645.551 80.5881 642.623 Q77.1188 639.663 71.3897 639.663 L70.0847 639.663 L70.0847 645.487 M67.6657 633.806 L88.0042 633.806 L88.0042 639.663 L82.5933 639.663 Q85.8398 641.668 87.3994 644.66 Q88.9272 647.652 88.9272 651.98 Q88.9272 657.455 85.8716 660.701 Q82.7843 663.916 77.6281 663.916 Q71.6125 663.916 68.5569 659.906 Q65.5014 655.863 65.5014 647.874 L65.5014 639.663 L64.9285 639.663 Q60.8862 639.663 58.6901 642.336 Q56.4621 644.978 56.4621 649.784 Q56.4621 652.84 57.1941 655.736 Q57.9262 658.633 59.3903 661.306 L53.9795 661.306 Q52.7381 658.091 52.1334 655.068 Q51.4968 652.044 51.4968 649.179 Q51.4968 641.445 55.5072 637.626 Q59.5176 633.806 67.6657 633.806 Z\" fill=\"#000000\" fill-rule=\"evenodd\" fill-opacity=\"1\" /><path clip-path=\"url(#clip760)\" d=\"M 0 0 M53.7248 602.01 L59.1993 602.01 Q57.8307 604.492 57.1623 607.007 Q56.4621 609.489 56.4621 612.036 Q56.4621 617.733 60.0905 620.884 Q63.6872 624.035 70.212 624.035 Q76.7369 624.035 80.3653 620.884 Q83.9619 617.733 83.9619 612.036 Q83.9619 609.489 83.2935 607.007 Q82.5933 604.492 81.2247 602.01 L86.6355 602.01 Q87.7814 604.46 88.3543 607.102 Q88.9272 609.712 88.9272 612.672 Q88.9272 620.725 83.8664 625.467 Q78.8057 630.21 70.212 630.21 Q61.491 630.21 56.4939 625.435 Q51.4968 620.629 51.4968 612.29 Q51.4968 609.585 52.0697 607.007 Q52.6108 604.429 53.7248 602.01 Z\" fill=\"#000000\" fill-rule=\"evenodd\" fill-opacity=\"1\" /><path clip-path=\"url(#clip760)\" d=\"M 0 0 M52.3562 598.413 L52.3562 570.595 L57.7034 570.595 L83.3254 592.62 L83.3254 570.595 L88.0042 570.595 L88.0042 599.209 L82.657 599.209 L57.035 577.183 L57.035 598.413 L52.3562 598.413 Z\" fill=\"#000000\" fill-rule=\"evenodd\" fill-opacity=\"1\" /><path clip-path=\"url(#clip760)\" d=\"M 0 0 M70.0847 548.251 Q70.0847 555.349 71.7079 558.086 Q73.3312 560.823 77.2461 560.823 Q80.3653 560.823 82.2114 558.786 Q84.0256 556.718 84.0256 553.185 Q84.0256 548.315 80.5881 545.387 Q77.1188 542.427 71.3897 542.427 L70.0847 542.427 L70.0847 548.251 M67.6657 536.57 L88.0042 536.57 L88.0042 542.427 L82.5933 542.427 Q85.8398 544.432 87.3994 547.424 Q88.9272 550.416 88.9272 554.744 Q88.9272 560.219 85.8716 563.465 Q82.7843 566.68 77.6281 566.68 Q71.6125 566.68 68.5569 562.669 Q65.5014 558.627 65.5014 550.638 L65.5014 542.427 L64.9285 542.427 Q60.8862 542.427 58.6901 545.1 Q56.4621 547.742 56.4621 552.548 Q56.4621 555.604 57.1941 558.5 Q57.9262 561.396 59.3903 564.07 L53.9795 564.07 Q52.7381 560.855 52.1334 557.832 Q51.4968 554.808 51.4968 551.943 Q51.4968 544.209 55.5072 540.39 Q59.5176 536.57 67.6657 536.57 M88.0042 542.363 L88.0042 538.575 Q89.9457 540.008 91.3462 540.708 Q92.7466 541.376 93.7333 541.376 Q95.1974 541.376 95.9295 540.517 Q96.6615 539.626 96.6615 537.907 Q96.6615 536.888 96.4069 535.902 Q96.1841 534.915 95.7067 533.928 L99.9399 533.928 Q100.258 535.138 100.417 536.22 Q100.576 537.302 100.576 538.257 Q100.576 542.14 99.176 543.986 Q97.8073 545.8 94.8473 545.8 Q93.3195 545.8 91.6326 544.973 Q89.9775 544.113 88.0042 542.363 Z\" fill=\"#000000\" fill-rule=\"evenodd\" fill-opacity=\"1\" /><path clip-path=\"url(#clip760)\" d=\"M 0 0 M53.7248 502.132 L59.1993 502.132 Q57.8307 504.614 57.1623 507.129 Q56.4621 509.611 56.4621 512.158 Q56.4621 517.855 60.0905 521.006 Q63.6872 524.157 70.212 524.157 Q76.7369 524.157 80.3653 521.006 Q83.9619 517.855 83.9619 512.158 Q83.9619 509.611 83.2935 507.129 Q82.5933 504.614 81.2247 502.132 L86.6355 502.132 Q87.7814 504.582 88.3543 507.224 Q88.9272 509.834 88.9272 512.794 Q88.9272 520.847 83.8664 525.589 Q78.8057 530.332 70.212 530.332 Q61.491 530.332 56.4939 525.557 Q51.4968 520.751 51.4968 512.412 Q51.4968 509.707 52.0697 507.129 Q52.6108 504.551 53.7248 502.132 Z\" fill=\"#000000\" fill-rule=\"evenodd\" fill-opacity=\"1\" /><path clip-path=\"url(#clip760)\" d=\"M 0 0 M91.3143 481.157 Q97.68 483.639 99.6216 485.995 Q101.563 488.35 101.563 492.297 L101.563 496.975 L96.6615 496.975 L96.6615 493.538 Q96.6615 491.119 95.5157 489.782 Q94.3699 488.445 90.1048 486.822 L87.4312 485.772 L52.3562 500.19 L52.3562 493.984 L80.238 482.844 L52.3562 471.704 L52.3562 465.497 L91.3143 481.157 Z\" fill=\"#000000\" fill-rule=\"evenodd\" fill-opacity=\"1\" /><path clip-path=\"url(#clip760)\" d=\"M 0 0 M53.7248 433.7 L59.1993 433.7 Q57.8307 436.183 57.1623 438.697 Q56.4621 441.18 56.4621 443.726 Q56.4621 449.424 60.0905 452.575 Q63.6872 455.726 70.212 455.726 Q76.7369 455.726 80.3653 452.575 Q83.9619 449.424 83.9619 443.726 Q83.9619 441.18 83.2935 438.697 Q82.5933 436.183 81.2247 433.7 L86.6355 433.7 Q87.7814 436.151 88.3543 438.793 Q88.9272 441.403 88.9272 444.363 Q88.9272 452.415 83.8664 457.158 Q78.8057 461.9 70.212 461.9 Q61.491 461.9 56.4939 457.126 Q51.4968 452.32 51.4968 443.981 Q51.4968 441.275 52.0697 438.697 Q52.6108 436.119 53.7248 433.7 Z\" fill=\"#000000\" fill-rule=\"evenodd\" fill-opacity=\"1\" /><path clip-path=\"url(#clip760)\" d=\"M 0 0 M66.4881 397.925 L88.0042 397.925 L88.0042 403.781 L66.679 403.781 Q61.6183 403.781 59.1038 405.755 Q56.5894 407.728 56.5894 411.675 Q56.5894 416.417 59.6131 419.155 Q62.6368 421.892 67.8567 421.892 L88.0042 421.892 L88.0042 427.78 L38.479 427.78 L38.479 421.892 L57.8944 421.892 Q54.6797 419.791 53.0883 416.958 Q51.4968 414.094 51.4968 410.37 Q51.4968 404.227 55.3163 401.076 Q59.1038 397.925 66.4881 397.925 Z\" fill=\"#000000\" fill-rule=\"evenodd\" fill-opacity=\"1\" /><polyline clip-path=\"url(#clip762)\" style=\"stroke:#009af9; stroke-width:12; stroke-opacity:1; fill:none\" points=\"\n",
       "  462.133,1384.24 665.426,1384.24 868.719,1384.24 1072.01,1384.24 1275.3,1384.24 1478.6,1303.11 1681.89,1140.85 1885.18,978.597 2088.48,491.827 2291.77,167.314 \n",
       "  \n",
       "  \"/>\n",
       "<polyline clip-path=\"url(#clip762)\" style=\"stroke:#e26f46; stroke-width:12; stroke-opacity:1; fill:none\" points=\"\n",
       "  462.133,1384.24 665.426,1384.24 868.719,1384.24 1072.01,1384.24 1275.3,1384.24 1478.6,1303.11 1681.89,1221.98 1885.18,978.597 2088.48,572.955 2291.77,86.1857 \n",
       "  \n",
       "  \"/>\n",
       "<polyline clip-path=\"url(#clip762)\" style=\"stroke:#3da44d; stroke-width:12; stroke-opacity:1; fill:none\" points=\"\n",
       "  462.133,1384.24 665.426,1384.24 868.719,1384.24 1072.01,1384.24 1275.3,1384.24 1478.6,1384.24 1681.89,1303.11 1885.18,1140.85 2088.48,654.084 2291.77,167.314 \n",
       "  \n",
       "  \"/>\n",
       "<path clip-path=\"url(#clip760)\" d=\"\n",
       "M269.683 335.029 L561.269 335.029 L561.269 93.1086 L269.683 93.1086  Z\n",
       "  \" fill=\"#ffffff\" fill-rule=\"evenodd\" fill-opacity=\"1\"/>\n",
       "<polyline clip-path=\"url(#clip760)\" style=\"stroke:#000000; stroke-width:4; stroke-opacity:1; fill:none\" points=\"\n",
       "  269.683,335.029 561.269,335.029 561.269,93.1086 269.683,93.1086 269.683,335.029 \n",
       "  \"/>\n",
       "<polyline clip-path=\"url(#clip760)\" style=\"stroke:#009af9; stroke-width:4; stroke-opacity:1; fill:none\" points=\"\n",
       "  293.626,153.589 437.286,153.589 \n",
       "  \"/>\n",
       "<path clip-path=\"url(#clip760)\" d=\"M 0 0 M485.882 144.943 L476.507 157.559 L486.368 170.869 L481.345 170.869 L473.799 160.683 L466.253 170.869 L461.23 170.869 L471.299 157.304 L462.086 144.943 L467.109 144.943 L473.984 154.179 L480.859 144.943 L485.882 144.943 Z\" fill=\"#000000\" fill-rule=\"evenodd\" fill-opacity=\"1\" /><path clip-path=\"url(#clip760)\" d=\"M 0 0 M501.438 139.387 Q497.827 139.387 495.998 142.952 Q494.192 146.494 494.192 153.623 Q494.192 160.73 495.998 164.295 Q497.827 167.836 501.438 167.836 Q505.072 167.836 506.877 164.295 Q508.706 160.73 508.706 153.623 Q508.706 146.494 506.877 142.952 Q505.072 139.387 501.438 139.387 M501.438 135.684 Q507.248 135.684 510.303 140.29 Q513.382 144.873 513.382 153.623 Q513.382 162.35 510.303 166.957 Q507.248 171.54 501.438 171.54 Q495.628 171.54 492.549 166.957 Q489.493 162.35 489.493 153.623 Q489.493 144.873 492.549 140.29 Q495.628 135.684 501.438 135.684 Z\" fill=\"#000000\" fill-rule=\"evenodd\" fill-opacity=\"1\" /><polyline clip-path=\"url(#clip760)\" style=\"stroke:#e26f46; stroke-width:4; stroke-opacity:1; fill:none\" points=\"\n",
       "  293.626,214.069 437.286,214.069 \n",
       "  \"/>\n",
       "<path clip-path=\"url(#clip760)\" d=\"M 0 0 M485.882 205.423 L476.507 218.039 L486.368 231.349 L481.345 231.349 L473.799 221.163 L466.253 231.349 L461.23 231.349 L471.299 217.784 L462.086 205.423 L467.109 205.423 L473.984 214.659 L480.859 205.423 L485.882 205.423 Z\" fill=\"#000000\" fill-rule=\"evenodd\" fill-opacity=\"1\" /><path clip-path=\"url(#clip760)\" d=\"M 0 0 M492.248 227.413 L499.887 227.413 L499.887 201.048 L491.577 202.715 L491.577 198.455 L499.84 196.789 L504.516 196.789 L504.516 227.413 L512.155 227.413 L512.155 231.349 L492.248 231.349 L492.248 227.413 Z\" fill=\"#000000\" fill-rule=\"evenodd\" fill-opacity=\"1\" /><polyline clip-path=\"url(#clip760)\" style=\"stroke:#3da44d; stroke-width:4; stroke-opacity:1; fill:none\" points=\"\n",
       "  293.626,274.549 437.286,274.549 \n",
       "  \"/>\n",
       "<path clip-path=\"url(#clip760)\" d=\"M 0 0 M485.882 265.903 L476.507 278.519 L486.368 291.829 L481.345 291.829 L473.799 281.643 L466.253 291.829 L461.23 291.829 L471.299 278.264 L462.086 265.903 L467.109 265.903 L473.984 275.139 L480.859 265.903 L485.882 265.903 Z\" fill=\"#000000\" fill-rule=\"evenodd\" fill-opacity=\"1\" /><path clip-path=\"url(#clip760)\" d=\"M 0 0 M495.466 287.893 L511.785 287.893 L511.785 291.829 L489.841 291.829 L489.841 287.893 Q492.503 285.139 497.086 280.509 Q501.692 275.856 502.873 274.514 Q505.118 271.991 505.998 270.255 Q506.901 268.495 506.901 266.806 Q506.901 264.051 504.956 262.315 Q503.035 260.579 499.933 260.579 Q497.734 260.579 495.28 261.343 Q492.85 262.107 490.072 263.657 L490.072 258.935 Q492.896 257.801 495.35 257.222 Q497.803 256.644 499.84 256.644 Q505.211 256.644 508.405 259.329 Q511.6 262.014 511.6 266.505 Q511.6 268.634 510.789 270.556 Q510.002 272.454 507.896 275.046 Q507.317 275.718 504.215 278.935 Q501.114 282.13 495.466 287.893 Z\" fill=\"#000000\" fill-rule=\"evenodd\" fill-opacity=\"1\" /></svg>\n"
      ]
     },
     "execution_count": 210,
     "metadata": {},
     "output_type": "execute_result"
    }
   ],
   "source": [
    "Test2(f, 0.1, 0.1, 10, 1, 2, 3)"
   ]
  },
  {
   "cell_type": "code",
   "execution_count": null,
   "metadata": {},
   "outputs": [],
   "source": []
  }
 ],
 "metadata": {
  "kernelspec": {
   "display_name": "Julia 1.5.2",
   "language": "julia",
   "name": "julia-1.5"
  },
  "language_info": {
   "file_extension": ".jl",
   "mimetype": "application/julia",
   "name": "julia",
   "version": "1.5.2"
  }
 },
 "nbformat": 4,
 "nbformat_minor": 4
}
