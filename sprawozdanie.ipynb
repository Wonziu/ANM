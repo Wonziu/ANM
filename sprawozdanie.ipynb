{
 "cells": [
  {
   "cell_type": "markdown",
   "metadata": {},
   "source": [
    "# Obliczanie pierwiastków wielomianów w postaci\n",
    "\n",
    "$f(x) = ax^3 + bx^2 + cx + d,\\quad a,b,c,d \\in R$\n",
    "\n",
    "\n",
    "Zaczniemy od dodania potrzebnych biblotek pozwalających nam zdefiniować wielomiany w języku Julia oraz\n",
    "rysować potrzebne wykresy"
   ]
  },
  {
   "cell_type": "code",
   "execution_count": 1287,
   "metadata": {},
   "outputs": [
    {
     "data": {
      "text/plain": [
       "128"
      ]
     },
     "execution_count": 1287,
     "metadata": {},
     "output_type": "execute_result"
    }
   ],
   "source": [
    "using Polynomials\n",
    "using Plots\n",
    "\n",
    "setprecision(128)"
   ]
  },
  {
   "cell_type": "markdown",
   "metadata": {},
   "source": [
    "Zdefinijumy sobie przykładowy wielomian: $x^3 + x^2 + x + 1$ i narysujmy jego wykres."
   ]
  },
  {
   "cell_type": "code",
   "execution_count": 1288,
   "metadata": {},
   "outputs": [
    {
     "data": {
      "text/html": [
       "1 &#43; x &#43; x<sup>2</sup> &#43; x<sup>3</sup>"
      ],
      "text/latex": [
       "$1 + x + x^{2} + x^{3}$"
      ],
      "text/plain": [
       "Polynomial(1 + x + x^2 + x^3)"
      ]
     },
     "execution_count": 1288,
     "metadata": {},
     "output_type": "execute_result"
    }
   ],
   "source": [
    "f = fromroots([0 - 1im,0 + 1im,-1])"
   ]
  },
  {
   "cell_type": "code",
   "execution_count": 1289,
   "metadata": {},
   "outputs": [
    {
     "data": {
      "image/svg+xml": [
       "<?xml version=\"1.0\" encoding=\"utf-8\"?>\n",
       "<svg xmlns=\"http://www.w3.org/2000/svg\" xmlns:xlink=\"http://www.w3.org/1999/xlink\" width=\"600\" height=\"400\" viewBox=\"0 0 2400 1600\">\n",
       "<defs>\n",
       "  <clipPath id=\"clip950\">\n",
       "    <rect x=\"0\" y=\"0\" width=\"2400\" height=\"1600\"/>\n",
       "  </clipPath>\n",
       "</defs>\n",
       "<path clip-path=\"url(#clip950)\" d=\"\n",
       "M0 1600 L2400 1600 L2400 0 L0 0  Z\n",
       "  \" fill=\"#ffffff\" fill-rule=\"evenodd\" fill-opacity=\"1\"/>\n",
       "<defs>\n",
       "  <clipPath id=\"clip951\">\n",
       "    <rect x=\"480\" y=\"0\" width=\"1681\" height=\"1600\"/>\n",
       "  </clipPath>\n",
       "</defs>\n",
       "<path clip-path=\"url(#clip950)\" d=\"\n",
       "M142.686 1486.45 L2352.76 1486.45 L2352.76 47.2441 L142.686 47.2441  Z\n",
       "  \" fill=\"#ffffff\" fill-rule=\"evenodd\" fill-opacity=\"1\"/>\n",
       "<defs>\n",
       "  <clipPath id=\"clip952\">\n",
       "    <rect x=\"142\" y=\"47\" width=\"2211\" height=\"1440\"/>\n",
       "  </clipPath>\n",
       "</defs>\n",
       "<polyline clip-path=\"url(#clip952)\" style=\"stroke:#000000; stroke-width:2; stroke-opacity:0.1; fill:none\" points=\"\n",
       "  205.235,1486.45 205.235,47.2441 \n",
       "  \"/>\n",
       "<polyline clip-path=\"url(#clip952)\" style=\"stroke:#000000; stroke-width:2; stroke-opacity:0.1; fill:none\" points=\"\n",
       "  726.478,1486.45 726.478,47.2441 \n",
       "  \"/>\n",
       "<polyline clip-path=\"url(#clip952)\" style=\"stroke:#000000; stroke-width:2; stroke-opacity:0.1; fill:none\" points=\"\n",
       "  1247.72,1486.45 1247.72,47.2441 \n",
       "  \"/>\n",
       "<polyline clip-path=\"url(#clip952)\" style=\"stroke:#000000; stroke-width:2; stroke-opacity:0.1; fill:none\" points=\"\n",
       "  1768.96,1486.45 1768.96,47.2441 \n",
       "  \"/>\n",
       "<polyline clip-path=\"url(#clip952)\" style=\"stroke:#000000; stroke-width:2; stroke-opacity:0.1; fill:none\" points=\"\n",
       "  2290.21,1486.45 2290.21,47.2441 \n",
       "  \"/>\n",
       "<polyline clip-path=\"url(#clip950)\" style=\"stroke:#000000; stroke-width:4; stroke-opacity:1; fill:none\" points=\"\n",
       "  142.686,1106.28 2352.76,1106.28 \n",
       "  \"/>\n",
       "<polyline clip-path=\"url(#clip950)\" style=\"stroke:#000000; stroke-width:4; stroke-opacity:0; fill:none\" points=\"\n",
       "  205.235,1106.28 205.235,1106.28 \n",
       "  \"/>\n",
       "<polyline clip-path=\"url(#clip950)\" style=\"stroke:#000000; stroke-width:4; stroke-opacity:0; fill:none\" points=\"\n",
       "  726.478,1106.28 726.478,1106.28 \n",
       "  \"/>\n",
       "<polyline clip-path=\"url(#clip950)\" style=\"stroke:#000000; stroke-width:4; stroke-opacity:0; fill:none\" points=\"\n",
       "  1247.72,1106.28 1247.72,1106.28 \n",
       "  \"/>\n",
       "<polyline clip-path=\"url(#clip950)\" style=\"stroke:#000000; stroke-width:4; stroke-opacity:0; fill:none\" points=\"\n",
       "  1768.96,1106.28 1768.96,1106.28 \n",
       "  \"/>\n",
       "<polyline clip-path=\"url(#clip950)\" style=\"stroke:#000000; stroke-width:4; stroke-opacity:0; fill:none\" points=\"\n",
       "  2290.21,1106.28 2290.21,1106.28 \n",
       "  \"/>\n",
       "<path clip-path=\"url(#clip950)\" d=\"M 0 0 M177.689 1530.29 L207.365 1530.29 L207.365 1534.23 L177.689 1534.23 L177.689 1530.29 Z\" fill=\"#000000\" fill-rule=\"evenodd\" fill-opacity=\"1\" /><path clip-path=\"url(#clip950)\" d=\"M 0 0 M216.462 1543.18 L232.782 1543.18 L232.782 1547.12 L210.837 1547.12 L210.837 1543.18 Q213.499 1540.43 218.083 1535.8 Q222.689 1531.15 223.87 1529.81 Q226.115 1527.28 226.995 1525.55 Q227.897 1523.79 227.897 1522.1 Q227.897 1519.34 225.953 1517.61 Q224.032 1515.87 220.93 1515.87 Q218.731 1515.87 216.277 1516.63 Q213.846 1517.4 211.069 1518.95 L211.069 1514.23 Q213.893 1513.09 216.346 1512.51 Q218.8 1511.93 220.837 1511.93 Q226.208 1511.93 229.402 1514.62 Q232.596 1517.31 232.596 1521.8 Q232.596 1523.93 231.786 1525.85 Q230.999 1527.74 228.893 1530.34 Q228.314 1531.01 225.212 1534.23 Q222.11 1537.42 216.462 1543.18 Z\" fill=\"#000000\" fill-rule=\"evenodd\" fill-opacity=\"1\" /><path clip-path=\"url(#clip950)\" d=\"M 0 0 M698.747 1530.29 L728.423 1530.29 L728.423 1534.23 L698.747 1534.23 L698.747 1530.29 Z\" fill=\"#000000\" fill-rule=\"evenodd\" fill-opacity=\"1\" /><path clip-path=\"url(#clip950)\" d=\"M 0 0 M734.302 1543.18 L741.941 1543.18 L741.941 1516.82 L733.631 1518.49 L733.631 1514.23 L741.895 1512.56 L746.571 1512.56 L746.571 1543.18 L754.21 1543.18 L754.21 1547.12 L734.302 1547.12 L734.302 1543.18 Z\" fill=\"#000000\" fill-rule=\"evenodd\" fill-opacity=\"1\" /><path clip-path=\"url(#clip950)\" d=\"M 0 0 M1247.72 1515.64 Q1244.11 1515.64 1242.28 1519.2 Q1240.48 1522.75 1240.48 1529.87 Q1240.48 1536.98 1242.28 1540.55 Q1244.11 1544.09 1247.72 1544.09 Q1251.36 1544.09 1253.16 1540.55 Q1254.99 1536.98 1254.99 1529.87 Q1254.99 1522.75 1253.16 1519.2 Q1251.36 1515.64 1247.72 1515.64 M1247.72 1511.93 Q1253.53 1511.93 1256.59 1516.54 Q1259.67 1521.12 1259.67 1529.87 Q1259.67 1538.6 1256.59 1543.21 Q1253.53 1547.79 1247.72 1547.79 Q1241.91 1547.79 1238.83 1543.21 Q1235.78 1538.6 1235.78 1529.87 Q1235.78 1521.12 1238.83 1516.54 Q1241.91 1511.93 1247.72 1511.93 Z\" fill=\"#000000\" fill-rule=\"evenodd\" fill-opacity=\"1\" /><path clip-path=\"url(#clip950)\" d=\"M 0 0 M1759.35 1543.18 L1766.98 1543.18 L1766.98 1516.82 L1758.67 1518.49 L1758.67 1514.23 L1766.94 1512.56 L1771.61 1512.56 L1771.61 1543.18 L1779.25 1543.18 L1779.25 1547.12 L1759.35 1547.12 L1759.35 1543.18 Z\" fill=\"#000000\" fill-rule=\"evenodd\" fill-opacity=\"1\" /><path clip-path=\"url(#clip950)\" d=\"M 0 0 M2284.86 1543.18 L2301.18 1543.18 L2301.18 1547.12 L2279.23 1547.12 L2279.23 1543.18 Q2281.9 1540.43 2286.48 1535.8 Q2291.09 1531.15 2292.27 1529.81 Q2294.51 1527.28 2295.39 1525.55 Q2296.29 1523.79 2296.29 1522.1 Q2296.29 1519.34 2294.35 1517.61 Q2292.43 1515.87 2289.33 1515.87 Q2287.13 1515.87 2284.67 1516.63 Q2282.24 1517.4 2279.47 1518.95 L2279.47 1514.23 Q2282.29 1513.09 2284.74 1512.51 Q2287.2 1511.93 2289.23 1511.93 Q2294.6 1511.93 2297.8 1514.62 Q2300.99 1517.31 2300.99 1521.8 Q2300.99 1523.93 2300.18 1525.85 Q2299.4 1527.74 2297.29 1530.34 Q2296.71 1531.01 2293.61 1534.23 Q2290.51 1537.42 2284.86 1543.18 Z\" fill=\"#000000\" fill-rule=\"evenodd\" fill-opacity=\"1\" /><polyline clip-path=\"url(#clip952)\" style=\"stroke:#000000; stroke-width:2; stroke-opacity:0.1; fill:none\" points=\"\n",
       "  142.686,1445.72 2352.76,1445.72 \n",
       "  \"/>\n",
       "<polyline clip-path=\"url(#clip952)\" style=\"stroke:#000000; stroke-width:2; stroke-opacity:0.1; fill:none\" points=\"\n",
       "  142.686,1106.28 2352.76,1106.28 \n",
       "  \"/>\n",
       "<polyline clip-path=\"url(#clip952)\" style=\"stroke:#000000; stroke-width:2; stroke-opacity:0.1; fill:none\" points=\"\n",
       "  142.686,766.846 2352.76,766.846 \n",
       "  \"/>\n",
       "<polyline clip-path=\"url(#clip952)\" style=\"stroke:#000000; stroke-width:2; stroke-opacity:0.1; fill:none\" points=\"\n",
       "  142.686,427.411 2352.76,427.411 \n",
       "  \"/>\n",
       "<polyline clip-path=\"url(#clip952)\" style=\"stroke:#000000; stroke-width:2; stroke-opacity:0.1; fill:none\" points=\"\n",
       "  142.686,87.9763 2352.76,87.9763 \n",
       "  \"/>\n",
       "<polyline clip-path=\"url(#clip950)\" style=\"stroke:#000000; stroke-width:4; stroke-opacity:1; fill:none\" points=\"\n",
       "  1247.72,1486.45 1247.72,47.2441 \n",
       "  \"/>\n",
       "<polyline clip-path=\"url(#clip950)\" style=\"stroke:#000000; stroke-width:4; stroke-opacity:0; fill:none\" points=\"\n",
       "  1247.72,1445.72 1247.72,1445.72 \n",
       "  \"/>\n",
       "<polyline clip-path=\"url(#clip950)\" style=\"stroke:#000000; stroke-width:4; stroke-opacity:0; fill:none\" points=\"\n",
       "  1247.72,1106.28 1247.72,1106.28 \n",
       "  \"/>\n",
       "<polyline clip-path=\"url(#clip950)\" style=\"stroke:#000000; stroke-width:4; stroke-opacity:0; fill:none\" points=\"\n",
       "  1247.72,766.846 1247.72,766.846 \n",
       "  \"/>\n",
       "<polyline clip-path=\"url(#clip950)\" style=\"stroke:#000000; stroke-width:4; stroke-opacity:0; fill:none\" points=\"\n",
       "  1247.72,427.411 1247.72,427.411 \n",
       "  \"/>\n",
       "<polyline clip-path=\"url(#clip950)\" style=\"stroke:#000000; stroke-width:4; stroke-opacity:0; fill:none\" points=\"\n",
       "  1247.72,87.9763 1247.72,87.9763 \n",
       "  \"/>\n",
       "<path clip-path=\"url(#clip950)\" d=\"M 0 0 M50.9921 1446.17 L80.6679 1446.17 L80.6679 1450.1 L50.9921 1450.1 L50.9921 1446.17 Z\" fill=\"#000000\" fill-rule=\"evenodd\" fill-opacity=\"1\" /><path clip-path=\"url(#clip950)\" d=\"M 0 0 M85.7836 1428.44 L104.14 1428.44 L104.14 1432.37 L90.066 1432.37 L90.066 1440.84 Q91.0845 1440.5 92.103 1440.33 Q93.1215 1440.15 94.14 1440.15 Q99.927 1440.15 103.307 1443.32 Q106.686 1446.49 106.686 1451.91 Q106.686 1457.49 103.214 1460.59 Q99.7419 1463.67 93.4225 1463.67 Q91.2465 1463.67 88.978 1463.3 Q86.7327 1462.93 84.3253 1462.19 L84.3253 1457.49 Q86.4086 1458.62 88.6308 1459.18 Q90.853 1459.73 93.3299 1459.73 Q97.3345 1459.73 99.6724 1457.63 Q102.01 1455.52 102.01 1451.91 Q102.01 1448.3 99.6724 1446.19 Q97.3345 1444.08 93.3299 1444.08 Q91.4549 1444.08 89.5799 1444.5 Q87.728 1444.92 85.7836 1445.8 L85.7836 1428.44 Z\" fill=\"#000000\" fill-rule=\"evenodd\" fill-opacity=\"1\" /><path clip-path=\"url(#clip950)\" d=\"M 0 0 M94.7419 1092.08 Q91.1308 1092.08 89.3021 1095.64 Q87.4966 1099.19 87.4966 1106.32 Q87.4966 1113.42 89.3021 1116.99 Q91.1308 1120.53 94.7419 1120.53 Q98.3761 1120.53 100.182 1116.99 Q102.01 1113.42 102.01 1106.32 Q102.01 1099.19 100.182 1095.64 Q98.3761 1092.08 94.7419 1092.08 M94.7419 1088.38 Q100.552 1088.38 103.608 1092.98 Q106.686 1097.57 106.686 1106.32 Q106.686 1115.04 103.608 1119.65 Q100.552 1124.23 94.7419 1124.23 Q88.9317 1124.23 85.8531 1119.65 Q82.7975 1115.04 82.7975 1106.32 Q82.7975 1097.57 85.8531 1092.98 Q88.9317 1088.38 94.7419 1088.38 Z\" fill=\"#000000\" fill-rule=\"evenodd\" fill-opacity=\"1\" /><path clip-path=\"url(#clip950)\" d=\"M 0 0 M85.7836 749.566 L104.14 749.566 L104.14 753.501 L90.066 753.501 L90.066 761.973 Q91.0845 761.626 92.103 761.464 Q93.1215 761.279 94.14 761.279 Q99.927 761.279 103.307 764.45 Q106.686 767.621 106.686 773.038 Q106.686 778.617 103.214 781.719 Q99.7419 784.797 93.4225 784.797 Q91.2465 784.797 88.978 784.427 Q86.7327 784.057 84.3253 783.316 L84.3253 778.617 Q86.4086 779.751 88.6308 780.307 Q90.853 780.862 93.3299 780.862 Q97.3345 780.862 99.6724 778.756 Q102.01 776.649 102.01 773.038 Q102.01 769.427 99.6724 767.321 Q97.3345 765.214 93.3299 765.214 Q91.4549 765.214 89.5799 765.631 Q87.728 766.047 85.7836 766.927 L85.7836 749.566 Z\" fill=\"#000000\" fill-rule=\"evenodd\" fill-opacity=\"1\" /><path clip-path=\"url(#clip950)\" d=\"M 0 0 M59.7652 440.756 L67.4041 440.756 L67.4041 414.39 L59.0939 416.057 L59.0939 411.798 L67.3578 410.131 L72.0337 410.131 L72.0337 440.756 L79.6725 440.756 L79.6725 444.691 L59.7652 444.691 L59.7652 440.756 Z\" fill=\"#000000\" fill-rule=\"evenodd\" fill-opacity=\"1\" /><path clip-path=\"url(#clip950)\" d=\"M 0 0 M94.7419 413.21 Q91.1308 413.21 89.3021 416.775 Q87.4966 420.316 87.4966 427.446 Q87.4966 434.552 89.3021 438.117 Q91.1308 441.659 94.7419 441.659 Q98.3761 441.659 100.182 438.117 Q102.01 434.552 102.01 427.446 Q102.01 420.316 100.182 416.775 Q98.3761 413.21 94.7419 413.21 M94.7419 409.506 Q100.552 409.506 103.608 414.113 Q106.686 418.696 106.686 427.446 Q106.686 436.173 103.608 440.779 Q100.552 445.362 94.7419 445.362 Q88.9317 445.362 85.8531 440.779 Q82.7975 436.173 82.7975 427.446 Q82.7975 418.696 85.8531 414.113 Q88.9317 409.506 94.7419 409.506 Z\" fill=\"#000000\" fill-rule=\"evenodd\" fill-opacity=\"1\" /><path clip-path=\"url(#clip950)\" d=\"M 0 0 M60.7606 101.321 L68.3994 101.321 L68.3994 74.9555 L60.0893 76.6222 L60.0893 72.3629 L68.3531 70.6963 L73.029 70.6963 L73.029 101.321 L80.6679 101.321 L80.6679 105.256 L60.7606 105.256 L60.7606 101.321 Z\" fill=\"#000000\" fill-rule=\"evenodd\" fill-opacity=\"1\" /><path clip-path=\"url(#clip950)\" d=\"M 0 0 M85.7836 70.6963 L104.14 70.6963 L104.14 74.6314 L90.066 74.6314 L90.066 83.1036 Q91.0845 82.7564 92.103 82.5944 Q93.1215 82.4092 94.14 82.4092 Q99.927 82.4092 103.307 85.5805 Q106.686 88.7517 106.686 94.1684 Q106.686 99.747 103.214 102.849 Q99.7419 105.928 93.4225 105.928 Q91.2465 105.928 88.978 105.557 Q86.7327 105.187 84.3253 104.446 L84.3253 99.747 Q86.4086 100.881 88.6308 101.437 Q90.853 101.992 93.3299 101.992 Q97.3345 101.992 99.6724 99.8859 Q102.01 97.7795 102.01 94.1684 Q102.01 90.5573 99.6724 88.4508 Q97.3345 86.3443 93.3299 86.3443 Q91.4549 86.3443 89.5799 86.761 Q87.728 87.1777 85.7836 88.0573 L85.7836 70.6963 Z\" fill=\"#000000\" fill-rule=\"evenodd\" fill-opacity=\"1\" /><polyline clip-path=\"url(#clip952)\" style=\"stroke:#009af9; stroke-width:12; stroke-opacity:1; fill:none\" points=\"\n",
       "  205.235,1445.72 226.085,1421.82 246.935,1398.97 267.785,1377.17 288.634,1356.37 309.484,1336.55 330.334,1317.69 351.183,1299.76 372.033,1282.73 392.883,1266.59 \n",
       "  413.733,1251.29 434.582,1236.81 455.432,1223.14 476.282,1210.24 497.131,1198.09 517.981,1186.66 538.831,1175.92 559.681,1165.86 580.53,1156.43 601.38,1147.63 \n",
       "  622.23,1139.41 643.079,1131.76 663.929,1124.65 684.779,1118.05 705.629,1111.93 726.478,1106.28 747.328,1101.06 768.178,1096.25 789.027,1091.83 809.877,1087.75 \n",
       "  830.727,1084.01 851.577,1080.58 872.426,1077.42 893.276,1074.51 914.126,1071.83 934.975,1069.35 955.825,1067.04 976.675,1064.88 997.525,1062.85 1018.37,1060.9 \n",
       "  1039.22,1059.03 1060.07,1057.2 1080.92,1055.39 1101.77,1053.57 1122.62,1051.71 1143.47,1049.8 1164.32,1047.8 1185.17,1045.68 1206.02,1043.43 1226.87,1041.01 \n",
       "  1247.72,1038.39 1268.57,1035.57 1289.42,1032.49 1310.27,1029.15 1331.12,1025.52 1351.97,1021.56 1372.82,1017.25 1393.67,1012.57 1414.52,1007.49 1435.37,1001.99 \n",
       "  1456.22,996.032 1477.07,989.598 1497.92,982.659 1518.77,975.191 1539.62,967.166 1560.47,958.559 1581.32,949.344 1602.17,939.494 1623.02,928.984 1643.87,917.788 \n",
       "  1664.72,905.879 1685.57,893.231 1706.41,879.819 1727.26,865.616 1748.11,850.596 1768.96,834.733 1789.81,818.001 1810.66,800.375 1831.51,781.827 1852.36,762.332 \n",
       "  1873.21,741.864 1894.06,720.396 1914.91,697.903 1935.76,674.359 1956.61,649.737 1977.46,624.012 1998.31,597.157 2019.16,569.146 2040.01,539.954 2060.86,509.553 \n",
       "  2081.71,477.919 2102.56,445.025 2123.41,410.845 2144.26,375.352 2165.11,338.522 2185.96,300.327 2206.81,260.742 2227.66,219.74 2248.51,177.296 2269.36,133.383 \n",
       "  2290.21,87.9763 \n",
       "  \"/>\n",
       "<path clip-path=\"url(#clip950)\" d=\"\n",
       "M216.355 216.178 L1019.88 216.178 L1019.88 95.2176 L216.355 95.2176  Z\n",
       "  \" fill=\"#ffffff\" fill-rule=\"evenodd\" fill-opacity=\"1\"/>\n",
       "<polyline clip-path=\"url(#clip950)\" style=\"stroke:#000000; stroke-width:4; stroke-opacity:1; fill:none\" points=\"\n",
       "  216.355,216.178 1019.88,216.178 1019.88,95.2176 216.355,95.2176 216.355,216.178 \n",
       "  \"/>\n",
       "<polyline clip-path=\"url(#clip950)\" style=\"stroke:#009af9; stroke-width:4; stroke-opacity:1; fill:none\" points=\"\n",
       "  240.912,155.698 388.25,155.698 \n",
       "  \"/>\n",
       "<path clip-path=\"url(#clip950)\" d=\"M 0 0 M429.31 136.959 L429.31 140.501 L425.236 140.501 Q422.945 140.501 422.042 141.427 Q421.162 142.353 421.162 144.76 L421.162 147.052 L428.176 147.052 L428.176 150.362 L421.162 150.362 L421.162 172.978 L416.88 172.978 L416.88 150.362 L412.806 150.362 L412.806 147.052 L416.88 147.052 L416.88 145.246 Q416.88 140.918 418.894 138.95 Q420.908 136.959 425.283 136.959 L429.31 136.959 Z\" fill=\"#000000\" fill-rule=\"evenodd\" fill-opacity=\"1\" /><path clip-path=\"url(#clip950)\" d=\"M 0 0 M444.009 137.006 Q440.908 142.33 439.403 147.538 Q437.898 152.746 437.898 158.093 Q437.898 163.441 439.403 168.695 Q440.931 173.927 444.009 179.228 L440.306 179.228 Q436.834 173.788 435.097 168.533 Q433.384 163.279 433.384 158.093 Q433.384 152.931 435.097 147.7 Q436.81 142.468 440.306 137.006 L444.009 137.006 Z\" fill=\"#000000\" fill-rule=\"evenodd\" fill-opacity=\"1\" /><path clip-path=\"url(#clip950)\" d=\"M 0 0 M470.028 147.052 L460.653 159.667 L470.514 172.978 L465.491 172.978 L457.945 162.792 L450.398 172.978 L445.375 172.978 L455.445 159.413 L446.232 147.052 L451.255 147.052 L458.13 156.288 L465.005 147.052 L470.028 147.052 Z\" fill=\"#000000\" fill-rule=\"evenodd\" fill-opacity=\"1\" /><path clip-path=\"url(#clip950)\" d=\"M 0 0 M474.31 137.006 L478.014 137.006 Q481.486 142.468 483.199 147.7 Q484.935 152.931 484.935 158.093 Q484.935 163.279 483.199 168.533 Q481.486 173.788 478.014 179.228 L474.31 179.228 Q477.389 173.927 478.894 168.695 Q480.421 163.441 480.421 158.093 Q480.421 152.746 478.894 147.538 Q477.389 142.33 474.31 137.006 Z\" fill=\"#000000\" fill-rule=\"evenodd\" fill-opacity=\"1\" /><path clip-path=\"url(#clip950)\" d=\"M 0 0 M505.028 151.45 L534.703 151.45 L534.703 155.339 L505.028 155.339 L505.028 151.45 M505.028 160.894 L534.703 160.894 L534.703 164.829 L505.028 164.829 L505.028 160.894 Z\" fill=\"#000000\" fill-rule=\"evenodd\" fill-opacity=\"1\" /><path clip-path=\"url(#clip950)\" d=\"M 0 0 M575.791 147.052 L566.416 159.667 L576.277 172.978 L571.254 172.978 L563.708 162.792 L556.162 172.978 L551.138 172.978 L561.208 159.413 L551.995 147.052 L557.018 147.052 L563.893 156.288 L570.768 147.052 L575.791 147.052 Z\" fill=\"#000000\" fill-rule=\"evenodd\" fill-opacity=\"1\" /><path clip-path=\"url(#clip950)\" d=\"M 0 0 M598.407 138.418 L610.976 151.311 L606.323 151.311 L596.138 142.168 L585.953 151.311 L581.3 151.311 L593.87 138.418 L598.407 138.418 Z\" fill=\"#000000\" fill-rule=\"evenodd\" fill-opacity=\"1\" /><path clip-path=\"url(#clip950)\" d=\"M 0 0 M630.212 154.343 Q633.569 155.061 635.444 157.329 Q637.342 159.598 637.342 162.931 Q637.342 168.047 633.823 170.848 Q630.305 173.649 623.823 173.649 Q621.647 173.649 619.333 173.209 Q617.041 172.792 614.587 171.936 L614.587 167.422 Q616.532 168.556 618.846 169.135 Q621.161 169.714 623.684 169.714 Q628.083 169.714 630.374 167.978 Q632.689 166.241 632.689 162.931 Q632.689 159.876 630.536 158.163 Q628.407 156.427 624.587 156.427 L620.559 156.427 L620.559 152.584 L624.772 152.584 Q628.221 152.584 630.05 151.218 Q631.879 149.83 631.879 147.237 Q631.879 144.575 629.981 143.163 Q628.106 141.728 624.587 141.728 Q622.666 141.728 620.467 142.144 Q618.268 142.561 615.629 143.441 L615.629 139.274 Q618.291 138.533 620.606 138.163 Q622.944 137.793 625.004 137.793 Q630.328 137.793 633.43 140.223 Q636.532 142.63 636.532 146.751 Q636.532 149.621 634.888 151.612 Q633.245 153.58 630.212 154.343 Z\" fill=\"#000000\" fill-rule=\"evenodd\" fill-opacity=\"1\" /><path clip-path=\"url(#clip950)\" d=\"M 0 0 M674.217 143.255 L674.217 156.149 L687.11 156.149 L687.11 160.084 L674.217 160.084 L674.217 172.978 L670.328 172.978 L670.328 160.084 L657.434 160.084 L657.434 156.149 L670.328 156.149 L670.328 143.255 L674.217 143.255 Z\" fill=\"#000000\" fill-rule=\"evenodd\" fill-opacity=\"1\" /><path clip-path=\"url(#clip950)\" d=\"M 0 0 M728.198 147.052 L718.823 159.667 L728.684 172.978 L723.661 172.978 L716.114 162.792 L708.568 172.978 L703.545 172.978 L713.614 159.413 L704.402 147.052 L709.425 147.052 L716.3 156.288 L723.175 147.052 L728.198 147.052 Z\" fill=\"#000000\" fill-rule=\"evenodd\" fill-opacity=\"1\" /><path clip-path=\"url(#clip950)\" d=\"M 0 0 M750.813 138.418 L763.383 151.311 L758.73 151.311 L748.545 142.168 L738.36 151.311 L733.707 151.311 L746.276 138.418 L750.813 138.418 Z\" fill=\"#000000\" fill-rule=\"evenodd\" fill-opacity=\"1\" /><path clip-path=\"url(#clip950)\" d=\"M 0 0 M772.48 169.042 L788.799 169.042 L788.799 172.978 L766.855 172.978 L766.855 169.042 Q769.517 166.288 774.1 161.658 Q778.707 157.005 779.887 155.663 Q782.133 153.14 783.012 151.404 Q783.915 149.644 783.915 147.955 Q783.915 145.2 781.971 143.464 Q780.049 141.728 776.947 141.728 Q774.748 141.728 772.295 142.492 Q769.864 143.255 767.086 144.806 L767.086 140.084 Q769.91 138.95 772.364 138.371 Q774.818 137.793 776.855 137.793 Q782.225 137.793 785.42 140.478 Q788.614 143.163 788.614 147.654 Q788.614 149.783 787.804 151.705 Q787.017 153.603 784.91 156.195 Q784.332 156.867 781.23 160.084 Q778.128 163.279 772.48 169.042 Z\" fill=\"#000000\" fill-rule=\"evenodd\" fill-opacity=\"1\" /><path clip-path=\"url(#clip950)\" d=\"M 0 0 M825.674 143.255 L825.674 156.149 L838.568 156.149 L838.568 160.084 L825.674 160.084 L825.674 172.978 L821.785 172.978 L821.785 160.084 L808.892 160.084 L808.892 156.149 L821.785 156.149 L821.785 143.255 L825.674 143.255 Z\" fill=\"#000000\" fill-rule=\"evenodd\" fill-opacity=\"1\" /><path clip-path=\"url(#clip950)\" d=\"M 0 0 M879.655 147.052 L870.28 159.667 L880.141 172.978 L875.118 172.978 L867.572 162.792 L860.026 172.978 L855.003 172.978 L865.072 159.413 L855.859 147.052 L860.882 147.052 L867.757 156.288 L874.632 147.052 L879.655 147.052 Z\" fill=\"#000000\" fill-rule=\"evenodd\" fill-opacity=\"1\" /><path clip-path=\"url(#clip950)\" d=\"M 0 0 M917.016 143.255 L917.016 156.149 L929.91 156.149 L929.91 160.084 L917.016 160.084 L917.016 172.978 L913.127 172.978 L913.127 160.084 L900.234 160.084 L900.234 156.149 L913.127 156.149 L913.127 143.255 L917.016 143.255 Z\" fill=\"#000000\" fill-rule=\"evenodd\" fill-opacity=\"1\" /><path clip-path=\"url(#clip950)\" d=\"M 0 0 M950.859 169.042 L958.497 169.042 L958.497 142.677 L950.187 144.343 L950.187 140.084 L958.451 138.418 L963.127 138.418 L963.127 169.042 L970.766 169.042 L970.766 172.978 L950.859 172.978 L950.859 169.042 Z\" fill=\"#000000\" fill-rule=\"evenodd\" fill-opacity=\"1\" /></svg>\n"
      ]
     },
     "execution_count": 1289,
     "metadata": {},
     "output_type": "execute_result"
    }
   ],
   "source": [
    "default(framestyle = :zerolines)\n",
    "plot(f, -2, 2, label = \"f(x) = x^3 + x^2 + x + 1\", linewidth = 3, legend = :topleft)"
   ]
  },
  {
   "cell_type": "markdown",
   "metadata": {},
   "source": [
    "# Obliczanie wartości funkcji i pochodnych\n",
    "\n",
    "Potrzebujemy sprawnego i szybkiego algorytmu do obliczania wartości naszych wielomianów oraz ich pochodnych pierwszego stopnia. Do tego użyjemy rozszerzonego schematu Hornera danego algorytmem:"
   ]
  },
  {
   "cell_type": "code",
   "execution_count": 1290,
   "metadata": {},
   "outputs": [
    {
     "data": {
      "text/plain": [
       "Horner (generic function with 1 method)"
      ]
     },
     "execution_count": 1290,
     "metadata": {},
     "output_type": "execute_result"
    }
   ],
   "source": [
    "# Funkcja dla danej funkcji f i argumentu x zwróci parę (f(x0), f'(x0)).\n",
    "\n",
    "function Horner(polynomial, x)\n",
    "    n = length(polynomial) - 1\n",
    "    \n",
    "    f  = polynomial[n]\n",
    "    ∂f = 0\n",
    "    \n",
    "    for i = n - 1:-1:0\n",
    "        ∂f = f + x * ∂f\n",
    "        f  = polynomial[i] + x * f\n",
    "    end\n",
    "    \n",
    "    return f, ∂f\n",
    "end"
   ]
  },
  {
   "cell_type": "markdown",
   "metadata": {},
   "source": [
    "Sprawdźdmy poprawność działania algorytmu dla kilku przykładowych punktów"
   ]
  },
  {
   "cell_type": "code",
   "execution_count": 1291,
   "metadata": {
    "scrolled": true
   },
   "outputs": [
    {
     "name": "stdout",
     "output_type": "stream",
     "text": [
      "Dla x = 0: (1, 1)\n",
      "Dla x = 2: (15, 17)\n",
      "Dla x = 4: (85, 57)\n"
     ]
    }
   ],
   "source": [
    "using Printf\n",
    "\n",
    "println(\"Dla x = 0: \", Horner(f, 0))\n",
    "println(\"Dla x = 2: \", Horner(f, 2))\n",
    "println(\"Dla x = 4: \", Horner(f, 4))"
   ]
  },
  {
   "cell_type": "markdown",
   "metadata": {},
   "source": [
    "# Dzielenie wielomianów 3 stopnia przez wielomian (x - x0)\n",
    "\n",
    "Jest to zwykły algorytm Hornera, do dzielenia wielominaów."
   ]
  },
  {
   "cell_type": "code",
   "execution_count": 1292,
   "metadata": {},
   "outputs": [
    {
     "data": {
      "text/plain": [
       "divide (generic function with 1 method)"
      ]
     },
     "execution_count": 1292,
     "metadata": {},
     "output_type": "execute_result"
    }
   ],
   "source": [
    "function divide(f, x0) \n",
    "    b = zeros(3)\n",
    "    b[3] = f[3]\n",
    "    \n",
    "    for i = 2:-1:1\n",
    "        b[i] = f[i] + x0 * b[i + 1]\n",
    "    end\n",
    " \n",
    "    return Polynomial(b)\n",
    "end"
   ]
  },
  {
   "cell_type": "markdown",
   "metadata": {},
   "source": [
    "# Metoda wyznczania pierwiastków wielomianów kwadratowych\n",
    "\n",
    "Przed implementacją innych metod, potrzebuję mieć algorytm numerycznie poprawny, który znajdzie pierwiastki funkcji kwadratowej. Mogę to zrobić wyznaczając wyróżnik funkcji i używając istniejących wzorów Viete'a uważając, aby nie utracić cyfr znaczących."
   ]
  },
  {
   "cell_type": "code",
   "execution_count": 1293,
   "metadata": {},
   "outputs": [
    {
     "data": {
      "text/plain": [
       "solveQuadratic (generic function with 1 method)"
      ]
     },
     "execution_count": 1293,
     "metadata": {},
     "output_type": "execute_result"
    }
   ],
   "source": [
    "# Funkcja, dla danej funkcji f zwróci jej pierwiastki zespolone\n",
    "\n",
    "function solveQuadratic(f)\n",
    "    a = f[2]\n",
    "    b = f[1]\n",
    "    c = f[0]\n",
    "    \n",
    "    x1 = 0\n",
    "    x2 = 0\n",
    "    \n",
    "    Δ = b * b - 4 * a * c\n",
    "    \n",
    "    if (Δ > 0)\n",
    "        \n",
    "        if (b > 0)\n",
    "            x1 = (-b - sqrt(Δ)) / (2 * a)\n",
    "        else\n",
    "            x1 = (-b + sqrt(Δ)) / (2 * a)\n",
    "        end\n",
    "        x2 = c / (a * x1)\n",
    "            \n",
    "    elseif (Δ == 0)        \n",
    "        x1 = -b / (2 * a)        \n",
    "        x2 = -b / (2 * a)\n",
    "    else\n",
    "        \n",
    "        if (b > 0)\n",
    "            x1 = (-b - sqrt(-Δ)*im) / (2 * a)\n",
    "        else\n",
    "            x1 = (-b + sqrt(-Δ)*im) / (2 * a)\n",
    "        end\n",
    "        x2 = c / (a * x1)\n",
    "    end\n",
    "    \n",
    "    return x1, x2\n",
    "end"
   ]
  },
  {
   "cell_type": "code",
   "execution_count": 1294,
   "metadata": {},
   "outputs": [
    {
     "data": {
      "text/plain": [
       "(1.0, -1.0)"
      ]
     },
     "execution_count": 1294,
     "metadata": {},
     "output_type": "execute_result"
    }
   ],
   "source": [
    "solveQuadratic(Polynomial([-1,0,1]))"
   ]
  },
  {
   "cell_type": "code",
   "execution_count": 1295,
   "metadata": {},
   "outputs": [
    {
     "data": {
      "text/plain": [
       "(0.0 + 1.0im, 0.0 - 1.0im)"
      ]
     },
     "execution_count": 1295,
     "metadata": {},
     "output_type": "execute_result"
    }
   ],
   "source": [
    "solveQuadratic(Polynomial([1,0,1]))"
   ]
  },
  {
   "cell_type": "code",
   "execution_count": 1296,
   "metadata": {},
   "outputs": [
    {
     "data": {
      "text/plain": [
       "(-0.3333333333333333 - 1.247219128924647im, -0.3333333333333333 + 1.2472191289246473im)"
      ]
     },
     "execution_count": 1296,
     "metadata": {},
     "output_type": "execute_result"
    }
   ],
   "source": [
    "solveQuadratic(Polynomial([5,2,3]))"
   ]
  },
  {
   "cell_type": "code",
   "execution_count": 1297,
   "metadata": {
    "scrolled": true
   },
   "outputs": [
    {
     "data": {
      "text/plain": [
       "2-element Array{Complex{Float64},1}:\n",
       " -0.33333333333333337 - 1.2472191289246473im\n",
       " -0.33333333333333337 + 1.2472191289246473im"
      ]
     },
     "execution_count": 1297,
     "metadata": {},
     "output_type": "execute_result"
    }
   ],
   "source": [
    "roots(Polynomial([5,2,3]))"
   ]
  },
  {
   "cell_type": "markdown",
   "metadata": {},
   "source": [
    "# Metoda Newtona\n",
    "\n",
    "Poniżej znajduje się zaimplementowany algorytm metody Newtona"
   ]
  },
  {
   "cell_type": "code",
   "execution_count": 1317,
   "metadata": {},
   "outputs": [
    {
     "data": {
      "text/plain": [
       "Newton (generic function with 3 methods)"
      ]
     },
     "execution_count": 1317,
     "metadata": {},
     "output_type": "execute_result"
    }
   ],
   "source": [
    "# Funkcja dla danej funkcji f, danego punktu startowego x0 zwróci pierwiastek z dokładnością do ε.\n",
    "# Oczywiście tylko jeśli x0 będzie dostatecznie tego pierwiastka.\n",
    "# Ponieważ metoda może być rozbieżna ograniczę liczbę iteracji do M.\n",
    "\n",
    "function Newton(f, x0, ε, M, print = false)\n",
    "    v = Horner(f, x0)\n",
    "    \n",
    "    if (abs(v[1]) < ε)\n",
    "        return x0\n",
    "    end\n",
    "    \n",
    "    for i = 1:M\n",
    "        x1 = x0 - v[1] / v[2]\n",
    "        v = Horner(f, x1)\n",
    "        \n",
    "        rε = abs((x1 - x0) / x1)\n",
    "        \n",
    "        if print\n",
    "            @printf(\"Iteracja: %d, x_i = %f, błąd bezwględny = %f\\n\", i, x1, rε)\n",
    "        end\n",
    "            \n",
    "        if (abs(v[1]) < ε)\n",
    "            x0, x2 = solveQuadratic(divide(f, x1))\n",
    "            \n",
    "            return x0, x1, x2\n",
    "        end\n",
    "        \n",
    "        x0 = x1\n",
    "    end\n",
    "    \n",
    "    x1, x2 = solveQuadratic(divide(f, x0))\n",
    "            \n",
    "    return x0, x1, x2\n",
    "end"
   ]
  },
  {
   "cell_type": "markdown",
   "metadata": {},
   "source": [
    "Przetestujmy działanie algorytmu dla kilku punktów startowych dla naszej funkcji f."
   ]
  },
  {
   "cell_type": "code",
   "execution_count": 1318,
   "metadata": {},
   "outputs": [
    {
     "data": {
      "text/plain": [
       "(-2.0, 4.0, -0.0)"
      ]
     },
     "execution_count": 1318,
     "metadata": {},
     "output_type": "execute_result"
    }
   ],
   "source": [
    "Newton(f, 5, 1.0e-10, 20)"
   ]
  },
  {
   "cell_type": "code",
   "execution_count": 1319,
   "metadata": {},
   "outputs": [
    {
     "data": {
      "text/plain": [
       "(3.999999999999885, -2.0000000000002296, 3.441691376338084e-13)"
      ]
     },
     "execution_count": 1319,
     "metadata": {},
     "output_type": "execute_result"
    }
   ],
   "source": [
    "Newton(f, -6, 1.0e-10, 20)"
   ]
  },
  {
   "cell_type": "code",
   "execution_count": 1320,
   "metadata": {},
   "outputs": [
    {
     "name": "stdout",
     "output_type": "stream",
     "text": [
      "Iteracja: 1, x_i = 66.909976, błąd bezwględny = 0.494545\n",
      "Iteracja: 2, x_i = 44.860655, błąd bezwględny = 0.491507\n",
      "Iteracja: 3, x_i = 30.177345, błąd bezwględny = 0.486567\n",
      "Iteracja: 4, x_i = 20.413262, błąd bezwględny = 0.478321\n",
      "Iteracja: 5, x_i = 13.942050, błąd bezwględny = 0.464151\n",
      "Iteracja: 6, x_i = 9.687374, błąd bezwględny = 0.439198\n",
      "Iteracja: 7, x_i = 6.944775, błąd bezwględny = 0.394915\n",
      "Iteracja: 8, x_i = 5.265161, błąd bezwględny = 0.319005\n",
      "Iteracja: 9, x_i = 4.370694, błąd bezwględny = 0.204651\n",
      "Iteracja: 10, x_i = 4.046377, błąd bezwględny = 0.080150\n",
      "Iteracja: 11, x_i = 4.000871, błąd bezwględny = 0.011374\n",
      "Iteracja: 12, x_i = 4.000000, błąd bezwględny = 0.000218\n",
      "Iteracja: 13, x_i = 4.000000, błąd bezwględny = 0.000000\n"
     ]
    },
    {
     "data": {
      "text/plain": [
       "(-1.9999999999999165, 4.000000000000042, -1.2523315717772288e-13)"
      ]
     },
     "execution_count": 1320,
     "metadata": {},
     "output_type": "execute_result"
    }
   ],
   "source": [
    "Newton(f, 100, 1.0e-10, 20, true)"
   ]
  },
  {
   "cell_type": "markdown",
   "metadata": {},
   "source": [
    "# Metoda bisekcji\n",
    "\n",
    "Poniżej znajduje się zaimplementowany algorytm metody Bisekcji, wyznaczający dwa pozostałe pierwiastki przy pomocy wzorów Viete'a."
   ]
  },
  {
   "cell_type": "code",
   "execution_count": 1321,
   "metadata": {},
   "outputs": [
    {
     "data": {
      "text/plain": [
       "Bisection (generic function with 2 methods)"
      ]
     },
     "execution_count": 1321,
     "metadata": {},
     "output_type": "execute_result"
    }
   ],
   "source": [
    "# Funkcja, dla danej funkcji f, dwóch punktów startowych x0 <= x1 zwróci pierwiastek x0 z dokładnością do ε.\n",
    "# Oraz pierwiastki x1, x2 policzone ze wzorów Viete'a\n",
    "# Ponieważ metoda może być rozbieżna ograniczę liczbę iteracji do M.\n",
    "\n",
    "function Bisection(f, x0, x1, ε, M, print = false)\n",
    "    a = Horner(f, x0)[1]\n",
    "    b = Horner(f, x1)[1]\n",
    "    \n",
    "    if (sign(a) == sign(b))\n",
    "        return x0\n",
    "    end\n",
    "    \n",
    "    for i = 1:M\n",
    "        x2 = ((x0 + x1) / 2)\n",
    "        \n",
    "        v = Horner(f, x2)[1]\n",
    "        \n",
    "        if print\n",
    "            @printf(\"Iteracja: %d, a = %f, b = %f, c = %f, f(c) = %f\\n\", i, x0, x1, x2, v)\n",
    "        end\n",
    "        \n",
    "        if (abs(v) < ε)\n",
    "            x0, x1 = solveQuadratic(divide(f, x2))\n",
    "            \n",
    "            return x0, x1, x2\n",
    "        end\n",
    "        \n",
    "        if (sign(a) != sign(v))\n",
    "            x1 = x2\n",
    "        else\n",
    "            x0 = x2\n",
    "        end\n",
    "    end\n",
    "        \n",
    "    x1, x2 = solveQuadratic(divide(f, x0))\n",
    "                \n",
    "    return [x0, x1, x2]\n",
    "end"
   ]
  },
  {
   "cell_type": "code",
   "execution_count": 1322,
   "metadata": {},
   "outputs": [
    {
     "data": {
      "text/plain": [
       "(4.0, -2.0, 0.0)"
      ]
     },
     "execution_count": 1322,
     "metadata": {},
     "output_type": "execute_result"
    }
   ],
   "source": [
    "Bisection(f, -5, 5, 1.0e-10, 20)"
   ]
  },
  {
   "cell_type": "code",
   "execution_count": 1323,
   "metadata": {},
   "outputs": [
    {
     "data": {
      "text/plain": [
       "(4.0, -2.0, 0.0)"
      ]
     },
     "execution_count": 1323,
     "metadata": {},
     "output_type": "execute_result"
    }
   ],
   "source": [
    "Bisection(f, -50, 50, 1.0e-10, 20)"
   ]
  },
  {
   "cell_type": "code",
   "execution_count": 1324,
   "metadata": {},
   "outputs": [
    {
     "name": "stdout",
     "output_type": "stream",
     "text": [
      "Iteracja: 1, a = -3.000000, b = 16.000000, c = 6.500000, f(c) = 138.125000\n",
      "Iteracja: 2, a = -3.000000, b = 6.500000, c = 1.750000, f(c) = -14.765625\n",
      "Iteracja: 3, a = 1.750000, b = 6.500000, c = 4.125000, f(c) = 3.158203\n",
      "Iteracja: 4, a = 1.750000, b = 4.125000, c = 2.937500, f(c) = -15.410400\n",
      "Iteracja: 5, a = 2.937500, b = 4.125000, c = 3.531250, f(c) = -9.155731\n",
      "Iteracja: 6, a = 3.531250, b = 4.125000, c = 3.828125, f(c) = -3.834667\n",
      "Iteracja: 7, a = 3.828125, b = 4.125000, c = 3.976563, f(c) = -0.557020\n",
      "Iteracja: 8, a = 3.976563, b = 4.125000, c = 4.050781, f(c) = 1.244668\n",
      "Iteracja: 9, a = 3.976563, b = 4.050781, c = 4.013672, f(c) = 0.329997\n",
      "Iteracja: 10, a = 3.976563, b = 4.013672, c = 3.995117, f(c) = -0.116949\n",
      "Iteracja: 11, a = 3.995117, b = 4.013672, c = 4.004395, f(c) = 0.105662\n",
      "Iteracja: 12, a = 3.995117, b = 4.004395, c = 3.999756, f(c) = -0.005859\n",
      "Iteracja: 13, a = 3.999756, b = 4.004395, c = 4.002075, f(c) = 0.049848\n",
      "Iteracja: 14, a = 3.999756, b = 4.002075, c = 4.000916, f(c) = 0.021981\n",
      "Iteracja: 15, a = 3.999756, b = 4.000916, c = 4.000336, f(c) = 0.008058\n",
      "Iteracja: 16, a = 3.999756, b = 4.000336, c = 4.000046, f(c) = 0.001099\n",
      "Iteracja: 17, a = 3.999756, b = 4.000046, c = 3.999901, f(c) = -0.002380\n",
      "Iteracja: 18, a = 3.999901, b = 4.000046, c = 3.999973, f(c) = -0.000641\n",
      "Iteracja: 19, a = 3.999973, b = 4.000046, c = 4.000010, f(c) = 0.000229\n",
      "Iteracja: 20, a = 3.999973, b = 4.000010, c = 3.999991, f(c) = -0.000206\n"
     ]
    },
    {
     "data": {
      "text/plain": [
       "3-element Array{Float64,1}:\n",
       "  3.9999914169311523\n",
       " -2.000017165879859\n",
       "  2.5748948706753332e-5"
      ]
     },
     "execution_count": 1324,
     "metadata": {},
     "output_type": "execute_result"
    }
   ],
   "source": [
    "Bisection(f, -3, 16, 1.0e-10, 20, true)"
   ]
  },
  {
   "cell_type": "markdown",
   "metadata": {},
   "source": [
    "# Metoda Bairstowa\n",
    "\n",
    "Poniżej znajduje się zaimplementowany algorytm metody Bairstowa."
   ]
  },
  {
   "cell_type": "code",
   "execution_count": 1325,
   "metadata": {},
   "outputs": [
    {
     "data": {
      "text/plain": [
       "Bairstow (generic function with 2 methods)"
      ]
     },
     "execution_count": 1325,
     "metadata": {},
     "output_type": "execute_result"
    }
   ],
   "source": [
    "# Funkcja, dla danej funkcji f, startowych przybliżeń v, u zwraca wszystkie pierwiastki \n",
    "# wielomianu trzeciego stopnia. Maksymalna liczba iteracji to M. \n",
    "\n",
    "function Bairstow(f, u, v, M)\n",
    "    n = length(f)\n",
    "    \n",
    "    b = zeros(n)\n",
    "    c = zeros(n)\n",
    "    \n",
    "    b[n] = f[n - 1]\n",
    "    c[n - 1] = f[n - 1]\n",
    "    \n",
    "    for j = 1:M\n",
    "        b[n-1] = f[n - 2] + u * b[n]\n",
    "        for k = n - 2:-1:1\n",
    "            b[k] = f[k - 1] + u * b[k + 1] + v * b[k + 2]\n",
    "            c[k] = b[k + 1] + u * c[k + 1] + v * c[k + 2]\n",
    "        end\n",
    "        \n",
    "        J = c[1] * c[3] - c[2] * c[2]\n",
    "        u = u + (c[2] * b[2] - c[3] * b[1]) / J\n",
    "        v = v + (c[2] * b[1] - c[1] * b[2]) / J\n",
    "    end\n",
    "    \n",
    "    quadratic = Polynomial([-v, -u, 1])\n",
    "    x0, x1 = solveQuadratic(quadratic)\n",
    "    \n",
    "    if (x0 != 0 && x1 != 0)\n",
    "        x2 = -f[0] / (f[3] * x0 * x1)\n",
    "    else\n",
    "        x2 = -f[2] / f[3] - x0 - x1\n",
    "    end\n",
    "    \n",
    "    return [x0, x1, x2]\n",
    "    \n",
    "end"
   ]
  },
  {
   "cell_type": "code",
   "execution_count": 1326,
   "metadata": {},
   "outputs": [
    {
     "data": {
      "text/plain": [
       "3-element Array{Float64,1}:\n",
       " -2.0\n",
       "  0.0\n",
       "  4.0"
      ]
     },
     "execution_count": 1326,
     "metadata": {},
     "output_type": "execute_result"
    }
   ],
   "source": [
    "Bairstow(f, 1, 1, 40)"
   ]
  },
  {
   "cell_type": "code",
   "execution_count": 1327,
   "metadata": {},
   "outputs": [
    {
     "data": {
      "text/plain": [
       "3-element Array{Float64,1}:\n",
       " -2.0\n",
       "  4.0\n",
       "  0.0"
      ]
     },
     "execution_count": 1327,
     "metadata": {},
     "output_type": "execute_result"
    }
   ],
   "source": [
    "roots(f)"
   ]
  },
  {
   "cell_type": "code",
   "execution_count": 1328,
   "metadata": {
    "scrolled": true
   },
   "outputs": [
    {
     "data": {
      "text/plain": [
       "3-element Array{Float64,1}:\n",
       " -2.0\n",
       "  0.0\n",
       "  4.0"
      ]
     },
     "execution_count": 1328,
     "metadata": {},
     "output_type": "execute_result"
    }
   ],
   "source": [
    "Bairstow(f, -0.5, -0.5, 40)"
   ]
  },
  {
   "cell_type": "markdown",
   "metadata": {},
   "source": [
    "# Wzory Cardano"
   ]
  },
  {
   "cell_type": "code",
   "execution_count": 1383,
   "metadata": {},
   "outputs": [
    {
     "data": {
      "text/plain": [
       "Cardano (generic function with 1 method)"
      ]
     },
     "execution_count": 1383,
     "metadata": {},
     "output_type": "execute_result"
    }
   ],
   "source": [
    "function Cardano(f)\n",
    "    a = f[3]\n",
    "    b = f[2]\n",
    "    c = f[1]\n",
    "    d = f[0]\n",
    "    \n",
    "    Q = (3 * a * c - b * b) / (9 * a * a)\n",
    "    R = (9 * a * b * c - 27 * a * a * d - 2 * b * b * b) / (54 * a * a * a)\n",
    "    \n",
    "    discriminant = Q * Q * Q + R * R\n",
    "    S = 0\n",
    "    T = 0\n",
    "    \n",
    "    if (discriminant >= 0)\n",
    "        S = cbrt(R + sqrt(discriminant))\n",
    "        T = cbrt(R - sqrt(discriminant))\n",
    "    else\n",
    "        S = (R + sqrt(discriminant + 0im))^(1/3)\n",
    "        T = (R - sqrt(discriminant + 0im))^(1/3)\n",
    "    end\n",
    "    \n",
    "    x0 = S + T - b / (3 * a)\n",
    "    x1 = -(S + T) / 2 - b / (3 * a) + (im * sqrt(3)) / 2 * (S - T)\n",
    "    x2 = -(S + T) / 2 - b / (3 * a) - (im * sqrt(3)) / 2 * (S - T)\n",
    "    \n",
    "    return [x0, x1, x2]\n",
    "end"
   ]
  },
  {
   "cell_type": "code",
   "execution_count": 1330,
   "metadata": {},
   "outputs": [
    {
     "name": "stdout",
     "output_type": "stream",
     "text": [
      "dsa"
     ]
    },
    {
     "data": {
      "text/plain": [
       "(4.0 + 0.0im, -2.0 + 0.0im, 0.0 - 0.0im)"
      ]
     },
     "execution_count": 1330,
     "metadata": {},
     "output_type": "execute_result"
    }
   ],
   "source": [
    "Cardano(f)"
   ]
  },
  {
   "cell_type": "markdown",
   "metadata": {},
   "source": [
    "# Testy numeryczne\n",
    "\n",
    "Zaimplementowałem trzy różne metody szukania pierwiastków wielomianów trzeciego stopnia. Ponieważ metoda Newtona i bisekcji potrzebują mieć sensowne dane wejściowe, aby znaleźć chociaż jeden pierwiastek, to pokażę jak szybko i z jakim błędem są w stanie go znaleźć, a potem używając schematu Hornera wyznacze pozostałe dwa pierwiastki. Na początek kilka testów przygotowanych, a później kilka wielomianów wylosowanych za pomocą Julii.\n",
    "\n",
    "Zdefiniowałem cztery funkcje testujące dla każdej metody. Wszystkie pokazują ile cyfr znaczących wyznaczyły dobrze."
   ]
  },
  {
   "cell_type": "code",
   "execution_count": 1331,
   "metadata": {},
   "outputs": [
    {
     "data": {
      "text/plain": [
       "TestBairstow (generic function with 1 method)"
      ]
     },
     "execution_count": 1331,
     "metadata": {},
     "output_type": "execute_result"
    }
   ],
   "source": [
    "# Wyświetla ilość cyfr znaczących\n",
    "\n",
    "function TestBairstow(f, v, u, MaxM, r1, r2, r3)\n",
    "    \n",
    "    function significantDigits(x)\n",
    "        if (x == 0)\n",
    "            return 20\n",
    "        end\n",
    "        \n",
    "        return min(20, max(0, round(-log10(abs(x)))))\n",
    "    end\n",
    "    \n",
    "    x0 = zeros(MaxM)\n",
    "    x1 = zeros(MaxM)\n",
    "    x2 = zeros(MaxM)\n",
    "    \n",
    "    for i = 1:MaxM\n",
    "        b = Bairstow(f, u, v, i)\n",
    "    \n",
    "        x0[i] = significantDigits(abs(r1 - b[1]))\n",
    "        x1[i] = significantDigits(abs(r2 - b[2]))\n",
    "        x2[i] = significantDigits(abs(r3 - b[3]))        \n",
    "    end    \n",
    "    \n",
    "    default(framestyle = :zerolines)\n",
    "    plot([x0, x1, x2], label = [\"x0\" \"x1\" \"x2\"], \n",
    "        linewidth = 3, xlabel = \"Iteracja\", ylabel=\"Liczba cyfr znaczących\", legend = :topleft)    \n",
    "end"
   ]
  },
  {
   "cell_type": "code",
   "execution_count": 1358,
   "metadata": {},
   "outputs": [
    {
     "data": {
      "text/plain": [
       "TestNewton (generic function with 1 method)"
      ]
     },
     "execution_count": 1358,
     "metadata": {},
     "output_type": "execute_result"
    }
   ],
   "source": [
    "# Wyświetla ilość cyfr znaczących\n",
    "\n",
    "function TestNewton(f, x_0, ε, MaxM, r1, r2, r3)\n",
    "    \n",
    "    function significantDigits(x)\n",
    "        if (x == 0)\n",
    "            return 20\n",
    "        end\n",
    "        \n",
    "        return min(20, max(0, round(-log10(abs(x)))))\n",
    "    end\n",
    "    \n",
    "    x0 = zeros(MaxM)\n",
    "    x1 = zeros(MaxM)\n",
    "    x2 = zeros(MaxM)\n",
    "    \n",
    "    for i = 1:MaxM\n",
    "        b = Newton(f, x_0, ε, i)\n",
    "    \n",
    "        x0[i] = significantDigits(abs(r1 - b[1]))\n",
    "        x1[i] = significantDigits(abs(r2 - b[2]))\n",
    "        x2[i] = significantDigits(abs(r3 - b[3]))        \n",
    "    end    \n",
    "    \n",
    "    default(framestyle = :zerolines)\n",
    "    plot([x0, x1, x2], label = [\"x0\" \"x1\" \"x2\"], \n",
    "        linewidth = 3, xlabel = \"Iteracja\", ylabel=\"Liczba cyfr znaczących\", legend = :topleft)    \n",
    "end"
   ]
  },
  {
   "cell_type": "code",
   "execution_count": 1362,
   "metadata": {},
   "outputs": [
    {
     "data": {
      "text/plain": [
       "TestBisection (generic function with 1 method)"
      ]
     },
     "execution_count": 1362,
     "metadata": {},
     "output_type": "execute_result"
    }
   ],
   "source": [
    "# Wyświetla ilość cyfr znaczących\n",
    "\n",
    "function TestBisection(f, x_0, x_1, ε, MaxM, r1, r2, r3)\n",
    "    \n",
    "    function significantDigits(x)\n",
    "        if (x == 0)\n",
    "            return 20\n",
    "        end\n",
    "        \n",
    "        return min(20, max(0, round(-log10(abs(x)))))\n",
    "    end\n",
    "    \n",
    "    x0 = zeros(MaxM)\n",
    "    x1 = zeros(MaxM)\n",
    "    x2 = zeros(MaxM)\n",
    "    \n",
    "    for i = 1:MaxM\n",
    "        b = Bisection(f, x_0, x_1, ε, i)\n",
    "    \n",
    "        x0[i] = significantDigits(abs(r1 - b[1]))\n",
    "        x1[i] = significantDigits(abs(r2 - b[2]))\n",
    "        x2[i] = significantDigits(abs(r3 - b[3]))        \n",
    "    end    \n",
    "    \n",
    "    default(framestyle = :zerolines)\n",
    "    plot([x0, x1, x2], label = [\"x0\" \"x1\" \"x2\"], \n",
    "        linewidth = 3, xlabel = \"Iteracja\", ylabel=\"Liczba cyfr znaczących\", legend = :topleft)    \n",
    "end"
   ]
  },
  {
   "cell_type": "code",
   "execution_count": 1377,
   "metadata": {},
   "outputs": [
    {
     "data": {
      "text/plain": [
       "TestCardano (generic function with 1 method)"
      ]
     },
     "execution_count": 1377,
     "metadata": {},
     "output_type": "execute_result"
    }
   ],
   "source": [
    "function TestCardano(f, r1, r2, r3)\n",
    "    \n",
    "    x = Cardano(f)\n",
    "    \n",
    "    println(\"Błąd względny x0: \", abs(x[1] - r1))\n",
    "    println(\"Błąd względny x1: \", abs(x[2] - r2))\n",
    "    println(\"Błąd względny x2: \", abs(x[3] - r3))\n",
    "    \n",
    "end"
   ]
  },
  {
   "cell_type": "markdown",
   "metadata": {},
   "source": [
    "### Test 1\n",
    "\n",
    "Na początek prosta funkcja\n",
    "\n",
    "##### $f(x) = x^3 - 2x^2 - 8x$"
   ]
  },
  {
   "cell_type": "code",
   "execution_count": 1378,
   "metadata": {},
   "outputs": [
    {
     "data": {
      "image/svg+xml": [
       "<?xml version=\"1.0\" encoding=\"utf-8\"?>\n",
       "<svg xmlns=\"http://www.w3.org/2000/svg\" xmlns:xlink=\"http://www.w3.org/1999/xlink\" width=\"600\" height=\"400\" viewBox=\"0 0 2400 1600\">\n",
       "<defs>\n",
       "  <clipPath id=\"clip230\">\n",
       "    <rect x=\"0\" y=\"0\" width=\"2400\" height=\"1600\"/>\n",
       "  </clipPath>\n",
       "</defs>\n",
       "<path clip-path=\"url(#clip230)\" d=\"\n",
       "M0 1600 L2400 1600 L2400 0 L0 0  Z\n",
       "  \" fill=\"#ffffff\" fill-rule=\"evenodd\" fill-opacity=\"1\"/>\n",
       "<defs>\n",
       "  <clipPath id=\"clip231\">\n",
       "    <rect x=\"480\" y=\"0\" width=\"1681\" height=\"1600\"/>\n",
       "  </clipPath>\n",
       "</defs>\n",
       "<path clip-path=\"url(#clip230)\" d=\"\n",
       "M196.482 1486.45 L2352.76 1486.45 L2352.76 47.2441 L196.482 47.2441  Z\n",
       "  \" fill=\"#ffffff\" fill-rule=\"evenodd\" fill-opacity=\"1\"/>\n",
       "<defs>\n",
       "  <clipPath id=\"clip232\">\n",
       "    <rect x=\"196\" y=\"47\" width=\"2157\" height=\"1440\"/>\n",
       "  </clipPath>\n",
       "</defs>\n",
       "<polyline clip-path=\"url(#clip232)\" style=\"stroke:#000000; stroke-width:2; stroke-opacity:0.1; fill:none\" points=\"\n",
       "  460.931,1486.45 460.931,47.2441 \n",
       "  \"/>\n",
       "<polyline clip-path=\"url(#clip232)\" style=\"stroke:#000000; stroke-width:2; stroke-opacity:0.1; fill:none\" points=\"\n",
       "  867.775,1486.45 867.775,47.2441 \n",
       "  \"/>\n",
       "<polyline clip-path=\"url(#clip232)\" style=\"stroke:#000000; stroke-width:2; stroke-opacity:0.1; fill:none\" points=\"\n",
       "  1274.62,1486.45 1274.62,47.2441 \n",
       "  \"/>\n",
       "<polyline clip-path=\"url(#clip232)\" style=\"stroke:#000000; stroke-width:2; stroke-opacity:0.1; fill:none\" points=\"\n",
       "  1681.46,1486.45 1681.46,47.2441 \n",
       "  \"/>\n",
       "<polyline clip-path=\"url(#clip232)\" style=\"stroke:#000000; stroke-width:2; stroke-opacity:0.1; fill:none\" points=\"\n",
       "  2088.31,1486.45 2088.31,47.2441 \n",
       "  \"/>\n",
       "<polyline clip-path=\"url(#clip230)\" style=\"stroke:#000000; stroke-width:4; stroke-opacity:1; fill:none\" points=\"\n",
       "  196.482,367.511 2352.76,367.511 \n",
       "  \"/>\n",
       "<polyline clip-path=\"url(#clip230)\" style=\"stroke:#000000; stroke-width:4; stroke-opacity:0; fill:none\" points=\"\n",
       "  460.931,367.511 460.931,367.511 \n",
       "  \"/>\n",
       "<polyline clip-path=\"url(#clip230)\" style=\"stroke:#000000; stroke-width:4; stroke-opacity:0; fill:none\" points=\"\n",
       "  867.775,367.511 867.775,367.511 \n",
       "  \"/>\n",
       "<polyline clip-path=\"url(#clip230)\" style=\"stroke:#000000; stroke-width:4; stroke-opacity:0; fill:none\" points=\"\n",
       "  1274.62,367.511 1274.62,367.511 \n",
       "  \"/>\n",
       "<polyline clip-path=\"url(#clip230)\" style=\"stroke:#000000; stroke-width:4; stroke-opacity:0; fill:none\" points=\"\n",
       "  1681.46,367.511 1681.46,367.511 \n",
       "  \"/>\n",
       "<polyline clip-path=\"url(#clip230)\" style=\"stroke:#000000; stroke-width:4; stroke-opacity:0; fill:none\" points=\"\n",
       "  2088.31,367.511 2088.31,367.511 \n",
       "  \"/>\n",
       "<path clip-path=\"url(#clip230)\" d=\"M 0 0 M432.343 1530.29 L462.019 1530.29 L462.019 1534.23 L432.343 1534.23 L432.343 1530.29 Z\" fill=\"#000000\" fill-rule=\"evenodd\" fill-opacity=\"1\" /><path clip-path=\"url(#clip230)\" d=\"M 0 0 M479.935 1516.63 L468.13 1535.08 L479.935 1535.08 L479.935 1516.63 M478.709 1512.56 L484.588 1512.56 L484.588 1535.08 L489.519 1535.08 L489.519 1538.97 L484.588 1538.97 L484.588 1547.12 L479.935 1547.12 L479.935 1538.97 L464.334 1538.97 L464.334 1534.46 L478.709 1512.56 Z\" fill=\"#000000\" fill-rule=\"evenodd\" fill-opacity=\"1\" /><path clip-path=\"url(#clip230)\" d=\"M 0 0 M840.229 1530.29 L869.905 1530.29 L869.905 1534.23 L840.229 1534.23 L840.229 1530.29 Z\" fill=\"#000000\" fill-rule=\"evenodd\" fill-opacity=\"1\" /><path clip-path=\"url(#clip230)\" d=\"M 0 0 M879.002 1543.18 L895.321 1543.18 L895.321 1547.12 L873.377 1547.12 L873.377 1543.18 Q876.039 1540.43 880.622 1535.8 Q885.229 1531.15 886.409 1529.81 Q888.655 1527.28 889.534 1525.55 Q890.437 1523.79 890.437 1522.1 Q890.437 1519.34 888.492 1517.61 Q886.571 1515.87 883.469 1515.87 Q881.27 1515.87 878.817 1516.63 Q876.386 1517.4 873.608 1518.95 L873.608 1514.23 Q876.432 1513.09 878.886 1512.51 Q881.34 1511.93 883.377 1511.93 Q888.747 1511.93 891.942 1514.62 Q895.136 1517.31 895.136 1521.8 Q895.136 1523.93 894.326 1525.85 Q893.539 1527.74 891.432 1530.34 Q890.854 1531.01 887.752 1534.23 Q884.65 1537.42 879.002 1543.18 Z\" fill=\"#000000\" fill-rule=\"evenodd\" fill-opacity=\"1\" /><path clip-path=\"url(#clip230)\" d=\"M 0 0 M1274.62 1515.64 Q1271.01 1515.64 1269.18 1519.2 Q1267.37 1522.75 1267.37 1529.87 Q1267.37 1536.98 1269.18 1540.55 Q1271.01 1544.09 1274.62 1544.09 Q1278.25 1544.09 1280.06 1540.55 Q1281.89 1536.98 1281.89 1529.87 Q1281.89 1522.75 1280.06 1519.2 Q1278.25 1515.64 1274.62 1515.64 M1274.62 1511.93 Q1280.43 1511.93 1283.48 1516.54 Q1286.56 1521.12 1286.56 1529.87 Q1286.56 1538.6 1283.48 1543.21 Q1280.43 1547.79 1274.62 1547.79 Q1268.81 1547.79 1265.73 1543.21 Q1262.67 1538.6 1262.67 1529.87 Q1262.67 1521.12 1265.73 1516.54 Q1268.81 1511.93 1274.62 1511.93 Z\" fill=\"#000000\" fill-rule=\"evenodd\" fill-opacity=\"1\" /><path clip-path=\"url(#clip230)\" d=\"M 0 0 M1676.12 1543.18 L1692.44 1543.18 L1692.44 1547.12 L1670.49 1547.12 L1670.49 1543.18 Q1673.15 1540.43 1677.74 1535.8 Q1682.34 1531.15 1683.52 1529.81 Q1685.77 1527.28 1686.65 1525.55 Q1687.55 1523.79 1687.55 1522.1 Q1687.55 1519.34 1685.61 1517.61 Q1683.69 1515.87 1680.58 1515.87 Q1678.38 1515.87 1675.93 1516.63 Q1673.5 1517.4 1670.72 1518.95 L1670.72 1514.23 Q1673.55 1513.09 1676 1512.51 Q1678.45 1511.93 1680.49 1511.93 Q1685.86 1511.93 1689.06 1514.62 Q1692.25 1517.31 1692.25 1521.8 Q1692.25 1523.93 1691.44 1525.85 Q1690.65 1527.74 1688.55 1530.34 Q1687.97 1531.01 1684.87 1534.23 Q1681.76 1537.42 1676.12 1543.18 Z\" fill=\"#000000\" fill-rule=\"evenodd\" fill-opacity=\"1\" /><path clip-path=\"url(#clip230)\" d=\"M 0 0 M2091.32 1516.63 L2079.51 1535.08 L2091.32 1535.08 L2091.32 1516.63 M2090.09 1512.56 L2095.97 1512.56 L2095.97 1535.08 L2100.9 1535.08 L2100.9 1538.97 L2095.97 1538.97 L2095.97 1547.12 L2091.32 1547.12 L2091.32 1538.97 L2075.71 1538.97 L2075.71 1534.46 L2090.09 1512.56 Z\" fill=\"#000000\" fill-rule=\"evenodd\" fill-opacity=\"1\" /><polyline clip-path=\"url(#clip232)\" style=\"stroke:#000000; stroke-width:2; stroke-opacity:0.1; fill:none\" points=\"\n",
       "  196.482,1365.85 2352.76,1365.85 \n",
       "  \"/>\n",
       "<polyline clip-path=\"url(#clip232)\" style=\"stroke:#000000; stroke-width:2; stroke-opacity:0.1; fill:none\" points=\"\n",
       "  196.482,1166.18 2352.76,1166.18 \n",
       "  \"/>\n",
       "<polyline clip-path=\"url(#clip232)\" style=\"stroke:#000000; stroke-width:2; stroke-opacity:0.1; fill:none\" points=\"\n",
       "  196.482,966.514 2352.76,966.514 \n",
       "  \"/>\n",
       "<polyline clip-path=\"url(#clip232)\" style=\"stroke:#000000; stroke-width:2; stroke-opacity:0.1; fill:none\" points=\"\n",
       "  196.482,766.846 2352.76,766.846 \n",
       "  \"/>\n",
       "<polyline clip-path=\"url(#clip232)\" style=\"stroke:#000000; stroke-width:2; stroke-opacity:0.1; fill:none\" points=\"\n",
       "  196.482,567.178 2352.76,567.178 \n",
       "  \"/>\n",
       "<polyline clip-path=\"url(#clip232)\" style=\"stroke:#000000; stroke-width:2; stroke-opacity:0.1; fill:none\" points=\"\n",
       "  196.482,367.511 2352.76,367.511 \n",
       "  \"/>\n",
       "<polyline clip-path=\"url(#clip232)\" style=\"stroke:#000000; stroke-width:2; stroke-opacity:0.1; fill:none\" points=\"\n",
       "  196.482,167.843 2352.76,167.843 \n",
       "  \"/>\n",
       "<polyline clip-path=\"url(#clip230)\" style=\"stroke:#000000; stroke-width:4; stroke-opacity:1; fill:none\" points=\"\n",
       "  1274.62,1486.45 1274.62,47.2441 \n",
       "  \"/>\n",
       "<polyline clip-path=\"url(#clip230)\" style=\"stroke:#000000; stroke-width:4; stroke-opacity:0; fill:none\" points=\"\n",
       "  1274.62,1365.85 1274.62,1365.85 \n",
       "  \"/>\n",
       "<polyline clip-path=\"url(#clip230)\" style=\"stroke:#000000; stroke-width:4; stroke-opacity:0; fill:none\" points=\"\n",
       "  1274.62,1166.18 1274.62,1166.18 \n",
       "  \"/>\n",
       "<polyline clip-path=\"url(#clip230)\" style=\"stroke:#000000; stroke-width:4; stroke-opacity:0; fill:none\" points=\"\n",
       "  1274.62,966.514 1274.62,966.514 \n",
       "  \"/>\n",
       "<polyline clip-path=\"url(#clip230)\" style=\"stroke:#000000; stroke-width:4; stroke-opacity:0; fill:none\" points=\"\n",
       "  1274.62,766.846 1274.62,766.846 \n",
       "  \"/>\n",
       "<polyline clip-path=\"url(#clip230)\" style=\"stroke:#000000; stroke-width:4; stroke-opacity:0; fill:none\" points=\"\n",
       "  1274.62,567.178 1274.62,567.178 \n",
       "  \"/>\n",
       "<polyline clip-path=\"url(#clip230)\" style=\"stroke:#000000; stroke-width:4; stroke-opacity:0; fill:none\" points=\"\n",
       "  1274.62,367.511 1274.62,367.511 \n",
       "  \"/>\n",
       "<polyline clip-path=\"url(#clip230)\" style=\"stroke:#000000; stroke-width:4; stroke-opacity:0; fill:none\" points=\"\n",
       "  1274.62,167.843 1274.62,167.843 \n",
       "  \"/>\n",
       "<path clip-path=\"url(#clip230)\" d=\"M 0 0 M53.5847 1366.3 L83.2605 1366.3 L83.2605 1370.24 L53.5847 1370.24 L53.5847 1366.3 Z\" fill=\"#000000\" fill-rule=\"evenodd\" fill-opacity=\"1\" /><path clip-path=\"url(#clip230)\" d=\"M 0 0 M89.1401 1379.19 L96.7789 1379.19 L96.7789 1352.83 L88.4688 1354.49 L88.4688 1350.24 L96.7326 1348.57 L101.409 1348.57 L101.409 1379.19 L109.047 1379.19 L109.047 1383.13 L89.1401 1383.13 L89.1401 1379.19 Z\" fill=\"#000000\" fill-rule=\"evenodd\" fill-opacity=\"1\" /><path clip-path=\"url(#clip230)\" d=\"M 0 0 M118.145 1379.19 L134.464 1379.19 L134.464 1383.13 L112.52 1383.13 L112.52 1379.19 Q115.182 1376.44 119.765 1371.81 Q124.371 1367.16 125.552 1365.81 Q127.797 1363.29 128.677 1361.55 Q129.58 1359.8 129.58 1358.11 Q129.58 1355.35 127.635 1353.61 Q125.714 1351.88 122.612 1351.88 Q120.413 1351.88 117.959 1352.64 Q115.529 1353.41 112.751 1354.96 L112.751 1350.24 Q115.575 1349.1 118.029 1348.52 Q120.482 1347.94 122.52 1347.94 Q127.89 1347.94 131.084 1350.63 Q134.279 1353.31 134.279 1357.8 Q134.279 1359.93 133.469 1361.86 Q132.682 1363.75 130.575 1366.35 Q129.996 1367.02 126.894 1370.24 Q123.793 1373.43 118.145 1379.19 Z\" fill=\"#000000\" fill-rule=\"evenodd\" fill-opacity=\"1\" /><path clip-path=\"url(#clip230)\" d=\"M 0 0 M139.58 1348.57 L157.936 1348.57 L157.936 1352.5 L143.862 1352.5 L143.862 1360.98 Q144.881 1360.63 145.899 1360.47 Q146.918 1360.28 147.936 1360.28 Q153.723 1360.28 157.103 1363.45 Q160.482 1366.62 160.482 1372.04 Q160.482 1377.62 157.01 1380.72 Q153.538 1383.8 147.218 1383.8 Q145.043 1383.8 142.774 1383.43 Q140.529 1383.06 138.121 1382.32 L138.121 1377.62 Q140.205 1378.75 142.427 1379.31 Q144.649 1379.86 147.126 1379.86 Q151.13 1379.86 153.468 1377.76 Q155.806 1375.65 155.806 1372.04 Q155.806 1368.43 153.468 1366.32 Q151.13 1364.22 147.126 1364.22 Q145.251 1364.22 143.376 1364.63 Q141.524 1365.05 139.58 1365.93 L139.58 1348.57 Z\" fill=\"#000000\" fill-rule=\"evenodd\" fill-opacity=\"1\" /><path clip-path=\"url(#clip230)\" d=\"M 0 0 M50.9921 1166.63 L80.6679 1166.63 L80.6679 1170.57 L50.9921 1170.57 L50.9921 1166.63 Z\" fill=\"#000000\" fill-rule=\"evenodd\" fill-opacity=\"1\" /><path clip-path=\"url(#clip230)\" d=\"M 0 0 M86.5475 1179.53 L94.1863 1179.53 L94.1863 1153.16 L85.8762 1154.83 L85.8762 1150.57 L94.14 1148.9 L98.8159 1148.9 L98.8159 1179.53 L106.455 1179.53 L106.455 1183.46 L86.5475 1183.46 L86.5475 1179.53 Z\" fill=\"#000000\" fill-rule=\"evenodd\" fill-opacity=\"1\" /><path clip-path=\"url(#clip230)\" d=\"M 0 0 M121.524 1151.98 Q117.913 1151.98 116.084 1155.54 Q114.279 1159.09 114.279 1166.22 Q114.279 1173.32 116.084 1176.89 Q117.913 1180.43 121.524 1180.43 Q125.158 1180.43 126.964 1176.89 Q128.793 1173.32 128.793 1166.22 Q128.793 1159.09 126.964 1155.54 Q125.158 1151.98 121.524 1151.98 M121.524 1148.28 Q127.334 1148.28 130.39 1152.88 Q133.469 1157.47 133.469 1166.22 Q133.469 1174.94 130.39 1179.55 Q127.334 1184.13 121.524 1184.13 Q115.714 1184.13 112.635 1179.55 Q109.58 1174.94 109.58 1166.22 Q109.58 1157.47 112.635 1152.88 Q115.714 1148.28 121.524 1148.28 Z\" fill=\"#000000\" fill-rule=\"evenodd\" fill-opacity=\"1\" /><path clip-path=\"url(#clip230)\" d=\"M 0 0 M148.538 1151.98 Q144.927 1151.98 143.098 1155.54 Q141.293 1159.09 141.293 1166.22 Q141.293 1173.32 143.098 1176.89 Q144.927 1180.43 148.538 1180.43 Q152.172 1180.43 153.978 1176.89 Q155.806 1173.32 155.806 1166.22 Q155.806 1159.09 153.978 1155.54 Q152.172 1151.98 148.538 1151.98 M148.538 1148.28 Q154.348 1148.28 157.404 1152.88 Q160.482 1157.47 160.482 1166.22 Q160.482 1174.94 157.404 1179.55 Q154.348 1184.13 148.538 1184.13 Q142.728 1184.13 139.649 1179.55 Q136.594 1174.94 136.594 1166.22 Q136.594 1157.47 139.649 1152.88 Q142.728 1148.28 148.538 1148.28 Z\" fill=\"#000000\" fill-rule=\"evenodd\" fill-opacity=\"1\" /><path clip-path=\"url(#clip230)\" d=\"M 0 0 M78.6772 966.965 L108.353 966.965 L108.353 970.9 L78.6772 970.9 L78.6772 966.965 Z\" fill=\"#000000\" fill-rule=\"evenodd\" fill-opacity=\"1\" /><path clip-path=\"url(#clip230)\" d=\"M 0 0 M112.242 949.234 L134.464 949.234 L134.464 951.224 L121.918 983.794 L117.033 983.794 L128.839 953.169 L112.242 953.169 L112.242 949.234 Z\" fill=\"#000000\" fill-rule=\"evenodd\" fill-opacity=\"1\" /><path clip-path=\"url(#clip230)\" d=\"M 0 0 M139.58 949.234 L157.936 949.234 L157.936 953.169 L143.862 953.169 L143.862 961.641 Q144.881 961.294 145.899 961.132 Q146.918 960.946 147.936 960.946 Q153.723 960.946 157.103 964.118 Q160.482 967.289 160.482 972.706 Q160.482 978.284 157.01 981.386 Q153.538 984.465 147.218 984.465 Q145.043 984.465 142.774 984.094 Q140.529 983.724 138.121 982.983 L138.121 978.284 Q140.205 979.419 142.427 979.974 Q144.649 980.53 147.126 980.53 Q151.13 980.53 153.468 978.423 Q155.806 976.317 155.806 972.706 Q155.806 969.095 153.468 966.988 Q151.13 964.882 147.126 964.882 Q145.251 964.882 143.376 965.298 Q141.524 965.715 139.58 966.595 L139.58 949.234 Z\" fill=\"#000000\" fill-rule=\"evenodd\" fill-opacity=\"1\" /><path clip-path=\"url(#clip230)\" d=\"M 0 0 M77.7744 767.297 L107.45 767.297 L107.45 771.233 L77.7744 771.233 L77.7744 767.297 Z\" fill=\"#000000\" fill-rule=\"evenodd\" fill-opacity=\"1\" /><path clip-path=\"url(#clip230)\" d=\"M 0 0 M112.566 749.566 L130.922 749.566 L130.922 753.501 L116.848 753.501 L116.848 761.973 Q117.867 761.626 118.885 761.464 Q119.904 761.279 120.922 761.279 Q126.709 761.279 130.089 764.45 Q133.469 767.621 133.469 773.038 Q133.469 778.617 129.996 781.719 Q126.524 784.797 120.205 784.797 Q118.029 784.797 115.76 784.427 Q113.515 784.057 111.108 783.316 L111.108 778.617 Q113.191 779.751 115.413 780.307 Q117.635 780.862 120.112 780.862 Q124.117 780.862 126.455 778.756 Q128.793 776.649 128.793 773.038 Q128.793 769.427 126.455 767.321 Q124.117 765.214 120.112 765.214 Q118.237 765.214 116.362 765.631 Q114.51 766.047 112.566 766.927 L112.566 749.566 Z\" fill=\"#000000\" fill-rule=\"evenodd\" fill-opacity=\"1\" /><path clip-path=\"url(#clip230)\" d=\"M 0 0 M148.538 752.645 Q144.927 752.645 143.098 756.209 Q141.293 759.751 141.293 766.881 Q141.293 773.987 143.098 777.552 Q144.927 781.094 148.538 781.094 Q152.172 781.094 153.978 777.552 Q155.806 773.987 155.806 766.881 Q155.806 759.751 153.978 756.209 Q152.172 752.645 148.538 752.645 M148.538 748.941 Q154.348 748.941 157.404 753.547 Q160.482 758.131 160.482 766.881 Q160.482 775.608 157.404 780.214 Q154.348 784.797 148.538 784.797 Q142.728 784.797 139.649 780.214 Q136.594 775.608 136.594 766.881 Q136.594 758.131 139.649 753.547 Q142.728 748.941 148.538 748.941 Z\" fill=\"#000000\" fill-rule=\"evenodd\" fill-opacity=\"1\" /><path clip-path=\"url(#clip230)\" d=\"M 0 0 M79.3716 567.63 L109.047 567.63 L109.047 571.565 L79.3716 571.565 L79.3716 567.63 Z\" fill=\"#000000\" fill-rule=\"evenodd\" fill-opacity=\"1\" /><path clip-path=\"url(#clip230)\" d=\"M 0 0 M118.145 580.523 L134.464 580.523 L134.464 584.458 L112.52 584.458 L112.52 580.523 Q115.182 577.769 119.765 573.139 Q124.371 568.486 125.552 567.144 Q127.797 564.621 128.677 562.884 Q129.58 561.125 129.58 559.435 Q129.58 556.681 127.635 554.945 Q125.714 553.209 122.612 553.209 Q120.413 553.209 117.959 553.972 Q115.529 554.736 112.751 556.287 L112.751 551.565 Q115.575 550.431 118.029 549.852 Q120.482 549.273 122.52 549.273 Q127.89 549.273 131.084 551.959 Q134.279 554.644 134.279 559.134 Q134.279 561.264 133.469 563.185 Q132.682 565.084 130.575 567.676 Q129.996 568.347 126.894 571.565 Q123.793 574.759 118.145 580.523 Z\" fill=\"#000000\" fill-rule=\"evenodd\" fill-opacity=\"1\" /><path clip-path=\"url(#clip230)\" d=\"M 0 0 M139.58 549.898 L157.936 549.898 L157.936 553.834 L143.862 553.834 L143.862 562.306 Q144.881 561.959 145.899 561.797 Q146.918 561.611 147.936 561.611 Q153.723 561.611 157.103 564.783 Q160.482 567.954 160.482 573.371 Q160.482 578.949 157.01 582.051 Q153.538 585.13 147.218 585.13 Q145.043 585.13 142.774 584.759 Q140.529 584.389 138.121 583.648 L138.121 578.949 Q140.205 580.083 142.427 580.639 Q144.649 581.195 147.126 581.195 Q151.13 581.195 153.468 579.088 Q155.806 576.982 155.806 573.371 Q155.806 569.759 153.468 567.653 Q151.13 565.546 147.126 565.546 Q145.251 565.546 143.376 565.963 Q141.524 566.38 139.58 567.259 L139.58 549.898 Z\" fill=\"#000000\" fill-rule=\"evenodd\" fill-opacity=\"1\" /><path clip-path=\"url(#clip230)\" d=\"M 0 0 M148.538 353.31 Q144.927 353.31 143.098 356.874 Q141.293 360.416 141.293 367.546 Q141.293 374.652 143.098 378.217 Q144.927 381.758 148.538 381.758 Q152.172 381.758 153.978 378.217 Q155.806 374.652 155.806 367.546 Q155.806 360.416 153.978 356.874 Q152.172 353.31 148.538 353.31 M148.538 349.606 Q154.348 349.606 157.404 354.212 Q160.482 358.796 160.482 367.546 Q160.482 376.272 157.404 380.879 Q154.348 385.462 148.538 385.462 Q142.728 385.462 139.649 380.879 Q136.594 376.272 136.594 367.546 Q136.594 358.796 139.649 354.212 Q142.728 349.606 148.538 349.606 Z\" fill=\"#000000\" fill-rule=\"evenodd\" fill-opacity=\"1\" /><path clip-path=\"url(#clip230)\" d=\"M 0 0 M118.145 181.188 L134.464 181.188 L134.464 185.123 L112.52 185.123 L112.52 181.188 Q115.182 178.434 119.765 173.804 Q124.371 169.151 125.552 167.809 Q127.797 165.285 128.677 163.549 Q129.58 161.79 129.58 160.1 Q129.58 157.346 127.635 155.61 Q125.714 153.873 122.612 153.873 Q120.413 153.873 117.959 154.637 Q115.529 155.401 112.751 156.952 L112.751 152.23 Q115.575 151.096 118.029 150.517 Q120.482 149.938 122.52 149.938 Q127.89 149.938 131.084 152.623 Q134.279 155.309 134.279 159.799 Q134.279 161.929 133.469 163.85 Q132.682 165.748 130.575 168.341 Q129.996 169.012 126.894 172.23 Q123.793 175.424 118.145 181.188 Z\" fill=\"#000000\" fill-rule=\"evenodd\" fill-opacity=\"1\" /><path clip-path=\"url(#clip230)\" d=\"M 0 0 M139.58 150.563 L157.936 150.563 L157.936 154.498 L143.862 154.498 L143.862 162.971 Q144.881 162.623 145.899 162.461 Q146.918 162.276 147.936 162.276 Q153.723 162.276 157.103 165.447 Q160.482 168.619 160.482 174.035 Q160.482 179.614 157.01 182.716 Q153.538 185.795 147.218 185.795 Q145.043 185.795 142.774 185.424 Q140.529 185.054 138.121 184.313 L138.121 179.614 Q140.205 180.748 142.427 181.304 Q144.649 181.859 147.126 181.859 Q151.13 181.859 153.468 179.753 Q155.806 177.646 155.806 174.035 Q155.806 170.424 153.468 168.318 Q151.13 166.211 147.126 166.211 Q145.251 166.211 143.376 166.628 Q141.524 167.045 139.58 167.924 L139.58 150.563 Z\" fill=\"#000000\" fill-rule=\"evenodd\" fill-opacity=\"1\" /><polyline clip-path=\"url(#clip232)\" style=\"stroke:#009af9; stroke-width:12; stroke-opacity:1; fill:none\" points=\"\n",
       "  257.509,1445.72 277.851,1377.58 298.193,1312.11 318.536,1249.27 338.878,1188.99 359.22,1131.24 379.562,1075.96 399.904,1023.12 420.247,972.647 440.589,924.511 \n",
       "  460.931,878.66 481.273,835.044 501.615,793.617 521.958,754.331 542.3,717.137 562.642,681.987 582.984,648.834 603.326,617.63 623.669,588.327 644.011,560.877 \n",
       "  664.353,535.232 684.695,511.343 705.037,489.164 725.38,468.646 745.722,449.742 766.064,432.403 786.406,416.581 806.748,402.229 827.091,389.299 847.433,377.742 \n",
       "  867.775,367.511 888.117,358.558 908.459,350.835 928.802,344.294 949.144,338.887 969.486,334.566 989.828,331.283 1010.17,328.991 1030.51,327.641 1050.85,327.186 \n",
       "  1071.2,327.577 1091.54,328.767 1111.88,330.708 1132.22,333.352 1152.57,336.65 1172.91,340.556 1193.25,345.02 1213.59,349.996 1233.93,355.435 1254.28,361.289 \n",
       "  1274.62,367.511 1294.96,374.052 1315.3,380.865 1335.65,387.901 1355.99,395.113 1376.33,402.453 1396.67,409.872 1417.01,417.324 1437.36,424.76 1457.7,432.131 \n",
       "  1478.04,439.391 1498.38,446.491 1518.73,453.384 1539.07,460.021 1559.41,466.354 1579.75,472.336 1600.09,477.919 1620.44,483.054 1640.78,487.695 1661.12,491.792 \n",
       "  1681.46,495.298 1701.81,498.165 1722.15,500.346 1742.49,501.791 1762.83,502.454 1783.17,502.286 1803.52,501.24 1823.86,499.267 1844.2,496.32 1864.54,492.351 \n",
       "  1884.89,487.311 1905.23,481.154 1925.57,473.83 1945.91,465.292 1966.25,455.492 1986.6,444.383 2006.94,431.916 2027.28,418.043 2047.62,402.716 2067.97,385.888 \n",
       "  2088.31,367.511 2108.65,347.536 2128.99,325.916 2149.33,302.603 2169.68,277.549 2190.02,250.705 2210.36,222.025 2230.7,191.46 2251.04,158.962 2271.39,124.483 \n",
       "  2291.73,87.9763 \n",
       "  \"/>\n",
       "</svg>\n"
      ]
     },
     "execution_count": 1378,
     "metadata": {},
     "output_type": "execute_result"
    }
   ],
   "source": [
    "f = fromroots([-2, 0, 4])\n",
    "\n",
    "default(framestyle = :zerolines)\n",
    "\n",
    "M = 15\n",
    "ε = 1.0e-10\n",
    "\n",
    "plot(f, -5, 5, linewidth = 3, label = false)"
   ]
  },
  {
   "cell_type": "code",
   "execution_count": 1379,
   "metadata": {
    "scrolled": false
   },
   "outputs": [
    {
     "data": {
      "image/svg+xml": [
       "<?xml version=\"1.0\" encoding=\"utf-8\"?>\n",
       "<svg xmlns=\"http://www.w3.org/2000/svg\" xmlns:xlink=\"http://www.w3.org/1999/xlink\" width=\"600\" height=\"400\" viewBox=\"0 0 2400 1600\">\n",
       "<defs>\n",
       "  <clipPath id=\"clip270\">\n",
       "    <rect x=\"0\" y=\"0\" width=\"2400\" height=\"1600\"/>\n",
       "  </clipPath>\n",
       "</defs>\n",
       "<path clip-path=\"url(#clip270)\" d=\"\n",
       "M0 1600 L2400 1600 L2400 0 L0 0  Z\n",
       "  \" fill=\"#ffffff\" fill-rule=\"evenodd\" fill-opacity=\"1\"/>\n",
       "<defs>\n",
       "  <clipPath id=\"clip271\">\n",
       "    <rect x=\"480\" y=\"0\" width=\"1681\" height=\"1600\"/>\n",
       "  </clipPath>\n",
       "</defs>\n",
       "<path clip-path=\"url(#clip270)\" d=\"\n",
       "M199.218 1423.18 L2352.76 1423.18 L2352.76 47.2441 L199.218 47.2441  Z\n",
       "  \" fill=\"#ffffff\" fill-rule=\"evenodd\" fill-opacity=\"1\"/>\n",
       "<defs>\n",
       "  <clipPath id=\"clip272\">\n",
       "    <rect x=\"199\" y=\"47\" width=\"2155\" height=\"1377\"/>\n",
       "  </clipPath>\n",
       "</defs>\n",
       "<polyline clip-path=\"url(#clip272)\" style=\"stroke:#000000; stroke-width:2; stroke-opacity:0.1; fill:none\" points=\"\n",
       "  260.167,1423.18 260.167,47.2441 \n",
       "  \"/>\n",
       "<polyline clip-path=\"url(#clip272)\" style=\"stroke:#000000; stroke-width:2; stroke-opacity:0.1; fill:none\" points=\"\n",
       "  937.381,1423.18 937.381,47.2441 \n",
       "  \"/>\n",
       "<polyline clip-path=\"url(#clip272)\" style=\"stroke:#000000; stroke-width:2; stroke-opacity:0.1; fill:none\" points=\"\n",
       "  1614.59,1423.18 1614.59,47.2441 \n",
       "  \"/>\n",
       "<polyline clip-path=\"url(#clip272)\" style=\"stroke:#000000; stroke-width:2; stroke-opacity:0.1; fill:none\" points=\"\n",
       "  2291.81,1423.18 2291.81,47.2441 \n",
       "  \"/>\n",
       "<polyline clip-path=\"url(#clip270)\" style=\"stroke:#000000; stroke-width:4; stroke-opacity:1; fill:none\" points=\"\n",
       "  199.218,1384.24 2352.76,1384.24 \n",
       "  \"/>\n",
       "<polyline clip-path=\"url(#clip270)\" style=\"stroke:#000000; stroke-width:4; stroke-opacity:0; fill:none\" points=\"\n",
       "  260.167,1384.24 260.167,1384.24 \n",
       "  \"/>\n",
       "<polyline clip-path=\"url(#clip270)\" style=\"stroke:#000000; stroke-width:4; stroke-opacity:0; fill:none\" points=\"\n",
       "  937.381,1384.24 937.381,1384.24 \n",
       "  \"/>\n",
       "<polyline clip-path=\"url(#clip270)\" style=\"stroke:#000000; stroke-width:4; stroke-opacity:0; fill:none\" points=\"\n",
       "  1614.59,1384.24 1614.59,1384.24 \n",
       "  \"/>\n",
       "<polyline clip-path=\"url(#clip270)\" style=\"stroke:#000000; stroke-width:4; stroke-opacity:0; fill:none\" points=\"\n",
       "  2291.81,1384.24 2291.81,1384.24 \n",
       "  \"/>\n",
       "<path clip-path=\"url(#clip270)\" d=\"M 0 0 M260.167 1452.37 Q256.556 1452.37 254.728 1455.94 Q252.922 1459.48 252.922 1466.61 Q252.922 1473.71 254.728 1477.28 Q256.556 1480.82 260.167 1480.82 Q263.802 1480.82 265.607 1477.28 Q267.436 1473.71 267.436 1466.61 Q267.436 1459.48 265.607 1455.94 Q263.802 1452.37 260.167 1452.37 M260.167 1448.67 Q265.978 1448.67 269.033 1453.27 Q272.112 1457.86 272.112 1466.61 Q272.112 1475.33 269.033 1479.94 Q265.978 1484.52 260.167 1484.52 Q254.357 1484.52 251.279 1479.94 Q248.223 1475.33 248.223 1466.61 Q248.223 1457.86 251.279 1453.27 Q254.357 1448.67 260.167 1448.67 Z\" fill=\"#000000\" fill-rule=\"evenodd\" fill-opacity=\"1\" /><path clip-path=\"url(#clip270)\" d=\"M 0 0 M927.658 1449.29 L946.015 1449.29 L946.015 1453.23 L931.941 1453.23 L931.941 1461.7 Q932.959 1461.35 933.978 1461.19 Q934.996 1461 936.015 1461 Q941.802 1461 945.181 1464.18 Q948.561 1467.35 948.561 1472.76 Q948.561 1478.34 945.089 1481.44 Q941.617 1484.52 935.297 1484.52 Q933.121 1484.52 930.853 1484.15 Q928.607 1483.78 926.2 1483.04 L926.2 1478.34 Q928.283 1479.48 930.506 1480.03 Q932.728 1480.59 935.205 1480.59 Q939.209 1480.59 941.547 1478.48 Q943.885 1476.38 943.885 1472.76 Q943.885 1469.15 941.547 1467.05 Q939.209 1464.94 935.205 1464.94 Q933.33 1464.94 931.455 1465.36 Q929.603 1465.77 927.658 1466.65 L927.658 1449.29 Z\" fill=\"#000000\" fill-rule=\"evenodd\" fill-opacity=\"1\" /><path clip-path=\"url(#clip270)\" d=\"M 0 0 M1591.47 1479.92 L1599.11 1479.92 L1599.11 1453.55 L1590.8 1455.22 L1590.8 1450.96 L1599.06 1449.29 L1603.74 1449.29 L1603.74 1479.92 L1611.38 1479.92 L1611.38 1483.85 L1591.47 1483.85 L1591.47 1479.92 Z\" fill=\"#000000\" fill-rule=\"evenodd\" fill-opacity=\"1\" /><path clip-path=\"url(#clip270)\" d=\"M 0 0 M1626.45 1452.37 Q1622.83 1452.37 1621.01 1455.94 Q1619.2 1459.48 1619.2 1466.61 Q1619.2 1473.71 1621.01 1477.28 Q1622.83 1480.82 1626.45 1480.82 Q1630.08 1480.82 1631.89 1477.28 Q1633.71 1473.71 1633.71 1466.61 Q1633.71 1459.48 1631.89 1455.94 Q1630.08 1452.37 1626.45 1452.37 M1626.45 1448.67 Q1632.26 1448.67 1635.31 1453.27 Q1638.39 1457.86 1638.39 1466.61 Q1638.39 1475.33 1635.31 1479.94 Q1632.26 1484.52 1626.45 1484.52 Q1620.64 1484.52 1617.56 1479.94 Q1614.5 1475.33 1614.5 1466.61 Q1614.5 1457.86 1617.56 1453.27 Q1620.64 1448.67 1626.45 1448.67 Z\" fill=\"#000000\" fill-rule=\"evenodd\" fill-opacity=\"1\" /><path clip-path=\"url(#clip270)\" d=\"M 0 0 M2269.18 1479.92 L2276.82 1479.92 L2276.82 1453.55 L2268.51 1455.22 L2268.51 1450.96 L2276.77 1449.29 L2281.45 1449.29 L2281.45 1479.92 L2289.09 1479.92 L2289.09 1483.85 L2269.18 1483.85 L2269.18 1479.92 Z\" fill=\"#000000\" fill-rule=\"evenodd\" fill-opacity=\"1\" /><path clip-path=\"url(#clip270)\" d=\"M 0 0 M2294.2 1449.29 L2312.56 1449.29 L2312.56 1453.23 L2298.48 1453.23 L2298.48 1461.7 Q2299.5 1461.35 2300.52 1461.19 Q2301.54 1461 2302.56 1461 Q2308.35 1461 2311.73 1464.18 Q2315.11 1467.35 2315.11 1472.76 Q2315.11 1478.34 2311.63 1481.44 Q2308.16 1484.52 2301.84 1484.52 Q2299.67 1484.52 2297.4 1484.15 Q2295.15 1483.78 2292.74 1483.04 L2292.74 1478.34 Q2294.83 1479.48 2297.05 1480.03 Q2299.27 1480.59 2301.75 1480.59 Q2305.75 1480.59 2308.09 1478.48 Q2310.43 1476.38 2310.43 1472.76 Q2310.43 1469.15 2308.09 1467.05 Q2305.75 1464.94 2301.75 1464.94 Q2299.87 1464.94 2298 1465.36 Q2296.15 1465.77 2294.2 1466.65 L2294.2 1449.29 Z\" fill=\"#000000\" fill-rule=\"evenodd\" fill-opacity=\"1\" /><path clip-path=\"url(#clip270)\" d=\"M 0 0 M1173.13 1508.52 L1179.56 1508.52 L1179.56 1556.04 L1173.13 1556.04 L1173.13 1508.52 Z\" fill=\"#000000\" fill-rule=\"evenodd\" fill-opacity=\"1\" /><path clip-path=\"url(#clip270)\" d=\"M 0 0 M1191.5 1510.27 L1191.5 1520.4 L1203.56 1520.4 L1203.56 1524.95 L1191.5 1524.95 L1191.5 1544.3 Q1191.5 1548.66 1192.68 1549.9 Q1193.89 1551.14 1197.55 1551.14 L1203.56 1551.14 L1203.56 1556.04 L1197.55 1556.04 Q1190.77 1556.04 1188.19 1553.53 Q1185.61 1550.98 1185.61 1544.3 L1185.61 1524.95 L1181.31 1524.95 L1181.31 1520.4 L1185.61 1520.4 L1185.61 1510.27 L1191.5 1510.27 Z\" fill=\"#000000\" fill-rule=\"evenodd\" fill-opacity=\"1\" /><path clip-path=\"url(#clip270)\" d=\"M 0 0 M1240.2 1536.76 L1240.2 1539.62 L1213.27 1539.62 Q1213.65 1545.67 1216.9 1548.85 Q1220.18 1552 1226 1552 Q1229.37 1552 1232.53 1551.17 Q1235.71 1550.35 1238.83 1548.69 L1238.83 1554.23 Q1235.68 1555.57 1232.37 1556.27 Q1229.06 1556.97 1225.65 1556.97 Q1217.12 1556.97 1212.12 1552 Q1207.16 1547.04 1207.16 1538.57 Q1207.16 1529.82 1211.87 1524.69 Q1216.61 1519.54 1224.63 1519.54 Q1231.82 1519.54 1235.99 1524.18 Q1240.2 1528.8 1240.2 1536.76 M1234.34 1535.04 Q1234.28 1530.23 1231.63 1527.37 Q1229.02 1524.5 1224.7 1524.5 Q1219.79 1524.5 1216.83 1527.27 Q1213.91 1530.04 1213.46 1535.07 L1234.34 1535.04 Z\" fill=\"#000000\" fill-rule=\"evenodd\" fill-opacity=\"1\" /><path clip-path=\"url(#clip270)\" d=\"M 0 0 M1267 1525.87 Q1266.01 1525.3 1264.83 1525.04 Q1263.69 1524.76 1262.28 1524.76 Q1257.32 1524.76 1254.65 1528 Q1252 1531.22 1252 1537.27 L1252 1556.04 L1246.12 1556.04 L1246.12 1520.4 L1252 1520.4 L1252 1525.93 Q1253.85 1522.69 1256.81 1521.13 Q1259.77 1519.54 1264 1519.54 Q1264.61 1519.54 1265.34 1519.63 Q1266.07 1519.7 1266.96 1519.85 L1267 1525.87 Z\" fill=\"#000000\" fill-rule=\"evenodd\" fill-opacity=\"1\" /><path clip-path=\"url(#clip270)\" d=\"M 0 0 M1289.34 1538.12 Q1282.24 1538.12 1279.5 1539.75 Q1276.77 1541.37 1276.77 1545.29 Q1276.77 1548.4 1278.8 1550.25 Q1280.87 1552.07 1284.41 1552.07 Q1289.28 1552.07 1292.2 1548.63 Q1295.16 1545.16 1295.16 1539.43 L1295.16 1538.12 L1289.34 1538.12 M1301.02 1535.71 L1301.02 1556.04 L1295.16 1556.04 L1295.16 1550.63 Q1293.16 1553.88 1290.17 1555.44 Q1287.17 1556.97 1282.85 1556.97 Q1277.37 1556.97 1274.13 1553.91 Q1270.91 1550.82 1270.91 1545.67 Q1270.91 1539.65 1274.92 1536.6 Q1278.96 1533.54 1286.95 1533.54 L1295.16 1533.54 L1295.16 1532.97 Q1295.16 1528.93 1292.49 1526.73 Q1289.85 1524.5 1285.04 1524.5 Q1281.99 1524.5 1279.09 1525.23 Q1276.19 1525.97 1273.52 1527.43 L1273.52 1522.02 Q1276.74 1520.78 1279.76 1520.17 Q1282.78 1519.54 1285.65 1519.54 Q1293.38 1519.54 1297.2 1523.55 Q1301.02 1527.56 1301.02 1535.71 Z\" fill=\"#000000\" fill-rule=\"evenodd\" fill-opacity=\"1\" /><path clip-path=\"url(#clip270)\" d=\"M 0 0 M1332.82 1521.76 L1332.82 1527.24 Q1330.33 1525.87 1327.82 1525.2 Q1325.34 1524.5 1322.79 1524.5 Q1317.09 1524.5 1313.94 1528.13 Q1310.79 1531.73 1310.79 1538.25 Q1310.79 1544.78 1313.94 1548.4 Q1317.09 1552 1322.79 1552 Q1325.34 1552 1327.82 1551.33 Q1330.33 1550.63 1332.82 1549.26 L1332.82 1554.68 Q1330.37 1555.82 1327.72 1556.39 Q1325.11 1556.97 1322.15 1556.97 Q1314.1 1556.97 1309.36 1551.91 Q1304.62 1546.85 1304.62 1538.25 Q1304.62 1529.53 1309.39 1524.53 Q1314.2 1519.54 1322.54 1519.54 Q1325.24 1519.54 1327.82 1520.11 Q1330.4 1520.65 1332.82 1521.76 Z\" fill=\"#000000\" fill-rule=\"evenodd\" fill-opacity=\"1\" /><path clip-path=\"url(#clip270)\" d=\"M 0 0 M1338.96 1520.4 L1344.82 1520.4 L1344.82 1556.68 Q1344.82 1563.49 1342.21 1566.55 Q1339.63 1569.6 1333.87 1569.6 L1331.64 1569.6 L1331.64 1564.64 L1333.2 1564.64 Q1336.54 1564.64 1337.75 1563.08 Q1338.96 1561.55 1338.96 1556.68 L1338.96 1520.4 M1338.96 1506.52 L1344.82 1506.52 L1344.82 1513.93 L1338.96 1513.93 L1338.96 1506.52 Z\" fill=\"#000000\" fill-rule=\"evenodd\" fill-opacity=\"1\" /><path clip-path=\"url(#clip270)\" d=\"M 0 0 M1367.16 1538.12 Q1360.06 1538.12 1357.32 1539.75 Q1354.59 1541.37 1354.59 1545.29 Q1354.59 1548.4 1356.62 1550.25 Q1358.69 1552.07 1362.23 1552.07 Q1367.1 1552.07 1370.02 1548.63 Q1372.98 1545.16 1372.98 1539.43 L1372.98 1538.12 L1367.16 1538.12 M1378.84 1535.71 L1378.84 1556.04 L1372.98 1556.04 L1372.98 1550.63 Q1370.98 1553.88 1367.99 1555.44 Q1365 1556.97 1360.67 1556.97 Q1355.19 1556.97 1351.95 1553.91 Q1348.73 1550.82 1348.73 1545.67 Q1348.73 1539.65 1352.74 1536.6 Q1356.78 1533.54 1364.77 1533.54 L1372.98 1533.54 L1372.98 1532.97 Q1372.98 1528.93 1370.31 1526.73 Q1367.67 1524.5 1362.86 1524.5 Q1359.81 1524.5 1356.91 1525.23 Q1354.01 1525.97 1351.34 1527.43 L1351.34 1522.02 Q1354.56 1520.78 1357.58 1520.17 Q1360.6 1519.54 1363.47 1519.54 Q1371.2 1519.54 1375.02 1523.55 Q1378.84 1527.56 1378.84 1535.71 Z\" fill=\"#000000\" fill-rule=\"evenodd\" fill-opacity=\"1\" /><polyline clip-path=\"url(#clip272)\" style=\"stroke:#000000; stroke-width:2; stroke-opacity:0.1; fill:none\" points=\"\n",
       "  199.218,1384.24 2352.76,1384.24 \n",
       "  \"/>\n",
       "<polyline clip-path=\"url(#clip272)\" style=\"stroke:#000000; stroke-width:2; stroke-opacity:0.1; fill:none\" points=\"\n",
       "  199.218,1059.73 2352.76,1059.73 \n",
       "  \"/>\n",
       "<polyline clip-path=\"url(#clip272)\" style=\"stroke:#000000; stroke-width:2; stroke-opacity:0.1; fill:none\" points=\"\n",
       "  199.218,735.212 2352.76,735.212 \n",
       "  \"/>\n",
       "<polyline clip-path=\"url(#clip272)\" style=\"stroke:#000000; stroke-width:2; stroke-opacity:0.1; fill:none\" points=\"\n",
       "  199.218,410.699 2352.76,410.699 \n",
       "  \"/>\n",
       "<polyline clip-path=\"url(#clip272)\" style=\"stroke:#000000; stroke-width:2; stroke-opacity:0.1; fill:none\" points=\"\n",
       "  199.218,86.1857 2352.76,86.1857 \n",
       "  \"/>\n",
       "<polyline clip-path=\"url(#clip270)\" style=\"stroke:#000000; stroke-width:4; stroke-opacity:1; fill:none\" points=\"\n",
       "  260.167,1423.18 260.167,47.2441 \n",
       "  \"/>\n",
       "<polyline clip-path=\"url(#clip270)\" style=\"stroke:#000000; stroke-width:4; stroke-opacity:0; fill:none\" points=\"\n",
       "  260.167,1384.24 260.167,1384.24 \n",
       "  \"/>\n",
       "<polyline clip-path=\"url(#clip270)\" style=\"stroke:#000000; stroke-width:4; stroke-opacity:0; fill:none\" points=\"\n",
       "  260.167,1059.73 260.167,1059.73 \n",
       "  \"/>\n",
       "<polyline clip-path=\"url(#clip270)\" style=\"stroke:#000000; stroke-width:4; stroke-opacity:0; fill:none\" points=\"\n",
       "  260.167,735.212 260.167,735.212 \n",
       "  \"/>\n",
       "<polyline clip-path=\"url(#clip270)\" style=\"stroke:#000000; stroke-width:4; stroke-opacity:0; fill:none\" points=\"\n",
       "  260.167,410.699 260.167,410.699 \n",
       "  \"/>\n",
       "<polyline clip-path=\"url(#clip270)\" style=\"stroke:#000000; stroke-width:4; stroke-opacity:0; fill:none\" points=\"\n",
       "  260.167,86.1857 260.167,86.1857 \n",
       "  \"/>\n",
       "<path clip-path=\"url(#clip270)\" d=\"M 0 0 M151.274 1370.04 Q147.663 1370.04 145.834 1373.6 Q144.029 1377.14 144.029 1384.27 Q144.029 1391.38 145.834 1394.94 Q147.663 1398.49 151.274 1398.49 Q154.908 1398.49 156.714 1394.94 Q158.542 1391.38 158.542 1384.27 Q158.542 1377.14 156.714 1373.6 Q154.908 1370.04 151.274 1370.04 M151.274 1366.33 Q157.084 1366.33 160.14 1370.94 Q163.218 1375.52 163.218 1384.27 Q163.218 1393 160.14 1397.61 Q157.084 1402.19 151.274 1402.19 Q145.464 1402.19 142.385 1397.61 Q139.329 1393 139.329 1384.27 Q139.329 1375.52 142.385 1370.94 Q145.464 1366.33 151.274 1366.33 Z\" fill=\"#000000\" fill-rule=\"evenodd\" fill-opacity=\"1\" /><path clip-path=\"url(#clip270)\" d=\"M 0 0 M142.316 1042.45 L160.672 1042.45 L160.672 1046.38 L146.598 1046.38 L146.598 1054.85 Q147.616 1054.51 148.635 1054.34 Q149.653 1054.16 150.672 1054.16 Q156.459 1054.16 159.839 1057.33 Q163.218 1060.5 163.218 1065.92 Q163.218 1071.5 159.746 1074.6 Q156.274 1077.68 149.954 1077.68 Q147.778 1077.68 145.51 1077.31 Q143.265 1076.94 140.857 1076.19 L140.857 1071.5 Q142.941 1072.63 145.163 1073.19 Q147.385 1073.74 149.862 1073.74 Q153.866 1073.74 156.204 1071.63 Q158.542 1069.53 158.542 1065.92 Q158.542 1062.31 156.204 1060.2 Q153.866 1058.09 149.862 1058.09 Q147.987 1058.09 146.112 1058.51 Q144.26 1058.93 142.316 1059.81 L142.316 1042.45 Z\" fill=\"#000000\" fill-rule=\"evenodd\" fill-opacity=\"1\" /><path clip-path=\"url(#clip270)\" d=\"M 0 0 M116.297 748.557 L123.936 748.557 L123.936 722.191 L115.626 723.858 L115.626 719.599 L123.89 717.932 L128.566 717.932 L128.566 748.557 L136.204 748.557 L136.204 752.492 L116.297 752.492 L116.297 748.557 Z\" fill=\"#000000\" fill-rule=\"evenodd\" fill-opacity=\"1\" /><path clip-path=\"url(#clip270)\" d=\"M 0 0 M151.274 721.011 Q147.663 721.011 145.834 724.575 Q144.029 728.117 144.029 735.247 Q144.029 742.353 145.834 745.918 Q147.663 749.46 151.274 749.46 Q154.908 749.46 156.714 745.918 Q158.542 742.353 158.542 735.247 Q158.542 728.117 156.714 724.575 Q154.908 721.011 151.274 721.011 M151.274 717.307 Q157.084 717.307 160.14 721.913 Q163.218 726.497 163.218 735.247 Q163.218 743.973 160.14 748.58 Q157.084 753.163 151.274 753.163 Q145.464 753.163 142.385 748.58 Q139.329 743.973 139.329 735.247 Q139.329 726.497 142.385 721.913 Q145.464 717.307 151.274 717.307 Z\" fill=\"#000000\" fill-rule=\"evenodd\" fill-opacity=\"1\" /><path clip-path=\"url(#clip270)\" d=\"M 0 0 M117.293 424.044 L124.931 424.044 L124.931 397.678 L116.621 399.345 L116.621 395.085 L124.885 393.419 L129.561 393.419 L129.561 424.044 L137.2 424.044 L137.2 427.979 L117.293 427.979 L117.293 424.044 Z\" fill=\"#000000\" fill-rule=\"evenodd\" fill-opacity=\"1\" /><path clip-path=\"url(#clip270)\" d=\"M 0 0 M142.316 393.419 L160.672 393.419 L160.672 397.354 L146.598 397.354 L146.598 405.826 Q147.616 405.479 148.635 405.317 Q149.653 405.132 150.672 405.132 Q156.459 405.132 159.839 408.303 Q163.218 411.474 163.218 416.891 Q163.218 422.47 159.746 425.571 Q156.274 428.65 149.954 428.65 Q147.778 428.65 145.51 428.28 Q143.265 427.909 140.857 427.169 L140.857 422.47 Q142.941 423.604 145.163 424.159 Q147.385 424.715 149.862 424.715 Q153.866 424.715 156.204 422.608 Q158.542 420.502 158.542 416.891 Q158.542 413.28 156.204 411.173 Q153.866 409.067 149.862 409.067 Q147.987 409.067 146.112 409.484 Q144.26 409.9 142.316 410.78 L142.316 393.419 Z\" fill=\"#000000\" fill-rule=\"evenodd\" fill-opacity=\"1\" /><path clip-path=\"url(#clip270)\" d=\"M 0 0 M119.885 99.5305 L136.204 99.5305 L136.204 103.466 L114.26 103.466 L114.26 99.5305 Q116.922 96.7759 121.505 92.1463 Q126.112 87.4935 127.292 86.151 Q129.538 83.6278 130.417 81.8917 Q131.32 80.1325 131.32 78.4427 Q131.32 75.688 129.376 73.9519 Q127.455 72.2158 124.353 72.2158 Q122.154 72.2158 119.7 72.9797 Q117.269 73.7436 114.492 75.2945 L114.492 70.5723 Q117.316 69.4381 119.769 68.8594 Q122.223 68.2807 124.26 68.2807 Q129.63 68.2807 132.825 70.9658 Q136.019 73.651 136.019 78.1417 Q136.019 80.2714 135.209 82.1926 Q134.422 84.0908 132.316 86.6834 Q131.737 87.3546 128.635 90.5722 Q125.533 93.7667 119.885 99.5305 Z\" fill=\"#000000\" fill-rule=\"evenodd\" fill-opacity=\"1\" /><path clip-path=\"url(#clip270)\" d=\"M 0 0 M151.274 71.9844 Q147.663 71.9844 145.834 75.5492 Q144.029 79.0908 144.029 86.2204 Q144.029 93.3268 145.834 96.8916 Q147.663 100.433 151.274 100.433 Q154.908 100.433 156.714 96.8916 Q158.542 93.3268 158.542 86.2204 Q158.542 79.0908 156.714 75.5492 Q154.908 71.9844 151.274 71.9844 M151.274 68.2807 Q157.084 68.2807 160.14 72.8871 Q163.218 77.4704 163.218 86.2204 Q163.218 94.9472 160.14 99.5537 Q157.084 104.137 151.274 104.137 Q145.464 104.137 142.385 99.5537 Q139.329 94.9472 139.329 86.2204 Q139.329 77.4704 142.385 72.8871 Q145.464 68.2807 151.274 68.2807 Z\" fill=\"#000000\" fill-rule=\"evenodd\" fill-opacity=\"1\" /><path clip-path=\"url(#clip270)\" d=\"M 0 0 M40.4842 1072.5 L40.4842 1066.07 L82.5933 1066.07 L82.5933 1042.93 L88.0042 1042.93 L88.0042 1072.5 L40.4842 1072.5 Z\" fill=\"#000000\" fill-rule=\"evenodd\" fill-opacity=\"1\" /><path clip-path=\"url(#clip270)\" d=\"M 0 0 M52.3562 1036.79 L52.3562 1030.93 L88.0042 1030.93 L88.0042 1036.79 L52.3562 1036.79 M38.479 1036.79 L38.479 1030.93 L45.895 1030.93 L45.895 1036.79 L38.479 1036.79 Z\" fill=\"#000000\" fill-rule=\"evenodd\" fill-opacity=\"1\" /><path clip-path=\"url(#clip270)\" d=\"M 0 0 M53.7248 999.134 L59.1993 999.134 Q57.8307 1001.62 57.1623 1004.13 Q56.4621 1006.61 56.4621 1009.16 Q56.4621 1014.86 60.0905 1018.01 Q63.6872 1021.16 70.212 1021.16 Q76.7369 1021.16 80.3653 1018.01 Q83.9619 1014.86 83.9619 1009.16 Q83.9619 1006.61 83.2935 1004.13 Q82.5933 1001.62 81.2247 999.134 L86.6355 999.134 Q87.7814 1001.58 88.3543 1004.23 Q88.9272 1006.84 88.9272 1009.8 Q88.9272 1017.85 83.8664 1022.59 Q78.8057 1027.33 70.212 1027.33 Q61.491 1027.33 56.4939 1022.56 Q51.4968 1017.75 51.4968 1009.41 Q51.4968 1006.71 52.0697 1004.13 Q52.6108 1001.55 53.7248 999.134 Z\" fill=\"#000000\" fill-rule=\"evenodd\" fill-opacity=\"1\" /><path clip-path=\"url(#clip270)\" d=\"M 0 0 M52.3562 995.538 L52.3562 967.719 L57.7034 967.719 L83.3254 989.745 L83.3254 967.719 L88.0042 967.719 L88.0042 996.333 L82.657 996.333 L57.035 974.308 L57.035 995.538 L52.3562 995.538 Z\" fill=\"#000000\" fill-rule=\"evenodd\" fill-opacity=\"1\" /><path clip-path=\"url(#clip270)\" d=\"M 0 0 M70.212 935.986 Q63.7508 935.986 60.0905 938.66 Q56.3984 941.302 56.3984 945.949 Q56.3984 950.596 60.0905 953.269 Q63.7508 955.911 70.212 955.911 Q76.6732 955.911 80.3653 953.269 Q84.0256 950.596 84.0256 945.949 Q84.0256 941.302 80.3653 938.66 Q76.6732 935.986 70.212 935.986 M57.7671 955.911 Q54.5842 954.065 53.0564 951.264 Q51.4968 948.431 51.4968 944.516 Q51.4968 938.023 56.6531 933.981 Q61.8093 929.907 70.212 929.907 Q78.6147 929.907 83.771 933.981 Q88.9272 938.023 88.9272 944.516 Q88.9272 948.431 87.3994 951.264 Q85.8398 954.065 82.657 955.911 L88.0042 955.911 L88.0042 961.799 L38.479 961.799 L38.479 955.911 L57.7671 955.911 Z\" fill=\"#000000\" fill-rule=\"evenodd\" fill-opacity=\"1\" /><path clip-path=\"url(#clip270)\" d=\"M 0 0 M70.0847 907.563 Q70.0847 914.661 71.7079 917.398 Q73.3312 920.136 77.2461 920.136 Q80.3653 920.136 82.2114 918.099 Q84.0256 916.03 84.0256 912.497 Q84.0256 907.627 80.5881 904.699 Q77.1188 901.739 71.3897 901.739 L70.0847 901.739 L70.0847 907.563 M67.6657 895.882 L88.0042 895.882 L88.0042 901.739 L82.5933 901.739 Q85.8398 903.744 87.3994 906.736 Q88.9272 909.728 88.9272 914.056 Q88.9272 919.531 85.8716 922.778 Q82.7843 925.992 77.6281 925.992 Q71.6125 925.992 68.5569 921.982 Q65.5014 917.94 65.5014 909.951 L65.5014 901.739 L64.9285 901.739 Q60.8862 901.739 58.6901 904.412 Q56.4621 907.054 56.4621 911.86 Q56.4621 914.916 57.1941 917.812 Q57.9262 920.709 59.3903 923.382 L53.9795 923.382 Q52.7381 920.168 52.1334 917.144 Q51.4968 914.12 51.4968 911.256 Q51.4968 903.521 55.5072 899.702 Q59.5176 895.882 67.6657 895.882 Z\" fill=\"#000000\" fill-rule=\"evenodd\" fill-opacity=\"1\" /><path clip-path=\"url(#clip270)\" d=\"M 0 0 M53.7248 843.365 L59.1993 843.365 Q57.8307 845.848 57.1623 848.362 Q56.4621 850.845 56.4621 853.391 Q56.4621 859.089 60.0905 862.24 Q63.6872 865.391 70.212 865.391 Q76.7369 865.391 80.3653 862.24 Q83.9619 859.089 83.9619 853.391 Q83.9619 850.845 83.2935 848.362 Q82.5933 845.848 81.2247 843.365 L86.6355 843.365 Q87.7814 845.816 88.3543 848.458 Q88.9272 851.068 88.9272 854.028 Q88.9272 862.081 83.8664 866.823 Q78.8057 871.565 70.212 871.565 Q61.491 871.565 56.4939 866.791 Q51.4968 861.985 51.4968 853.646 Q51.4968 850.941 52.0697 848.362 Q52.6108 845.784 53.7248 843.365 Z\" fill=\"#000000\" fill-rule=\"evenodd\" fill-opacity=\"1\" /><path clip-path=\"url(#clip270)\" d=\"M 0 0 M91.3143 822.39 Q97.68 824.873 99.6216 827.228 Q101.563 829.584 101.563 833.53 L101.563 838.209 L96.6615 838.209 L96.6615 834.772 Q96.6615 832.353 95.5157 831.016 Q94.3699 829.679 90.1048 828.056 L87.4312 827.005 L52.3562 841.424 L52.3562 835.217 L80.238 824.077 L52.3562 812.937 L52.3562 806.731 L91.3143 822.39 Z\" fill=\"#000000\" fill-rule=\"evenodd\" fill-opacity=\"1\" /><path clip-path=\"url(#clip270)\" d=\"M 0 0 M38.479 782.541 L43.3487 782.541 L43.3487 788.143 Q43.3487 791.294 44.6219 792.535 Q45.895 793.745 49.2052 793.745 L52.3562 793.745 L52.3562 784.101 L56.9077 784.101 L56.9077 793.745 L88.0042 793.745 L88.0042 799.633 L56.9077 799.633 L56.9077 805.235 L52.3562 805.235 L52.3562 799.633 L49.8736 799.633 Q43.9216 799.633 41.2162 796.864 Q38.479 794.095 38.479 788.079 L38.479 782.541 Z\" fill=\"#000000\" fill-rule=\"evenodd\" fill-opacity=\"1\" /><path clip-path=\"url(#clip270)\" d=\"M 0 0 M57.8307 755.741 Q57.2578 756.728 57.0032 757.906 Q56.7167 759.052 56.7167 760.452 Q56.7167 765.417 59.9632 768.091 Q63.1779 770.733 69.2253 770.733 L88.0042 770.733 L88.0042 776.621 L52.3562 776.621 L52.3562 770.733 L57.8944 770.733 Q54.6479 768.887 53.0883 765.927 Q51.4968 762.966 51.4968 758.733 Q51.4968 758.129 51.5923 757.396 Q51.656 756.664 51.8151 755.773 L57.8307 755.741 Z\" fill=\"#000000\" fill-rule=\"evenodd\" fill-opacity=\"1\" /><path clip-path=\"url(#clip270)\" d=\"M 0 0 M52.3562 731.424 L52.3562 703.606 L57.7034 703.606 L83.3254 725.632 L83.3254 703.606 L88.0042 703.606 L88.0042 732.22 L82.657 732.22 L57.035 710.195 L57.035 731.424 L52.3562 731.424 Z\" fill=\"#000000\" fill-rule=\"evenodd\" fill-opacity=\"1\" /><path clip-path=\"url(#clip270)\" d=\"M 0 0 M66.4881 667.831 L88.0042 667.831 L88.0042 673.687 L66.679 673.687 Q61.6183 673.687 59.1038 675.661 Q56.5894 677.634 56.5894 681.581 Q56.5894 686.323 59.6131 689.061 Q62.6368 691.798 67.8567 691.798 L88.0042 691.798 L88.0042 697.686 L52.3562 697.686 L52.3562 691.798 L57.8944 691.798 Q54.6797 689.697 53.0883 686.864 Q51.4968 684 51.4968 680.276 Q51.4968 674.133 55.3163 670.982 Q59.1038 667.831 66.4881 667.831 Z\" fill=\"#000000\" fill-rule=\"evenodd\" fill-opacity=\"1\" /><path clip-path=\"url(#clip270)\" d=\"M 0 0 M70.0847 645.487 Q70.0847 652.585 71.7079 655.322 Q73.3312 658.06 77.2461 658.06 Q80.3653 658.06 82.2114 656.023 Q84.0256 653.954 84.0256 650.421 Q84.0256 645.551 80.5881 642.623 Q77.1188 639.663 71.3897 639.663 L70.0847 639.663 L70.0847 645.487 M67.6657 633.806 L88.0042 633.806 L88.0042 639.663 L82.5933 639.663 Q85.8398 641.668 87.3994 644.66 Q88.9272 647.652 88.9272 651.98 Q88.9272 657.455 85.8716 660.701 Q82.7843 663.916 77.6281 663.916 Q71.6125 663.916 68.5569 659.906 Q65.5014 655.863 65.5014 647.874 L65.5014 639.663 L64.9285 639.663 Q60.8862 639.663 58.6901 642.336 Q56.4621 644.978 56.4621 649.784 Q56.4621 652.84 57.1941 655.736 Q57.9262 658.633 59.3903 661.306 L53.9795 661.306 Q52.7381 658.091 52.1334 655.068 Q51.4968 652.044 51.4968 649.179 Q51.4968 641.445 55.5072 637.626 Q59.5176 633.806 67.6657 633.806 Z\" fill=\"#000000\" fill-rule=\"evenodd\" fill-opacity=\"1\" /><path clip-path=\"url(#clip270)\" d=\"M 0 0 M53.7248 602.01 L59.1993 602.01 Q57.8307 604.492 57.1623 607.007 Q56.4621 609.489 56.4621 612.036 Q56.4621 617.733 60.0905 620.884 Q63.6872 624.035 70.212 624.035 Q76.7369 624.035 80.3653 620.884 Q83.9619 617.733 83.9619 612.036 Q83.9619 609.489 83.2935 607.007 Q82.5933 604.492 81.2247 602.01 L86.6355 602.01 Q87.7814 604.46 88.3543 607.102 Q88.9272 609.712 88.9272 612.672 Q88.9272 620.725 83.8664 625.467 Q78.8057 630.21 70.212 630.21 Q61.491 630.21 56.4939 625.435 Q51.4968 620.629 51.4968 612.29 Q51.4968 609.585 52.0697 607.007 Q52.6108 604.429 53.7248 602.01 Z\" fill=\"#000000\" fill-rule=\"evenodd\" fill-opacity=\"1\" /><path clip-path=\"url(#clip270)\" d=\"M 0 0 M52.3562 598.413 L52.3562 570.595 L57.7034 570.595 L83.3254 592.62 L83.3254 570.595 L88.0042 570.595 L88.0042 599.209 L82.657 599.209 L57.035 577.183 L57.035 598.413 L52.3562 598.413 Z\" fill=\"#000000\" fill-rule=\"evenodd\" fill-opacity=\"1\" /><path clip-path=\"url(#clip270)\" d=\"M 0 0 M70.0847 548.251 Q70.0847 555.349 71.7079 558.086 Q73.3312 560.823 77.2461 560.823 Q80.3653 560.823 82.2114 558.786 Q84.0256 556.718 84.0256 553.185 Q84.0256 548.315 80.5881 545.387 Q77.1188 542.427 71.3897 542.427 L70.0847 542.427 L70.0847 548.251 M67.6657 536.57 L88.0042 536.57 L88.0042 542.427 L82.5933 542.427 Q85.8398 544.432 87.3994 547.424 Q88.9272 550.416 88.9272 554.744 Q88.9272 560.219 85.8716 563.465 Q82.7843 566.68 77.6281 566.68 Q71.6125 566.68 68.5569 562.669 Q65.5014 558.627 65.5014 550.638 L65.5014 542.427 L64.9285 542.427 Q60.8862 542.427 58.6901 545.1 Q56.4621 547.742 56.4621 552.548 Q56.4621 555.604 57.1941 558.5 Q57.9262 561.396 59.3903 564.07 L53.9795 564.07 Q52.7381 560.855 52.1334 557.832 Q51.4968 554.808 51.4968 551.943 Q51.4968 544.209 55.5072 540.39 Q59.5176 536.57 67.6657 536.57 M88.0042 542.363 L88.0042 538.575 Q89.9457 540.008 91.3462 540.708 Q92.7466 541.376 93.7333 541.376 Q95.1974 541.376 95.9295 540.517 Q96.6615 539.626 96.6615 537.907 Q96.6615 536.888 96.4069 535.902 Q96.1841 534.915 95.7067 533.928 L99.9399 533.928 Q100.258 535.138 100.417 536.22 Q100.576 537.302 100.576 538.257 Q100.576 542.14 99.176 543.986 Q97.8073 545.8 94.8473 545.8 Q93.3195 545.8 91.6326 544.973 Q89.9775 544.113 88.0042 542.363 Z\" fill=\"#000000\" fill-rule=\"evenodd\" fill-opacity=\"1\" /><path clip-path=\"url(#clip270)\" d=\"M 0 0 M53.7248 502.132 L59.1993 502.132 Q57.8307 504.614 57.1623 507.129 Q56.4621 509.611 56.4621 512.158 Q56.4621 517.855 60.0905 521.006 Q63.6872 524.157 70.212 524.157 Q76.7369 524.157 80.3653 521.006 Q83.9619 517.855 83.9619 512.158 Q83.9619 509.611 83.2935 507.129 Q82.5933 504.614 81.2247 502.132 L86.6355 502.132 Q87.7814 504.582 88.3543 507.224 Q88.9272 509.834 88.9272 512.794 Q88.9272 520.847 83.8664 525.589 Q78.8057 530.332 70.212 530.332 Q61.491 530.332 56.4939 525.557 Q51.4968 520.751 51.4968 512.412 Q51.4968 509.707 52.0697 507.129 Q52.6108 504.551 53.7248 502.132 Z\" fill=\"#000000\" fill-rule=\"evenodd\" fill-opacity=\"1\" /><path clip-path=\"url(#clip270)\" d=\"M 0 0 M91.3143 481.157 Q97.68 483.639 99.6216 485.995 Q101.563 488.35 101.563 492.297 L101.563 496.975 L96.6615 496.975 L96.6615 493.538 Q96.6615 491.119 95.5157 489.782 Q94.3699 488.445 90.1048 486.822 L87.4312 485.772 L52.3562 500.19 L52.3562 493.984 L80.238 482.844 L52.3562 471.704 L52.3562 465.497 L91.3143 481.157 Z\" fill=\"#000000\" fill-rule=\"evenodd\" fill-opacity=\"1\" /><path clip-path=\"url(#clip270)\" d=\"M 0 0 M53.7248 433.7 L59.1993 433.7 Q57.8307 436.183 57.1623 438.697 Q56.4621 441.18 56.4621 443.726 Q56.4621 449.424 60.0905 452.575 Q63.6872 455.726 70.212 455.726 Q76.7369 455.726 80.3653 452.575 Q83.9619 449.424 83.9619 443.726 Q83.9619 441.18 83.2935 438.697 Q82.5933 436.183 81.2247 433.7 L86.6355 433.7 Q87.7814 436.151 88.3543 438.793 Q88.9272 441.403 88.9272 444.363 Q88.9272 452.415 83.8664 457.158 Q78.8057 461.9 70.212 461.9 Q61.491 461.9 56.4939 457.126 Q51.4968 452.32 51.4968 443.981 Q51.4968 441.275 52.0697 438.697 Q52.6108 436.119 53.7248 433.7 Z\" fill=\"#000000\" fill-rule=\"evenodd\" fill-opacity=\"1\" /><path clip-path=\"url(#clip270)\" d=\"M 0 0 M66.4881 397.925 L88.0042 397.925 L88.0042 403.781 L66.679 403.781 Q61.6183 403.781 59.1038 405.755 Q56.5894 407.728 56.5894 411.675 Q56.5894 416.417 59.6131 419.155 Q62.6368 421.892 67.8567 421.892 L88.0042 421.892 L88.0042 427.78 L38.479 427.78 L38.479 421.892 L57.8944 421.892 Q54.6797 419.791 53.0883 416.958 Q51.4968 414.094 51.4968 410.37 Q51.4968 404.227 55.3163 401.076 Q59.1038 397.925 66.4881 397.925 Z\" fill=\"#000000\" fill-rule=\"evenodd\" fill-opacity=\"1\" /><polyline clip-path=\"url(#clip272)\" style=\"stroke:#009af9; stroke-width:12; stroke-opacity:1; fill:none\" points=\"\n",
       "  395.61,1384.24 531.053,1384.24 666.495,1319.34 801.938,1254.43 937.381,994.822 1072.82,540.504 1208.27,86.1857 1343.71,86.1857 1479.15,86.1857 1614.59,86.1857 \n",
       "  1750.04,86.1857 1885.48,86.1857 2020.92,86.1857 2156.36,86.1857 2291.81,86.1857 \n",
       "  \"/>\n",
       "<polyline clip-path=\"url(#clip272)\" style=\"stroke:#e26f46; stroke-width:12; stroke-opacity:1; fill:none\" points=\"\n",
       "  395.61,1384.24 531.053,1384.24 666.495,1319.34 801.938,1254.43 937.381,994.822 1072.82,540.504 1208.27,86.1857 1343.71,86.1857 1479.15,86.1857 1614.59,86.1857 \n",
       "  1750.04,86.1857 1885.48,86.1857 2020.92,86.1857 2156.36,86.1857 2291.81,86.1857 \n",
       "  \"/>\n",
       "<polyline clip-path=\"url(#clip272)\" style=\"stroke:#3da44d; stroke-width:12; stroke-opacity:1; fill:none\" points=\"\n",
       "  395.61,1384.24 531.053,1384.24 666.495,1384.24 801.938,1384.24 937.381,1384.24 1072.82,1384.24 1208.27,1384.24 1343.71,86.1857 1479.15,86.1857 1614.59,86.1857 \n",
       "  1750.04,86.1857 1885.48,86.1857 2020.92,86.1857 2156.36,86.1857 2291.81,86.1857 \n",
       "  \"/>\n",
       "<path clip-path=\"url(#clip270)\" d=\"\n",
       "M271.003 335.029 L562.437 335.029 L562.437 93.1086 L271.003 93.1086  Z\n",
       "  \" fill=\"#ffffff\" fill-rule=\"evenodd\" fill-opacity=\"1\"/>\n",
       "<polyline clip-path=\"url(#clip270)\" style=\"stroke:#000000; stroke-width:4; stroke-opacity:1; fill:none\" points=\"\n",
       "  271.003,335.029 562.437,335.029 562.437,93.1086 271.003,93.1086 271.003,335.029 \n",
       "  \"/>\n",
       "<polyline clip-path=\"url(#clip270)\" style=\"stroke:#009af9; stroke-width:4; stroke-opacity:1; fill:none\" points=\"\n",
       "  294.931,153.589 438.5,153.589 \n",
       "  \"/>\n",
       "<path clip-path=\"url(#clip270)\" d=\"M 0 0 M487.081 144.943 L477.706 157.559 L487.567 170.869 L482.544 170.869 L474.998 160.683 L467.452 170.869 L462.428 170.869 L472.498 157.304 L463.285 144.943 L468.308 144.943 L475.183 154.179 L482.058 144.943 L487.081 144.943 Z\" fill=\"#000000\" fill-rule=\"evenodd\" fill-opacity=\"1\" /><path clip-path=\"url(#clip270)\" d=\"M 0 0 M502.637 139.387 Q499.025 139.387 497.197 142.952 Q495.391 146.494 495.391 153.623 Q495.391 160.73 497.197 164.295 Q499.025 167.836 502.637 167.836 Q506.271 167.836 508.076 164.295 Q509.905 160.73 509.905 153.623 Q509.905 146.494 508.076 142.952 Q506.271 139.387 502.637 139.387 M502.637 135.684 Q508.447 135.684 511.502 140.29 Q514.581 144.873 514.581 153.623 Q514.581 162.35 511.502 166.957 Q508.447 171.54 502.637 171.54 Q496.826 171.54 493.748 166.957 Q490.692 162.35 490.692 153.623 Q490.692 144.873 493.748 140.29 Q496.826 135.684 502.637 135.684 Z\" fill=\"#000000\" fill-rule=\"evenodd\" fill-opacity=\"1\" /><polyline clip-path=\"url(#clip270)\" style=\"stroke:#e26f46; stroke-width:4; stroke-opacity:1; fill:none\" points=\"\n",
       "  294.931,214.069 438.5,214.069 \n",
       "  \"/>\n",
       "<path clip-path=\"url(#clip270)\" d=\"M 0 0 M487.081 205.423 L477.706 218.039 L487.567 231.349 L482.544 231.349 L474.998 221.163 L467.452 231.349 L462.428 231.349 L472.498 217.784 L463.285 205.423 L468.308 205.423 L475.183 214.659 L482.058 205.423 L487.081 205.423 Z\" fill=\"#000000\" fill-rule=\"evenodd\" fill-opacity=\"1\" /><path clip-path=\"url(#clip270)\" d=\"M 0 0 M493.447 227.413 L501.086 227.413 L501.086 201.048 L492.775 202.715 L492.775 198.455 L501.039 196.789 L505.715 196.789 L505.715 227.413 L513.354 227.413 L513.354 231.349 L493.447 231.349 L493.447 227.413 Z\" fill=\"#000000\" fill-rule=\"evenodd\" fill-opacity=\"1\" /><polyline clip-path=\"url(#clip270)\" style=\"stroke:#3da44d; stroke-width:4; stroke-opacity:1; fill:none\" points=\"\n",
       "  294.931,274.549 438.5,274.549 \n",
       "  \"/>\n",
       "<path clip-path=\"url(#clip270)\" d=\"M 0 0 M487.081 265.903 L477.706 278.519 L487.567 291.829 L482.544 291.829 L474.998 281.643 L467.452 291.829 L462.428 291.829 L472.498 278.264 L463.285 265.903 L468.308 265.903 L475.183 275.139 L482.058 265.903 L487.081 265.903 Z\" fill=\"#000000\" fill-rule=\"evenodd\" fill-opacity=\"1\" /><path clip-path=\"url(#clip270)\" d=\"M 0 0 M496.664 287.893 L512.984 287.893 L512.984 291.829 L491.039 291.829 L491.039 287.893 Q493.701 285.139 498.285 280.509 Q502.891 275.856 504.072 274.514 Q506.317 271.991 507.197 270.255 Q508.099 268.495 508.099 266.806 Q508.099 264.051 506.155 262.315 Q504.234 260.579 501.132 260.579 Q498.933 260.579 496.479 261.343 Q494.049 262.107 491.271 263.657 L491.271 258.935 Q494.095 257.801 496.549 257.222 Q499.002 256.644 501.039 256.644 Q506.41 256.644 509.604 259.329 Q512.798 262.014 512.798 266.505 Q512.798 268.634 511.988 270.556 Q511.201 272.454 509.095 275.046 Q508.516 275.718 505.414 278.935 Q502.312 282.13 496.664 287.893 Z\" fill=\"#000000\" fill-rule=\"evenodd\" fill-opacity=\"1\" /></svg>\n"
      ]
     },
     "execution_count": 1379,
     "metadata": {},
     "output_type": "execute_result"
    }
   ],
   "source": [
    "TestBairstow(f, 0.1, 0.1, M, -2, 0, 4)"
   ]
  },
  {
   "cell_type": "code",
   "execution_count": 1380,
   "metadata": {
    "scrolled": false
   },
   "outputs": [
    {
     "data": {
      "image/svg+xml": [
       "<?xml version=\"1.0\" encoding=\"utf-8\"?>\n",
       "<svg xmlns=\"http://www.w3.org/2000/svg\" xmlns:xlink=\"http://www.w3.org/1999/xlink\" width=\"600\" height=\"400\" viewBox=\"0 0 2400 1600\">\n",
       "<defs>\n",
       "  <clipPath id=\"clip310\">\n",
       "    <rect x=\"0\" y=\"0\" width=\"2400\" height=\"1600\"/>\n",
       "  </clipPath>\n",
       "</defs>\n",
       "<path clip-path=\"url(#clip310)\" d=\"\n",
       "M0 1600 L2400 1600 L2400 0 L0 0  Z\n",
       "  \" fill=\"#ffffff\" fill-rule=\"evenodd\" fill-opacity=\"1\"/>\n",
       "<defs>\n",
       "  <clipPath id=\"clip311\">\n",
       "    <rect x=\"480\" y=\"0\" width=\"1681\" height=\"1600\"/>\n",
       "  </clipPath>\n",
       "</defs>\n",
       "<path clip-path=\"url(#clip310)\" d=\"\n",
       "M197.852 1423.18 L2352.76 1423.18 L2352.76 47.2441 L197.852 47.2441  Z\n",
       "  \" fill=\"#ffffff\" fill-rule=\"evenodd\" fill-opacity=\"1\"/>\n",
       "<defs>\n",
       "  <clipPath id=\"clip312\">\n",
       "    <rect x=\"197\" y=\"47\" width=\"2156\" height=\"1377\"/>\n",
       "  </clipPath>\n",
       "</defs>\n",
       "<polyline clip-path=\"url(#clip312)\" style=\"stroke:#000000; stroke-width:2; stroke-opacity:0.1; fill:none\" points=\"\n",
       "  258.84,1423.18 258.84,47.2441 \n",
       "  \"/>\n",
       "<polyline clip-path=\"url(#clip312)\" style=\"stroke:#000000; stroke-width:2; stroke-opacity:0.1; fill:none\" points=\"\n",
       "  936.483,1423.18 936.483,47.2441 \n",
       "  \"/>\n",
       "<polyline clip-path=\"url(#clip312)\" style=\"stroke:#000000; stroke-width:2; stroke-opacity:0.1; fill:none\" points=\"\n",
       "  1614.13,1423.18 1614.13,47.2441 \n",
       "  \"/>\n",
       "<polyline clip-path=\"url(#clip312)\" style=\"stroke:#000000; stroke-width:2; stroke-opacity:0.1; fill:none\" points=\"\n",
       "  2291.77,1423.18 2291.77,47.2441 \n",
       "  \"/>\n",
       "<polyline clip-path=\"url(#clip310)\" style=\"stroke:#000000; stroke-width:4; stroke-opacity:1; fill:none\" points=\"\n",
       "  197.852,1384.24 2352.76,1384.24 \n",
       "  \"/>\n",
       "<polyline clip-path=\"url(#clip310)\" style=\"stroke:#000000; stroke-width:4; stroke-opacity:0; fill:none\" points=\"\n",
       "  258.84,1384.24 258.84,1384.24 \n",
       "  \"/>\n",
       "<polyline clip-path=\"url(#clip310)\" style=\"stroke:#000000; stroke-width:4; stroke-opacity:0; fill:none\" points=\"\n",
       "  936.483,1384.24 936.483,1384.24 \n",
       "  \"/>\n",
       "<polyline clip-path=\"url(#clip310)\" style=\"stroke:#000000; stroke-width:4; stroke-opacity:0; fill:none\" points=\"\n",
       "  1614.13,1384.24 1614.13,1384.24 \n",
       "  \"/>\n",
       "<polyline clip-path=\"url(#clip310)\" style=\"stroke:#000000; stroke-width:4; stroke-opacity:0; fill:none\" points=\"\n",
       "  2291.77,1384.24 2291.77,1384.24 \n",
       "  \"/>\n",
       "<path clip-path=\"url(#clip310)\" d=\"M 0 0 M258.84 1452.37 Q255.229 1452.37 253.401 1455.94 Q251.595 1459.48 251.595 1466.61 Q251.595 1473.71 253.401 1477.28 Q255.229 1480.82 258.84 1480.82 Q262.475 1480.82 264.28 1477.28 Q266.109 1473.71 266.109 1466.61 Q266.109 1459.48 264.28 1455.94 Q262.475 1452.37 258.84 1452.37 M258.84 1448.67 Q264.65 1448.67 267.706 1453.27 Q270.785 1457.86 270.785 1466.61 Q270.785 1475.33 267.706 1479.94 Q264.65 1484.52 258.84 1484.52 Q253.03 1484.52 249.951 1479.94 Q246.896 1475.33 246.896 1466.61 Q246.896 1457.86 249.951 1453.27 Q253.03 1448.67 258.84 1448.67 Z\" fill=\"#000000\" fill-rule=\"evenodd\" fill-opacity=\"1\" /><path clip-path=\"url(#clip310)\" d=\"M 0 0 M926.761 1449.29 L945.117 1449.29 L945.117 1453.23 L931.043 1453.23 L931.043 1461.7 Q932.062 1461.35 933.08 1461.19 Q934.099 1461 935.117 1461 Q940.904 1461 944.284 1464.18 Q947.663 1467.35 947.663 1472.76 Q947.663 1478.34 944.191 1481.44 Q940.719 1484.52 934.4 1484.52 Q932.224 1484.52 929.955 1484.15 Q927.71 1483.78 925.302 1483.04 L925.302 1478.34 Q927.386 1479.48 929.608 1480.03 Q931.83 1480.59 934.307 1480.59 Q938.312 1480.59 940.65 1478.48 Q942.988 1476.38 942.988 1472.76 Q942.988 1469.15 940.65 1467.05 Q938.312 1464.94 934.307 1464.94 Q932.432 1464.94 930.557 1465.36 Q928.705 1465.77 926.761 1466.65 L926.761 1449.29 Z\" fill=\"#000000\" fill-rule=\"evenodd\" fill-opacity=\"1\" /><path clip-path=\"url(#clip310)\" d=\"M 0 0 M1591 1479.92 L1598.64 1479.92 L1598.64 1453.55 L1590.33 1455.22 L1590.33 1450.96 L1598.59 1449.29 L1603.27 1449.29 L1603.27 1479.92 L1610.91 1479.92 L1610.91 1483.85 L1591 1483.85 L1591 1479.92 Z\" fill=\"#000000\" fill-rule=\"evenodd\" fill-opacity=\"1\" /><path clip-path=\"url(#clip310)\" d=\"M 0 0 M1625.98 1452.37 Q1622.37 1452.37 1620.54 1455.94 Q1618.73 1459.48 1618.73 1466.61 Q1618.73 1473.71 1620.54 1477.28 Q1622.37 1480.82 1625.98 1480.82 Q1629.61 1480.82 1631.42 1477.28 Q1633.25 1473.71 1633.25 1466.61 Q1633.25 1459.48 1631.42 1455.94 Q1629.61 1452.37 1625.98 1452.37 M1625.98 1448.67 Q1631.79 1448.67 1634.84 1453.27 Q1637.92 1457.86 1637.92 1466.61 Q1637.92 1475.33 1634.84 1479.94 Q1631.79 1484.52 1625.98 1484.52 Q1620.17 1484.52 1617.09 1479.94 Q1614.03 1475.33 1614.03 1466.61 Q1614.03 1457.86 1617.09 1453.27 Q1620.17 1448.67 1625.98 1448.67 Z\" fill=\"#000000\" fill-rule=\"evenodd\" fill-opacity=\"1\" /><path clip-path=\"url(#clip310)\" d=\"M 0 0 M2269.14 1479.92 L2276.78 1479.92 L2276.78 1453.55 L2268.47 1455.22 L2268.47 1450.96 L2276.73 1449.29 L2281.41 1449.29 L2281.41 1479.92 L2289.05 1479.92 L2289.05 1483.85 L2269.14 1483.85 L2269.14 1479.92 Z\" fill=\"#000000\" fill-rule=\"evenodd\" fill-opacity=\"1\" /><path clip-path=\"url(#clip310)\" d=\"M 0 0 M2294.16 1449.29 L2312.52 1449.29 L2312.52 1453.23 L2298.45 1453.23 L2298.45 1461.7 Q2299.46 1461.35 2300.48 1461.19 Q2301.5 1461 2302.52 1461 Q2308.31 1461 2311.69 1464.18 Q2315.07 1467.35 2315.07 1472.76 Q2315.07 1478.34 2311.59 1481.44 Q2308.12 1484.52 2301.8 1484.52 Q2299.63 1484.52 2297.36 1484.15 Q2295.11 1483.78 2292.71 1483.04 L2292.71 1478.34 Q2294.79 1479.48 2297.01 1480.03 Q2299.23 1480.59 2301.71 1480.59 Q2305.71 1480.59 2308.05 1478.48 Q2310.39 1476.38 2310.39 1472.76 Q2310.39 1469.15 2308.05 1467.05 Q2305.71 1464.94 2301.71 1464.94 Q2299.84 1464.94 2297.96 1465.36 Q2296.11 1465.77 2294.16 1466.65 L2294.16 1449.29 Z\" fill=\"#000000\" fill-rule=\"evenodd\" fill-opacity=\"1\" /><path clip-path=\"url(#clip310)\" d=\"M 0 0 M1172.45 1508.52 L1178.88 1508.52 L1178.88 1556.04 L1172.45 1556.04 L1172.45 1508.52 Z\" fill=\"#000000\" fill-rule=\"evenodd\" fill-opacity=\"1\" /><path clip-path=\"url(#clip310)\" d=\"M 0 0 M1190.82 1510.27 L1190.82 1520.4 L1202.88 1520.4 L1202.88 1524.95 L1190.82 1524.95 L1190.82 1544.3 Q1190.82 1548.66 1191.99 1549.9 Q1193.2 1551.14 1196.86 1551.14 L1202.88 1551.14 L1202.88 1556.04 L1196.86 1556.04 Q1190.08 1556.04 1187.51 1553.53 Q1184.93 1550.98 1184.93 1544.3 L1184.93 1524.95 L1180.63 1524.95 L1180.63 1520.4 L1184.93 1520.4 L1184.93 1510.27 L1190.82 1510.27 Z\" fill=\"#000000\" fill-rule=\"evenodd\" fill-opacity=\"1\" /><path clip-path=\"url(#clip310)\" d=\"M 0 0 M1239.51 1536.76 L1239.51 1539.62 L1212.59 1539.62 Q1212.97 1545.67 1216.21 1548.85 Q1219.49 1552 1225.32 1552 Q1228.69 1552 1231.84 1551.17 Q1235.03 1550.35 1238.14 1548.69 L1238.14 1554.23 Q1234.99 1555.57 1231.68 1556.27 Q1228.37 1556.97 1224.97 1556.97 Q1216.44 1556.97 1211.44 1552 Q1206.47 1547.04 1206.47 1538.57 Q1206.47 1529.82 1211.19 1524.69 Q1215.93 1519.54 1223.95 1519.54 Q1231.14 1519.54 1235.31 1524.18 Q1239.51 1528.8 1239.51 1536.76 M1233.66 1535.04 Q1233.59 1530.23 1230.95 1527.37 Q1228.34 1524.5 1224.01 1524.5 Q1219.11 1524.5 1216.15 1527.27 Q1213.22 1530.04 1212.78 1535.07 L1233.66 1535.04 Z\" fill=\"#000000\" fill-rule=\"evenodd\" fill-opacity=\"1\" /><path clip-path=\"url(#clip310)\" d=\"M 0 0 M1266.31 1525.87 Q1265.33 1525.3 1264.15 1525.04 Q1263 1524.76 1261.6 1524.76 Q1256.64 1524.76 1253.96 1528 Q1251.32 1531.22 1251.32 1537.27 L1251.32 1556.04 L1245.43 1556.04 L1245.43 1520.4 L1251.32 1520.4 L1251.32 1525.93 Q1253.17 1522.69 1256.13 1521.13 Q1259.09 1519.54 1263.32 1519.54 Q1263.93 1519.54 1264.66 1519.63 Q1265.39 1519.7 1266.28 1519.85 L1266.31 1525.87 Z\" fill=\"#000000\" fill-rule=\"evenodd\" fill-opacity=\"1\" /><path clip-path=\"url(#clip310)\" d=\"M 0 0 M1288.66 1538.12 Q1281.56 1538.12 1278.82 1539.75 Q1276.08 1541.37 1276.08 1545.29 Q1276.08 1548.4 1278.12 1550.25 Q1280.19 1552.07 1283.72 1552.07 Q1288.59 1552.07 1291.52 1548.63 Q1294.48 1545.16 1294.48 1539.43 L1294.48 1538.12 L1288.66 1538.12 M1300.34 1535.71 L1300.34 1556.04 L1294.48 1556.04 L1294.48 1550.63 Q1292.48 1553.88 1289.48 1555.44 Q1286.49 1556.97 1282.16 1556.97 Q1276.69 1556.97 1273.44 1553.91 Q1270.23 1550.82 1270.23 1545.67 Q1270.23 1539.65 1274.24 1536.6 Q1278.28 1533.54 1286.27 1533.54 L1294.48 1533.54 L1294.48 1532.97 Q1294.48 1528.93 1291.81 1526.73 Q1289.17 1524.5 1284.36 1524.5 Q1281.3 1524.5 1278.41 1525.23 Q1275.51 1525.97 1272.84 1527.43 L1272.84 1522.02 Q1276.05 1520.78 1279.08 1520.17 Q1282.1 1519.54 1284.96 1519.54 Q1292.7 1519.54 1296.52 1523.55 Q1300.34 1527.56 1300.34 1535.71 Z\" fill=\"#000000\" fill-rule=\"evenodd\" fill-opacity=\"1\" /><path clip-path=\"url(#clip310)\" d=\"M 0 0 M1332.13 1521.76 L1332.13 1527.24 Q1329.65 1525.87 1327.14 1525.2 Q1324.65 1524.5 1322.11 1524.5 Q1316.41 1524.5 1313.26 1528.13 Q1310.11 1531.73 1310.11 1538.25 Q1310.11 1544.78 1313.26 1548.4 Q1316.41 1552 1322.11 1552 Q1324.65 1552 1327.14 1551.33 Q1329.65 1550.63 1332.13 1549.26 L1332.13 1554.68 Q1329.68 1555.82 1327.04 1556.39 Q1324.43 1556.97 1321.47 1556.97 Q1313.42 1556.97 1308.68 1551.91 Q1303.93 1546.85 1303.93 1538.25 Q1303.93 1529.53 1308.71 1524.53 Q1313.51 1519.54 1321.85 1519.54 Q1324.56 1519.54 1327.14 1520.11 Q1329.72 1520.65 1332.13 1521.76 Z\" fill=\"#000000\" fill-rule=\"evenodd\" fill-opacity=\"1\" /><path clip-path=\"url(#clip310)\" d=\"M 0 0 M1338.28 1520.4 L1344.13 1520.4 L1344.13 1556.68 Q1344.13 1563.49 1341.52 1566.55 Q1338.95 1569.6 1333.18 1569.6 L1330.96 1569.6 L1330.96 1564.64 L1332.52 1564.64 Q1335.86 1564.64 1337.07 1563.08 Q1338.28 1561.55 1338.28 1556.68 L1338.28 1520.4 M1338.28 1506.52 L1344.13 1506.52 L1344.13 1513.93 L1338.28 1513.93 L1338.28 1506.52 Z\" fill=\"#000000\" fill-rule=\"evenodd\" fill-opacity=\"1\" /><path clip-path=\"url(#clip310)\" d=\"M 0 0 M1366.48 1538.12 Q1359.38 1538.12 1356.64 1539.75 Q1353.9 1541.37 1353.9 1545.29 Q1353.9 1548.4 1355.94 1550.25 Q1358.01 1552.07 1361.54 1552.07 Q1366.41 1552.07 1369.34 1548.63 Q1372.3 1545.16 1372.3 1539.43 L1372.3 1538.12 L1366.48 1538.12 M1378.16 1535.71 L1378.16 1556.04 L1372.3 1556.04 L1372.3 1550.63 Q1370.3 1553.88 1367.3 1555.44 Q1364.31 1556.97 1359.98 1556.97 Q1354.51 1556.97 1351.26 1553.91 Q1348.05 1550.82 1348.05 1545.67 Q1348.05 1539.65 1352.06 1536.6 Q1356.1 1533.54 1364.09 1533.54 L1372.3 1533.54 L1372.3 1532.97 Q1372.3 1528.93 1369.63 1526.73 Q1366.99 1524.5 1362.18 1524.5 Q1359.12 1524.5 1356.23 1525.23 Q1353.33 1525.97 1350.66 1527.43 L1350.66 1522.02 Q1353.87 1520.78 1356.9 1520.17 Q1359.92 1519.54 1362.78 1519.54 Q1370.52 1519.54 1374.34 1523.55 Q1378.16 1527.56 1378.16 1535.71 Z\" fill=\"#000000\" fill-rule=\"evenodd\" fill-opacity=\"1\" /><polyline clip-path=\"url(#clip312)\" style=\"stroke:#000000; stroke-width:2; stroke-opacity:0.1; fill:none\" points=\"\n",
       "  197.852,1384.24 2352.76,1384.24 \n",
       "  \"/>\n",
       "<polyline clip-path=\"url(#clip312)\" style=\"stroke:#000000; stroke-width:2; stroke-opacity:0.1; fill:none\" points=\"\n",
       "  197.852,1184.54 2352.76,1184.54 \n",
       "  \"/>\n",
       "<polyline clip-path=\"url(#clip312)\" style=\"stroke:#000000; stroke-width:2; stroke-opacity:0.1; fill:none\" points=\"\n",
       "  197.852,984.837 2352.76,984.837 \n",
       "  \"/>\n",
       "<polyline clip-path=\"url(#clip312)\" style=\"stroke:#000000; stroke-width:2; stroke-opacity:0.1; fill:none\" points=\"\n",
       "  197.852,785.137 2352.76,785.137 \n",
       "  \"/>\n",
       "<polyline clip-path=\"url(#clip312)\" style=\"stroke:#000000; stroke-width:2; stroke-opacity:0.1; fill:none\" points=\"\n",
       "  197.852,585.437 2352.76,585.437 \n",
       "  \"/>\n",
       "<polyline clip-path=\"url(#clip312)\" style=\"stroke:#000000; stroke-width:2; stroke-opacity:0.1; fill:none\" points=\"\n",
       "  197.852,385.736 2352.76,385.736 \n",
       "  \"/>\n",
       "<polyline clip-path=\"url(#clip312)\" style=\"stroke:#000000; stroke-width:2; stroke-opacity:0.1; fill:none\" points=\"\n",
       "  197.852,186.036 2352.76,186.036 \n",
       "  \"/>\n",
       "<polyline clip-path=\"url(#clip310)\" style=\"stroke:#000000; stroke-width:4; stroke-opacity:1; fill:none\" points=\"\n",
       "  258.84,1423.18 258.84,47.2441 \n",
       "  \"/>\n",
       "<polyline clip-path=\"url(#clip310)\" style=\"stroke:#000000; stroke-width:4; stroke-opacity:0; fill:none\" points=\"\n",
       "  258.84,1384.24 258.84,1384.24 \n",
       "  \"/>\n",
       "<polyline clip-path=\"url(#clip310)\" style=\"stroke:#000000; stroke-width:4; stroke-opacity:0; fill:none\" points=\"\n",
       "  258.84,1184.54 258.84,1184.54 \n",
       "  \"/>\n",
       "<polyline clip-path=\"url(#clip310)\" style=\"stroke:#000000; stroke-width:4; stroke-opacity:0; fill:none\" points=\"\n",
       "  258.84,984.837 258.84,984.837 \n",
       "  \"/>\n",
       "<polyline clip-path=\"url(#clip310)\" style=\"stroke:#000000; stroke-width:4; stroke-opacity:0; fill:none\" points=\"\n",
       "  258.84,785.137 258.84,785.137 \n",
       "  \"/>\n",
       "<polyline clip-path=\"url(#clip310)\" style=\"stroke:#000000; stroke-width:4; stroke-opacity:0; fill:none\" points=\"\n",
       "  258.84,585.437 258.84,585.437 \n",
       "  \"/>\n",
       "<polyline clip-path=\"url(#clip310)\" style=\"stroke:#000000; stroke-width:4; stroke-opacity:0; fill:none\" points=\"\n",
       "  258.84,385.736 258.84,385.736 \n",
       "  \"/>\n",
       "<polyline clip-path=\"url(#clip310)\" style=\"stroke:#000000; stroke-width:4; stroke-opacity:0; fill:none\" points=\"\n",
       "  258.84,186.036 258.84,186.036 \n",
       "  \"/>\n",
       "<path clip-path=\"url(#clip310)\" d=\"M 0 0 M149.908 1370.04 Q146.297 1370.04 144.468 1373.6 Q142.663 1377.14 142.663 1384.27 Q142.663 1391.38 144.468 1394.94 Q146.297 1398.49 149.908 1398.49 Q153.542 1398.49 155.348 1394.94 Q157.177 1391.38 157.177 1384.27 Q157.177 1377.14 155.348 1373.6 Q153.542 1370.04 149.908 1370.04 M149.908 1366.33 Q155.718 1366.33 158.774 1370.94 Q161.852 1375.52 161.852 1384.27 Q161.852 1393 158.774 1397.61 Q155.718 1402.19 149.908 1402.19 Q144.098 1402.19 141.019 1397.61 Q137.964 1393 137.964 1384.27 Q137.964 1375.52 141.019 1370.94 Q144.098 1366.33 149.908 1366.33 Z\" fill=\"#000000\" fill-rule=\"evenodd\" fill-opacity=\"1\" /><path clip-path=\"url(#clip310)\" d=\"M 0 0 M145.533 1197.88 L161.852 1197.88 L161.852 1201.82 L139.908 1201.82 L139.908 1197.88 Q142.57 1195.13 147.153 1190.5 Q151.76 1185.85 152.941 1184.5 Q155.186 1181.98 156.065 1180.24 Q156.968 1178.48 156.968 1176.79 Q156.968 1174.04 155.024 1172.3 Q153.103 1170.57 150.001 1170.57 Q147.802 1170.57 145.348 1171.33 Q142.917 1172.1 140.14 1173.65 L140.14 1168.92 Q142.964 1167.79 145.417 1167.21 Q147.871 1166.63 149.908 1166.63 Q155.278 1166.63 158.473 1169.32 Q161.667 1172 161.667 1176.49 Q161.667 1178.62 160.857 1180.54 Q160.07 1182.44 157.964 1185.04 Q157.385 1185.71 154.283 1188.92 Q151.181 1192.12 145.533 1197.88 Z\" fill=\"#000000\" fill-rule=\"evenodd\" fill-opacity=\"1\" /><path clip-path=\"url(#clip310)\" d=\"M 0 0 M152.269 971.632 L140.464 990.08 L152.269 990.08 L152.269 971.632 M151.042 967.557 L156.922 967.557 L156.922 990.08 L161.852 990.08 L161.852 993.969 L156.922 993.969 L156.922 1002.12 L152.269 1002.12 L152.269 993.969 L136.667 993.969 L136.667 989.455 L151.042 967.557 Z\" fill=\"#000000\" fill-rule=\"evenodd\" fill-opacity=\"1\" /><path clip-path=\"url(#clip310)\" d=\"M 0 0 M150.325 783.274 Q147.177 783.274 145.325 785.426 Q143.496 787.579 143.496 791.329 Q143.496 795.056 145.325 797.232 Q147.177 799.385 150.325 799.385 Q153.473 799.385 155.302 797.232 Q157.153 795.056 157.153 791.329 Q157.153 787.579 155.302 785.426 Q153.473 783.274 150.325 783.274 M159.607 768.621 L159.607 772.88 Q157.848 772.047 156.042 771.607 Q154.26 771.167 152.501 771.167 Q147.871 771.167 145.417 774.292 Q142.987 777.417 142.64 783.737 Q144.005 781.723 146.066 780.658 Q148.126 779.57 150.603 779.57 Q155.811 779.57 158.82 782.741 Q161.852 785.889 161.852 791.329 Q161.852 796.653 158.704 799.871 Q155.556 803.088 150.325 803.088 Q144.329 803.088 141.158 798.505 Q137.987 793.899 137.987 785.172 Q137.987 776.977 141.876 772.116 Q145.765 767.232 152.316 767.232 Q154.075 767.232 155.857 767.579 Q157.663 767.927 159.607 768.621 Z\" fill=\"#000000\" fill-rule=\"evenodd\" fill-opacity=\"1\" /><path clip-path=\"url(#clip310)\" d=\"M 0 0 M150.001 586.305 Q146.667 586.305 144.746 588.087 Q142.848 589.87 142.848 592.994 Q142.848 596.119 144.746 597.902 Q146.667 599.684 150.001 599.684 Q153.334 599.684 155.255 597.902 Q157.177 596.096 157.177 592.994 Q157.177 589.87 155.255 588.087 Q153.357 586.305 150.001 586.305 M145.325 584.314 Q142.316 583.573 140.626 581.513 Q138.959 579.453 138.959 576.49 Q138.959 572.346 141.899 569.939 Q144.862 567.532 150.001 567.532 Q155.163 567.532 158.103 569.939 Q161.042 572.346 161.042 576.49 Q161.042 579.453 159.353 581.513 Q157.686 583.573 154.7 584.314 Q158.079 585.101 159.954 587.393 Q161.852 589.684 161.852 592.994 Q161.852 598.018 158.774 600.703 Q155.718 603.388 150.001 603.388 Q144.283 603.388 141.204 600.703 Q138.149 598.018 138.149 592.994 Q138.149 589.684 140.047 587.393 Q141.945 585.101 145.325 584.314 M143.612 576.93 Q143.612 579.615 145.279 581.12 Q146.968 582.624 150.001 582.624 Q153.01 582.624 154.7 581.12 Q156.413 579.615 156.413 576.93 Q156.413 574.245 154.7 572.74 Q153.01 571.235 150.001 571.235 Q146.968 571.235 145.279 572.74 Q143.612 574.245 143.612 576.93 Z\" fill=\"#000000\" fill-rule=\"evenodd\" fill-opacity=\"1\" /><path clip-path=\"url(#clip310)\" d=\"M 0 0 M114.931 399.081 L122.57 399.081 L122.57 372.716 L114.26 374.382 L114.26 370.123 L122.524 368.456 L127.2 368.456 L127.2 399.081 L134.839 399.081 L134.839 403.016 L114.931 403.016 L114.931 399.081 Z\" fill=\"#000000\" fill-rule=\"evenodd\" fill-opacity=\"1\" /><path clip-path=\"url(#clip310)\" d=\"M 0 0 M149.908 371.535 Q146.297 371.535 144.468 375.1 Q142.663 378.641 142.663 385.771 Q142.663 392.877 144.468 396.442 Q146.297 399.984 149.908 399.984 Q153.542 399.984 155.348 396.442 Q157.177 392.877 157.177 385.771 Q157.177 378.641 155.348 375.1 Q153.542 371.535 149.908 371.535 M149.908 367.831 Q155.718 367.831 158.774 372.438 Q161.852 377.021 161.852 385.771 Q161.852 394.498 158.774 399.104 Q155.718 403.688 149.908 403.688 Q144.098 403.688 141.019 399.104 Q137.964 394.498 137.964 385.771 Q137.964 377.021 141.019 372.438 Q144.098 367.831 149.908 367.831 Z\" fill=\"#000000\" fill-rule=\"evenodd\" fill-opacity=\"1\" /><path clip-path=\"url(#clip310)\" d=\"M 0 0 M116.529 199.381 L124.168 199.381 L124.168 173.015 L115.857 174.682 L115.857 170.423 L124.121 168.756 L128.797 168.756 L128.797 199.381 L136.436 199.381 L136.436 203.316 L116.529 203.316 L116.529 199.381 Z\" fill=\"#000000\" fill-rule=\"evenodd\" fill-opacity=\"1\" /><path clip-path=\"url(#clip310)\" d=\"M 0 0 M145.533 199.381 L161.852 199.381 L161.852 203.316 L139.908 203.316 L139.908 199.381 Q142.57 196.626 147.153 191.996 Q151.76 187.344 152.941 186.001 Q155.186 183.478 156.065 181.742 Q156.968 179.983 156.968 178.293 Q156.968 175.538 155.024 173.802 Q153.103 172.066 150.001 172.066 Q147.802 172.066 145.348 172.83 Q142.917 173.594 140.14 175.145 L140.14 170.423 Q142.964 169.288 145.417 168.71 Q147.871 168.131 149.908 168.131 Q155.278 168.131 158.473 170.816 Q161.667 173.501 161.667 177.992 Q161.667 180.122 160.857 182.043 Q160.07 183.941 157.964 186.534 Q157.385 187.205 154.283 190.422 Q151.181 193.617 145.533 199.381 Z\" fill=\"#000000\" fill-rule=\"evenodd\" fill-opacity=\"1\" /><path clip-path=\"url(#clip310)\" d=\"M 0 0 M40.4842 1072.5 L40.4842 1066.07 L82.5933 1066.07 L82.5933 1042.93 L88.0042 1042.93 L88.0042 1072.5 L40.4842 1072.5 Z\" fill=\"#000000\" fill-rule=\"evenodd\" fill-opacity=\"1\" /><path clip-path=\"url(#clip310)\" d=\"M 0 0 M52.3562 1036.79 L52.3562 1030.93 L88.0042 1030.93 L88.0042 1036.79 L52.3562 1036.79 M38.479 1036.79 L38.479 1030.93 L45.895 1030.93 L45.895 1036.79 L38.479 1036.79 Z\" fill=\"#000000\" fill-rule=\"evenodd\" fill-opacity=\"1\" /><path clip-path=\"url(#clip310)\" d=\"M 0 0 M53.7248 999.134 L59.1993 999.134 Q57.8307 1001.62 57.1623 1004.13 Q56.4621 1006.61 56.4621 1009.16 Q56.4621 1014.86 60.0905 1018.01 Q63.6872 1021.16 70.212 1021.16 Q76.7369 1021.16 80.3653 1018.01 Q83.9619 1014.86 83.9619 1009.16 Q83.9619 1006.61 83.2935 1004.13 Q82.5933 1001.62 81.2247 999.134 L86.6355 999.134 Q87.7814 1001.58 88.3543 1004.23 Q88.9272 1006.84 88.9272 1009.8 Q88.9272 1017.85 83.8664 1022.59 Q78.8057 1027.33 70.212 1027.33 Q61.491 1027.33 56.4939 1022.56 Q51.4968 1017.75 51.4968 1009.41 Q51.4968 1006.71 52.0697 1004.13 Q52.6108 1001.55 53.7248 999.134 Z\" fill=\"#000000\" fill-rule=\"evenodd\" fill-opacity=\"1\" /><path clip-path=\"url(#clip310)\" d=\"M 0 0 M52.3562 995.538 L52.3562 967.719 L57.7034 967.719 L83.3254 989.745 L83.3254 967.719 L88.0042 967.719 L88.0042 996.333 L82.657 996.333 L57.035 974.308 L57.035 995.538 L52.3562 995.538 Z\" fill=\"#000000\" fill-rule=\"evenodd\" fill-opacity=\"1\" /><path clip-path=\"url(#clip310)\" d=\"M 0 0 M70.212 935.986 Q63.7508 935.986 60.0905 938.66 Q56.3984 941.302 56.3984 945.949 Q56.3984 950.596 60.0905 953.269 Q63.7508 955.911 70.212 955.911 Q76.6732 955.911 80.3653 953.269 Q84.0256 950.596 84.0256 945.949 Q84.0256 941.302 80.3653 938.66 Q76.6732 935.986 70.212 935.986 M57.7671 955.911 Q54.5842 954.065 53.0564 951.264 Q51.4968 948.431 51.4968 944.516 Q51.4968 938.023 56.6531 933.981 Q61.8093 929.907 70.212 929.907 Q78.6147 929.907 83.771 933.981 Q88.9272 938.023 88.9272 944.516 Q88.9272 948.431 87.3994 951.264 Q85.8398 954.065 82.657 955.911 L88.0042 955.911 L88.0042 961.799 L38.479 961.799 L38.479 955.911 L57.7671 955.911 Z\" fill=\"#000000\" fill-rule=\"evenodd\" fill-opacity=\"1\" /><path clip-path=\"url(#clip310)\" d=\"M 0 0 M70.0847 907.563 Q70.0847 914.661 71.7079 917.398 Q73.3312 920.136 77.2461 920.136 Q80.3653 920.136 82.2114 918.099 Q84.0256 916.03 84.0256 912.497 Q84.0256 907.627 80.5881 904.699 Q77.1188 901.739 71.3897 901.739 L70.0847 901.739 L70.0847 907.563 M67.6657 895.882 L88.0042 895.882 L88.0042 901.739 L82.5933 901.739 Q85.8398 903.744 87.3994 906.736 Q88.9272 909.728 88.9272 914.056 Q88.9272 919.531 85.8716 922.778 Q82.7843 925.992 77.6281 925.992 Q71.6125 925.992 68.5569 921.982 Q65.5014 917.94 65.5014 909.951 L65.5014 901.739 L64.9285 901.739 Q60.8862 901.739 58.6901 904.412 Q56.4621 907.054 56.4621 911.86 Q56.4621 914.916 57.1941 917.812 Q57.9262 920.709 59.3903 923.382 L53.9795 923.382 Q52.7381 920.168 52.1334 917.144 Q51.4968 914.12 51.4968 911.256 Q51.4968 903.521 55.5072 899.702 Q59.5176 895.882 67.6657 895.882 Z\" fill=\"#000000\" fill-rule=\"evenodd\" fill-opacity=\"1\" /><path clip-path=\"url(#clip310)\" d=\"M 0 0 M53.7248 843.365 L59.1993 843.365 Q57.8307 845.848 57.1623 848.362 Q56.4621 850.845 56.4621 853.391 Q56.4621 859.089 60.0905 862.24 Q63.6872 865.391 70.212 865.391 Q76.7369 865.391 80.3653 862.24 Q83.9619 859.089 83.9619 853.391 Q83.9619 850.845 83.2935 848.362 Q82.5933 845.848 81.2247 843.365 L86.6355 843.365 Q87.7814 845.816 88.3543 848.458 Q88.9272 851.068 88.9272 854.028 Q88.9272 862.081 83.8664 866.823 Q78.8057 871.565 70.212 871.565 Q61.491 871.565 56.4939 866.791 Q51.4968 861.985 51.4968 853.646 Q51.4968 850.941 52.0697 848.362 Q52.6108 845.784 53.7248 843.365 Z\" fill=\"#000000\" fill-rule=\"evenodd\" fill-opacity=\"1\" /><path clip-path=\"url(#clip310)\" d=\"M 0 0 M91.3143 822.39 Q97.68 824.873 99.6216 827.228 Q101.563 829.584 101.563 833.53 L101.563 838.209 L96.6615 838.209 L96.6615 834.772 Q96.6615 832.353 95.5157 831.016 Q94.3699 829.679 90.1048 828.056 L87.4312 827.005 L52.3562 841.424 L52.3562 835.217 L80.238 824.077 L52.3562 812.937 L52.3562 806.731 L91.3143 822.39 Z\" fill=\"#000000\" fill-rule=\"evenodd\" fill-opacity=\"1\" /><path clip-path=\"url(#clip310)\" d=\"M 0 0 M38.479 782.541 L43.3487 782.541 L43.3487 788.143 Q43.3487 791.294 44.6219 792.535 Q45.895 793.745 49.2052 793.745 L52.3562 793.745 L52.3562 784.101 L56.9077 784.101 L56.9077 793.745 L88.0042 793.745 L88.0042 799.633 L56.9077 799.633 L56.9077 805.235 L52.3562 805.235 L52.3562 799.633 L49.8736 799.633 Q43.9216 799.633 41.2162 796.864 Q38.479 794.095 38.479 788.079 L38.479 782.541 Z\" fill=\"#000000\" fill-rule=\"evenodd\" fill-opacity=\"1\" /><path clip-path=\"url(#clip310)\" d=\"M 0 0 M57.8307 755.741 Q57.2578 756.728 57.0032 757.906 Q56.7167 759.052 56.7167 760.452 Q56.7167 765.417 59.9632 768.091 Q63.1779 770.733 69.2253 770.733 L88.0042 770.733 L88.0042 776.621 L52.3562 776.621 L52.3562 770.733 L57.8944 770.733 Q54.6479 768.887 53.0883 765.927 Q51.4968 762.966 51.4968 758.733 Q51.4968 758.129 51.5923 757.396 Q51.656 756.664 51.8151 755.773 L57.8307 755.741 Z\" fill=\"#000000\" fill-rule=\"evenodd\" fill-opacity=\"1\" /><path clip-path=\"url(#clip310)\" d=\"M 0 0 M52.3562 731.424 L52.3562 703.606 L57.7034 703.606 L83.3254 725.632 L83.3254 703.606 L88.0042 703.606 L88.0042 732.22 L82.657 732.22 L57.035 710.195 L57.035 731.424 L52.3562 731.424 Z\" fill=\"#000000\" fill-rule=\"evenodd\" fill-opacity=\"1\" /><path clip-path=\"url(#clip310)\" d=\"M 0 0 M66.4881 667.831 L88.0042 667.831 L88.0042 673.687 L66.679 673.687 Q61.6183 673.687 59.1038 675.661 Q56.5894 677.634 56.5894 681.581 Q56.5894 686.323 59.6131 689.061 Q62.6368 691.798 67.8567 691.798 L88.0042 691.798 L88.0042 697.686 L52.3562 697.686 L52.3562 691.798 L57.8944 691.798 Q54.6797 689.697 53.0883 686.864 Q51.4968 684 51.4968 680.276 Q51.4968 674.133 55.3163 670.982 Q59.1038 667.831 66.4881 667.831 Z\" fill=\"#000000\" fill-rule=\"evenodd\" fill-opacity=\"1\" /><path clip-path=\"url(#clip310)\" d=\"M 0 0 M70.0847 645.487 Q70.0847 652.585 71.7079 655.322 Q73.3312 658.06 77.2461 658.06 Q80.3653 658.06 82.2114 656.023 Q84.0256 653.954 84.0256 650.421 Q84.0256 645.551 80.5881 642.623 Q77.1188 639.663 71.3897 639.663 L70.0847 639.663 L70.0847 645.487 M67.6657 633.806 L88.0042 633.806 L88.0042 639.663 L82.5933 639.663 Q85.8398 641.668 87.3994 644.66 Q88.9272 647.652 88.9272 651.98 Q88.9272 657.455 85.8716 660.701 Q82.7843 663.916 77.6281 663.916 Q71.6125 663.916 68.5569 659.906 Q65.5014 655.863 65.5014 647.874 L65.5014 639.663 L64.9285 639.663 Q60.8862 639.663 58.6901 642.336 Q56.4621 644.978 56.4621 649.784 Q56.4621 652.84 57.1941 655.736 Q57.9262 658.633 59.3903 661.306 L53.9795 661.306 Q52.7381 658.091 52.1334 655.068 Q51.4968 652.044 51.4968 649.179 Q51.4968 641.445 55.5072 637.626 Q59.5176 633.806 67.6657 633.806 Z\" fill=\"#000000\" fill-rule=\"evenodd\" fill-opacity=\"1\" /><path clip-path=\"url(#clip310)\" d=\"M 0 0 M53.7248 602.01 L59.1993 602.01 Q57.8307 604.492 57.1623 607.007 Q56.4621 609.489 56.4621 612.036 Q56.4621 617.733 60.0905 620.884 Q63.6872 624.035 70.212 624.035 Q76.7369 624.035 80.3653 620.884 Q83.9619 617.733 83.9619 612.036 Q83.9619 609.489 83.2935 607.007 Q82.5933 604.492 81.2247 602.01 L86.6355 602.01 Q87.7814 604.46 88.3543 607.102 Q88.9272 609.712 88.9272 612.672 Q88.9272 620.725 83.8664 625.467 Q78.8057 630.21 70.212 630.21 Q61.491 630.21 56.4939 625.435 Q51.4968 620.629 51.4968 612.29 Q51.4968 609.585 52.0697 607.007 Q52.6108 604.429 53.7248 602.01 Z\" fill=\"#000000\" fill-rule=\"evenodd\" fill-opacity=\"1\" /><path clip-path=\"url(#clip310)\" d=\"M 0 0 M52.3562 598.413 L52.3562 570.595 L57.7034 570.595 L83.3254 592.62 L83.3254 570.595 L88.0042 570.595 L88.0042 599.209 L82.657 599.209 L57.035 577.183 L57.035 598.413 L52.3562 598.413 Z\" fill=\"#000000\" fill-rule=\"evenodd\" fill-opacity=\"1\" /><path clip-path=\"url(#clip310)\" d=\"M 0 0 M70.0847 548.251 Q70.0847 555.349 71.7079 558.086 Q73.3312 560.823 77.2461 560.823 Q80.3653 560.823 82.2114 558.786 Q84.0256 556.718 84.0256 553.185 Q84.0256 548.315 80.5881 545.387 Q77.1188 542.427 71.3897 542.427 L70.0847 542.427 L70.0847 548.251 M67.6657 536.57 L88.0042 536.57 L88.0042 542.427 L82.5933 542.427 Q85.8398 544.432 87.3994 547.424 Q88.9272 550.416 88.9272 554.744 Q88.9272 560.219 85.8716 563.465 Q82.7843 566.68 77.6281 566.68 Q71.6125 566.68 68.5569 562.669 Q65.5014 558.627 65.5014 550.638 L65.5014 542.427 L64.9285 542.427 Q60.8862 542.427 58.6901 545.1 Q56.4621 547.742 56.4621 552.548 Q56.4621 555.604 57.1941 558.5 Q57.9262 561.396 59.3903 564.07 L53.9795 564.07 Q52.7381 560.855 52.1334 557.832 Q51.4968 554.808 51.4968 551.943 Q51.4968 544.209 55.5072 540.39 Q59.5176 536.57 67.6657 536.57 M88.0042 542.363 L88.0042 538.575 Q89.9457 540.008 91.3462 540.708 Q92.7466 541.376 93.7333 541.376 Q95.1974 541.376 95.9295 540.517 Q96.6615 539.626 96.6615 537.907 Q96.6615 536.888 96.4069 535.902 Q96.1841 534.915 95.7067 533.928 L99.9399 533.928 Q100.258 535.138 100.417 536.22 Q100.576 537.302 100.576 538.257 Q100.576 542.14 99.176 543.986 Q97.8073 545.8 94.8473 545.8 Q93.3195 545.8 91.6326 544.973 Q89.9775 544.113 88.0042 542.363 Z\" fill=\"#000000\" fill-rule=\"evenodd\" fill-opacity=\"1\" /><path clip-path=\"url(#clip310)\" d=\"M 0 0 M53.7248 502.132 L59.1993 502.132 Q57.8307 504.614 57.1623 507.129 Q56.4621 509.611 56.4621 512.158 Q56.4621 517.855 60.0905 521.006 Q63.6872 524.157 70.212 524.157 Q76.7369 524.157 80.3653 521.006 Q83.9619 517.855 83.9619 512.158 Q83.9619 509.611 83.2935 507.129 Q82.5933 504.614 81.2247 502.132 L86.6355 502.132 Q87.7814 504.582 88.3543 507.224 Q88.9272 509.834 88.9272 512.794 Q88.9272 520.847 83.8664 525.589 Q78.8057 530.332 70.212 530.332 Q61.491 530.332 56.4939 525.557 Q51.4968 520.751 51.4968 512.412 Q51.4968 509.707 52.0697 507.129 Q52.6108 504.551 53.7248 502.132 Z\" fill=\"#000000\" fill-rule=\"evenodd\" fill-opacity=\"1\" /><path clip-path=\"url(#clip310)\" d=\"M 0 0 M91.3143 481.157 Q97.68 483.639 99.6216 485.995 Q101.563 488.35 101.563 492.297 L101.563 496.975 L96.6615 496.975 L96.6615 493.538 Q96.6615 491.119 95.5157 489.782 Q94.3699 488.445 90.1048 486.822 L87.4312 485.772 L52.3562 500.19 L52.3562 493.984 L80.238 482.844 L52.3562 471.704 L52.3562 465.497 L91.3143 481.157 Z\" fill=\"#000000\" fill-rule=\"evenodd\" fill-opacity=\"1\" /><path clip-path=\"url(#clip310)\" d=\"M 0 0 M53.7248 433.7 L59.1993 433.7 Q57.8307 436.183 57.1623 438.697 Q56.4621 441.18 56.4621 443.726 Q56.4621 449.424 60.0905 452.575 Q63.6872 455.726 70.212 455.726 Q76.7369 455.726 80.3653 452.575 Q83.9619 449.424 83.9619 443.726 Q83.9619 441.18 83.2935 438.697 Q82.5933 436.183 81.2247 433.7 L86.6355 433.7 Q87.7814 436.151 88.3543 438.793 Q88.9272 441.403 88.9272 444.363 Q88.9272 452.415 83.8664 457.158 Q78.8057 461.9 70.212 461.9 Q61.491 461.9 56.4939 457.126 Q51.4968 452.32 51.4968 443.981 Q51.4968 441.275 52.0697 438.697 Q52.6108 436.119 53.7248 433.7 Z\" fill=\"#000000\" fill-rule=\"evenodd\" fill-opacity=\"1\" /><path clip-path=\"url(#clip310)\" d=\"M 0 0 M66.4881 397.925 L88.0042 397.925 L88.0042 403.781 L66.679 403.781 Q61.6183 403.781 59.1038 405.755 Q56.5894 407.728 56.5894 411.675 Q56.5894 416.417 59.6131 419.155 Q62.6368 421.892 67.8567 421.892 L88.0042 421.892 L88.0042 427.78 L38.479 427.78 L38.479 421.892 L57.8944 421.892 Q54.6797 419.791 53.0883 416.958 Q51.4968 414.094 51.4968 410.37 Q51.4968 404.227 55.3163 401.076 Q59.1038 397.925 66.4881 397.925 Z\" fill=\"#000000\" fill-rule=\"evenodd\" fill-opacity=\"1\" /><polyline clip-path=\"url(#clip312)\" style=\"stroke:#009af9; stroke-width:12; stroke-opacity:1; fill:none\" points=\"\n",
       "  394.369,1384.24 529.897,1384.24 665.426,1384.24 800.954,1384.24 936.483,1384.24 1072.01,1384.24 1207.54,186.036 1343.07,186.036 1478.6,186.036 1614.13,186.036 \n",
       "  1749.65,186.036 1885.18,186.036 2020.71,186.036 2156.24,186.036 2291.77,186.036 \n",
       "  \"/>\n",
       "<polyline clip-path=\"url(#clip312)\" style=\"stroke:#e26f46; stroke-width:12; stroke-opacity:1; fill:none\" points=\"\n",
       "  394.369,1384.24 529.897,1384.24 665.426,1384.24 800.954,1384.24 936.483,1384.24 1072.01,1384.24 1207.54,86.1857 1343.07,86.1857 1478.6,86.1857 1614.13,86.1857 \n",
       "  1749.65,86.1857 1885.18,86.1857 2020.71,86.1857 2156.24,86.1857 2291.77,86.1857 \n",
       "  \"/>\n",
       "<polyline clip-path=\"url(#clip312)\" style=\"stroke:#3da44d; stroke-width:12; stroke-opacity:1; fill:none\" points=\"\n",
       "  394.369,1384.24 529.897,1384.24 665.426,1384.24 800.954,1284.39 936.483,1184.54 1072.01,785.137 1207.54,186.036 1343.07,186.036 1478.6,186.036 1614.13,186.036 \n",
       "  1749.65,186.036 1885.18,186.036 2020.71,186.036 2156.24,186.036 2291.77,186.036 \n",
       "  \"/>\n",
       "<path clip-path=\"url(#clip310)\" d=\"\n",
       "M269.683 335.029 L561.269 335.029 L561.269 93.1086 L269.683 93.1086  Z\n",
       "  \" fill=\"#ffffff\" fill-rule=\"evenodd\" fill-opacity=\"1\"/>\n",
       "<polyline clip-path=\"url(#clip310)\" style=\"stroke:#000000; stroke-width:4; stroke-opacity:1; fill:none\" points=\"\n",
       "  269.683,335.029 561.269,335.029 561.269,93.1086 269.683,93.1086 269.683,335.029 \n",
       "  \"/>\n",
       "<polyline clip-path=\"url(#clip310)\" style=\"stroke:#009af9; stroke-width:4; stroke-opacity:1; fill:none\" points=\"\n",
       "  293.626,153.589 437.286,153.589 \n",
       "  \"/>\n",
       "<path clip-path=\"url(#clip310)\" d=\"M 0 0 M485.882 144.943 L476.507 157.559 L486.368 170.869 L481.345 170.869 L473.799 160.683 L466.253 170.869 L461.23 170.869 L471.299 157.304 L462.086 144.943 L467.109 144.943 L473.984 154.179 L480.859 144.943 L485.882 144.943 Z\" fill=\"#000000\" fill-rule=\"evenodd\" fill-opacity=\"1\" /><path clip-path=\"url(#clip310)\" d=\"M 0 0 M501.438 139.387 Q497.827 139.387 495.998 142.952 Q494.192 146.494 494.192 153.623 Q494.192 160.73 495.998 164.295 Q497.827 167.836 501.438 167.836 Q505.072 167.836 506.877 164.295 Q508.706 160.73 508.706 153.623 Q508.706 146.494 506.877 142.952 Q505.072 139.387 501.438 139.387 M501.438 135.684 Q507.248 135.684 510.303 140.29 Q513.382 144.873 513.382 153.623 Q513.382 162.35 510.303 166.957 Q507.248 171.54 501.438 171.54 Q495.628 171.54 492.549 166.957 Q489.493 162.35 489.493 153.623 Q489.493 144.873 492.549 140.29 Q495.628 135.684 501.438 135.684 Z\" fill=\"#000000\" fill-rule=\"evenodd\" fill-opacity=\"1\" /><polyline clip-path=\"url(#clip310)\" style=\"stroke:#e26f46; stroke-width:4; stroke-opacity:1; fill:none\" points=\"\n",
       "  293.626,214.069 437.286,214.069 \n",
       "  \"/>\n",
       "<path clip-path=\"url(#clip310)\" d=\"M 0 0 M485.882 205.423 L476.507 218.039 L486.368 231.349 L481.345 231.349 L473.799 221.163 L466.253 231.349 L461.23 231.349 L471.299 217.784 L462.086 205.423 L467.109 205.423 L473.984 214.659 L480.859 205.423 L485.882 205.423 Z\" fill=\"#000000\" fill-rule=\"evenodd\" fill-opacity=\"1\" /><path clip-path=\"url(#clip310)\" d=\"M 0 0 M492.248 227.413 L499.887 227.413 L499.887 201.048 L491.577 202.715 L491.577 198.455 L499.84 196.789 L504.516 196.789 L504.516 227.413 L512.155 227.413 L512.155 231.349 L492.248 231.349 L492.248 227.413 Z\" fill=\"#000000\" fill-rule=\"evenodd\" fill-opacity=\"1\" /><polyline clip-path=\"url(#clip310)\" style=\"stroke:#3da44d; stroke-width:4; stroke-opacity:1; fill:none\" points=\"\n",
       "  293.626,274.549 437.286,274.549 \n",
       "  \"/>\n",
       "<path clip-path=\"url(#clip310)\" d=\"M 0 0 M485.882 265.903 L476.507 278.519 L486.368 291.829 L481.345 291.829 L473.799 281.643 L466.253 291.829 L461.23 291.829 L471.299 278.264 L462.086 265.903 L467.109 265.903 L473.984 275.139 L480.859 265.903 L485.882 265.903 Z\" fill=\"#000000\" fill-rule=\"evenodd\" fill-opacity=\"1\" /><path clip-path=\"url(#clip310)\" d=\"M 0 0 M495.466 287.893 L511.785 287.893 L511.785 291.829 L489.841 291.829 L489.841 287.893 Q492.503 285.139 497.086 280.509 Q501.692 275.856 502.873 274.514 Q505.118 271.991 505.998 270.255 Q506.901 268.495 506.901 266.806 Q506.901 264.051 504.956 262.315 Q503.035 260.579 499.933 260.579 Q497.734 260.579 495.28 261.343 Q492.85 262.107 490.072 263.657 L490.072 258.935 Q492.896 257.801 495.35 257.222 Q497.803 256.644 499.84 256.644 Q505.211 256.644 508.405 259.329 Q511.6 262.014 511.6 266.505 Q511.6 268.634 510.789 270.556 Q510.002 272.454 507.896 275.046 Q507.317 275.718 504.215 278.935 Q501.114 282.13 495.466 287.893 Z\" fill=\"#000000\" fill-rule=\"evenodd\" fill-opacity=\"1\" /></svg>\n"
      ]
     },
     "execution_count": 1380,
     "metadata": {},
     "output_type": "execute_result"
    }
   ],
   "source": [
    "TestNewton(f, 10, ε, M, -2, 4, 0)"
   ]
  },
  {
   "cell_type": "code",
   "execution_count": 1381,
   "metadata": {},
   "outputs": [
    {
     "data": {
      "image/svg+xml": [
       "<?xml version=\"1.0\" encoding=\"utf-8\"?>\n",
       "<svg xmlns=\"http://www.w3.org/2000/svg\" xmlns:xlink=\"http://www.w3.org/1999/xlink\" width=\"600\" height=\"400\" viewBox=\"0 0 2400 1600\">\n",
       "<defs>\n",
       "  <clipPath id=\"clip350\">\n",
       "    <rect x=\"0\" y=\"0\" width=\"2400\" height=\"1600\"/>\n",
       "  </clipPath>\n",
       "</defs>\n",
       "<path clip-path=\"url(#clip350)\" d=\"\n",
       "M0 1600 L2400 1600 L2400 0 L0 0  Z\n",
       "  \" fill=\"#ffffff\" fill-rule=\"evenodd\" fill-opacity=\"1\"/>\n",
       "<defs>\n",
       "  <clipPath id=\"clip351\">\n",
       "    <rect x=\"480\" y=\"0\" width=\"1681\" height=\"1600\"/>\n",
       "  </clipPath>\n",
       "</defs>\n",
       "<path clip-path=\"url(#clip350)\" d=\"\n",
       "M174.149 1423.18 L2352.76 1423.18 L2352.76 47.2441 L174.149 47.2441  Z\n",
       "  \" fill=\"#ffffff\" fill-rule=\"evenodd\" fill-opacity=\"1\"/>\n",
       "<defs>\n",
       "  <clipPath id=\"clip352\">\n",
       "    <rect x=\"174\" y=\"47\" width=\"2180\" height=\"1377\"/>\n",
       "  </clipPath>\n",
       "</defs>\n",
       "<polyline clip-path=\"url(#clip352)\" style=\"stroke:#000000; stroke-width:2; stroke-opacity:0.1; fill:none\" points=\"\n",
       "  235.808,1423.18 235.808,47.2441 \n",
       "  \"/>\n",
       "<polyline clip-path=\"url(#clip352)\" style=\"stroke:#000000; stroke-width:2; stroke-opacity:0.1; fill:none\" points=\"\n",
       "  920.904,1423.18 920.904,47.2441 \n",
       "  \"/>\n",
       "<polyline clip-path=\"url(#clip352)\" style=\"stroke:#000000; stroke-width:2; stroke-opacity:0.1; fill:none\" points=\"\n",
       "  1606,1423.18 1606,47.2441 \n",
       "  \"/>\n",
       "<polyline clip-path=\"url(#clip352)\" style=\"stroke:#000000; stroke-width:2; stroke-opacity:0.1; fill:none\" points=\"\n",
       "  2291.1,1423.18 2291.1,47.2441 \n",
       "  \"/>\n",
       "<polyline clip-path=\"url(#clip350)\" style=\"stroke:#000000; stroke-width:4; stroke-opacity:1; fill:none\" points=\"\n",
       "  174.149,1384.24 2352.76,1384.24 \n",
       "  \"/>\n",
       "<polyline clip-path=\"url(#clip350)\" style=\"stroke:#000000; stroke-width:4; stroke-opacity:0; fill:none\" points=\"\n",
       "  235.808,1384.24 235.808,1384.24 \n",
       "  \"/>\n",
       "<polyline clip-path=\"url(#clip350)\" style=\"stroke:#000000; stroke-width:4; stroke-opacity:0; fill:none\" points=\"\n",
       "  920.904,1384.24 920.904,1384.24 \n",
       "  \"/>\n",
       "<polyline clip-path=\"url(#clip350)\" style=\"stroke:#000000; stroke-width:4; stroke-opacity:0; fill:none\" points=\"\n",
       "  1606,1384.24 1606,1384.24 \n",
       "  \"/>\n",
       "<polyline clip-path=\"url(#clip350)\" style=\"stroke:#000000; stroke-width:4; stroke-opacity:0; fill:none\" points=\"\n",
       "  2291.1,1384.24 2291.1,1384.24 \n",
       "  \"/>\n",
       "<path clip-path=\"url(#clip350)\" d=\"M 0 0 M235.808 1452.37 Q232.197 1452.37 230.368 1455.94 Q228.562 1459.48 228.562 1466.61 Q228.562 1473.71 230.368 1477.28 Q232.197 1480.82 235.808 1480.82 Q239.442 1480.82 241.247 1477.28 Q243.076 1473.71 243.076 1466.61 Q243.076 1459.48 241.247 1455.94 Q239.442 1452.37 235.808 1452.37 M235.808 1448.67 Q241.618 1448.67 244.673 1453.27 Q247.752 1457.86 247.752 1466.61 Q247.752 1475.33 244.673 1479.94 Q241.618 1484.52 235.808 1484.52 Q229.997 1484.52 226.919 1479.94 Q223.863 1475.33 223.863 1466.61 Q223.863 1457.86 226.919 1453.27 Q229.997 1448.67 235.808 1448.67 Z\" fill=\"#000000\" fill-rule=\"evenodd\" fill-opacity=\"1\" /><path clip-path=\"url(#clip350)\" d=\"M 0 0 M911.182 1449.29 L929.538 1449.29 L929.538 1453.23 L915.464 1453.23 L915.464 1461.7 Q916.483 1461.35 917.501 1461.19 Q918.52 1461 919.538 1461 Q925.325 1461 928.705 1464.18 Q932.085 1467.35 932.085 1472.76 Q932.085 1478.34 928.612 1481.44 Q925.14 1484.52 918.821 1484.52 Q916.645 1484.52 914.376 1484.15 Q912.131 1483.78 909.724 1483.04 L909.724 1478.34 Q911.807 1479.48 914.029 1480.03 Q916.251 1480.59 918.728 1480.59 Q922.733 1480.59 925.071 1478.48 Q927.409 1476.38 927.409 1472.76 Q927.409 1469.15 925.071 1467.05 Q922.733 1464.94 918.728 1464.94 Q916.853 1464.94 914.978 1465.36 Q913.126 1465.77 911.182 1466.65 L911.182 1449.29 Z\" fill=\"#000000\" fill-rule=\"evenodd\" fill-opacity=\"1\" /><path clip-path=\"url(#clip350)\" d=\"M 0 0 M1582.88 1479.92 L1590.51 1479.92 L1590.51 1453.55 L1582.2 1455.22 L1582.2 1450.96 L1590.47 1449.29 L1595.14 1449.29 L1595.14 1479.92 L1602.78 1479.92 L1602.78 1483.85 L1582.88 1483.85 L1582.88 1479.92 Z\" fill=\"#000000\" fill-rule=\"evenodd\" fill-opacity=\"1\" /><path clip-path=\"url(#clip350)\" d=\"M 0 0 M1617.85 1452.37 Q1614.24 1452.37 1612.41 1455.94 Q1610.61 1459.48 1610.61 1466.61 Q1610.61 1473.71 1612.41 1477.28 Q1614.24 1480.82 1617.85 1480.82 Q1621.49 1480.82 1623.29 1477.28 Q1625.12 1473.71 1625.12 1466.61 Q1625.12 1459.48 1623.29 1455.94 Q1621.49 1452.37 1617.85 1452.37 M1617.85 1448.67 Q1623.66 1448.67 1626.72 1453.27 Q1629.8 1457.86 1629.8 1466.61 Q1629.8 1475.33 1626.72 1479.94 Q1623.66 1484.52 1617.85 1484.52 Q1612.04 1484.52 1608.96 1479.94 Q1605.91 1475.33 1605.91 1466.61 Q1605.91 1457.86 1608.96 1453.27 Q1612.04 1448.67 1617.85 1448.67 Z\" fill=\"#000000\" fill-rule=\"evenodd\" fill-opacity=\"1\" /><path clip-path=\"url(#clip350)\" d=\"M 0 0 M2268.47 1479.92 L2276.11 1479.92 L2276.11 1453.55 L2267.8 1455.22 L2267.8 1450.96 L2276.06 1449.29 L2280.74 1449.29 L2280.74 1479.92 L2288.38 1479.92 L2288.38 1483.85 L2268.47 1483.85 L2268.47 1479.92 Z\" fill=\"#000000\" fill-rule=\"evenodd\" fill-opacity=\"1\" /><path clip-path=\"url(#clip350)\" d=\"M 0 0 M2293.49 1449.29 L2311.85 1449.29 L2311.85 1453.23 L2297.78 1453.23 L2297.78 1461.7 Q2298.79 1461.35 2299.81 1461.19 Q2300.83 1461 2301.85 1461 Q2307.64 1461 2311.02 1464.18 Q2314.4 1467.35 2314.4 1472.76 Q2314.4 1478.34 2310.92 1481.44 Q2307.45 1484.52 2301.13 1484.52 Q2298.96 1484.52 2296.69 1484.15 Q2294.44 1483.78 2292.03 1483.04 L2292.03 1478.34 Q2294.12 1479.48 2296.34 1480.03 Q2298.56 1480.59 2301.04 1480.59 Q2305.04 1480.59 2307.38 1478.48 Q2309.72 1476.38 2309.72 1472.76 Q2309.72 1469.15 2307.38 1467.05 Q2305.04 1464.94 2301.04 1464.94 Q2299.16 1464.94 2297.29 1465.36 Q2295.44 1465.77 2293.49 1466.65 L2293.49 1449.29 Z\" fill=\"#000000\" fill-rule=\"evenodd\" fill-opacity=\"1\" /><path clip-path=\"url(#clip350)\" d=\"M 0 0 M1160.6 1508.52 L1167.03 1508.52 L1167.03 1556.04 L1160.6 1556.04 L1160.6 1508.52 Z\" fill=\"#000000\" fill-rule=\"evenodd\" fill-opacity=\"1\" /><path clip-path=\"url(#clip350)\" d=\"M 0 0 M1178.96 1510.27 L1178.96 1520.4 L1191.03 1520.4 L1191.03 1524.95 L1178.96 1524.95 L1178.96 1544.3 Q1178.96 1548.66 1180.14 1549.9 Q1181.35 1551.14 1185.01 1551.14 L1191.03 1551.14 L1191.03 1556.04 L1185.01 1556.04 Q1178.23 1556.04 1175.65 1553.53 Q1173.08 1550.98 1173.08 1544.3 L1173.08 1524.95 L1168.78 1524.95 L1168.78 1520.4 L1173.08 1520.4 L1173.08 1510.27 L1178.96 1510.27 Z\" fill=\"#000000\" fill-rule=\"evenodd\" fill-opacity=\"1\" /><path clip-path=\"url(#clip350)\" d=\"M 0 0 M1227.66 1536.76 L1227.66 1539.62 L1200.73 1539.62 Q1201.12 1545.67 1204.36 1548.85 Q1207.64 1552 1213.47 1552 Q1216.84 1552 1219.99 1551.17 Q1223.17 1550.35 1226.29 1548.69 L1226.29 1554.23 Q1223.14 1555.57 1219.83 1556.27 Q1216.52 1556.97 1213.12 1556.97 Q1204.59 1556.97 1199.59 1552 Q1194.62 1547.04 1194.62 1538.57 Q1194.62 1529.82 1199.33 1524.69 Q1204.08 1519.54 1212.1 1519.54 Q1219.29 1519.54 1223.46 1524.18 Q1227.66 1528.8 1227.66 1536.76 M1221.8 1535.04 Q1221.74 1530.23 1219.1 1527.37 Q1216.49 1524.5 1212.16 1524.5 Q1207.26 1524.5 1204.3 1527.27 Q1201.37 1530.04 1200.93 1535.07 L1221.8 1535.04 Z\" fill=\"#000000\" fill-rule=\"evenodd\" fill-opacity=\"1\" /><path clip-path=\"url(#clip350)\" d=\"M 0 0 M1254.46 1525.87 Q1253.47 1525.3 1252.3 1525.04 Q1251.15 1524.76 1249.75 1524.76 Q1244.78 1524.76 1242.11 1528 Q1239.47 1531.22 1239.47 1537.27 L1239.47 1556.04 L1233.58 1556.04 L1233.58 1520.4 L1239.47 1520.4 L1239.47 1525.93 Q1241.32 1522.69 1244.28 1521.13 Q1247.24 1519.54 1251.47 1519.54 Q1252.07 1519.54 1252.81 1519.63 Q1253.54 1519.7 1254.43 1519.85 L1254.46 1525.87 Z\" fill=\"#000000\" fill-rule=\"evenodd\" fill-opacity=\"1\" /><path clip-path=\"url(#clip350)\" d=\"M 0 0 M1276.8 1538.12 Q1269.71 1538.12 1266.97 1539.75 Q1264.23 1541.37 1264.23 1545.29 Q1264.23 1548.4 1266.27 1550.25 Q1268.34 1552.07 1271.87 1552.07 Q1276.74 1552.07 1279.67 1548.63 Q1282.63 1545.16 1282.63 1539.43 L1282.63 1538.12 L1276.8 1538.12 M1288.49 1535.71 L1288.49 1556.04 L1282.63 1556.04 L1282.63 1550.63 Q1280.62 1553.88 1277.63 1555.44 Q1274.64 1556.97 1270.31 1556.97 Q1264.84 1556.97 1261.59 1553.91 Q1258.38 1550.82 1258.38 1545.67 Q1258.38 1539.65 1262.39 1536.6 Q1266.43 1533.54 1274.42 1533.54 L1282.63 1533.54 L1282.63 1532.97 Q1282.63 1528.93 1279.96 1526.73 Q1277.31 1524.5 1272.51 1524.5 Q1269.45 1524.5 1266.56 1525.23 Q1263.66 1525.97 1260.99 1527.43 L1260.99 1522.02 Q1264.2 1520.78 1267.22 1520.17 Q1270.25 1519.54 1273.11 1519.54 Q1280.85 1519.54 1284.67 1523.55 Q1288.49 1527.56 1288.49 1535.71 Z\" fill=\"#000000\" fill-rule=\"evenodd\" fill-opacity=\"1\" /><path clip-path=\"url(#clip350)\" d=\"M 0 0 M1320.28 1521.76 L1320.28 1527.24 Q1317.8 1525.87 1315.29 1525.2 Q1312.8 1524.5 1310.26 1524.5 Q1304.56 1524.5 1301.41 1528.13 Q1298.26 1531.73 1298.26 1538.25 Q1298.26 1544.78 1301.41 1548.4 Q1304.56 1552 1310.26 1552 Q1312.8 1552 1315.29 1551.33 Q1317.8 1550.63 1320.28 1549.26 L1320.28 1554.68 Q1317.83 1555.82 1315.19 1556.39 Q1312.58 1556.97 1309.62 1556.97 Q1301.57 1556.97 1296.82 1551.91 Q1292.08 1546.85 1292.08 1538.25 Q1292.08 1529.53 1296.86 1524.53 Q1301.66 1519.54 1310 1519.54 Q1312.71 1519.54 1315.29 1520.11 Q1317.86 1520.65 1320.28 1521.76 Z\" fill=\"#000000\" fill-rule=\"evenodd\" fill-opacity=\"1\" /><path clip-path=\"url(#clip350)\" d=\"M 0 0 M1326.43 1520.4 L1332.28 1520.4 L1332.28 1556.68 Q1332.28 1563.49 1329.67 1566.55 Q1327.09 1569.6 1321.33 1569.6 L1319.1 1569.6 L1319.1 1564.64 L1320.66 1564.64 Q1324.01 1564.64 1325.22 1563.08 Q1326.43 1561.55 1326.43 1556.68 L1326.43 1520.4 M1326.43 1506.52 L1332.28 1506.52 L1332.28 1513.93 L1326.43 1513.93 L1326.43 1506.52 Z\" fill=\"#000000\" fill-rule=\"evenodd\" fill-opacity=\"1\" /><path clip-path=\"url(#clip350)\" d=\"M 0 0 M1354.63 1538.12 Q1347.53 1538.12 1344.79 1539.75 Q1342.05 1541.37 1342.05 1545.29 Q1342.05 1548.4 1344.09 1550.25 Q1346.16 1552.07 1349.69 1552.07 Q1354.56 1552.07 1357.49 1548.63 Q1360.45 1545.16 1360.45 1539.43 L1360.45 1538.12 L1354.63 1538.12 M1366.31 1535.71 L1366.31 1556.04 L1360.45 1556.04 L1360.45 1550.63 Q1358.44 1553.88 1355.45 1555.44 Q1352.46 1556.97 1348.13 1556.97 Q1342.66 1556.97 1339.41 1553.91 Q1336.2 1550.82 1336.2 1545.67 Q1336.2 1539.65 1340.21 1536.6 Q1344.25 1533.54 1352.24 1533.54 L1360.45 1533.54 L1360.45 1532.97 Q1360.45 1528.93 1357.78 1526.73 Q1355.13 1524.5 1350.33 1524.5 Q1347.27 1524.5 1344.38 1525.23 Q1341.48 1525.97 1338.81 1527.43 L1338.81 1522.02 Q1342.02 1520.78 1345.04 1520.17 Q1348.07 1519.54 1350.93 1519.54 Q1358.67 1519.54 1362.49 1523.55 Q1366.31 1527.56 1366.31 1535.71 Z\" fill=\"#000000\" fill-rule=\"evenodd\" fill-opacity=\"1\" /><polyline clip-path=\"url(#clip352)\" style=\"stroke:#000000; stroke-width:2; stroke-opacity:0.1; fill:none\" points=\"\n",
       "  174.149,1384.24 2352.76,1384.24 \n",
       "  \"/>\n",
       "<polyline clip-path=\"url(#clip352)\" style=\"stroke:#000000; stroke-width:2; stroke-opacity:0.1; fill:none\" points=\"\n",
       "  174.149,951.554 2352.76,951.554 \n",
       "  \"/>\n",
       "<polyline clip-path=\"url(#clip352)\" style=\"stroke:#000000; stroke-width:2; stroke-opacity:0.1; fill:none\" points=\"\n",
       "  174.149,518.87 2352.76,518.87 \n",
       "  \"/>\n",
       "<polyline clip-path=\"url(#clip352)\" style=\"stroke:#000000; stroke-width:2; stroke-opacity:0.1; fill:none\" points=\"\n",
       "  174.149,86.1857 2352.76,86.1857 \n",
       "  \"/>\n",
       "<polyline clip-path=\"url(#clip350)\" style=\"stroke:#000000; stroke-width:4; stroke-opacity:1; fill:none\" points=\"\n",
       "  235.808,1423.18 235.808,47.2441 \n",
       "  \"/>\n",
       "<polyline clip-path=\"url(#clip350)\" style=\"stroke:#000000; stroke-width:4; stroke-opacity:0; fill:none\" points=\"\n",
       "  235.808,1384.24 235.808,1384.24 \n",
       "  \"/>\n",
       "<polyline clip-path=\"url(#clip350)\" style=\"stroke:#000000; stroke-width:4; stroke-opacity:0; fill:none\" points=\"\n",
       "  235.808,951.554 235.808,951.554 \n",
       "  \"/>\n",
       "<polyline clip-path=\"url(#clip350)\" style=\"stroke:#000000; stroke-width:4; stroke-opacity:0; fill:none\" points=\"\n",
       "  235.808,518.87 235.808,518.87 \n",
       "  \"/>\n",
       "<polyline clip-path=\"url(#clip350)\" style=\"stroke:#000000; stroke-width:4; stroke-opacity:0; fill:none\" points=\"\n",
       "  235.808,86.1857 235.808,86.1857 \n",
       "  \"/>\n",
       "<path clip-path=\"url(#clip350)\" d=\"M 0 0 M126.205 1370.04 Q122.593 1370.04 120.765 1373.6 Q118.959 1377.14 118.959 1384.27 Q118.959 1391.38 120.765 1394.94 Q122.593 1398.49 126.205 1398.49 Q129.839 1398.49 131.644 1394.94 Q133.473 1391.38 133.473 1384.27 Q133.473 1377.14 131.644 1373.6 Q129.839 1370.04 126.205 1370.04 M126.205 1366.33 Q132.015 1366.33 135.07 1370.94 Q138.149 1375.52 138.149 1384.27 Q138.149 1393 135.07 1397.61 Q132.015 1402.19 126.205 1402.19 Q120.394 1402.19 117.316 1397.61 Q114.26 1393 114.26 1384.27 Q114.26 1375.52 117.316 1370.94 Q120.394 1366.33 126.205 1366.33 Z\" fill=\"#000000\" fill-rule=\"evenodd\" fill-opacity=\"1\" /><path clip-path=\"url(#clip350)\" d=\"M 0 0 M118.242 964.899 L125.88 964.899 L125.88 938.533 L117.57 940.2 L117.57 935.941 L125.834 934.274 L130.51 934.274 L130.51 964.899 L138.149 964.899 L138.149 968.834 L118.242 968.834 L118.242 964.899 Z\" fill=\"#000000\" fill-rule=\"evenodd\" fill-opacity=\"1\" /><path clip-path=\"url(#clip350)\" d=\"M 0 0 M121.83 532.215 L138.149 532.215 L138.149 536.15 L116.205 536.15 L116.205 532.215 Q118.867 529.46 123.45 524.83 Q128.056 520.178 129.237 518.835 Q131.482 516.312 132.362 514.576 Q133.265 512.817 133.265 511.127 Q133.265 508.372 131.32 506.636 Q129.399 504.9 126.297 504.9 Q124.098 504.9 121.644 505.664 Q119.214 506.428 116.436 507.979 L116.436 503.257 Q119.26 502.122 121.714 501.544 Q124.168 500.965 126.205 500.965 Q131.575 500.965 134.769 503.65 Q137.964 506.335 137.964 510.826 Q137.964 512.956 137.154 514.877 Q136.367 516.775 134.26 519.368 Q133.681 520.039 130.58 523.256 Q127.478 526.451 121.83 532.215 Z\" fill=\"#000000\" fill-rule=\"evenodd\" fill-opacity=\"1\" /><path clip-path=\"url(#clip350)\" d=\"M 0 0 M131.019 84.8315 Q134.376 85.5491 136.251 87.8176 Q138.149 90.0861 138.149 93.4194 Q138.149 98.5351 134.63 101.336 Q131.112 104.137 124.63 104.137 Q122.455 104.137 120.14 103.697 Q117.848 103.28 115.394 102.424 L115.394 97.9101 Q117.339 99.0444 119.654 99.6231 Q121.968 100.202 124.492 100.202 Q128.89 100.202 131.181 98.4657 Q133.496 96.7296 133.496 93.4194 Q133.496 90.3639 131.343 88.6509 Q129.214 86.9148 125.394 86.9148 L121.367 86.9148 L121.367 83.0723 L125.58 83.0723 Q129.029 83.0723 130.857 81.7065 Q132.686 80.3176 132.686 77.7251 Q132.686 75.063 130.788 73.651 Q128.913 72.2158 125.394 72.2158 Q123.473 72.2158 121.274 72.6325 Q119.075 73.0492 116.436 73.9288 L116.436 69.7621 Q119.098 69.0214 121.413 68.651 Q123.751 68.2807 125.811 68.2807 Q131.135 68.2807 134.237 70.7112 Q137.339 73.1186 137.339 77.239 Q137.339 80.1093 135.695 82.1 Q134.052 84.0676 131.019 84.8315 Z\" fill=\"#000000\" fill-rule=\"evenodd\" fill-opacity=\"1\" /><path clip-path=\"url(#clip350)\" d=\"M 0 0 M40.4842 1072.5 L40.4842 1066.07 L82.5933 1066.07 L82.5933 1042.93 L88.0042 1042.93 L88.0042 1072.5 L40.4842 1072.5 Z\" fill=\"#000000\" fill-rule=\"evenodd\" fill-opacity=\"1\" /><path clip-path=\"url(#clip350)\" d=\"M 0 0 M52.3562 1036.79 L52.3562 1030.93 L88.0042 1030.93 L88.0042 1036.79 L52.3562 1036.79 M38.479 1036.79 L38.479 1030.93 L45.895 1030.93 L45.895 1036.79 L38.479 1036.79 Z\" fill=\"#000000\" fill-rule=\"evenodd\" fill-opacity=\"1\" /><path clip-path=\"url(#clip350)\" d=\"M 0 0 M53.7248 999.134 L59.1993 999.134 Q57.8307 1001.62 57.1623 1004.13 Q56.4621 1006.61 56.4621 1009.16 Q56.4621 1014.86 60.0905 1018.01 Q63.6872 1021.16 70.212 1021.16 Q76.7369 1021.16 80.3653 1018.01 Q83.9619 1014.86 83.9619 1009.16 Q83.9619 1006.61 83.2935 1004.13 Q82.5933 1001.62 81.2247 999.134 L86.6355 999.134 Q87.7814 1001.58 88.3543 1004.23 Q88.9272 1006.84 88.9272 1009.8 Q88.9272 1017.85 83.8664 1022.59 Q78.8057 1027.33 70.212 1027.33 Q61.491 1027.33 56.4939 1022.56 Q51.4968 1017.75 51.4968 1009.41 Q51.4968 1006.71 52.0697 1004.13 Q52.6108 1001.55 53.7248 999.134 Z\" fill=\"#000000\" fill-rule=\"evenodd\" fill-opacity=\"1\" /><path clip-path=\"url(#clip350)\" d=\"M 0 0 M52.3562 995.538 L52.3562 967.719 L57.7034 967.719 L83.3254 989.745 L83.3254 967.719 L88.0042 967.719 L88.0042 996.333 L82.657 996.333 L57.035 974.308 L57.035 995.538 L52.3562 995.538 Z\" fill=\"#000000\" fill-rule=\"evenodd\" fill-opacity=\"1\" /><path clip-path=\"url(#clip350)\" d=\"M 0 0 M70.212 935.986 Q63.7508 935.986 60.0905 938.66 Q56.3984 941.302 56.3984 945.949 Q56.3984 950.596 60.0905 953.269 Q63.7508 955.911 70.212 955.911 Q76.6732 955.911 80.3653 953.269 Q84.0256 950.596 84.0256 945.949 Q84.0256 941.302 80.3653 938.66 Q76.6732 935.986 70.212 935.986 M57.7671 955.911 Q54.5842 954.065 53.0564 951.264 Q51.4968 948.431 51.4968 944.516 Q51.4968 938.023 56.6531 933.981 Q61.8093 929.907 70.212 929.907 Q78.6147 929.907 83.771 933.981 Q88.9272 938.023 88.9272 944.516 Q88.9272 948.431 87.3994 951.264 Q85.8398 954.065 82.657 955.911 L88.0042 955.911 L88.0042 961.799 L38.479 961.799 L38.479 955.911 L57.7671 955.911 Z\" fill=\"#000000\" fill-rule=\"evenodd\" fill-opacity=\"1\" /><path clip-path=\"url(#clip350)\" d=\"M 0 0 M70.0847 907.563 Q70.0847 914.661 71.7079 917.398 Q73.3312 920.136 77.2461 920.136 Q80.3653 920.136 82.2114 918.099 Q84.0256 916.03 84.0256 912.497 Q84.0256 907.627 80.5881 904.699 Q77.1188 901.739 71.3897 901.739 L70.0847 901.739 L70.0847 907.563 M67.6657 895.882 L88.0042 895.882 L88.0042 901.739 L82.5933 901.739 Q85.8398 903.744 87.3994 906.736 Q88.9272 909.728 88.9272 914.056 Q88.9272 919.531 85.8716 922.778 Q82.7843 925.992 77.6281 925.992 Q71.6125 925.992 68.5569 921.982 Q65.5014 917.94 65.5014 909.951 L65.5014 901.739 L64.9285 901.739 Q60.8862 901.739 58.6901 904.412 Q56.4621 907.054 56.4621 911.86 Q56.4621 914.916 57.1941 917.812 Q57.9262 920.709 59.3903 923.382 L53.9795 923.382 Q52.7381 920.168 52.1334 917.144 Q51.4968 914.12 51.4968 911.256 Q51.4968 903.521 55.5072 899.702 Q59.5176 895.882 67.6657 895.882 Z\" fill=\"#000000\" fill-rule=\"evenodd\" fill-opacity=\"1\" /><path clip-path=\"url(#clip350)\" d=\"M 0 0 M53.7248 843.365 L59.1993 843.365 Q57.8307 845.848 57.1623 848.362 Q56.4621 850.845 56.4621 853.391 Q56.4621 859.089 60.0905 862.24 Q63.6872 865.391 70.212 865.391 Q76.7369 865.391 80.3653 862.24 Q83.9619 859.089 83.9619 853.391 Q83.9619 850.845 83.2935 848.362 Q82.5933 845.848 81.2247 843.365 L86.6355 843.365 Q87.7814 845.816 88.3543 848.458 Q88.9272 851.068 88.9272 854.028 Q88.9272 862.081 83.8664 866.823 Q78.8057 871.565 70.212 871.565 Q61.491 871.565 56.4939 866.791 Q51.4968 861.985 51.4968 853.646 Q51.4968 850.941 52.0697 848.362 Q52.6108 845.784 53.7248 843.365 Z\" fill=\"#000000\" fill-rule=\"evenodd\" fill-opacity=\"1\" /><path clip-path=\"url(#clip350)\" d=\"M 0 0 M91.3143 822.39 Q97.68 824.873 99.6216 827.228 Q101.563 829.584 101.563 833.53 L101.563 838.209 L96.6615 838.209 L96.6615 834.772 Q96.6615 832.353 95.5157 831.016 Q94.3699 829.679 90.1048 828.056 L87.4312 827.005 L52.3562 841.424 L52.3562 835.217 L80.238 824.077 L52.3562 812.937 L52.3562 806.731 L91.3143 822.39 Z\" fill=\"#000000\" fill-rule=\"evenodd\" fill-opacity=\"1\" /><path clip-path=\"url(#clip350)\" d=\"M 0 0 M38.479 782.541 L43.3487 782.541 L43.3487 788.143 Q43.3487 791.294 44.6219 792.535 Q45.895 793.745 49.2052 793.745 L52.3562 793.745 L52.3562 784.101 L56.9077 784.101 L56.9077 793.745 L88.0042 793.745 L88.0042 799.633 L56.9077 799.633 L56.9077 805.235 L52.3562 805.235 L52.3562 799.633 L49.8736 799.633 Q43.9216 799.633 41.2162 796.864 Q38.479 794.095 38.479 788.079 L38.479 782.541 Z\" fill=\"#000000\" fill-rule=\"evenodd\" fill-opacity=\"1\" /><path clip-path=\"url(#clip350)\" d=\"M 0 0 M57.8307 755.741 Q57.2578 756.728 57.0032 757.906 Q56.7167 759.052 56.7167 760.452 Q56.7167 765.417 59.9632 768.091 Q63.1779 770.733 69.2253 770.733 L88.0042 770.733 L88.0042 776.621 L52.3562 776.621 L52.3562 770.733 L57.8944 770.733 Q54.6479 768.887 53.0883 765.927 Q51.4968 762.966 51.4968 758.733 Q51.4968 758.129 51.5923 757.396 Q51.656 756.664 51.8151 755.773 L57.8307 755.741 Z\" fill=\"#000000\" fill-rule=\"evenodd\" fill-opacity=\"1\" /><path clip-path=\"url(#clip350)\" d=\"M 0 0 M52.3562 731.424 L52.3562 703.606 L57.7034 703.606 L83.3254 725.632 L83.3254 703.606 L88.0042 703.606 L88.0042 732.22 L82.657 732.22 L57.035 710.195 L57.035 731.424 L52.3562 731.424 Z\" fill=\"#000000\" fill-rule=\"evenodd\" fill-opacity=\"1\" /><path clip-path=\"url(#clip350)\" d=\"M 0 0 M66.4881 667.831 L88.0042 667.831 L88.0042 673.687 L66.679 673.687 Q61.6183 673.687 59.1038 675.661 Q56.5894 677.634 56.5894 681.581 Q56.5894 686.323 59.6131 689.061 Q62.6368 691.798 67.8567 691.798 L88.0042 691.798 L88.0042 697.686 L52.3562 697.686 L52.3562 691.798 L57.8944 691.798 Q54.6797 689.697 53.0883 686.864 Q51.4968 684 51.4968 680.276 Q51.4968 674.133 55.3163 670.982 Q59.1038 667.831 66.4881 667.831 Z\" fill=\"#000000\" fill-rule=\"evenodd\" fill-opacity=\"1\" /><path clip-path=\"url(#clip350)\" d=\"M 0 0 M70.0847 645.487 Q70.0847 652.585 71.7079 655.322 Q73.3312 658.06 77.2461 658.06 Q80.3653 658.06 82.2114 656.023 Q84.0256 653.954 84.0256 650.421 Q84.0256 645.551 80.5881 642.623 Q77.1188 639.663 71.3897 639.663 L70.0847 639.663 L70.0847 645.487 M67.6657 633.806 L88.0042 633.806 L88.0042 639.663 L82.5933 639.663 Q85.8398 641.668 87.3994 644.66 Q88.9272 647.652 88.9272 651.98 Q88.9272 657.455 85.8716 660.701 Q82.7843 663.916 77.6281 663.916 Q71.6125 663.916 68.5569 659.906 Q65.5014 655.863 65.5014 647.874 L65.5014 639.663 L64.9285 639.663 Q60.8862 639.663 58.6901 642.336 Q56.4621 644.978 56.4621 649.784 Q56.4621 652.84 57.1941 655.736 Q57.9262 658.633 59.3903 661.306 L53.9795 661.306 Q52.7381 658.091 52.1334 655.068 Q51.4968 652.044 51.4968 649.179 Q51.4968 641.445 55.5072 637.626 Q59.5176 633.806 67.6657 633.806 Z\" fill=\"#000000\" fill-rule=\"evenodd\" fill-opacity=\"1\" /><path clip-path=\"url(#clip350)\" d=\"M 0 0 M53.7248 602.01 L59.1993 602.01 Q57.8307 604.492 57.1623 607.007 Q56.4621 609.489 56.4621 612.036 Q56.4621 617.733 60.0905 620.884 Q63.6872 624.035 70.212 624.035 Q76.7369 624.035 80.3653 620.884 Q83.9619 617.733 83.9619 612.036 Q83.9619 609.489 83.2935 607.007 Q82.5933 604.492 81.2247 602.01 L86.6355 602.01 Q87.7814 604.46 88.3543 607.102 Q88.9272 609.712 88.9272 612.672 Q88.9272 620.725 83.8664 625.467 Q78.8057 630.21 70.212 630.21 Q61.491 630.21 56.4939 625.435 Q51.4968 620.629 51.4968 612.29 Q51.4968 609.585 52.0697 607.007 Q52.6108 604.429 53.7248 602.01 Z\" fill=\"#000000\" fill-rule=\"evenodd\" fill-opacity=\"1\" /><path clip-path=\"url(#clip350)\" d=\"M 0 0 M52.3562 598.413 L52.3562 570.595 L57.7034 570.595 L83.3254 592.62 L83.3254 570.595 L88.0042 570.595 L88.0042 599.209 L82.657 599.209 L57.035 577.183 L57.035 598.413 L52.3562 598.413 Z\" fill=\"#000000\" fill-rule=\"evenodd\" fill-opacity=\"1\" /><path clip-path=\"url(#clip350)\" d=\"M 0 0 M70.0847 548.251 Q70.0847 555.349 71.7079 558.086 Q73.3312 560.823 77.2461 560.823 Q80.3653 560.823 82.2114 558.786 Q84.0256 556.718 84.0256 553.185 Q84.0256 548.315 80.5881 545.387 Q77.1188 542.427 71.3897 542.427 L70.0847 542.427 L70.0847 548.251 M67.6657 536.57 L88.0042 536.57 L88.0042 542.427 L82.5933 542.427 Q85.8398 544.432 87.3994 547.424 Q88.9272 550.416 88.9272 554.744 Q88.9272 560.219 85.8716 563.465 Q82.7843 566.68 77.6281 566.68 Q71.6125 566.68 68.5569 562.669 Q65.5014 558.627 65.5014 550.638 L65.5014 542.427 L64.9285 542.427 Q60.8862 542.427 58.6901 545.1 Q56.4621 547.742 56.4621 552.548 Q56.4621 555.604 57.1941 558.5 Q57.9262 561.396 59.3903 564.07 L53.9795 564.07 Q52.7381 560.855 52.1334 557.832 Q51.4968 554.808 51.4968 551.943 Q51.4968 544.209 55.5072 540.39 Q59.5176 536.57 67.6657 536.57 M88.0042 542.363 L88.0042 538.575 Q89.9457 540.008 91.3462 540.708 Q92.7466 541.376 93.7333 541.376 Q95.1974 541.376 95.9295 540.517 Q96.6615 539.626 96.6615 537.907 Q96.6615 536.888 96.4069 535.902 Q96.1841 534.915 95.7067 533.928 L99.9399 533.928 Q100.258 535.138 100.417 536.22 Q100.576 537.302 100.576 538.257 Q100.576 542.14 99.176 543.986 Q97.8073 545.8 94.8473 545.8 Q93.3195 545.8 91.6326 544.973 Q89.9775 544.113 88.0042 542.363 Z\" fill=\"#000000\" fill-rule=\"evenodd\" fill-opacity=\"1\" /><path clip-path=\"url(#clip350)\" d=\"M 0 0 M53.7248 502.132 L59.1993 502.132 Q57.8307 504.614 57.1623 507.129 Q56.4621 509.611 56.4621 512.158 Q56.4621 517.855 60.0905 521.006 Q63.6872 524.157 70.212 524.157 Q76.7369 524.157 80.3653 521.006 Q83.9619 517.855 83.9619 512.158 Q83.9619 509.611 83.2935 507.129 Q82.5933 504.614 81.2247 502.132 L86.6355 502.132 Q87.7814 504.582 88.3543 507.224 Q88.9272 509.834 88.9272 512.794 Q88.9272 520.847 83.8664 525.589 Q78.8057 530.332 70.212 530.332 Q61.491 530.332 56.4939 525.557 Q51.4968 520.751 51.4968 512.412 Q51.4968 509.707 52.0697 507.129 Q52.6108 504.551 53.7248 502.132 Z\" fill=\"#000000\" fill-rule=\"evenodd\" fill-opacity=\"1\" /><path clip-path=\"url(#clip350)\" d=\"M 0 0 M91.3143 481.157 Q97.68 483.639 99.6216 485.995 Q101.563 488.35 101.563 492.297 L101.563 496.975 L96.6615 496.975 L96.6615 493.538 Q96.6615 491.119 95.5157 489.782 Q94.3699 488.445 90.1048 486.822 L87.4312 485.772 L52.3562 500.19 L52.3562 493.984 L80.238 482.844 L52.3562 471.704 L52.3562 465.497 L91.3143 481.157 Z\" fill=\"#000000\" fill-rule=\"evenodd\" fill-opacity=\"1\" /><path clip-path=\"url(#clip350)\" d=\"M 0 0 M53.7248 433.7 L59.1993 433.7 Q57.8307 436.183 57.1623 438.697 Q56.4621 441.18 56.4621 443.726 Q56.4621 449.424 60.0905 452.575 Q63.6872 455.726 70.212 455.726 Q76.7369 455.726 80.3653 452.575 Q83.9619 449.424 83.9619 443.726 Q83.9619 441.18 83.2935 438.697 Q82.5933 436.183 81.2247 433.7 L86.6355 433.7 Q87.7814 436.151 88.3543 438.793 Q88.9272 441.403 88.9272 444.363 Q88.9272 452.415 83.8664 457.158 Q78.8057 461.9 70.212 461.9 Q61.491 461.9 56.4939 457.126 Q51.4968 452.32 51.4968 443.981 Q51.4968 441.275 52.0697 438.697 Q52.6108 436.119 53.7248 433.7 Z\" fill=\"#000000\" fill-rule=\"evenodd\" fill-opacity=\"1\" /><path clip-path=\"url(#clip350)\" d=\"M 0 0 M66.4881 397.925 L88.0042 397.925 L88.0042 403.781 L66.679 403.781 Q61.6183 403.781 59.1038 405.755 Q56.5894 407.728 56.5894 411.675 Q56.5894 416.417 59.6131 419.155 Q62.6368 421.892 67.8567 421.892 L88.0042 421.892 L88.0042 427.78 L38.479 427.78 L38.479 421.892 L57.8944 421.892 Q54.6797 419.791 53.0883 416.958 Q51.4968 414.094 51.4968 410.37 Q51.4968 404.227 55.3163 401.076 Q59.1038 397.925 66.4881 397.925 Z\" fill=\"#000000\" fill-rule=\"evenodd\" fill-opacity=\"1\" /><polyline clip-path=\"url(#clip352)\" style=\"stroke:#009af9; stroke-width:12; stroke-opacity:1; fill:none\" points=\"\n",
       "  372.827,1384.24 509.846,1384.24 646.866,1384.24 783.885,951.554 920.904,951.554 1057.92,518.87 1194.94,518.87 1331.96,518.87 1468.98,518.87 1606,518.87 \n",
       "  1743.02,518.87 1880.04,86.1857 2017.06,86.1857 2154.08,86.1857 2291.1,86.1857 \n",
       "  \"/>\n",
       "<polyline clip-path=\"url(#clip352)\" style=\"stroke:#e26f46; stroke-width:12; stroke-opacity:1; fill:none\" points=\"\n",
       "  372.827,1384.24 509.846,1384.24 646.866,1384.24 783.885,1384.24 920.904,1384.24 1057.92,951.554 1194.94,951.554 1331.96,951.554 1468.98,951.554 1606,951.554 \n",
       "  1743.02,518.87 1880.04,518.87 2017.06,518.87 2154.08,86.1857 2291.1,86.1857 \n",
       "  \"/>\n",
       "<polyline clip-path=\"url(#clip352)\" style=\"stroke:#3da44d; stroke-width:12; stroke-opacity:1; fill:none\" points=\"\n",
       "  372.827,1384.24 509.846,1384.24 646.866,1384.24 783.885,1384.24 920.904,1384.24 1057.92,951.554 1194.94,951.554 1331.96,951.554 1468.98,951.554 1606,951.554 \n",
       "  1743.02,518.87 1880.04,518.87 2017.06,518.87 2154.08,86.1857 2291.1,86.1857 \n",
       "  \"/>\n",
       "<path clip-path=\"url(#clip350)\" d=\"\n",
       "M246.769 335.029 L540.989 335.029 L540.989 93.1086 L246.769 93.1086  Z\n",
       "  \" fill=\"#ffffff\" fill-rule=\"evenodd\" fill-opacity=\"1\"/>\n",
       "<polyline clip-path=\"url(#clip350)\" style=\"stroke:#000000; stroke-width:4; stroke-opacity:1; fill:none\" points=\"\n",
       "  246.769,335.029 540.989,335.029 540.989,93.1086 246.769,93.1086 246.769,335.029 \n",
       "  \"/>\n",
       "<polyline clip-path=\"url(#clip350)\" style=\"stroke:#009af9; stroke-width:4; stroke-opacity:1; fill:none\" points=\"\n",
       "  270.976,153.589 416.216,153.589 \n",
       "  \"/>\n",
       "<path clip-path=\"url(#clip350)\" d=\"M 0 0 M465.076 144.943 L455.701 157.559 L465.562 170.869 L460.539 170.869 L452.992 160.683 L445.446 170.869 L440.423 170.869 L450.492 157.304 L441.28 144.943 L446.303 144.943 L453.178 154.179 L460.053 144.943 L465.076 144.943 Z\" fill=\"#000000\" fill-rule=\"evenodd\" fill-opacity=\"1\" /><path clip-path=\"url(#clip350)\" d=\"M 0 0 M480.631 139.387 Q477.02 139.387 475.191 142.952 Q473.386 146.494 473.386 153.623 Q473.386 160.73 475.191 164.295 Q477.02 167.836 480.631 167.836 Q484.265 167.836 486.071 164.295 Q487.9 160.73 487.9 153.623 Q487.9 146.494 486.071 142.952 Q484.265 139.387 480.631 139.387 M480.631 135.684 Q486.441 135.684 489.497 140.29 Q492.576 144.873 492.576 153.623 Q492.576 162.35 489.497 166.957 Q486.441 171.54 480.631 171.54 Q474.821 171.54 471.742 166.957 Q468.687 162.35 468.687 153.623 Q468.687 144.873 471.742 140.29 Q474.821 135.684 480.631 135.684 Z\" fill=\"#000000\" fill-rule=\"evenodd\" fill-opacity=\"1\" /><polyline clip-path=\"url(#clip350)\" style=\"stroke:#e26f46; stroke-width:4; stroke-opacity:1; fill:none\" points=\"\n",
       "  270.976,214.069 416.216,214.069 \n",
       "  \"/>\n",
       "<path clip-path=\"url(#clip350)\" d=\"M 0 0 M465.076 205.423 L455.701 218.039 L465.562 231.349 L460.539 231.349 L452.992 221.163 L445.446 231.349 L440.423 231.349 L450.492 217.784 L441.28 205.423 L446.303 205.423 L453.178 214.659 L460.053 205.423 L465.076 205.423 Z\" fill=\"#000000\" fill-rule=\"evenodd\" fill-opacity=\"1\" /><path clip-path=\"url(#clip350)\" d=\"M 0 0 M471.441 227.413 L479.08 227.413 L479.08 201.048 L470.77 202.715 L470.77 198.455 L479.034 196.789 L483.71 196.789 L483.71 227.413 L491.349 227.413 L491.349 231.349 L471.441 231.349 L471.441 227.413 Z\" fill=\"#000000\" fill-rule=\"evenodd\" fill-opacity=\"1\" /><polyline clip-path=\"url(#clip350)\" style=\"stroke:#3da44d; stroke-width:4; stroke-opacity:1; fill:none\" points=\"\n",
       "  270.976,274.549 416.216,274.549 \n",
       "  \"/>\n",
       "<path clip-path=\"url(#clip350)\" d=\"M 0 0 M465.076 265.903 L455.701 278.519 L465.562 291.829 L460.539 291.829 L452.992 281.643 L445.446 291.829 L440.423 291.829 L450.492 278.264 L441.28 265.903 L446.303 265.903 L453.178 275.139 L460.053 265.903 L465.076 265.903 Z\" fill=\"#000000\" fill-rule=\"evenodd\" fill-opacity=\"1\" /><path clip-path=\"url(#clip350)\" d=\"M 0 0 M474.659 287.893 L490.978 287.893 L490.978 291.829 L469.034 291.829 L469.034 287.893 Q471.696 285.139 476.279 280.509 Q480.886 275.856 482.066 274.514 Q484.312 271.991 485.191 270.255 Q486.094 268.495 486.094 266.806 Q486.094 264.051 484.15 262.315 Q482.228 260.579 479.127 260.579 Q476.928 260.579 474.474 261.343 Q472.043 262.107 469.266 263.657 L469.266 258.935 Q472.09 257.801 474.543 257.222 Q476.997 256.644 479.034 256.644 Q484.404 256.644 487.599 259.329 Q490.793 262.014 490.793 266.505 Q490.793 268.634 489.983 270.556 Q489.196 272.454 487.09 275.046 Q486.511 275.718 483.409 278.935 Q480.307 282.13 474.659 287.893 Z\" fill=\"#000000\" fill-rule=\"evenodd\" fill-opacity=\"1\" /></svg>\n"
      ]
     },
     "execution_count": 1381,
     "metadata": {},
     "output_type": "execute_result"
    }
   ],
   "source": [
    "TestBisection(f, 15, -4, ε, M, 4, -2, 0)"
   ]
  },
  {
   "cell_type": "code",
   "execution_count": 1382,
   "metadata": {},
   "outputs": [
    {
     "name": "stdout",
     "output_type": "stream",
     "text": [
      "dsaBłąd względny x0: 0.0\n",
      "Błąd względny x1: 0.0\n",
      "Błąd względny x2: 0.0\n"
     ]
    }
   ],
   "source": [
    "TestCardano(f, 4, -2, 0)"
   ]
  },
  {
   "cell_type": "code",
   "execution_count": null,
   "metadata": {},
   "outputs": [],
   "source": []
  }
 ],
 "metadata": {
  "kernelspec": {
   "display_name": "Julia 1.5.2",
   "language": "julia",
   "name": "julia-1.5"
  },
  "language_info": {
   "file_extension": ".jl",
   "mimetype": "application/julia",
   "name": "julia",
   "version": "1.5.2"
  }
 },
 "nbformat": 4,
 "nbformat_minor": 4
}
